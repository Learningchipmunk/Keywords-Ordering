{
 "cells": [
  {
   "cell_type": "markdown",
   "id": "7c465720",
   "metadata": {},
   "source": [
    "# CCS Concept Tree\n",
    "\n",
    "This Notebook create a database of labeled concept pairs based on the Computing Classification System of ACM.<br>\n",
    "You can find the xml [here](https://dl.acm.org/pb-assets/dl_ccs/acm_ccs2012-1626988337597.xml). "
   ]
  },
  {
   "cell_type": "code",
   "execution_count": 1,
   "id": "3a9379b9",
   "metadata": {},
   "outputs": [
    {
     "name": "stderr",
     "output_type": "stream",
     "text": [
      "[nltk_data] Downloading package wordnet to\n",
      "[nltk_data]     C:\\Users\\genie\\AppData\\Roaming\\nltk_data...\n",
      "[nltk_data]   Package wordnet is already up-to-date!\n",
      "[nltk_data] Downloading package omw-1.4 to\n",
      "[nltk_data]     C:\\Users\\genie\\AppData\\Roaming\\nltk_data...\n",
      "[nltk_data]   Package omw-1.4 is already up-to-date!\n"
     ]
    }
   ],
   "source": [
    "import numpy as np\n",
    "import pandas as pd\n",
    "import networkx\n",
    "import matplotlib.pyplot as plt\n",
    "\n",
    "\n",
    "from Scripts.util import cartesianProductOfLists, stringPreprocessing"
   ]
  },
  {
   "cell_type": "code",
   "execution_count": 50,
   "id": "28c2aba7",
   "metadata": {},
   "outputs": [],
   "source": [
    "xml_path = 'Data/acm_ccs2012-1626988337597.xml'\n",
    "# xml_df   = pd.read_xml(xml_path, xpath=\".//skos:Concept\", namespaces={'rdf':\"http://www.w3.org/1999/02/22-rdf-syntax-ns#\", \"rdfs\":\"http://www.w3.org/2000/01/rdf-schema#\", 'skos':\"http://www.w3.org/2004/02/skos/core#\", \"xml\": \"http://www.w3.org/XML/1998/namespace\", 'skosxl':\"http://www.w3.org/2008/05/skos-xl#\"})\n",
    "xml_df   = pd.read_xml(xml_path)\n",
    "\n",
    "# HasTopConcept and TopConceptOf are the same, only 13 values for the 13 top concepts\n",
    "# narrower is for the concepts below and broader the concepts above"
   ]
  },
  {
   "cell_type": "code",
   "execution_count": 51,
   "id": "4bdbed68",
   "metadata": {},
   "outputs": [
    {
     "data": {
      "text/html": [
       "<div>\n",
       "<style scoped>\n",
       "    .dataframe tbody tr th:only-of-type {\n",
       "        vertical-align: middle;\n",
       "    }\n",
       "\n",
       "    .dataframe tbody tr th {\n",
       "        vertical-align: top;\n",
       "    }\n",
       "\n",
       "    .dataframe thead th {\n",
       "        text-align: right;\n",
       "    }\n",
       "</style>\n",
       "<table border=\"1\" class=\"dataframe\">\n",
       "  <thead>\n",
       "    <tr style=\"text-align: right;\">\n",
       "      <th></th>\n",
       "      <th>about</th>\n",
       "      <th>hasTopConcept</th>\n",
       "      <th>prefLabel</th>\n",
       "      <th>topConceptOf</th>\n",
       "      <th>narrower</th>\n",
       "      <th>broader</th>\n",
       "    </tr>\n",
       "  </thead>\n",
       "  <tbody>\n",
       "    <tr>\n",
       "      <th>2109</th>\n",
       "      <td>10011007.10010940.10010941.10010949.10010957.1...</td>\n",
       "      <td>NaN</td>\n",
       "      <td>Power management</td>\n",
       "      <td>NaN</td>\n",
       "      <td>NaN</td>\n",
       "      <td>NaN</td>\n",
       "    </tr>\n",
       "    <tr>\n",
       "      <th>2110</th>\n",
       "      <td>10011007.10010940.10010941.10010949.10010957.1...</td>\n",
       "      <td>NaN</td>\n",
       "      <td>Process synchronization</td>\n",
       "      <td>NaN</td>\n",
       "      <td>NaN</td>\n",
       "      <td>NaN</td>\n",
       "    </tr>\n",
       "    <tr>\n",
       "      <th>2111</th>\n",
       "      <td>10011007.10010940.10010941.10010949.10010965.1...</td>\n",
       "      <td>NaN</td>\n",
       "      <td>Buffering</td>\n",
       "      <td>NaN</td>\n",
       "      <td>NaN</td>\n",
       "      <td>NaN</td>\n",
       "    </tr>\n",
       "    <tr>\n",
       "      <th>2112</th>\n",
       "      <td>10011007.10010940.10010941.10010949.10010965.1...</td>\n",
       "      <td>NaN</td>\n",
       "      <td>Input / output</td>\n",
       "      <td>NaN</td>\n",
       "      <td>NaN</td>\n",
       "      <td>NaN</td>\n",
       "    </tr>\n",
       "    <tr>\n",
       "      <th>2113</th>\n",
       "      <td>10011007.10010940.10010941.10010949.10010965.1...</td>\n",
       "      <td>NaN</td>\n",
       "      <td>Message passing</td>\n",
       "      <td>NaN</td>\n",
       "      <td>NaN</td>\n",
       "      <td>NaN</td>\n",
       "    </tr>\n",
       "  </tbody>\n",
       "</table>\n",
       "</div>"
      ],
      "text/plain": [
       "                                                  about  hasTopConcept  \\\n",
       "2109  10011007.10010940.10010941.10010949.10010957.1...            NaN   \n",
       "2110  10011007.10010940.10010941.10010949.10010957.1...            NaN   \n",
       "2111  10011007.10010940.10010941.10010949.10010965.1...            NaN   \n",
       "2112  10011007.10010940.10010941.10010949.10010965.1...            NaN   \n",
       "2113  10011007.10010940.10010941.10010949.10010965.1...            NaN   \n",
       "\n",
       "                    prefLabel  topConceptOf  narrower  broader  \n",
       "2109         Power management           NaN       NaN      NaN  \n",
       "2110  Process synchronization           NaN       NaN      NaN  \n",
       "2111                Buffering           NaN       NaN      NaN  \n",
       "2112           Input / output           NaN       NaN      NaN  \n",
       "2113          Message passing           NaN       NaN      NaN  "
      ]
     },
     "execution_count": 51,
     "metadata": {},
     "output_type": "execute_result"
    }
   ],
   "source": [
    "xml_df.tail()"
   ]
  },
  {
   "cell_type": "markdown",
   "id": "954f1948",
   "metadata": {},
   "source": [
    "#### Processing and Modifying the data"
   ]
  },
  {
   "cell_type": "code",
   "execution_count": 52,
   "id": "f6d0ad74",
   "metadata": {},
   "outputs": [],
   "source": [
    "## Adding Preferred label to ccs2012\n",
    "xml_df.loc[xml_df['about'] == 'ccs2012', 'prefLabel'] = 'Computing Classification System 2012'"
   ]
  },
  {
   "cell_type": "code",
   "execution_count": 53,
   "id": "a9cacb3e",
   "metadata": {},
   "outputs": [],
   "source": [
    "## Processing the preferred labels\n",
    "xml_df['prefLabelProcessed'] = xml_df['prefLabel'].apply(stringPreprocessing)"
   ]
  },
  {
   "cell_type": "code",
   "execution_count": 54,
   "id": "dd8ea762",
   "metadata": {},
   "outputs": [],
   "source": [
    "## Remmoving useless columns\n",
    "xml_df.drop(columns=['hasTopConcept'], inplace=True)"
   ]
  },
  {
   "cell_type": "code",
   "execution_count": 55,
   "id": "f67e721d",
   "metadata": {},
   "outputs": [
    {
     "data": {
      "text/html": [
       "<div>\n",
       "<style scoped>\n",
       "    .dataframe tbody tr th:only-of-type {\n",
       "        vertical-align: middle;\n",
       "    }\n",
       "\n",
       "    .dataframe tbody tr th {\n",
       "        vertical-align: top;\n",
       "    }\n",
       "\n",
       "    .dataframe thead th {\n",
       "        text-align: right;\n",
       "    }\n",
       "</style>\n",
       "<table border=\"1\" class=\"dataframe\">\n",
       "  <thead>\n",
       "    <tr style=\"text-align: right;\">\n",
       "      <th></th>\n",
       "      <th>about</th>\n",
       "      <th>prefLabel</th>\n",
       "      <th>topConceptOf</th>\n",
       "      <th>narrower</th>\n",
       "      <th>broader</th>\n",
       "      <th>prefLabelProcessed</th>\n",
       "    </tr>\n",
       "  </thead>\n",
       "  <tbody>\n",
       "    <tr>\n",
       "      <th>0</th>\n",
       "      <td>ccs2012</td>\n",
       "      <td>Computing Classification System 2012</td>\n",
       "      <td>NaN</td>\n",
       "      <td>NaN</td>\n",
       "      <td>NaN</td>\n",
       "      <td>computing classification system 2012</td>\n",
       "    </tr>\n",
       "    <tr>\n",
       "      <th>1</th>\n",
       "      <td>10002944</td>\n",
       "      <td>General and reference</td>\n",
       "      <td>NaN</td>\n",
       "      <td>NaN</td>\n",
       "      <td>NaN</td>\n",
       "      <td>general reference</td>\n",
       "    </tr>\n",
       "    <tr>\n",
       "      <th>2</th>\n",
       "      <td>10002950</td>\n",
       "      <td>Mathematics of computing</td>\n",
       "      <td>NaN</td>\n",
       "      <td>NaN</td>\n",
       "      <td>NaN</td>\n",
       "      <td>mathematics computing</td>\n",
       "    </tr>\n",
       "    <tr>\n",
       "      <th>3</th>\n",
       "      <td>10002951</td>\n",
       "      <td>Information systems</td>\n",
       "      <td>NaN</td>\n",
       "      <td>NaN</td>\n",
       "      <td>NaN</td>\n",
       "      <td>information system</td>\n",
       "    </tr>\n",
       "    <tr>\n",
       "      <th>4</th>\n",
       "      <td>10002978</td>\n",
       "      <td>Security and privacy</td>\n",
       "      <td>NaN</td>\n",
       "      <td>NaN</td>\n",
       "      <td>NaN</td>\n",
       "      <td>security privacy</td>\n",
       "    </tr>\n",
       "  </tbody>\n",
       "</table>\n",
       "</div>"
      ],
      "text/plain": [
       "      about                             prefLabel  topConceptOf  narrower  \\\n",
       "0   ccs2012  Computing Classification System 2012           NaN       NaN   \n",
       "1  10002944                 General and reference           NaN       NaN   \n",
       "2  10002950              Mathematics of computing           NaN       NaN   \n",
       "3  10002951                   Information systems           NaN       NaN   \n",
       "4  10002978                  Security and privacy           NaN       NaN   \n",
       "\n",
       "   broader                    prefLabelProcessed  \n",
       "0      NaN  computing classification system 2012  \n",
       "1      NaN                     general reference  \n",
       "2      NaN                 mathematics computing  \n",
       "3      NaN                    information system  \n",
       "4      NaN                      security privacy  "
      ]
     },
     "execution_count": 55,
     "metadata": {},
     "output_type": "execute_result"
    }
   ],
   "source": [
    "xml_df.head()"
   ]
  },
  {
   "cell_type": "markdown",
   "id": "3df4647b",
   "metadata": {},
   "source": [
    "#### Building the xml from scrath..."
   ]
  },
  {
   "cell_type": "code",
   "execution_count": 56,
   "id": "f1d092ce",
   "metadata": {},
   "outputs": [],
   "source": [
    "def findPredecessorsAndSuccessorsFromDF(df, about, prefLabelProcessed):\n",
    "    if(about in \"ccs2012\"):\n",
    "        return 1\n",
    "    \n",
    "    if(not '.' in about):\n",
    "        xml_df.loc[xml_df['about'] == about, 'topConceptOf'] = 'concept classification system 2012'\n",
    "        xml_df.loc[xml_df['about'] == \"ccs2012\", 'narrower'].values[0].append(prefLabelProcessed)\n",
    "        return 2\n",
    "    else:\n",
    "        all_concepts = about.split('.')\n",
    "        predecessor = '.'.join(all_concepts[:-1])\n",
    "        \n",
    "        ## Adding the current node to the successors of `predecessor`\n",
    "        xml_df.loc[xml_df['about'] == predecessor, 'narrower'].values[0].append(prefLabelProcessed)\n",
    "            \n",
    "        ## Adding the `predecessor` to the current node as broader\n",
    "        xml_df.loc[xml_df['about'] == about, 'broader'] = xml_df.loc[xml_df['about'] == predecessor, 'prefLabelProcessed'].values[0]\n",
    "                \n",
    "        return 3\n",
    "    "
   ]
  },
  {
   "cell_type": "code",
   "execution_count": 57,
   "id": "f3ade5f3",
   "metadata": {},
   "outputs": [],
   "source": [
    "## Replaces the nans with lists to append successors\n",
    "xml_df.narrower = xml_df.narrower.apply(lambda x: list())"
   ]
  },
  {
   "cell_type": "code",
   "execution_count": 58,
   "id": "d5fa5366",
   "metadata": {},
   "outputs": [
    {
     "data": {
      "text/plain": [
       "3    2100\n",
       "2      13\n",
       "1       1\n",
       "dtype: int64"
      ]
     },
     "execution_count": 58,
     "metadata": {},
     "output_type": "execute_result"
    }
   ],
   "source": [
    "## Computes successors and predecessors to each node\n",
    "results = xml_df.apply(lambda x: findPredecessorsAndSuccessorsFromDF(xml_df, x.about, x.prefLabelProcessed), axis=1)\n",
    "results.value_counts()#2100 leafs 13 roots"
   ]
  },
  {
   "cell_type": "code",
   "execution_count": 59,
   "id": "95245180",
   "metadata": {},
   "outputs": [
    {
     "data": {
      "text/html": [
       "<div>\n",
       "<style scoped>\n",
       "    .dataframe tbody tr th:only-of-type {\n",
       "        vertical-align: middle;\n",
       "    }\n",
       "\n",
       "    .dataframe tbody tr th {\n",
       "        vertical-align: top;\n",
       "    }\n",
       "\n",
       "    .dataframe thead th {\n",
       "        text-align: right;\n",
       "    }\n",
       "</style>\n",
       "<table border=\"1\" class=\"dataframe\">\n",
       "  <thead>\n",
       "    <tr style=\"text-align: right;\">\n",
       "      <th></th>\n",
       "      <th>about</th>\n",
       "      <th>prefLabel</th>\n",
       "      <th>topConceptOf</th>\n",
       "      <th>narrower</th>\n",
       "      <th>broader</th>\n",
       "      <th>prefLabelProcessed</th>\n",
       "    </tr>\n",
       "  </thead>\n",
       "  <tbody>\n",
       "    <tr>\n",
       "      <th>0</th>\n",
       "      <td>ccs2012</td>\n",
       "      <td>Computing Classification System 2012</td>\n",
       "      <td>NaN</td>\n",
       "      <td>[general reference, mathematics computing, inf...</td>\n",
       "      <td>NaN</td>\n",
       "      <td>computing classification system 2012</td>\n",
       "    </tr>\n",
       "    <tr>\n",
       "      <th>1</th>\n",
       "      <td>10002944</td>\n",
       "      <td>General and reference</td>\n",
       "      <td>concept classification system 2012</td>\n",
       "      <td>[document type, cross-computing tool technique]</td>\n",
       "      <td>NaN</td>\n",
       "      <td>general reference</td>\n",
       "    </tr>\n",
       "    <tr>\n",
       "      <th>2</th>\n",
       "      <td>10002950</td>\n",
       "      <td>Mathematics of computing</td>\n",
       "      <td>concept classification system 2012</td>\n",
       "      <td>[discrete mathematics, probability statistic, ...</td>\n",
       "      <td>NaN</td>\n",
       "      <td>mathematics computing</td>\n",
       "    </tr>\n",
       "    <tr>\n",
       "      <th>3</th>\n",
       "      <td>10002951</td>\n",
       "      <td>Information systems</td>\n",
       "      <td>concept classification system 2012</td>\n",
       "      <td>[data management system, information storage s...</td>\n",
       "      <td>NaN</td>\n",
       "      <td>information system</td>\n",
       "    </tr>\n",
       "    <tr>\n",
       "      <th>4</th>\n",
       "      <td>10002978</td>\n",
       "      <td>Security and privacy</td>\n",
       "      <td>concept classification system 2012</td>\n",
       "      <td>[cryptography, formal method theory security, ...</td>\n",
       "      <td>NaN</td>\n",
       "      <td>security privacy</td>\n",
       "    </tr>\n",
       "    <tr>\n",
       "      <th>5</th>\n",
       "      <td>10003033</td>\n",
       "      <td>Networks</td>\n",
       "      <td>concept classification system 2012</td>\n",
       "      <td>[network architecture, network protocol, netwo...</td>\n",
       "      <td>NaN</td>\n",
       "      <td>network</td>\n",
       "    </tr>\n",
       "    <tr>\n",
       "      <th>6</th>\n",
       "      <td>10003120</td>\n",
       "      <td>Human-centered computing</td>\n",
       "      <td>concept classification system 2012</td>\n",
       "      <td>[human computer interaction hci, interaction d...</td>\n",
       "      <td>NaN</td>\n",
       "      <td>human-centered computing</td>\n",
       "    </tr>\n",
       "    <tr>\n",
       "      <th>7</th>\n",
       "      <td>10003456</td>\n",
       "      <td>Social and professional topics</td>\n",
       "      <td>concept classification system 2012</td>\n",
       "      <td>[professional topic, computing / technology po...</td>\n",
       "      <td>NaN</td>\n",
       "      <td>social professional topic</td>\n",
       "    </tr>\n",
       "    <tr>\n",
       "      <th>8</th>\n",
       "      <td>10003752</td>\n",
       "      <td>Theory of computation</td>\n",
       "      <td>concept classification system 2012</td>\n",
       "      <td>[model computation, formal language automaton ...</td>\n",
       "      <td>NaN</td>\n",
       "      <td>theory computation</td>\n",
       "    </tr>\n",
       "    <tr>\n",
       "      <th>9</th>\n",
       "      <td>10010147</td>\n",
       "      <td>Computing methodologies</td>\n",
       "      <td>concept classification system 2012</td>\n",
       "      <td>[symbolic algebraic manipulation, parallel com...</td>\n",
       "      <td>NaN</td>\n",
       "      <td>computing methodology</td>\n",
       "    </tr>\n",
       "    <tr>\n",
       "      <th>10</th>\n",
       "      <td>10010405</td>\n",
       "      <td>Applied computing</td>\n",
       "      <td>concept classification system 2012</td>\n",
       "      <td>[electronic commerce, enterprise computing, ph...</td>\n",
       "      <td>NaN</td>\n",
       "      <td>applied computing</td>\n",
       "    </tr>\n",
       "    <tr>\n",
       "      <th>11</th>\n",
       "      <td>10010520</td>\n",
       "      <td>Computer systems organization</td>\n",
       "      <td>concept classification system 2012</td>\n",
       "      <td>[architecture, embedded cyber-physical system,...</td>\n",
       "      <td>NaN</td>\n",
       "      <td>computer system organization</td>\n",
       "    </tr>\n",
       "    <tr>\n",
       "      <th>12</th>\n",
       "      <td>10010583</td>\n",
       "      <td>Hardware</td>\n",
       "      <td>concept classification system 2012</td>\n",
       "      <td>[printed circuit board, communication hardware...</td>\n",
       "      <td>NaN</td>\n",
       "      <td>hardware</td>\n",
       "    </tr>\n",
       "    <tr>\n",
       "      <th>13</th>\n",
       "      <td>10011007</td>\n",
       "      <td>Software and its engineering</td>\n",
       "      <td>concept classification system 2012</td>\n",
       "      <td>[software organization property, software nota...</td>\n",
       "      <td>NaN</td>\n",
       "      <td>software engineering</td>\n",
       "    </tr>\n",
       "    <tr>\n",
       "      <th>14</th>\n",
       "      <td>10002944.10011122</td>\n",
       "      <td>Document types</td>\n",
       "      <td>NaN</td>\n",
       "      <td>[survey overview, reference work, general conf...</td>\n",
       "      <td>general reference</td>\n",
       "      <td>document type</td>\n",
       "    </tr>\n",
       "  </tbody>\n",
       "</table>\n",
       "</div>"
      ],
      "text/plain": [
       "                about                             prefLabel  \\\n",
       "0             ccs2012  Computing Classification System 2012   \n",
       "1            10002944                 General and reference   \n",
       "2            10002950              Mathematics of computing   \n",
       "3            10002951                   Information systems   \n",
       "4            10002978                  Security and privacy   \n",
       "5            10003033                              Networks   \n",
       "6            10003120              Human-centered computing   \n",
       "7            10003456        Social and professional topics   \n",
       "8            10003752                 Theory of computation   \n",
       "9            10010147               Computing methodologies   \n",
       "10           10010405                     Applied computing   \n",
       "11           10010520         Computer systems organization   \n",
       "12           10010583                              Hardware   \n",
       "13           10011007          Software and its engineering   \n",
       "14  10002944.10011122                        Document types   \n",
       "\n",
       "                          topConceptOf  \\\n",
       "0                                  NaN   \n",
       "1   concept classification system 2012   \n",
       "2   concept classification system 2012   \n",
       "3   concept classification system 2012   \n",
       "4   concept classification system 2012   \n",
       "5   concept classification system 2012   \n",
       "6   concept classification system 2012   \n",
       "7   concept classification system 2012   \n",
       "8   concept classification system 2012   \n",
       "9   concept classification system 2012   \n",
       "10  concept classification system 2012   \n",
       "11  concept classification system 2012   \n",
       "12  concept classification system 2012   \n",
       "13  concept classification system 2012   \n",
       "14                                 NaN   \n",
       "\n",
       "                                             narrower            broader  \\\n",
       "0   [general reference, mathematics computing, inf...                NaN   \n",
       "1     [document type, cross-computing tool technique]                NaN   \n",
       "2   [discrete mathematics, probability statistic, ...                NaN   \n",
       "3   [data management system, information storage s...                NaN   \n",
       "4   [cryptography, formal method theory security, ...                NaN   \n",
       "5   [network architecture, network protocol, netwo...                NaN   \n",
       "6   [human computer interaction hci, interaction d...                NaN   \n",
       "7   [professional topic, computing / technology po...                NaN   \n",
       "8   [model computation, formal language automaton ...                NaN   \n",
       "9   [symbolic algebraic manipulation, parallel com...                NaN   \n",
       "10  [electronic commerce, enterprise computing, ph...                NaN   \n",
       "11  [architecture, embedded cyber-physical system,...                NaN   \n",
       "12  [printed circuit board, communication hardware...                NaN   \n",
       "13  [software organization property, software nota...                NaN   \n",
       "14  [survey overview, reference work, general conf...  general reference   \n",
       "\n",
       "                      prefLabelProcessed  \n",
       "0   computing classification system 2012  \n",
       "1                      general reference  \n",
       "2                  mathematics computing  \n",
       "3                     information system  \n",
       "4                       security privacy  \n",
       "5                                network  \n",
       "6               human-centered computing  \n",
       "7              social professional topic  \n",
       "8                     theory computation  \n",
       "9                  computing methodology  \n",
       "10                     applied computing  \n",
       "11          computer system organization  \n",
       "12                              hardware  \n",
       "13                  software engineering  \n",
       "14                         document type  "
      ]
     },
     "execution_count": 59,
     "metadata": {},
     "output_type": "execute_result"
    }
   ],
   "source": [
    "xml_df.head(15)"
   ]
  },
  {
   "cell_type": "code",
   "execution_count": 60,
   "id": "775df5d8",
   "metadata": {},
   "outputs": [
    {
     "name": "stdout",
     "output_type": "stream",
     "text": [
      "Number of leafs (nodes without any successors): 1682\n",
      "Number of nodes without any predecessors: 14\n"
     ]
    }
   ],
   "source": [
    "## Replaces \n",
    "xml_df.narrower = xml_df.narrower.apply(lambda x: np.nan if x == [] else x)\n",
    "print(\"Number of leafs (nodes without any successors):\", xml_df.narrower.isna().sum())\n",
    "# Sanity check\n",
    "print(\"Number of nodes without any predecessors:\", xml_df.broader.isna().sum())"
   ]
  },
  {
   "cell_type": "code",
   "execution_count": 61,
   "id": "6b8af816",
   "metadata": {},
   "outputs": [
    {
     "name": "stdout",
     "output_type": "stream",
     "text": [
      "4    1087\n",
      "3     543\n",
      "5     353\n",
      "2      84\n",
      "6      33\n",
      "1      14\n",
      "Name: about, dtype: int64\n"
     ]
    },
    {
     "data": {
      "text/plain": [
       "count    2114.000000\n",
       "mean        3.842006\n",
       "std         0.824733\n",
       "min         1.000000\n",
       "25%         3.000000\n",
       "50%         4.000000\n",
       "75%         4.000000\n",
       "max         6.000000\n",
       "Name: about, dtype: float64"
      ]
     },
     "execution_count": 61,
     "metadata": {},
     "output_type": "execute_result"
    }
   ],
   "source": [
    "## Stats on Depth of CCS Tree:\n",
    "stats_ccs = xml_df.about.apply(lambda x: len(x.split('.')))\n",
    "print(stats_ccs.value_counts())\n",
    "stats_ccs.describe()"
   ]
  },
  {
   "cell_type": "markdown",
   "id": "eeb88182",
   "metadata": {},
   "source": [
    "##### Save the created df:"
   ]
  },
  {
   "cell_type": "code",
   "execution_count": 62,
   "id": "f825f49b",
   "metadata": {},
   "outputs": [],
   "source": [
    "xml_df.to_csv(\"Data/Preprocessed_CCS_tree.csv\", index=False)"
   ]
  },
  {
   "cell_type": "markdown",
   "id": "012e8d57",
   "metadata": {},
   "source": [
    "##### Load the data"
   ]
  },
  {
   "cell_type": "code",
   "execution_count": 2,
   "id": "9553a63e",
   "metadata": {},
   "outputs": [],
   "source": [
    "xml_df = pd.read_csv(\"Data/Preprocessed_CCS_tree.csv\")"
   ]
  },
  {
   "cell_type": "code",
   "execution_count": 3,
   "id": "21f65b25",
   "metadata": {},
   "outputs": [],
   "source": [
    "## Convert strings to lists\n",
    "from ast import literal_eval\n",
    "xml_df.narrower = xml_df.narrower.apply(lambda x: literal_eval(x) if x == x else np.nan)"
   ]
  },
  {
   "cell_type": "markdown",
   "id": "15527f85",
   "metadata": {},
   "source": [
    "##### Checking for redundancies"
   ]
  },
  {
   "cell_type": "code",
   "execution_count": 4,
   "id": "c675804d",
   "metadata": {},
   "outputs": [
    {
     "name": "stdout",
     "output_type": "stream",
     "text": [
      "Number of nodes with multiple enheritence 160\n"
     ]
    },
    {
     "data": {
      "text/plain": [
       "self-organization                                     4\n",
       "mapreduce algorithm                                   4\n",
       "evolutionary robotics                                 4\n",
       "genetic programming                                   4\n",
       "bio-inspired optimization                             4\n",
       "                                                     ..\n",
       "max marginal computation                              1\n",
       "density estimation                                    1\n",
       "hypothesis testing confidence interval computation    1\n",
       "computing probable explanation                        1\n",
       "message passing                                       1\n",
       "Name: prefLabelProcessed, Length: 1926, dtype: int64"
      ]
     },
     "execution_count": 4,
     "metadata": {},
     "output_type": "execute_result"
    }
   ],
   "source": [
    "## There are redundancies in labels!!\n",
    "redundancies_stats = xml_df['prefLabelProcessed'].value_counts()\n",
    "print(\"Number of nodes with multiple enheritence\", (redundancies_stats > 1).sum())\n",
    "redundancies_stats"
   ]
  },
  {
   "cell_type": "code",
   "execution_count": 5,
   "id": "2fc2df75",
   "metadata": {},
   "outputs": [
    {
     "data": {
      "text/html": [
       "<div>\n",
       "<style scoped>\n",
       "    .dataframe tbody tr th:only-of-type {\n",
       "        vertical-align: middle;\n",
       "    }\n",
       "\n",
       "    .dataframe tbody tr th {\n",
       "        vertical-align: top;\n",
       "    }\n",
       "\n",
       "    .dataframe thead th {\n",
       "        text-align: right;\n",
       "    }\n",
       "</style>\n",
       "<table border=\"1\" class=\"dataframe\">\n",
       "  <thead>\n",
       "    <tr style=\"text-align: right;\">\n",
       "      <th></th>\n",
       "      <th>about</th>\n",
       "      <th>prefLabel</th>\n",
       "      <th>topConceptOf</th>\n",
       "      <th>narrower</th>\n",
       "      <th>broader</th>\n",
       "      <th>prefLabelProcessed</th>\n",
       "    </tr>\n",
       "  </thead>\n",
       "  <tbody>\n",
       "    <tr>\n",
       "      <th>1184</th>\n",
       "      <td>10003752.10003809.10010170.10003824</td>\n",
       "      <td>Self-organization</td>\n",
       "      <td>NaN</td>\n",
       "      <td>NaN</td>\n",
       "      <td>parallel algorithm</td>\n",
       "      <td>self-organization</td>\n",
       "    </tr>\n",
       "    <tr>\n",
       "      <th>1189</th>\n",
       "      <td>10003752.10003809.10010172.10003824</td>\n",
       "      <td>Self-organization</td>\n",
       "      <td>NaN</td>\n",
       "      <td>NaN</td>\n",
       "      <td>distributed algorithm</td>\n",
       "      <td>self-organization</td>\n",
       "    </tr>\n",
       "    <tr>\n",
       "      <th>1275</th>\n",
       "      <td>10010147.10010169.10010170.10003824</td>\n",
       "      <td>Self-organization</td>\n",
       "      <td>NaN</td>\n",
       "      <td>NaN</td>\n",
       "      <td>parallel algorithm</td>\n",
       "      <td>self-organization</td>\n",
       "    </tr>\n",
       "    <tr>\n",
       "      <th>1408</th>\n",
       "      <td>10010147.10010919.10010172.10003824</td>\n",
       "      <td>Self-organization</td>\n",
       "      <td>NaN</td>\n",
       "      <td>NaN</td>\n",
       "      <td>distributed algorithm</td>\n",
       "      <td>self-organization</td>\n",
       "    </tr>\n",
       "  </tbody>\n",
       "</table>\n",
       "</div>"
      ],
      "text/plain": [
       "                                    about          prefLabel topConceptOf  \\\n",
       "1184  10003752.10003809.10010170.10003824  Self-organization          NaN   \n",
       "1189  10003752.10003809.10010172.10003824  Self-organization          NaN   \n",
       "1275  10010147.10010169.10010170.10003824  Self-organization          NaN   \n",
       "1408  10010147.10010919.10010172.10003824  Self-organization          NaN   \n",
       "\n",
       "     narrower                broader prefLabelProcessed  \n",
       "1184      NaN     parallel algorithm  self-organization  \n",
       "1189      NaN  distributed algorithm  self-organization  \n",
       "1275      NaN     parallel algorithm  self-organization  \n",
       "1408      NaN  distributed algorithm  self-organization  "
      ]
     },
     "execution_count": 5,
     "metadata": {},
     "output_type": "execute_result"
    }
   ],
   "source": [
    "xml_df[xml_df['prefLabelProcessed'] == 'self-organization']"
   ]
  },
  {
   "cell_type": "markdown",
   "id": "ddd729eb",
   "metadata": {},
   "source": [
    "### Building the graph with networkx"
   ]
  },
  {
   "cell_type": "code",
   "execution_count": 6,
   "id": "749ed29f",
   "metadata": {},
   "outputs": [
    {
     "name": "stdout",
     "output_type": "stream",
     "text": [
      "number of rows with broader: 2100\n"
     ]
    },
    {
     "data": {
      "text/plain": [
       "1925"
      ]
     },
     "execution_count": 6,
     "metadata": {},
     "output_type": "execute_result"
    }
   ],
   "source": [
    "import networkx as nx\n",
    "\n",
    "## Removes the nodes with no predecessors:\n",
    "xml_nopred_df = xml_df.dropna(subset=['broader'])\n",
    "print(\"number of rows with broader:\", xml_nopred_df.shape[0])\n",
    "\n",
    "DG = nx.from_pandas_edgelist(xml_nopred_df, source='broader', target='prefLabelProcessed', edge_attr=True, create_using=nx.DiGraph())\n",
    "\n",
    "nodes = DG.nodes()\n",
    "len(nodes)"
   ]
  },
  {
   "cell_type": "code",
   "execution_count": 7,
   "id": "188c2e45",
   "metadata": {},
   "outputs": [
    {
     "data": {
      "text/plain": [
       "2027"
      ]
     },
     "execution_count": 7,
     "metadata": {},
     "output_type": "execute_result"
    }
   ],
   "source": [
    "edges = DG.edges()\n",
    "len(edges)"
   ]
  },
  {
   "cell_type": "code",
   "execution_count": 8,
   "id": "498aea97",
   "metadata": {},
   "outputs": [
    {
     "data": {
      "image/png": "[encoded data removed]",
      "text/plain": [
       "<Figure size 432x288 with 1 Axes>"
      ]
     },
     "metadata": {},
     "output_type": "display_data"
    }
   ],
   "source": [
    "subgraph = DG.subgraph(list(nodes)[3:15])\n",
    "pos = nx.spring_layout(subgraph)\n",
    "\n",
    "nx.draw(subgraph, pos=pos, with_labels = True, node_color = 'b')\n",
    "plt.show()"
   ]
  },
  {
   "cell_type": "markdown",
   "id": "57de573e",
   "metadata": {},
   "source": [
    "### Generating the bdd"
   ]
  },
  {
   "cell_type": "markdown",
   "id": "a1d292be",
   "metadata": {},
   "source": [
    "#### Removes nodes with double or more inheritence from graph"
   ]
  },
  {
   "cell_type": "code",
   "execution_count": 9,
   "id": "f1fdf2b7",
   "metadata": {},
   "outputs": [
    {
     "name": "stdout",
     "output_type": "stream",
     "text": [
      "Number of problematic nodes: 160\n",
      "Number of nodes removed: 302\n",
      "Number of remaining nodes: 1740\n"
     ]
    }
   ],
   "source": [
    "## Removing nodes with multiple predecessors\n",
    "problematic_nodes = list(redundancies_stats[redundancies_stats > 1].index)\n",
    "\n",
    "# Makes a deep copy of the graph\n",
    "DG_without_multiple_inheritence = DG.copy()\n",
    "\n",
    "print(\"Number of problematic nodes:\", len(problematic_nodes))\n",
    "\n",
    "count_nodes_removed = 0\n",
    "\n",
    "for el in problematic_nodes:\n",
    "    if(el in list(DG_without_multiple_inheritence.nodes())):\n",
    "        nodes_to_remove = [el] + list(nx.nodes(nx.dfs_tree(DG_without_multiple_inheritence, el)))\n",
    "\n",
    "        count_nodes_removed += len(nodes_to_remove)\n",
    "\n",
    "        DG_without_multiple_inheritence.remove_nodes_from(nodes_to_remove)\n",
    "        \n",
    "\n",
    "print(\"Number of nodes removed:\", count_nodes_removed)\n",
    "print(\"Number of remaining nodes:\", len(DG_without_multiple_inheritence.nodes()))"
   ]
  },
  {
   "cell_type": "code",
   "execution_count": 10,
   "id": "ea471e9b",
   "metadata": {},
   "outputs": [
    {
     "data": {
      "text/plain": [
       "['general reference',\n",
       " 'mathematics computing',\n",
       " 'information system',\n",
       " 'security privacy',\n",
       " 'network',\n",
       " 'human-centered computing',\n",
       " 'social professional topic',\n",
       " 'theory computation',\n",
       " 'computing methodology',\n",
       " 'applied computing',\n",
       " 'computer system organization',\n",
       " 'hardware',\n",
       " 'software engineering']"
      ]
     },
     "execution_count": 10,
     "metadata": {},
     "output_type": "execute_result"
    }
   ],
   "source": [
    "## With this new graph without cycles, we can fetch the roots:\n",
    "list(nx.topological_sort(DG_without_multiple_inheritence))[:13]"
   ]
  },
  {
   "cell_type": "markdown",
   "id": "238bacbb",
   "metadata": {},
   "source": [
    "#### Concept pairs with label 0"
   ]
  },
  {
   "cell_type": "code",
   "execution_count": 36,
   "id": "5bc072b0",
   "metadata": {},
   "outputs": [
    {
     "name": "stdout",
     "output_type": "stream",
     "text": [
      "1361382\n"
     ]
    },
    {
     "data": {
      "text/plain": [
       "[('reference work', 'graph coloring'),\n",
       " ('reference work', 'interpolation'),\n",
       " ('reference work', 'markov process'),\n",
       " ('reference work', 'density estimation'),\n",
       " ('reference work', 'nonparametric statistic'),\n",
       " ('reference work', 'statistical paradigm'),\n",
       " ('reference work', 'probabilistic reasoning algorithm'),\n",
       " ('reference work', 'probabilistic inference problem'),\n",
       " ('reference work', 'expectation maximization'),\n",
       " ('reference work', 'coding theory')]"
      ]
     },
     "execution_count": 36,
     "metadata": {},
     "output_type": "execute_result"
    }
   ],
   "source": [
    "## Get the 13 roots\n",
    "roots = list(xml_df.iloc[1:14, -1])\n",
    "\n",
    "list_of_concept_pairs_0 = []\n",
    "\n",
    "for i in range(len(roots)):\n",
    "    successors_of_i = set(list(nx.nodes(nx.dfs_tree(DG_without_multiple_inheritence, roots[i]))))\n",
    "    for j in range(i+1, len(roots)):\n",
    "        successors_of_j = set(list(nx.nodes(nx.dfs_tree(DG_without_multiple_inheritence, roots[j]))))\n",
    "        \n",
    "        ## Removes the common nodes in both branches\n",
    "        l1 = list(successors_of_i - successors_of_j)\n",
    "        l2 = list(successors_of_j - successors_of_i)\n",
    "        \n",
    "        ## Produces all possible pairs of concepts and adds them to the list\n",
    "        list_of_concept_pairs_0 += cartesianProductOfLists(l1, l2)\n",
    "        \n",
    "print(len(list_of_concept_pairs_0))\n",
    "list_of_concept_pairs_0[:10]"
   ]
  },
  {
   "cell_type": "markdown",
   "id": "16bc06c1",
   "metadata": {},
   "source": [
    "#### Concept pairs with label -1 or 1"
   ]
  },
  {
   "cell_type": "code",
   "execution_count": 22,
   "id": "d6f9b5e9",
   "metadata": {},
   "outputs": [],
   "source": [
    "def LinkedConceptPairs(current_node, predecessors, dfs_on_root):\n",
    "    '''For each current node, we compute all the possible pairs between predecessors and current successors of the node.\n",
    "        It is done in a recursive manner\n",
    "    '''\n",
    "    if(current_node in dfs_on_root.keys()):\n",
    "        successors = dfs_on_root[current_node] \n",
    "\n",
    "        # To compute concept pairs of predecessors and successors, we use the cartesian product\n",
    "        extracted_pairs = cartesianProductOfLists(predecessors, successors)\n",
    "        \n",
    "        # We then recursively find the pairs for the successors\n",
    "        for succ in successors:\n",
    "            extracted_pairs += LinkedConceptPairs(succ, predecessors + [succ], dfs_on_root)\n",
    "            \n",
    "        return extracted_pairs\n",
    "    else:\n",
    "        return []"
   ]
  },
  {
   "cell_type": "code",
   "execution_count": 25,
   "id": "45b87528",
   "metadata": {},
   "outputs": [
    {
     "name": "stdout",
     "output_type": "stream",
     "text": [
      "5980\n"
     ]
    },
    {
     "data": {
      "text/plain": [
       "[('general reference', 'document type'),\n",
       " ('general reference', 'cross-computing tool technique'),\n",
       " ('general reference', 'survey overview'),\n",
       " ('general reference', 'reference work'),\n",
       " ('general reference', 'general conference proceeding'),\n",
       " ('general reference', 'biography'),\n",
       " ('general reference', 'general literature'),\n",
       " ('general reference', 'computing standard rfcs guideline'),\n",
       " ('document type', 'survey overview'),\n",
       " ('document type', 'reference work')]"
      ]
     },
     "execution_count": 25,
     "metadata": {},
     "output_type": "execute_result"
    }
   ],
   "source": [
    "## Get the 13 roots\n",
    "roots = list(xml_df.iloc[1:14, -1])\n",
    "\n",
    "list_of_concept_pairs_1 = []\n",
    "\n",
    "for root in roots:\n",
    "    dfs_on_root = nx.dfs_successors(DG, root)\n",
    "    \n",
    "    ## Going through the depth first search:    \n",
    "    list_of_concept_pairs_1 += LinkedConceptPairs(root, predecessors=[root], dfs_on_root=dfs_on_root)\n",
    "    \n",
    "print(len(list_of_concept_pairs_1))\n",
    "list_of_concept_pairs_1[:10]"
   ]
  },
  {
   "cell_type": "markdown",
   "id": "c2a8336b",
   "metadata": {},
   "source": [
    "#### Creates the dataframe"
   ]
  },
  {
   "cell_type": "code",
   "execution_count": 63,
   "id": "9c404a3c",
   "metadata": {},
   "outputs": [
    {
     "data": {
      "text/html": [
       "<div>\n",
       "<style scoped>\n",
       "    .dataframe tbody tr th:only-of-type {\n",
       "        vertical-align: middle;\n",
       "    }\n",
       "\n",
       "    .dataframe tbody tr th {\n",
       "        vertical-align: top;\n",
       "    }\n",
       "\n",
       "    .dataframe thead th {\n",
       "        text-align: right;\n",
       "    }\n",
       "</style>\n",
       "<table border=\"1\" class=\"dataframe\">\n",
       "  <thead>\n",
       "    <tr style=\"text-align: right;\">\n",
       "      <th></th>\n",
       "      <th>kw1</th>\n",
       "      <th>kw2</th>\n",
       "      <th>label</th>\n",
       "    </tr>\n",
       "  </thead>\n",
       "  <tbody>\n",
       "    <tr>\n",
       "      <th>25996</th>\n",
       "      <td>power management</td>\n",
       "      <td>iii-v compound</td>\n",
       "      <td>0</td>\n",
       "    </tr>\n",
       "    <tr>\n",
       "      <th>25997</th>\n",
       "      <td>iii-v compound</td>\n",
       "      <td>operational analysis</td>\n",
       "      <td>0</td>\n",
       "    </tr>\n",
       "    <tr>\n",
       "      <th>25998</th>\n",
       "      <td>macro language</td>\n",
       "      <td>transition-based timing analysis</td>\n",
       "      <td>0</td>\n",
       "    </tr>\n",
       "    <tr>\n",
       "      <th>25999</th>\n",
       "      <td>object oriented language</td>\n",
       "      <td>transition-based timing analysis</td>\n",
       "      <td>0</td>\n",
       "    </tr>\n",
       "    <tr>\n",
       "      <th>26000</th>\n",
       "      <td>buffering</td>\n",
       "      <td>transition-based timing analysis</td>\n",
       "      <td>0</td>\n",
       "    </tr>\n",
       "  </tbody>\n",
       "</table>\n",
       "</div>"
      ],
      "text/plain": [
       "                            kw1                               kw2  label\n",
       "25996          power management                    iii-v compound      0\n",
       "25997            iii-v compound              operational analysis      0\n",
       "25998            macro language  transition-based timing analysis      0\n",
       "25999  object oriented language  transition-based timing analysis      0\n",
       "26000                 buffering  transition-based timing analysis      0"
      ]
     },
     "execution_count": 63,
     "metadata": {},
     "output_type": "execute_result"
    }
   ],
   "source": [
    "## Initializes the dict\n",
    "labeled_concept_pair_dict = {\"kw1\":[], \"kw2\":[], \"label\":[]}\n",
    "\n",
    "## Iterate over all concept pairs with label 1:\n",
    "for concept_root, concept_leaf in list_of_concept_pairs_1:\n",
    "    if(np.random.uniform(0,1)>0.5):\n",
    "        labeled_concept_pair_dict['label'].append(-1) # leaf then root is -1\n",
    "        labeled_concept_pair_dict['kw1'].append(concept_leaf)\n",
    "        labeled_concept_pair_dict['kw2'].append(concept_root)\n",
    "\n",
    "    else:\n",
    "        labeled_concept_pair_dict['label'].append(1) # root then leaf is 1\n",
    "        labeled_concept_pair_dict['kw1'].append(concept_root)\n",
    "        labeled_concept_pair_dict['kw2'].append(concept_leaf)\n",
    "\n",
    "number_of_pairs_with_label_0 = 20000\n",
    "step = int(np.floor(len(list_of_concept_pairs_0)/ number_of_pairs_with_label_0))\n",
    "\n",
    "for i in range(0, len(list_of_concept_pairs_0), step):\n",
    "    labeled_concept_pair_dict['label'].append(0)\n",
    "    \n",
    "    index_1 = int(np.random.uniform(0,1)>0.5)\n",
    "    index_2 = 1 - index_1\n",
    "    labeled_concept_pair_dict['kw1'].append(list_of_concept_pairs_0[i][index_1])\n",
    "    labeled_concept_pair_dict['kw2'].append(list_of_concept_pairs_0[i][index_2])\n",
    "    \n",
    "labeled_concept_pair_df = pd.DataFrame(labeled_concept_pair_dict)\n",
    "labeled_concept_pair_df.tail()"
   ]
  },
  {
   "cell_type": "code",
   "execution_count": 45,
   "id": "82db1f22",
   "metadata": {},
   "outputs": [
    {
     "name": "stdout",
     "output_type": "stream",
     "text": [
      "['general reference', 'cross-computing tool technique', 'survey overview', 'reference work', 'general reference', 'general reference', 'general literature', 'general reference', 'document type', 'document type']\n",
      "['document type', 'general reference', 'general reference', 'general reference', 'general conference proceeding', 'biography', 'general reference', 'computing standard rfcs guideline', 'survey overview', 'reference work']\n",
      "[1, -1, -1, -1, 1, 1, -1, 1, 1, 1]\n"
     ]
    }
   ],
   "source": [
    "## Sanity Check\n",
    "print(labeled_concept_pair_dict['kw1'][:10])\n",
    "print(labeled_concept_pair_dict['kw2'][:10])\n",
    "print(labeled_concept_pair_dict['label'][:10])"
   ]
  },
  {
   "cell_type": "code",
   "execution_count": 43,
   "id": "48acb1d0",
   "metadata": {},
   "outputs": [
    {
     "data": {
      "text/plain": [
       " 0    20021\n",
       "-1     3013\n",
       " 1     2967\n",
       "Name: label, dtype: int64"
      ]
     },
     "execution_count": 43,
     "metadata": {},
     "output_type": "execute_result"
    }
   ],
   "source": [
    "labeled_concept_pair_df.label.value_counts()"
   ]
  },
  {
   "cell_type": "code",
   "execution_count": 64,
   "id": "bb5b53b9",
   "metadata": {},
   "outputs": [],
   "source": [
    "labeled_concept_pair_df.to_csv(\"Data/labeled_concept_pair_dataset.csv\", index=False)"
   ]
  },
  {
   "cell_type": "markdown",
   "id": "c3ee1dbe",
   "metadata": {},
   "source": [
    "### Graph similarity measures\n",
    "When the algorithm is trained we can try to recreate the original CCS tree and compute the graph edit distance between the original and the one created with the algorithm. <br>\n",
    "Networkx similarity measures for graphs [here](https://networkx.org/documentation/stable/reference/algorithms/similarity.html). Theory is [here](http://www.xavierdupre.fr/app/mlstatpy/helpsphinx/c_algo/graph_distance.html#step-2-kruskal-kind-bijection-on-paths)."
   ]
  },
  {
   "cell_type": "code",
   "execution_count": 256,
   "id": "23ecc214",
   "metadata": {},
   "outputs": [
    {
     "ename": "MemoryError",
     "evalue": "Unable to allocate 78.9 MiB for an array with shape (3216, 3216) and data type float64",
     "output_type": "error",
     "traceback": [
      "\u001b[1;31m---------------------------------------------------------------------------\u001b[0m",
      "\u001b[1;31mMemoryError\u001b[0m                               Traceback (most recent call last)",
      "\u001b[1;32mc:\\Users\\genie\\OneDrive\\Documents\\Keywords-Ordering\\CCS_Concept_Tree.ipynb Cell 35\u001b[0m in \u001b[0;36m<cell line: 1>\u001b[1;34m()\u001b[0m\n\u001b[1;32m----> <a href='vscode-notebook-cell:/c%3A/Users/genie/OneDrive/Documents/Keywords-Ordering/CCS_Concept_Tree.ipynb#Y164sZmlsZQ%3D%3D?line=0'>1</a>\u001b[0m nx\u001b[39m.\u001b[39;49mgraph_edit_distance(DG, DG_without_multiple_inheritence)\n",
      "File \u001b[1;32mc:\\Users\\genie\\.conda\\envs\\ke\\lib\\site-packages\\networkx\\algorithms\\similarity.py:191\u001b[0m, in \u001b[0;36mgraph_edit_distance\u001b[1;34m(G1, G2, node_match, edge_match, node_subst_cost, node_del_cost, node_ins_cost, edge_subst_cost, edge_del_cost, edge_ins_cost, roots, upper_bound, timeout)\u001b[0m\n\u001b[0;32m     56\u001b[0m \u001b[39m\"\"\"Returns GED (graph edit distance) between graphs G1 and G2.\u001b[39;00m\n\u001b[0;32m     57\u001b[0m \n\u001b[0;32m     58\u001b[0m \u001b[39mGraph edit distance is a graph similarity measure analogous to\u001b[39;00m\n\u001b[1;32m   (...)\u001b[0m\n\u001b[0;32m    188\u001b[0m \n\u001b[0;32m    189\u001b[0m \u001b[39m\"\"\"\u001b[39;00m\n\u001b[0;32m    190\u001b[0m bestcost \u001b[39m=\u001b[39m \u001b[39mNone\u001b[39;00m\n\u001b[1;32m--> 191\u001b[0m \u001b[39mfor\u001b[39;00m vertex_path, edge_path, cost \u001b[39min\u001b[39;00m optimize_edit_paths(\n\u001b[0;32m    192\u001b[0m     G1,\n\u001b[0;32m    193\u001b[0m     G2,\n\u001b[0;32m    194\u001b[0m     node_match,\n\u001b[0;32m    195\u001b[0m     edge_match,\n\u001b[0;32m    196\u001b[0m     node_subst_cost,\n\u001b[0;32m    197\u001b[0m     node_del_cost,\n\u001b[0;32m    198\u001b[0m     node_ins_cost,\n\u001b[0;32m    199\u001b[0m     edge_subst_cost,\n\u001b[0;32m    200\u001b[0m     edge_del_cost,\n\u001b[0;32m    201\u001b[0m     edge_ins_cost,\n\u001b[0;32m    202\u001b[0m     upper_bound,\n\u001b[0;32m    203\u001b[0m     \u001b[39mTrue\u001b[39;00m,\n\u001b[0;32m    204\u001b[0m     roots,\n\u001b[0;32m    205\u001b[0m     timeout,\n\u001b[0;32m    206\u001b[0m ):\n\u001b[0;32m    207\u001b[0m     \u001b[39m# assert bestcost is None or cost < bestcost\u001b[39;00m\n\u001b[0;32m    208\u001b[0m     bestcost \u001b[39m=\u001b[39m cost\n\u001b[0;32m    209\u001b[0m \u001b[39mreturn\u001b[39;00m bestcost\n",
      "File \u001b[1;32mc:\\Users\\genie\\.conda\\envs\\ke\\lib\\site-packages\\networkx\\algorithms\\similarity.py:1200\u001b[0m, in \u001b[0;36moptimize_edit_paths\u001b[1;34m(G1, G2, node_match, edge_match, node_subst_cost, node_del_cost, node_ins_cost, edge_subst_cost, edge_del_cost, edge_ins_cost, upper_bound, strictly_decreasing, roots, timeout)\u001b[0m\n\u001b[0;32m   1196\u001b[0m \u001b[39m# Now go!\u001b[39;00m\n\u001b[0;32m   1198\u001b[0m done_uv \u001b[39m=\u001b[39m [] \u001b[39mif\u001b[39;00m roots \u001b[39mis\u001b[39;00m \u001b[39mNone\u001b[39;00m \u001b[39melse\u001b[39;00m [roots]\n\u001b[1;32m-> 1200\u001b[0m \u001b[39mfor\u001b[39;00m vertex_path, edge_path, cost \u001b[39min\u001b[39;00m get_edit_paths(\n\u001b[0;32m   1201\u001b[0m     done_uv, pending_u, pending_v, Cv, [], pending_g, pending_h, Ce, initial_cost\n\u001b[0;32m   1202\u001b[0m ):\n\u001b[0;32m   1203\u001b[0m     \u001b[39m# assert sorted(G1.nodes) == sorted(u for u, v in vertex_path if u is not None)\u001b[39;00m\n\u001b[0;32m   1204\u001b[0m     \u001b[39m# assert sorted(G2.nodes) == sorted(v for u, v in vertex_path if v is not None)\u001b[39;00m\n\u001b[0;32m   1205\u001b[0m     \u001b[39m# assert sorted(G1.edges) == sorted(g for g, h in edge_path if g is not None)\u001b[39;00m\n\u001b[0;32m   1206\u001b[0m     \u001b[39m# assert sorted(G2.edges) == sorted(h for g, h in edge_path if h is not None)\u001b[39;00m\n\u001b[0;32m   1207\u001b[0m     \u001b[39m# print(vertex_path, edge_path, cost, file = sys.stderr)\u001b[39;00m\n\u001b[0;32m   1208\u001b[0m     \u001b[39m# assert cost == maxcost.value\u001b[39;00m\n\u001b[0;32m   1209\u001b[0m     \u001b[39myield\u001b[39;00m \u001b[39mlist\u001b[39m(vertex_path), \u001b[39mlist\u001b[39m(edge_path), cost\n",
      "File \u001b[1;32mc:\\Users\\genie\\.conda\\envs\\ke\\lib\\site-packages\\networkx\\algorithms\\similarity.py:1031\u001b[0m, in \u001b[0;36moptimize_edit_paths.<locals>.get_edit_paths\u001b[1;34m(matched_uv, pending_u, pending_v, Cv, matched_gh, pending_g, pending_h, Ce, matched_cost)\u001b[0m\n\u001b[0;32m   1022\u001b[0m G \u001b[39m=\u001b[39m \u001b[39mlist\u001b[39m(\n\u001b[0;32m   1023\u001b[0m     (pending_g\u001b[39m.\u001b[39mpop(x) \u001b[39mif\u001b[39;00m x \u001b[39m<\u001b[39m \u001b[39mlen\u001b[39m(pending_g) \u001b[39melse\u001b[39;00m \u001b[39mNone\u001b[39;00m)\n\u001b[0;32m   1024\u001b[0m     \u001b[39mfor\u001b[39;00m x \u001b[39min\u001b[39;00m \u001b[39mreversed\u001b[39m(sortedx)\n\u001b[0;32m   1025\u001b[0m )\n\u001b[0;32m   1026\u001b[0m H \u001b[39m=\u001b[39m \u001b[39mlist\u001b[39m(\n\u001b[0;32m   1027\u001b[0m     (pending_h\u001b[39m.\u001b[39mpop(y) \u001b[39mif\u001b[39;00m y \u001b[39m<\u001b[39m \u001b[39mlen\u001b[39m(pending_h) \u001b[39melse\u001b[39;00m \u001b[39mNone\u001b[39;00m)\n\u001b[0;32m   1028\u001b[0m     \u001b[39mfor\u001b[39;00m y \u001b[39min\u001b[39;00m \u001b[39mreversed\u001b[39m(sortedy)\n\u001b[0;32m   1029\u001b[0m )\n\u001b[1;32m-> 1031\u001b[0m \u001b[39myield from\u001b[39;00m get_edit_paths(\n\u001b[0;32m   1032\u001b[0m     matched_uv,\n\u001b[0;32m   1033\u001b[0m     pending_u,\n\u001b[0;32m   1034\u001b[0m     pending_v,\n\u001b[0;32m   1035\u001b[0m     Cv_ij,\n\u001b[0;32m   1036\u001b[0m     matched_gh,\n\u001b[0;32m   1037\u001b[0m     pending_g,\n\u001b[0;32m   1038\u001b[0m     pending_h,\n\u001b[0;32m   1039\u001b[0m     Ce_xy,\n\u001b[0;32m   1040\u001b[0m     matched_cost \u001b[39m+\u001b[39m edit_cost,\n\u001b[0;32m   1041\u001b[0m )\n\u001b[0;32m   1043\u001b[0m \u001b[39m# backtrack\u001b[39;00m\n\u001b[0;32m   1044\u001b[0m \u001b[39mif\u001b[39;00m u \u001b[39mis\u001b[39;00m \u001b[39mnot\u001b[39;00m \u001b[39mNone\u001b[39;00m:\n",
      "File \u001b[1;32mc:\\Users\\genie\\.conda\\envs\\ke\\lib\\site-packages\\networkx\\algorithms\\similarity.py:1031\u001b[0m, in \u001b[0;36moptimize_edit_paths.<locals>.get_edit_paths\u001b[1;34m(matched_uv, pending_u, pending_v, Cv, matched_gh, pending_g, pending_h, Ce, matched_cost)\u001b[0m\n\u001b[0;32m   1022\u001b[0m G \u001b[39m=\u001b[39m \u001b[39mlist\u001b[39m(\n\u001b[0;32m   1023\u001b[0m     (pending_g\u001b[39m.\u001b[39mpop(x) \u001b[39mif\u001b[39;00m x \u001b[39m<\u001b[39m \u001b[39mlen\u001b[39m(pending_g) \u001b[39melse\u001b[39;00m \u001b[39mNone\u001b[39;00m)\n\u001b[0;32m   1024\u001b[0m     \u001b[39mfor\u001b[39;00m x \u001b[39min\u001b[39;00m \u001b[39mreversed\u001b[39m(sortedx)\n\u001b[0;32m   1025\u001b[0m )\n\u001b[0;32m   1026\u001b[0m H \u001b[39m=\u001b[39m \u001b[39mlist\u001b[39m(\n\u001b[0;32m   1027\u001b[0m     (pending_h\u001b[39m.\u001b[39mpop(y) \u001b[39mif\u001b[39;00m y \u001b[39m<\u001b[39m \u001b[39mlen\u001b[39m(pending_h) \u001b[39melse\u001b[39;00m \u001b[39mNone\u001b[39;00m)\n\u001b[0;32m   1028\u001b[0m     \u001b[39mfor\u001b[39;00m y \u001b[39min\u001b[39;00m \u001b[39mreversed\u001b[39m(sortedy)\n\u001b[0;32m   1029\u001b[0m )\n\u001b[1;32m-> 1031\u001b[0m \u001b[39myield from\u001b[39;00m get_edit_paths(\n\u001b[0;32m   1032\u001b[0m     matched_uv,\n\u001b[0;32m   1033\u001b[0m     pending_u,\n\u001b[0;32m   1034\u001b[0m     pending_v,\n\u001b[0;32m   1035\u001b[0m     Cv_ij,\n\u001b[0;32m   1036\u001b[0m     matched_gh,\n\u001b[0;32m   1037\u001b[0m     pending_g,\n\u001b[0;32m   1038\u001b[0m     pending_h,\n\u001b[0;32m   1039\u001b[0m     Ce_xy,\n\u001b[0;32m   1040\u001b[0m     matched_cost \u001b[39m+\u001b[39m edit_cost,\n\u001b[0;32m   1041\u001b[0m )\n\u001b[0;32m   1043\u001b[0m \u001b[39m# backtrack\u001b[39;00m\n\u001b[0;32m   1044\u001b[0m \u001b[39mif\u001b[39;00m u \u001b[39mis\u001b[39;00m \u001b[39mnot\u001b[39;00m \u001b[39mNone\u001b[39;00m:\n",
      "    \u001b[1;31m[... skipping similar frames: optimize_edit_paths.<locals>.get_edit_paths at line 1031 (271 times)]\u001b[0m\n",
      "File \u001b[1;32mc:\\Users\\genie\\.conda\\envs\\ke\\lib\\site-packages\\networkx\\algorithms\\similarity.py:1031\u001b[0m, in \u001b[0;36moptimize_edit_paths.<locals>.get_edit_paths\u001b[1;34m(matched_uv, pending_u, pending_v, Cv, matched_gh, pending_g, pending_h, Ce, matched_cost)\u001b[0m\n\u001b[0;32m   1022\u001b[0m G \u001b[39m=\u001b[39m \u001b[39mlist\u001b[39m(\n\u001b[0;32m   1023\u001b[0m     (pending_g\u001b[39m.\u001b[39mpop(x) \u001b[39mif\u001b[39;00m x \u001b[39m<\u001b[39m \u001b[39mlen\u001b[39m(pending_g) \u001b[39melse\u001b[39;00m \u001b[39mNone\u001b[39;00m)\n\u001b[0;32m   1024\u001b[0m     \u001b[39mfor\u001b[39;00m x \u001b[39min\u001b[39;00m \u001b[39mreversed\u001b[39m(sortedx)\n\u001b[0;32m   1025\u001b[0m )\n\u001b[0;32m   1026\u001b[0m H \u001b[39m=\u001b[39m \u001b[39mlist\u001b[39m(\n\u001b[0;32m   1027\u001b[0m     (pending_h\u001b[39m.\u001b[39mpop(y) \u001b[39mif\u001b[39;00m y \u001b[39m<\u001b[39m \u001b[39mlen\u001b[39m(pending_h) \u001b[39melse\u001b[39;00m \u001b[39mNone\u001b[39;00m)\n\u001b[0;32m   1028\u001b[0m     \u001b[39mfor\u001b[39;00m y \u001b[39min\u001b[39;00m \u001b[39mreversed\u001b[39m(sortedy)\n\u001b[0;32m   1029\u001b[0m )\n\u001b[1;32m-> 1031\u001b[0m \u001b[39myield from\u001b[39;00m get_edit_paths(\n\u001b[0;32m   1032\u001b[0m     matched_uv,\n\u001b[0;32m   1033\u001b[0m     pending_u,\n\u001b[0;32m   1034\u001b[0m     pending_v,\n\u001b[0;32m   1035\u001b[0m     Cv_ij,\n\u001b[0;32m   1036\u001b[0m     matched_gh,\n\u001b[0;32m   1037\u001b[0m     pending_g,\n\u001b[0;32m   1038\u001b[0m     pending_h,\n\u001b[0;32m   1039\u001b[0m     Ce_xy,\n\u001b[0;32m   1040\u001b[0m     matched_cost \u001b[39m+\u001b[39m edit_cost,\n\u001b[0;32m   1041\u001b[0m )\n\u001b[0;32m   1043\u001b[0m \u001b[39m# backtrack\u001b[39;00m\n\u001b[0;32m   1044\u001b[0m \u001b[39mif\u001b[39;00m u \u001b[39mis\u001b[39;00m \u001b[39mnot\u001b[39;00m \u001b[39mNone\u001b[39;00m:\n",
      "File \u001b[1;32mc:\\Users\\genie\\.conda\\envs\\ke\\lib\\site-packages\\networkx\\algorithms\\similarity.py:1001\u001b[0m, in \u001b[0;36moptimize_edit_paths.<locals>.get_edit_paths\u001b[1;34m(matched_uv, pending_u, pending_v, Cv, matched_gh, pending_g, pending_h, Ce, matched_cost)\u001b[0m\n\u001b[0;32m    990\u001b[0m \u001b[39melse\u001b[39;00m:\n\u001b[0;32m    991\u001b[0m     edit_ops \u001b[39m=\u001b[39m get_edit_ops(\n\u001b[0;32m    992\u001b[0m         matched_uv,\n\u001b[0;32m    993\u001b[0m         pending_u,\n\u001b[1;32m   (...)\u001b[0m\n\u001b[0;32m    999\u001b[0m         matched_cost,\n\u001b[0;32m   1000\u001b[0m     )\n\u001b[1;32m-> 1001\u001b[0m     \u001b[39mfor\u001b[39;00m ij, Cv_ij, xy, Ce_xy, edit_cost \u001b[39min\u001b[39;00m edit_ops:\n\u001b[0;32m   1002\u001b[0m         i, j \u001b[39m=\u001b[39m ij\n\u001b[0;32m   1003\u001b[0m         \u001b[39m# assert Cv.C[i, j] + sum(Ce.C[t] for t in xy) == edit_cost\u001b[39;00m\n",
      "File \u001b[1;32mc:\\Users\\genie\\.conda\\envs\\ke\\lib\\site-packages\\networkx\\algorithms\\similarity.py:870\u001b[0m, in \u001b[0;36moptimize_edit_paths.<locals>.get_edit_ops\u001b[1;34m(matched_uv, pending_u, pending_v, Cv, pending_g, pending_h, Ce, matched_cost)\u001b[0m\n\u001b[0;32m    859\u001b[0m i, j \u001b[39m=\u001b[39m \u001b[39mmin\u001b[39m(\n\u001b[0;32m    860\u001b[0m     (k, l) \u001b[39mfor\u001b[39;00m k, l \u001b[39min\u001b[39;00m \u001b[39mzip\u001b[39m(Cv\u001b[39m.\u001b[39mlsa_row_ind, Cv\u001b[39m.\u001b[39mlsa_col_ind) \u001b[39mif\u001b[39;00m k \u001b[39m<\u001b[39m m \u001b[39mor\u001b[39;00m l \u001b[39m<\u001b[39m n\n\u001b[0;32m    861\u001b[0m )\n\u001b[0;32m    862\u001b[0m xy, localCe \u001b[39m=\u001b[39m match_edges(\n\u001b[0;32m    863\u001b[0m     pending_u[i] \u001b[39mif\u001b[39;00m i \u001b[39m<\u001b[39m m \u001b[39melse\u001b[39;00m \u001b[39mNone\u001b[39;00m,\n\u001b[0;32m    864\u001b[0m     pending_v[j] \u001b[39mif\u001b[39;00m j \u001b[39m<\u001b[39m n \u001b[39melse\u001b[39;00m \u001b[39mNone\u001b[39;00m,\n\u001b[1;32m   (...)\u001b[0m\n\u001b[0;32m    868\u001b[0m     matched_uv,\n\u001b[0;32m    869\u001b[0m )\n\u001b[1;32m--> 870\u001b[0m Ce_xy \u001b[39m=\u001b[39m reduce_Ce(Ce, xy, \u001b[39mlen\u001b[39;49m(pending_g), \u001b[39mlen\u001b[39;49m(pending_h))\n\u001b[0;32m    871\u001b[0m \u001b[39m# assert Ce.ls <= localCe.ls + Ce_xy.ls\u001b[39;00m\n\u001b[0;32m    872\u001b[0m \u001b[39mif\u001b[39;00m prune(matched_cost \u001b[39m+\u001b[39m Cv\u001b[39m.\u001b[39mls \u001b[39m+\u001b[39m localCe\u001b[39m.\u001b[39mls \u001b[39m+\u001b[39m Ce_xy\u001b[39m.\u001b[39mls):\n",
      "File \u001b[1;32mc:\\Users\\genie\\.conda\\envs\\ke\\lib\\site-packages\\networkx\\algorithms\\similarity.py:825\u001b[0m, in \u001b[0;36moptimize_edit_paths.<locals>.reduce_Ce\u001b[1;34m(Ce, ij, m, n)\u001b[0m\n\u001b[0;32m    823\u001b[0m     m_i \u001b[39m=\u001b[39m m \u001b[39m-\u001b[39m \u001b[39msum\u001b[39m(\u001b[39m1\u001b[39m \u001b[39mfor\u001b[39;00m t \u001b[39min\u001b[39;00m i \u001b[39mif\u001b[39;00m t \u001b[39m<\u001b[39m m)\n\u001b[0;32m    824\u001b[0m     n_j \u001b[39m=\u001b[39m n \u001b[39m-\u001b[39m \u001b[39msum\u001b[39m(\u001b[39m1\u001b[39m \u001b[39mfor\u001b[39;00m t \u001b[39min\u001b[39;00m j \u001b[39mif\u001b[39;00m t \u001b[39m<\u001b[39m n)\n\u001b[1;32m--> 825\u001b[0m     \u001b[39mreturn\u001b[39;00m make_CostMatrix(reduce_C(Ce\u001b[39m.\u001b[39;49mC, i, j, m, n), m_i, n_j)\n\u001b[0;32m    826\u001b[0m \u001b[39melse\u001b[39;00m:\n\u001b[0;32m    827\u001b[0m     \u001b[39mreturn\u001b[39;00m Ce\n",
      "File \u001b[1;32mc:\\Users\\genie\\.conda\\envs\\ke\\lib\\site-packages\\networkx\\algorithms\\similarity.py:719\u001b[0m, in \u001b[0;36moptimize_edit_paths.<locals>.reduce_C\u001b[1;34m(C, i, j, m, n)\u001b[0m\n\u001b[0;32m    717\u001b[0m row_ind \u001b[39m=\u001b[39m [k \u001b[39mnot\u001b[39;00m \u001b[39min\u001b[39;00m i \u001b[39mand\u001b[39;00m k \u001b[39m-\u001b[39m m \u001b[39mnot\u001b[39;00m \u001b[39min\u001b[39;00m j \u001b[39mfor\u001b[39;00m k \u001b[39min\u001b[39;00m \u001b[39mrange\u001b[39m(m \u001b[39m+\u001b[39m n)]\n\u001b[0;32m    718\u001b[0m col_ind \u001b[39m=\u001b[39m [k \u001b[39mnot\u001b[39;00m \u001b[39min\u001b[39;00m j \u001b[39mand\u001b[39;00m k \u001b[39m-\u001b[39m n \u001b[39mnot\u001b[39;00m \u001b[39min\u001b[39;00m i \u001b[39mfor\u001b[39;00m k \u001b[39min\u001b[39;00m \u001b[39mrange\u001b[39m(m \u001b[39m+\u001b[39m n)]\n\u001b[1;32m--> 719\u001b[0m \u001b[39mreturn\u001b[39;00m C[row_ind, :][:, col_ind]\n",
      "\u001b[1;31mMemoryError\u001b[0m: Unable to allocate 78.9 MiB for an array with shape (3216, 3216) and data type float64"
     ]
    }
   ],
   "source": [
    "nx.graph_edit_distance(DG, DG_without_multiple_inheritence)"
   ]
  }
 ],
 "metadata": {
  "kernelspec": {
   "display_name": "Python 3.10.4 ('ke')",
   "language": "python",
   "name": "python3"
  },
  "language_info": {
   "codemirror_mode": {
    "name": "ipython",
    "version": 3
   },
   "file_extension": ".py",
   "mimetype": "text/x-python",
   "name": "python",
   "nbconvert_exporter": "python",
   "pygments_lexer": "ipython3",
   "version": "3.10.4"
  },
  "vscode": {
   "interpreter": {
    "hash": "bb5787495d47db3f95bbda7df6f8ead9f038dcb1bbd3be59d77722f8f7c66504"
   }
  }
 },
 "nbformat": 4,
 "nbformat_minor": 5
}
