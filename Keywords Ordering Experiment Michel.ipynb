{
 "cells": [
  {
   "cell_type": "code",
   "execution_count": 1,
   "id": "d3e76886",
   "metadata": {},
   "outputs": [],
   "source": [
    "import re\n",
    "import json\n",
    "import pandas as pd\n",
    "import numpy as np\n",
    "import seaborn as sns\n",
    "import pickle\n",
    "import matplotlib.pyplot as plt\n",
    "\n",
    "from IPython.display import clear_output\n",
    "from Scripts.metrics import ComputeMetrics\n",
    "from tqdm import tqdm"
   ]
  },
  {
   "cell_type": "markdown",
   "id": "e29467f1",
   "metadata": {},
   "source": [
    "## Load Data"
   ]
  },
  {
   "cell_type": "markdown",
   "id": "dfd6f72e",
   "metadata": {},
   "source": [
    "### The CCS Concept Tree"
   ]
  },
  {
   "cell_type": "code",
   "execution_count": 2,
   "id": "6d13168b",
   "metadata": {},
   "outputs": [
    {
     "data": {
      "text/html": [
       "<div>\n",
       "<style scoped>\n",
       "    .dataframe tbody tr th:only-of-type {\n",
       "        vertical-align: middle;\n",
       "    }\n",
       "\n",
       "    .dataframe tbody tr th {\n",
       "        vertical-align: top;\n",
       "    }\n",
       "\n",
       "    .dataframe thead th {\n",
       "        text-align: right;\n",
       "    }\n",
       "</style>\n",
       "<table border=\"1\" class=\"dataframe\">\n",
       "  <thead>\n",
       "    <tr style=\"text-align: right;\">\n",
       "      <th></th>\n",
       "      <th>kw1</th>\n",
       "      <th>kw2</th>\n",
       "      <th>label</th>\n",
       "    </tr>\n",
       "  </thead>\n",
       "  <tbody>\n",
       "    <tr>\n",
       "      <th>25934</th>\n",
       "      <td>software testing debugging</td>\n",
       "      <td>combinational synthesis</td>\n",
       "      <td>0</td>\n",
       "    </tr>\n",
       "    <tr>\n",
       "      <th>25935</th>\n",
       "      <td>combinational synthesis</td>\n",
       "      <td>power management</td>\n",
       "      <td>0</td>\n",
       "    </tr>\n",
       "    <tr>\n",
       "      <th>25936</th>\n",
       "      <td>software fault tolerance</td>\n",
       "      <td>pcb design layout</td>\n",
       "      <td>0</td>\n",
       "    </tr>\n",
       "    <tr>\n",
       "      <th>25937</th>\n",
       "      <td>pcb design layout</td>\n",
       "      <td>formal method</td>\n",
       "      <td>0</td>\n",
       "    </tr>\n",
       "    <tr>\n",
       "      <th>25938</th>\n",
       "      <td>documentation</td>\n",
       "      <td>pcb design layout</td>\n",
       "      <td>0</td>\n",
       "    </tr>\n",
       "  </tbody>\n",
       "</table>\n",
       "</div>"
      ],
      "text/plain": [
       "                              kw1                      kw2  label\n",
       "25934  software testing debugging  combinational synthesis      0\n",
       "25935     combinational synthesis         power management      0\n",
       "25936    software fault tolerance        pcb design layout      0\n",
       "25937           pcb design layout            formal method      0\n",
       "25938               documentation        pcb design layout      0"
      ]
     },
     "execution_count": 2,
     "metadata": {},
     "output_type": "execute_result"
    }
   ],
   "source": [
    "labeled_concept_pair_df = pd.read_csv(\"Data/labeled_concept_pair_dataset.csv\")\n",
    "labeled_concept_pair_df.tail()"
   ]
  },
  {
   "cell_type": "markdown",
   "id": "b4d4c800",
   "metadata": {},
   "source": [
    "### The articles preprocessed"
   ]
  },
  {
   "cell_type": "code",
   "execution_count": 3,
   "id": "7455acf5",
   "metadata": {},
   "outputs": [],
   "source": [
    "articles_df = pd.read_csv(\"Data/data_processed.csv\")"
   ]
  },
  {
   "cell_type": "code",
   "execution_count": 4,
   "id": "f9bac44d",
   "metadata": {},
   "outputs": [
    {
     "data": {
      "text/html": [
       "<div>\n",
       "<style scoped>\n",
       "    .dataframe tbody tr th:only-of-type {\n",
       "        vertical-align: middle;\n",
       "    }\n",
       "\n",
       "    .dataframe tbody tr th {\n",
       "        vertical-align: top;\n",
       "    }\n",
       "\n",
       "    .dataframe thead th {\n",
       "        text-align: right;\n",
       "    }\n",
       "</style>\n",
       "<table border=\"1\" class=\"dataframe\">\n",
       "  <thead>\n",
       "    <tr style=\"text-align: right;\">\n",
       "      <th></th>\n",
       "      <th>doi</th>\n",
       "      <th>abstract</th>\n",
       "      <th>ft_body</th>\n",
       "      <th>ccs</th>\n",
       "      <th>keywords</th>\n",
       "      <th>abstract_processed</th>\n",
       "      <th>ft_body_processed</th>\n",
       "      <th>kw_processed</th>\n",
       "      <th>main_concept_root</th>\n",
       "      <th>main_concept_leaf</th>\n",
       "      <th>high_Importance_concept_roots_and_leafs</th>\n",
       "    </tr>\n",
       "  </thead>\n",
       "  <tbody>\n",
       "    <tr>\n",
       "      <th>107908</th>\n",
       "      <td>10.1145/2767134</td>\n",
       "      <td>&lt;p&gt;Online social media allow users to interact...</td>\n",
       "      <td>\\n Detection of Political Manipulation in Onli...</td>\n",
       "      <td>{'CCS-&gt;Information systems-&gt;World Wide Web-&gt;We...</td>\n",
       "      <td>['online social media', 'machine learning', 'o...</td>\n",
       "      <td>online social medium allow user interact one a...</td>\n",
       "      <td>detection political manipulation online commun...</td>\n",
       "      <td>['online social medium', 'machine learning', '...</td>\n",
       "      <td>information system</td>\n",
       "      <td>web application</td>\n",
       "      <td>[('information system', 'web application'), ('...</td>\n",
       "    </tr>\n",
       "    <tr>\n",
       "      <th>107909</th>\n",
       "      <td>10.1145/2767135</td>\n",
       "      <td>&lt;p&gt;A classifier that determines if a webpage i...</td>\n",
       "      <td>\\n Improving Researcher Homepage Classi.cation...</td>\n",
       "      <td>{'CCS-&gt;Information systems-&gt;Information retrie...</td>\n",
       "      <td>['researcher homepage classification', 'co-tra...</td>\n",
       "      <td>classifier determines webpage relevant specifi...</td>\n",
       "      <td>improving researcher homepage classi cation un...</td>\n",
       "      <td>['researcher homepage classification', 'co-tra...</td>\n",
       "      <td>information system</td>\n",
       "      <td>information retrieval</td>\n",
       "      <td>[('information system', 'information retrieval')]</td>\n",
       "    </tr>\n",
       "    <tr>\n",
       "      <th>107910</th>\n",
       "      <td>10.1145/2789211</td>\n",
       "      <td>&lt;p&gt;There has been a recent swell of interest i...</td>\n",
       "      <td>\\n Diversionary Comments under Blog Posts JING...</td>\n",
       "      <td>{'Mathematics of computing~Bayesian networks':...</td>\n",
       "      <td>['diversionary comments', 'classification', 'c...</td>\n",
       "      <td>recent swell interest analysis blog comment ho...</td>\n",
       "      <td>diversionary comment blog post jing wang cleme...</td>\n",
       "      <td>['diversionary comment', 'classification', 'co...</td>\n",
       "      <td>mathematics computing</td>\n",
       "      <td>bayesian network</td>\n",
       "      <td>[('mathematics computing', 'bayesian network')...</td>\n",
       "    </tr>\n",
       "    <tr>\n",
       "      <th>107911</th>\n",
       "      <td>10.1145/2790304</td>\n",
       "      <td>&lt;p&gt;This work addresses the problem of estimati...</td>\n",
       "      <td>\\n Estimating Clustering Coef.cients and Size ...</td>\n",
       "      <td>{'CCS-&gt;Theory of computation-&gt;Design and analy...</td>\n",
       "      <td>['estimation', 'clustering coefficient', 'samp...</td>\n",
       "      <td>work address problem estimating social network...</td>\n",
       "      <td>estimating clustering coef cients size social ...</td>\n",
       "      <td>['estimation', 'clustering coefficient', 'samp...</td>\n",
       "      <td>theory computation</td>\n",
       "      <td>design analysis algorithm</td>\n",
       "      <td>[('theory computation', 'design analysis algor...</td>\n",
       "    </tr>\n",
       "    <tr>\n",
       "      <th>107912</th>\n",
       "      <td>10.1145/2812812</td>\n",
       "      <td>&lt;p&gt;The Web 2.0 brought new requirements to the...</td>\n",
       "      <td>\\n Fona: Quantitative Metric to Measure Focus ...</td>\n",
       "      <td>{'CCS-&gt;Hardware': 500}</td>\n",
       "      <td>['aria', 'focus navigation', 'web accessibility']</td>\n",
       "      <td>web 2 0 brought new requirement architecture w...</td>\n",
       "      <td>fona quantitative metric measure focus navigat...</td>\n",
       "      <td>['aria', 'focus navigation', 'web accessibility']</td>\n",
       "      <td>NaN</td>\n",
       "      <td>NaN</td>\n",
       "      <td>[(nan, nan)]</td>\n",
       "    </tr>\n",
       "  </tbody>\n",
       "</table>\n",
       "</div>"
      ],
      "text/plain": [
       "                    doi                                           abstract  \\\n",
       "107908  10.1145/2767134  <p>Online social media allow users to interact...   \n",
       "107909  10.1145/2767135  <p>A classifier that determines if a webpage i...   \n",
       "107910  10.1145/2789211  <p>There has been a recent swell of interest i...   \n",
       "107911  10.1145/2790304  <p>This work addresses the problem of estimati...   \n",
       "107912  10.1145/2812812  <p>The Web 2.0 brought new requirements to the...   \n",
       "\n",
       "                                                  ft_body  \\\n",
       "107908  \\n Detection of Political Manipulation in Onli...   \n",
       "107909  \\n Improving Researcher Homepage Classi.cation...   \n",
       "107910  \\n Diversionary Comments under Blog Posts JING...   \n",
       "107911  \\n Estimating Clustering Coef.cients and Size ...   \n",
       "107912  \\n Fona: Quantitative Metric to Measure Focus ...   \n",
       "\n",
       "                                                      ccs  \\\n",
       "107908  {'CCS->Information systems->World Wide Web->We...   \n",
       "107909  {'CCS->Information systems->Information retrie...   \n",
       "107910  {'Mathematics of computing~Bayesian networks':...   \n",
       "107911  {'CCS->Theory of computation->Design and analy...   \n",
       "107912                             {'CCS->Hardware': 500}   \n",
       "\n",
       "                                                 keywords  \\\n",
       "107908  ['online social media', 'machine learning', 'o...   \n",
       "107909  ['researcher homepage classification', 'co-tra...   \n",
       "107910  ['diversionary comments', 'classification', 'c...   \n",
       "107911  ['estimation', 'clustering coefficient', 'samp...   \n",
       "107912  ['aria', 'focus navigation', 'web accessibility']   \n",
       "\n",
       "                                       abstract_processed  \\\n",
       "107908  online social medium allow user interact one a...   \n",
       "107909  classifier determines webpage relevant specifi...   \n",
       "107910  recent swell interest analysis blog comment ho...   \n",
       "107911  work address problem estimating social network...   \n",
       "107912  web 2 0 brought new requirement architecture w...   \n",
       "\n",
       "                                        ft_body_processed  \\\n",
       "107908  detection political manipulation online commun...   \n",
       "107909  improving researcher homepage classi cation un...   \n",
       "107910  diversionary comment blog post jing wang cleme...   \n",
       "107911  estimating clustering coef cients size social ...   \n",
       "107912  fona quantitative metric measure focus navigat...   \n",
       "\n",
       "                                             kw_processed  \\\n",
       "107908  ['online social medium', 'machine learning', '...   \n",
       "107909  ['researcher homepage classification', 'co-tra...   \n",
       "107910  ['diversionary comment', 'classification', 'co...   \n",
       "107911  ['estimation', 'clustering coefficient', 'samp...   \n",
       "107912  ['aria', 'focus navigation', 'web accessibility']   \n",
       "\n",
       "            main_concept_root          main_concept_leaf  \\\n",
       "107908     information system            web application   \n",
       "107909     information system      information retrieval   \n",
       "107910  mathematics computing           bayesian network   \n",
       "107911     theory computation  design analysis algorithm   \n",
       "107912                    NaN                        NaN   \n",
       "\n",
       "                  high_Importance_concept_roots_and_leafs  \n",
       "107908  [('information system', 'web application'), ('...  \n",
       "107909  [('information system', 'information retrieval')]  \n",
       "107910  [('mathematics computing', 'bayesian network')...  \n",
       "107911  [('theory computation', 'design analysis algor...  \n",
       "107912                                       [(nan, nan)]  "
      ]
     },
     "execution_count": 4,
     "metadata": {},
     "output_type": "execute_result"
    }
   ],
   "source": [
    "articles_df.tail()"
   ]
  },
  {
   "cell_type": "code",
   "execution_count": 5,
   "id": "1734579d",
   "metadata": {},
   "outputs": [
    {
     "data": {
      "text/plain": [
       "(94692, 11)"
      ]
     },
     "execution_count": 5,
     "metadata": {},
     "output_type": "execute_result"
    }
   ],
   "source": [
    "### Get articles with bodies\n",
    "articles_bodies_df = articles_df.dropna(subset=[\"ft_body_processed\"])\n",
    "articles_bodies_df.shape"
   ]
  },
  {
   "cell_type": "markdown",
   "id": "2cd38053",
   "metadata": {},
   "source": [
    "The dimension of my embeddings will be $94,692$."
   ]
  },
  {
   "cell_type": "markdown",
   "id": "03add35f",
   "metadata": {},
   "source": [
    "## Keyword Frequency and Ordering"
   ]
  },
  {
   "cell_type": "markdown",
   "id": "bfe42524",
   "metadata": {},
   "source": [
    "### Get Unique Concepts"
   ]
  },
  {
   "cell_type": "code",
   "execution_count": 6,
   "id": "7b02cfe7",
   "metadata": {},
   "outputs": [
    {
     "data": {
      "text/plain": [
       "1925"
      ]
     },
     "execution_count": 6,
     "metadata": {},
     "output_type": "execute_result"
    }
   ],
   "source": [
    "all_unique_kw = np.concatenate((np.array(labeled_concept_pair_df['kw1'].array), np.array(labeled_concept_pair_df['kw2'].array)))\n",
    "all_unique_kw = list(set(all_unique_kw))\n",
    "len(all_unique_kw)"
   ]
  },
  {
   "cell_type": "code",
   "execution_count": 7,
   "id": "b1e2762c",
   "metadata": {},
   "outputs": [],
   "source": [
    "# from IPython.display import clear_output\n",
    "\n",
    "# for i in range(0, 10000):\n",
    "#     clear_output(wait=True)\n",
    "#     print(i)"
   ]
  },
  {
   "cell_type": "markdown",
   "id": "0d0de909",
   "metadata": {},
   "source": [
    "### Create Embeddings from Corpus"
   ]
  },
  {
   "cell_type": "code",
   "execution_count": 8,
   "id": "0fec3840",
   "metadata": {},
   "outputs": [],
   "source": [
    "def ComputeKwDistribution(articles_series, kw, normalized = True):\n",
    "    distrib = [0 for el in articles_series]\n",
    "\n",
    "    for i, corpus in enumerate(articles_series):\n",
    "        # distrib[i] = len(findAllIterationsInString(corpus, kw))\n",
    "        distrib[i] = corpus.count(kw)\n",
    "    # dist = articles_series.apply(lambda x: x.count(kw))\n",
    "    \n",
    "    distrib = np.array(distrib)\n",
    "\n",
    "    return distrib/distrib.sum() if normalized and distrib.sum()!=0 else distrib"
   ]
  },
  {
   "cell_type": "code",
   "execution_count": 9,
   "id": "0fb60f11",
   "metadata": {},
   "outputs": [
    {
     "data": {
      "text/plain": [
       "213"
      ]
     },
     "execution_count": 9,
     "metadata": {},
     "output_type": "execute_result"
    }
   ],
   "source": [
    "np.sum(ComputeKwDistribution(articles_bodies_df['ft_body_processed'], all_unique_kw[3], normalized = False))"
   ]
  },
  {
   "cell_type": "code",
   "execution_count": 10,
   "id": "633d12be",
   "metadata": {},
   "outputs": [
    {
     "name": "stderr",
     "output_type": "stream",
     "text": [
      "100%|██████████| 1925/1925 [33:53<00:00,  1.06s/it]\n"
     ]
    },
    {
     "data": {
      "text/plain": [
       "{'markov-chain monte carlo method': array([0, 0, 0, ..., 0, 0, 0]),\n",
       " 'interest point salient region detection': array([0, 0, 0, ..., 0, 0, 0]),\n",
       " 'multi-chip module': array([0, 0, 0, ..., 0, 0, 0]),\n",
       " 'operation scheduling': array([0, 0, 0, ..., 0, 0, 0]),\n",
       " 'multiple instruction single data': array([0, 0, 0, ..., 0, 0, 0]),\n",
       " 'informal education': array([0, 0, 0, ..., 0, 0, 0]),\n",
       " 'kernel density estimator': array([0, 0, 0, ..., 0, 0, 0]),\n",
       " 'authentication': array([0, 0, 0, ..., 0, 0, 0]),\n",
       " 'virtual reality': array([0, 0, 0, ..., 0, 0, 0]),\n",
       " 'tablet computer': array([0, 0, 0, ..., 0, 0, 0]),\n",
       " 'tree language': array([0, 0, 0, ..., 0, 0, 0]),\n",
       " 'data recovery': array([0, 0, 0, ..., 0, 0, 0]),\n",
       " 'regularization': array([0, 0, 0, ..., 0, 0, 0]),\n",
       " 'semidefinite programming': array([0, 0, 0, ..., 0, 0, 0]),\n",
       " 'topic modeling': array([0, 0, 0, ..., 3, 0, 0]),\n",
       " 'approximate dynamic programming method': array([0, 0, 0, ..., 0, 0, 0]),\n",
       " 'probabilistic reasoning': array([0, 0, 0, ..., 0, 0, 0]),\n",
       " 'domain-specific security privacy architecture': array([0, 0, 0, ..., 0, 0, 0]),\n",
       " 'policy iteration': array([0, 0, 0, ..., 0, 0, 0]),\n",
       " 'developmental representation': array([0, 0, 0, ..., 0, 0, 0]),\n",
       " 'sensor network': array([0, 0, 0, ..., 0, 0, 0]),\n",
       " 'q-learning': array([0, 0, 0, ..., 0, 0, 0]),\n",
       " 'cyber-physical network': array([0, 0, 0, ..., 0, 0, 0]),\n",
       " 'speech / audio search': array([0, 0, 0, ..., 0, 0, 0]),\n",
       " 'tactile hand-based interface': array([0, 0, 0, ..., 0, 0, 0]),\n",
       " 'maintaining software': array([0, 0, 0, ..., 0, 0, 0]),\n",
       " 'publish-subscribe / event-based architecture': array([0, 0, 0, ..., 0, 0, 0]),\n",
       " 'query intent': array([0, 0, 0, ..., 0, 0, 0]),\n",
       " 'online algorithm': array([0, 0, 0, ..., 0, 0, 0]),\n",
       " 'machine learning': array([0, 0, 0, ..., 3, 0, 0]),\n",
       " 'biography': array([0, 0, 0, ..., 0, 0, 0]),\n",
       " 'overlay logical network structure': array([0, 0, 0, ..., 0, 0, 0]),\n",
       " 'software design engineering': array([0, 0, 0, ..., 0, 0, 0]),\n",
       " 'mobile computing': array([0, 0, 0, ..., 0, 0, 0]),\n",
       " 'numerical analysis': array([0, 0, 0, ..., 0, 0, 0]),\n",
       " 'permutation combination': array([0, 0, 0, ..., 0, 0, 0]),\n",
       " 'language feature': array([0, 0, 0, ..., 0, 0, 0]),\n",
       " 'file system management': array([0, 0, 0, ..., 0, 0, 0]),\n",
       " 'cartography': array([0, 0, 0, ..., 0, 0, 0]),\n",
       " 'network formation': array([0, 0, 0, ..., 0, 0, 0]),\n",
       " 'supervised learning regression': array([0, 0, 0, ..., 0, 0, 0]),\n",
       " 'technology-mapping': array([0, 0, 0, ..., 0, 0, 0]),\n",
       " 'monitor': array([ 0,  4,  0, ...,  0,  0, 12]),\n",
       " 'data management system': array([0, 0, 0, ..., 0, 0, 0]),\n",
       " 'command control': array([0, 0, 0, ..., 0, 0, 0]),\n",
       " 'noise reduction': array([0, 0, 0, ..., 0, 0, 0]),\n",
       " 'semantics': array([ 0,  0,  0, ..., 10,  0,  0]),\n",
       " 'vulnerability management': array([0, 0, 0, ..., 0, 0, 0]),\n",
       " 'education': array([ 0, 20, 10, ...,  1,  0,  0]),\n",
       " 'computer-aided design': array([0, 0, 0, ..., 0, 0, 0]),\n",
       " 'inductive logic learning': array([0, 0, 0, ..., 0, 0, 0]),\n",
       " 'software system model': array([0, 0, 0, ..., 0, 0, 0]),\n",
       " 'human-centered computing': array([0, 0, 0, ..., 0, 0, 0]),\n",
       " 'sponsored search advertising': array([0, 0, 0, ..., 0, 0, 0]),\n",
       " 'world wide web network structure': array([0, 0, 0, ..., 0, 0, 0]),\n",
       " 'image composition': array([0, 0, 0, ..., 0, 0, 0]),\n",
       " 'oracle decision tree': array([0, 0, 0, ..., 0, 0, 0]),\n",
       " 'earth atmospheric science': array([0, 0, 0, ..., 0, 0, 0]),\n",
       " 'integral calculus': array([0, 0, 0, ..., 0, 0, 0]),\n",
       " 'bayesian nonparametric model': array([0, 0, 0, ..., 0, 0, 0]),\n",
       " 'user characteristic': array([0, 0, 0, ..., 0, 0, 0]),\n",
       " 'data exchange': array([0, 0, 0, ..., 0, 0, 0]),\n",
       " 'answer ranking': array([0, 0, 0, ..., 0, 0, 0]),\n",
       " 'scenario-based design': array([0, 0, 0, ..., 0, 0, 0]),\n",
       " 'storage network architecture': array([0, 0, 0, ..., 0, 0, 0]),\n",
       " 'power network': array([0, 0, 0, ..., 0, 0, 0]),\n",
       " 'window manager': array([0, 0, 0, ..., 0, 0, 0]),\n",
       " 'fault model test metric': array([0, 0, 0, ..., 0, 0, 0]),\n",
       " 'rewrite system': array([0, 0, 0, ..., 0, 0, 0]),\n",
       " 'massively parallel algorithm': array([0, 0, 0, ..., 0, 0, 0]),\n",
       " 'software evolution': array([0, 0, 0, ..., 0, 0, 0]),\n",
       " 'query language': array([0, 0, 0, ..., 0, 0, 0]),\n",
       " 'ring network': array([0, 0, 0, ..., 0, 0, 0]),\n",
       " 'psychology': array([0, 5, 0, ..., 1, 0, 0]),\n",
       " 'formal method': array([0, 0, 0, ..., 0, 0, 0]),\n",
       " 'application-specific vlsi design': array([0, 0, 0, ..., 0, 0, 0]),\n",
       " 'recursion': array([0, 0, 0, ..., 0, 0, 0]),\n",
       " 'digital cash': array([0, 0, 0, ..., 0, 0, 0]),\n",
       " 'kalman filter hidden markov model': array([0, 0, 0, ..., 0, 0, 0]),\n",
       " 'hyperbolic tree': array([0, 0, 0, ..., 0, 0, 0]),\n",
       " 'physical simulation': array([0, 0, 0, ..., 0, 0, 0]),\n",
       " 'finite model theory': array([0, 0, 0, ..., 0, 0, 0]),\n",
       " 'partial differential equation': array([0, 0, 0, ..., 0, 0, 0]),\n",
       " 'parallel distributed dbms': array([0, 0, 0, ..., 0, 0, 0]),\n",
       " 'event-driven architecture': array([0, 0, 0, ..., 0, 0, 0]),\n",
       " 'tree': array([0, 0, 0, ..., 1, 1, 3]),\n",
       " 'power estimation optimization': array([0, 0, 0, ..., 0, 0, 0]),\n",
       " 'process voltage temperature variation': array([0, 0, 0, ..., 0, 0, 0]),\n",
       " 'history programming language': array([0, 0, 0, ..., 0, 0, 0]),\n",
       " 'tabu search': array([0, 0, 0, ..., 0, 0, 0]),\n",
       " 'quantum complexity theory': array([0, 0, 0, ..., 0, 0, 0]),\n",
       " 'temporal reasoning': array([0, 0, 0, ..., 0, 0, 0]),\n",
       " 'learning covariate shift': array([0, 0, 0, ..., 0, 0, 0]),\n",
       " 'pattern matching': array([0, 0, 0, ..., 0, 0, 0]),\n",
       " 'long-range network': array([0, 0, 0, ..., 0, 0, 0]),\n",
       " 'circuit hardening': array([0, 0, 0, ..., 0, 0, 0]),\n",
       " 'petri net': array([0, 0, 0, ..., 0, 0, 0]),\n",
       " 'software application security': array([0, 0, 0, ..., 0, 0, 0]),\n",
       " 'entity resolution': array([0, 0, 0, ..., 0, 0, 0]),\n",
       " 'multiscale system': array([0, 0, 0, ..., 0, 0, 0]),\n",
       " 'coroutines': array([0, 0, 0, ..., 0, 0, 0]),\n",
       " 'deduplication': array([0, 0, 0, ..., 0, 0, 0]),\n",
       " 'analog mixed-signal circuit synthesis': array([0, 0, 0, ..., 0, 0, 0]),\n",
       " 'learning probabilistic graphical model': array([0, 0, 0, ..., 0, 0, 0]),\n",
       " 'software selection adaptation': array([0, 0, 0, ..., 0, 0, 0]),\n",
       " 'design analysis algorithm': array([0, 0, 0, ..., 0, 0, 0]),\n",
       " 'project management technique': array([0, 0, 0, ..., 0, 0, 0]),\n",
       " 'software product line': array([0, 0, 0, ..., 0, 0, 0]),\n",
       " 'error-correcting code': array([0, 0, 0, ..., 0, 0, 0]),\n",
       " 'thermal issue': array([0, 0, 0, ..., 0, 0, 0]),\n",
       " 'causal reasoning diagnostics': array([0, 0, 0, ..., 0, 0, 0]),\n",
       " 'die wafer stacking': array([0, 0, 0, ..., 0, 0, 0]),\n",
       " 'algorithm design technique': array([0, 0, 0, ..., 0, 0, 0]),\n",
       " 'object oriented construct': array([0, 0, 0, ..., 0, 0, 0]),\n",
       " 'user interface programming': array([0, 0, 0, ..., 0, 0, 0]),\n",
       " 'computing profession': array([0, 0, 0, ..., 0, 0, 0]),\n",
       " 'computer-managed instruction': array([0, 0, 0, ..., 0, 0, 0]),\n",
       " 'layered system': array([0, 0, 0, ..., 0, 0, 0]),\n",
       " 'directory structure': array([0, 0, 0, ..., 0, 0, 0]),\n",
       " 'multidimensional range search': array([0, 0, 0, ..., 0, 0, 0]),\n",
       " 'bug fixing hardware': array([0, 0, 0, ..., 0, 0, 0]),\n",
       " 'gestural input': array([0, 0, 0, ..., 0, 0, 0]),\n",
       " 'sequencing genotyping technology': array([0, 0, 0, ..., 0, 0, 0]),\n",
       " 'enterprise application': array([0, 0, 0, ..., 0, 0, 0]),\n",
       " 'accessibility': array([ 0,  0,  0, ...,  0,  0, 93]),\n",
       " 'speech recognition': array([0, 0, 0, ..., 0, 0, 0]),\n",
       " 'protocol correctness': array([0, 0, 0, ..., 0, 0, 0]),\n",
       " 'rasterization': array([0, 0, 0, ..., 0, 0, 0]),\n",
       " 'test-pattern generation fault simulation': array([0, 0, 0, ..., 0, 0, 0]),\n",
       " 'failure prediction': array([0, 0, 0, ..., 0, 0, 0]),\n",
       " 'signaling protocol': array([0, 0, 0, ..., 0, 0, 0]),\n",
       " 'software post-development issue': array([0, 0, 0, ..., 0, 0, 0]),\n",
       " 'software service orchestration system': array([0, 0, 0, ..., 0, 0, 0]),\n",
       " 'combinatorics': array([0, 0, 0, ..., 0, 0, 0]),\n",
       " 'specialized information retrieval': array([0, 0, 0, ..., 0, 0, 0]),\n",
       " 'quantum technology': array([0, 0, 0, ..., 0, 0, 0]),\n",
       " 'model development analysis': array([0, 0, 0, ..., 0, 0, 0]),\n",
       " 'active learning setting': array([0, 0, 0, ..., 0, 0, 0]),\n",
       " 'motif discovery': array([0, 0, 0, ..., 0, 0, 0]),\n",
       " 'simulation tool': array([0, 0, 0, ..., 0, 0, 0]),\n",
       " 'dynamic memory': array([0, 0, 0, ..., 0, 0, 0]),\n",
       " 'laboratory experiment': array([0, 0, 0, ..., 0, 0, 0]),\n",
       " 'embedded software': array([0, 0, 0, ..., 0, 0, 0]),\n",
       " 'theory randomized search heuristic': array([0, 0, 0, ..., 0, 0, 0]),\n",
       " 'health care information system': array([0, 0, 0, ..., 0, 0, 0]),\n",
       " 'database query processing': array([0, 0, 0, ..., 0, 0, 0]),\n",
       " 'data structure algorithm data management': array([0, 0, 0, ..., 0, 0, 0]),\n",
       " 'syntax': array([0, 0, 0, ..., 0, 0, 0]),\n",
       " 'traceability': array([0, 0, 0, ..., 0, 0, 0]),\n",
       " 'fuel-based energy': array([0, 0, 0, ..., 0, 0, 0]),\n",
       " 'aerospace': array([0, 0, 0, ..., 0, 0, 0]),\n",
       " 'heat map': array([0, 0, 0, ..., 0, 0, 0]),\n",
       " 'statistical graphic': array([0, 0, 0, ..., 0, 0, 0]),\n",
       " 'structured output': array([0, 0, 0, ..., 0, 0, 0]),\n",
       " 'maximum likelihood modeling': array([0, 0, 0, ..., 0, 0, 0]),\n",
       " 'non-negative matrix factorization': array([0, 0, 0, ..., 0, 0, 0]),\n",
       " 'multivariate statistic': array([0, 0, 0, ..., 0, 0, 0]),\n",
       " 'memory management': array([0, 0, 0, ..., 0, 0, 0]),\n",
       " 'corporate surveillance': array([0, 0, 0, ..., 0, 0, 0]),\n",
       " 'synchronous editor': array([0, 0, 0, ..., 0, 0, 0]),\n",
       " 'traffic analysis': array([0, 0, 0, ..., 0, 0, 0]),\n",
       " 'session protocol': array([0, 0, 0, ..., 0, 0, 0]),\n",
       " 'ethnography': array([0, 0, 0, ..., 0, 0, 0]),\n",
       " 'web-based interaction': array([0, 0, 0, ..., 0, 0, 0]),\n",
       " 'physic': array([0, 0, 0, ..., 0, 0, 0]),\n",
       " 'agent / discrete model': array([0, 0, 0, ..., 0, 0, 0]),\n",
       " 'transient error upset': array([0, 0, 0, ..., 0, 0, 0]),\n",
       " 'geographic visualization': array([0, 0, 0, ..., 0, 0, 0]),\n",
       " 'dynamic programming markov decision process': array([0, 0, 0, ..., 0, 0, 0]),\n",
       " 'remote replication': array([0, 0, 0, ..., 0, 0, 0]),\n",
       " 'completeness': array([0, 0, 0, ..., 0, 0, 0]),\n",
       " 'cognitive radio': array([0, 0, 0, ..., 0, 0, 0]),\n",
       " 'state system': array([0, 0, 0, ..., 0, 0, 0]),\n",
       " 'geometric topology': array([0, 0, 0, ..., 0, 0, 0]),\n",
       " 'computational complexity cryptography': array([0, 0, 0, ..., 0, 0, 0]),\n",
       " 'external storage': array([0, 0, 0, ..., 0, 0, 0]),\n",
       " 'planning abstraction generalization': array([0, 0, 0, ..., 0, 0, 0]),\n",
       " 'communication complexity': array([0, 0, 0, ..., 0, 0, 0]),\n",
       " 'cross-layer protocol': array([0, 0, 0, ..., 0, 0, 0]),\n",
       " 'incremental compiler': array([0, 0, 0, ..., 0, 0, 0]),\n",
       " 'online learning algorithm': array([0, 0, 0, ..., 0, 0, 0]),\n",
       " 'search index compression': array([0, 0, 0, ..., 0, 0, 0]),\n",
       " 'randomness geometry discrete structure': array([0, 0, 0, ..., 0, 0, 0]),\n",
       " 'best practice eda': array([0, 0, 0, ..., 0, 0, 0]),\n",
       " 'interpage free-space management': array([0, 0, 0, ..., 0, 0, 0]),\n",
       " 'concurrent programming language': array([0, 0, 0, ..., 0, 0, 0]),\n",
       " 'continuous simulation': array([0, 0, 0, ..., 0, 0, 0]),\n",
       " 'computational biology': array([0, 0, 0, ..., 0, 0, 0]),\n",
       " 'hierarchical storage management': array([0, 0, 0, ..., 0, 0, 0]),\n",
       " 'programming team': array([0, 0, 0, ..., 0, 0, 0]),\n",
       " 'metropolitan area network': array([0, 0, 0, ..., 0, 0, 0]),\n",
       " 'multiprocessing / multiprogramming / multitasking': array([0, 0, 0, ..., 0, 0, 0]),\n",
       " 'vector / streaming algorithm': array([0, 0, 0, ..., 0, 0, 0]),\n",
       " 'identity theft': array([0, 0, 0, ..., 0, 0, 0]),\n",
       " 'representation exact number': array([0, 0, 0, ..., 0, 0, 0]),\n",
       " 'specification language': array([0, 0, 0, ..., 0, 0, 0]),\n",
       " 'logical node': array([0, 0, 0, ..., 0, 0, 0]),\n",
       " 'project staffing': array([0, 0, 0, ..., 0, 0, 0]),\n",
       " 'discrete-event simulation': array([0, 0, 0, ..., 0, 0, 0]),\n",
       " 'layout-versus-schematics': array([0, 0, 0, ..., 0, 0, 0]),\n",
       " 'network design planning algorithm': array([0, 0, 0, ..., 0, 0, 0]),\n",
       " 'visual language': array([0, 0, 0, ..., 0, 0, 0]),\n",
       " 'model-driven software engineering': array([0, 0, 0, ..., 0, 0, 0]),\n",
       " 'computing / technology policy': array([0, 0, 0, ..., 0, 0, 0]),\n",
       " 'treemaps': array([0, 0, 0, ..., 0, 0, 0]),\n",
       " 'printer': array([0, 0, 0, ..., 0, 0, 0]),\n",
       " 'gender': array([0, 0, 0, ..., 0, 0, 0]),\n",
       " 'static timing analysis': array([0, 0, 0, ..., 0, 0, 0]),\n",
       " 'logic circuit': array([0, 0, 0, ..., 0, 0, 0]),\n",
       " 'computation transforms': array([0, 0, 0, ..., 0, 0, 0]),\n",
       " 'graphical / visual password': array([0, 0, 0, ..., 0, 0, 0]),\n",
       " 'version control': array([0, 0, 0, ..., 0, 0, 0]),\n",
       " 'search engine indexing': array([0, 0, 0, ..., 0, 0, 0]),\n",
       " 'distributed algorithm': array([0, 0, 0, ..., 0, 0, 0]),\n",
       " 'metric': array([ 0,  0,  0, ...,  3,  2, 91]),\n",
       " 'search result deduplication': array([0, 0, 0, ..., 0, 0, 0]),\n",
       " 'defect-based test': array([0, 0, 0, ..., 0, 0, 0]),\n",
       " 'automaton extension': array([0, 0, 0, ..., 0, 0, 0]),\n",
       " 'topology analysis generation': array([0, 0, 0, ..., 0, 0, 0]),\n",
       " 'social network security privacy': array([0, 0, 0, ..., 0, 0, 0]),\n",
       " 'web application security': array([0, 0, 0, ..., 0, 0, 0]),\n",
       " 'physical synthesis': array([0, 0, 0, ..., 0, 0, 0]),\n",
       " 'submodular optimization polymatroids': array([0, 0, 0, ..., 0, 0, 0]),\n",
       " 'document preparation': array([0, 0, 0, ..., 0, 0, 0]),\n",
       " 'markov network': array([0, 0, 0, ..., 0, 0, 0]),\n",
       " 'quantitative automaton': array([0, 0, 0, ..., 0, 0, 0]),\n",
       " 'software development technique': array([0, 0, 0, ..., 0, 0, 0]),\n",
       " 'web interface': array([0, 0, 0, ..., 0, 0, 0]),\n",
       " 'computational transcriptomics': array([0, 0, 0, ..., 0, 0, 0]),\n",
       " 'algebraic semantics': array([0, 0, 0, ..., 0, 0, 0]),\n",
       " 'distributed retrieval': array([0, 0, 0, ..., 0, 0, 0]),\n",
       " 'nonmonotonic default reasoning belief revision': array([0, 0, 0, ..., 0, 0, 0]),\n",
       " 'software system structure': array([0, 0, 0, ..., 0, 0, 0]),\n",
       " 'local area network': array([0, 0, 0, ..., 0, 0, 0]),\n",
       " 'information storage technology': array([0, 0, 0, ..., 0, 0, 0]),\n",
       " 'printed circuit board': array([0, 0, 0, ..., 0, 0, 0]),\n",
       " 'type theory': array([0, 0, 0, ..., 0, 0, 0]),\n",
       " 'real-time schedulability': array([0, 0, 0, ..., 0, 0, 0]),\n",
       " 'software reliability': array([0, 0, 0, ..., 0, 0, 0]),\n",
       " 'business intelligence': array([0, 0, 0, ..., 0, 0, 0]),\n",
       " 'application specific integrated circuit': array([0, 0, 0, ..., 0, 0, 0]),\n",
       " 'adversary model': array([0, 0, 0, ..., 0, 0, 0]),\n",
       " '3-tier architecture': array([0, 0, 0, ..., 0, 0, 0]),\n",
       " 'formal language definition': array([0, 0, 0, ..., 0, 0, 0]),\n",
       " 'database constraint theory': array([0, 0, 0, ..., 0, 0, 0]),\n",
       " 'expert system': array([0, 0, 0, ..., 0, 0, 0]),\n",
       " 'linear logic': array([0, 0, 0, ..., 0, 0, 0]),\n",
       " 'ontology engineering': array([0, 0, 0, ..., 0, 0, 0]),\n",
       " 'enterprise data management': array([0, 0, 0, ..., 0, 0, 0]),\n",
       " 'virtual memory': array([0, 0, 0, ..., 0, 0, 0]),\n",
       " 'sound music computing': array([0, 0, 0, ..., 0, 0, 0]),\n",
       " 'sequential circuit': array([0, 0, 0, ..., 0, 0, 0]),\n",
       " 'sensor application deployment': array([0, 0, 0, ..., 0, 0, 0]),\n",
       " 'integral equation': array([0, 0, 0, ..., 0, 0, 0]),\n",
       " 'usability testing': array([0, 0, 0, ..., 0, 0, 0]),\n",
       " 'network adapter': array([0, 0, 0, ..., 0, 0, 0]),\n",
       " 'technology audit': array([0, 0, 0, ..., 0, 0, 0]),\n",
       " 'differential algebraic equation': array([0, 0, 0, ..., 0, 0, 0]),\n",
       " 'active learning': array([0, 0, 1, ..., 0, 0, 0]),\n",
       " 'bridge switch': array([0, 0, 0, ..., 0, 0, 0]),\n",
       " 'equivalence checking': array([0, 0, 0, ..., 0, 0, 0]),\n",
       " 'chemistry': array([0, 0, 0, ..., 0, 0, 0]),\n",
       " 'ambient intelligence': array([0, 0, 0, ..., 0, 0, 0]),\n",
       " 'approximation algorithm analysis': array([0, 0, 0, ..., 0, 0, 0]),\n",
       " 'data encoding canonicalization': array([0, 0, 0, ..., 0, 0, 0]),\n",
       " 'hardware validation': array([0, 0, 0, ..., 0, 0, 0]),\n",
       " 'reflective middleware': array([0, 0, 0, ..., 0, 0, 0]),\n",
       " 'digital signal processing': array([0, 0, 0, ..., 0, 0, 0]),\n",
       " 'optimization algorithm': array([0, 0, 0, ..., 0, 0, 0]),\n",
       " 'timing analysis sign-off': array([0, 0, 0, ..., 0, 0, 0]),\n",
       " 'network flow': array([0, 0, 0, ..., 0, 0, 0]),\n",
       " 'network optimization': array([0, 0, 0, ..., 0, 0, 0]),\n",
       " 'men': array([ 17, 222,  43, ..., 640,  25, 415]),\n",
       " 'mobile wireless security': array([0, 0, 0, ..., 0, 0, 0]),\n",
       " 'discrete optimization': array([0, 0, 0, ..., 0, 0, 0]),\n",
       " 'constraint': array([0, 0, 1, ..., 0, 0, 0]),\n",
       " 'hardware description language compilation': array([0, 0, 0, ..., 0, 0, 0]),\n",
       " 'multi-agent system': array([0, 0, 0, ..., 0, 0, 0]),\n",
       " 'game tree search': array([0, 0, 0, ..., 0, 0, 0]),\n",
       " 'user interface toolkits': array([0, 0, 0, ..., 0, 0, 0]),\n",
       " 'open source software': array([0, 0, 0, ..., 0, 0, 0]),\n",
       " 'computational control theory': array([0, 0, 0, ..., 0, 0, 0]),\n",
       " 'computing government': array([0, 0, 0, ..., 0, 0, 0]),\n",
       " 'random projection metric embeddings': array([0, 0, 0, ..., 0, 0, 0]),\n",
       " 'recognition gene regulatory element': array([0, 0, 0, ..., 0, 0, 0]),\n",
       " 'sensor device platform': array([0, 0, 0, ..., 0, 0, 0]),\n",
       " 'procedural animation': array([0, 0, 0, ..., 0, 0, 0]),\n",
       " 'context specific language': array([0, 0, 0, ..., 0, 0, 0]),\n",
       " 'portable medium player': array([0, 0, 0, ..., 0, 0, 0]),\n",
       " 'retrieval efficiency': array([0, 0, 0, ..., 0, 0, 0]),\n",
       " 'wireless local area network': array([0, 0, 0, ..., 0, 0, 0]),\n",
       " 'compiler': array([0, 0, 0, ..., 0, 0, 0]),\n",
       " 'magnetic tape': array([0, 0, 0, ..., 0, 0, 0]),\n",
       " 'constraint logic programming': array([0, 0, 0, ..., 0, 0, 0]),\n",
       " 'transportation': array([0, 0, 0, ..., 0, 0, 0]),\n",
       " 'phase change memory': array([0, 0, 0, ..., 0, 0, 0]),\n",
       " 'philosophical/theoretical foundation artificial intelligence': array([0, 0, 0, ..., 0, 0, 0]),\n",
       " 'empirical study interaction design': array([0, 0, 0, ..., 0, 0, 0]),\n",
       " 'transistor-level synthesis': array([0, 0, 0, ..., 0, 0, 0]),\n",
       " 'software creation management': array([0, 0, 0, ..., 0, 0, 0]),\n",
       " 'quantum information theory': array([0, 0, 0, ..., 0, 0, 0]),\n",
       " 'supervised learning': array([0, 0, 0, ..., 1, 0, 0]),\n",
       " 'geographic information system': array([0, 0, 0, ..., 0, 0, 0]),\n",
       " 'key management': array([0, 0, 0, ..., 0, 0, 0]),\n",
       " 'wide area network': array([0, 0, 0, ..., 0, 0, 0]),\n",
       " 'learning rank': array([0, 0, 0, ..., 0, 0, 0]),\n",
       " 'streaming model': array([0, 0, 0, ..., 0, 3, 0]),\n",
       " 'service-oriented architecture': array([0, 0, 0, ..., 0, 0, 0]),\n",
       " 'history hardware': array([0, 0, 0, ..., 0, 0, 0]),\n",
       " 'natural language processing': array([0, 0, 0, ..., 2, 0, 0]),\n",
       " 'computing literacy': array([0, 0, 0, ..., 0, 0, 0]),\n",
       " 'law social behavioral science': array([0, 0, 0, ..., 0, 0, 0]),\n",
       " 'retargetable compiler': array([0, 0, 0, ..., 0, 0, 0]),\n",
       " 'nonconvex optimization': array([0, 0, 0, ..., 0, 0, 0]),\n",
       " 'contextual design': array([0, 0, 0, ..., 0, 0, 0]),\n",
       " 'trademark': array([0, 0, 0, ..., 0, 0, 0]),\n",
       " 'electronics': array([0, 0, 0, ..., 0, 0, 1]),\n",
       " 'point-set topology': array([0, 0, 0, ..., 0, 0, 0]),\n",
       " 'emerging language compiler': array([0, 0, 0, ..., 0, 0, 0]),\n",
       " 'enterprise information system': array([0, 0, 0, ..., 0, 0, 0]),\n",
       " 'data compression': array([0, 0, 0, ..., 0, 0, 0]),\n",
       " 'data cleaning': array([0, 0, 0, ..., 0, 0, 0]),\n",
       " 'allocation / deallocation strategy': array([0, 0, 0, ..., 0, 0, 0]),\n",
       " 'retrieval effectiveness': array([0, 0, 0, ..., 0, 0, 0]),\n",
       " 'life medical science': array([0, 0, 0, ..., 0, 0, 0]),\n",
       " 'visualization system tool': array([0, 0, 0, ..., 0, 0, 0]),\n",
       " 'mesh generation': array([0, 0, 0, ..., 0, 0, 0]),\n",
       " 'system modeling language': array([0, 0, 0, ..., 0, 0, 0]),\n",
       " 'network forensics': array([0, 0, 0, ..., 0, 0, 0]),\n",
       " 'command control language': array([0, 0, 0, ..., 0, 0, 0]),\n",
       " 'matchings factor': array([0, 0, 0, ..., 0, 0, 0]),\n",
       " 'caching paging algorithm': array([0, 0, 0, ..., 0, 0, 0]),\n",
       " 'pair programming': array([0, 0, 0, ..., 0, 0, 0]),\n",
       " 'distance learning': array([0, 0, 0, ..., 0, 0, 0]),\n",
       " 'semantics reasoning': array([0, 0, 0, ..., 0, 0, 0]),\n",
       " 'social medium': array([0, 0, 0, ..., 4, 0, 0]),\n",
       " 'object oriented framework': array([0, 0, 0, ..., 0, 0, 0]),\n",
       " 'process variation': array([0, 0, 0, ..., 0, 0, 0]),\n",
       " 'secondary storage': array([0, 0, 0, ..., 0, 0, 0]),\n",
       " 'non-volatile memory': array([0, 0, 0, ..., 0, 0, 0]),\n",
       " 'network operation': array([0, 0, 0, ..., 0, 0, 0]),\n",
       " 'enterprise modeling': array([0, 0, 0, ..., 0, 0, 0]),\n",
       " 'language translation': array([0, 0, 0, ..., 0, 0, 0]),\n",
       " 'hardware-software codesign': array([0, 0, 0, ..., 0, 0, 0]),\n",
       " 'markov-chain monte carlo convergence measure': array([0, 0, 0, ..., 0, 0, 0]),\n",
       " 'modeling methodology': array([0, 0, 0, ..., 0, 0, 0]),\n",
       " 'physical topology': array([0, 0, 0, ..., 0, 0, 0]),\n",
       " 'stochastic game': array([0, 0, 0, ..., 0, 0, 0]),\n",
       " 'modeling parameter extraction': array([0, 0, 0, ..., 0, 0, 0]),\n",
       " 'design rule': array([0, 0, 0, ..., 0, 0, 0]),\n",
       " 'state based definition': array([0, 0, 0, ..., 0, 0, 0]),\n",
       " 'data dictionary': array([0, 0, 0, ..., 0, 0, 0]),\n",
       " 'field study': array([0, 0, 0, ..., 0, 0, 0]),\n",
       " 'hierarchical representation': array([0, 0, 0, ..., 0, 0, 0]),\n",
       " 'pricing resource allocation': array([0, 0, 0, ..., 0, 0, 0]),\n",
       " 'cognitive science': array([0, 0, 0, ..., 0, 0, 0]),\n",
       " 'neural system': array([0, 0, 0, ..., 0, 0, 0]),\n",
       " 'software implementation planning': array([0, 0, 0, ..., 0, 0, 0]),\n",
       " 'block stream cipher': array([0, 0, 0, ..., 0, 0, 0]),\n",
       " 'multi-agent planning': array([0, 0, 0, ..., 0, 0, 0]),\n",
       " 'vertical partitioning': array([0, 0, 0, ..., 0, 0, 0]),\n",
       " 'social recommendation': array([0, 0, 0, ..., 0, 0, 0]),\n",
       " 'web application': array([ 0,  0,  0, ...,  0,  0, 58]),\n",
       " 'planning deterministic action': array([0, 0, 0, ..., 0, 0, 0]),\n",
       " 'cyberwarfare': array([0, 0, 0, ..., 0, 0, 0]),\n",
       " 'synchronization': array([0, 0, 0, ..., 0, 0, 0]),\n",
       " 'gaussian process': array([0, 0, 0, ..., 0, 0, 0]),\n",
       " 'software architecture': array([0, 0, 0, ..., 0, 0, 0]),\n",
       " 'aging circuit system': array([0, 0, 0, ..., 0, 0, 0]),\n",
       " 'ubiquitous mobile device': array([0, 0, 0, ..., 0, 0, 0]),\n",
       " 'content analysis feature selection': array([0, 0, 0, ..., 0, 0, 0]),\n",
       " 'combinatorial algorithm': array([0, 0, 0, ..., 0, 0, 0]),\n",
       " 'business process management system': array([0, 0, 0, ..., 0, 0, 0]),\n",
       " 'analog mixed-signal circuit': array([0, 0, 0, ..., 0, 0, 0]),\n",
       " 'graphical user interface': array([0, 0, 0, ..., 0, 0, 0]),\n",
       " 'design rule checking': array([0, 0, 0, ..., 0, 0, 0]),\n",
       " 'block / page strategy': array([0, 0, 0, ..., 0, 0, 0]),\n",
       " 'import / export control': array([0, 0, 0, ..., 0, 0, 0]),\n",
       " 'computer system organization': array([0, 0, 0, ..., 0, 0, 0]),\n",
       " 'reusable energy storage': array([0, 0, 0, ..., 0, 0, 0]),\n",
       " 'social professional topic': array([0, 0, 0, ..., 0, 0, 0]),\n",
       " 'shortest path': array([0, 0, 0, ..., 0, 0, 0]),\n",
       " 'computer engineering education': array([0, 0, 0, ..., 0, 0, 0]),\n",
       " 'shared memory algorithm': array([0, 0, 0, ..., 0, 0, 0]),\n",
       " 'software defect analysis': array([0, 0, 0, ..., 0, 0, 0]),\n",
       " 'continuous mathematics': array([0, 0, 0, ..., 0, 0, 0]),\n",
       " 'rule learning': array([0, 0, 0, ..., 0, 0, 0]),\n",
       " 'pseudonymity anonymity untraceability': array([0, 0, 0, ..., 0, 0, 0]),\n",
       " 'law': array([0, 0, 1, ..., 1, 1, 0]),\n",
       " 'data warehouse': array([0, 0, 0, ..., 0, 0, 0]),\n",
       " 'representation boolean function': array([0, 0, 0, ..., 0, 0, 0]),\n",
       " 'mathematics retrieval': array([0, 0, 0, ..., 0, 0, 0]),\n",
       " 'collaborative interaction': array([0, 0, 0, ..., 0, 0, 0]),\n",
       " 'data structure design analysis': array([0, 0, 0, ..., 0, 0, 0]),\n",
       " 'model verification validation': array([0, 0, 0, ..., 0, 0, 0]),\n",
       " 'module / package': array([0, 0, 0, ..., 0, 0, 0]),\n",
       " 'queueing theory': array([0, 0, 0, ..., 0, 0, 0]),\n",
       " 'collaborative filtering': array([0, 0, 0, ..., 0, 0, 0]),\n",
       " 'plasmonics': array([0, 0, 0, ..., 0, 0, 0]),\n",
       " 'programmable interconnect': array([0, 0, 0, ..., 0, 0, 0]),\n",
       " 'correctness': array([0, 0, 0, ..., 0, 0, 0]),\n",
       " 'agile software development': array([0, 0, 0, ..., 0, 0, 0]),\n",
       " 'processor memory architecture': array([0, 0, 0, ..., 0, 0, 0]),\n",
       " 'variational method': array([0, 0, 0, ..., 0, 0, 0]),\n",
       " 'automation': array([0, 0, 0, ..., 0, 0, 0]),\n",
       " 'thesaurus': array([0, 0, 0, ..., 0, 0, 0]),\n",
       " 'switching device power issue': array([0, 0, 0, ..., 0, 0, 0]),\n",
       " 'programmable network': array([0, 0, 0, ..., 0, 0, 0]),\n",
       " 'network server': array([0, 0, 0, ..., 0, 0, 0]),\n",
       " 'marketing': array([0, 0, 0, ..., 0, 0, 0]),\n",
       " 'cloud based storage': array([0, 0, 0, ..., 0, 0, 0]),\n",
       " 'online auction': array([0, 0, 0, ..., 0, 0, 0]),\n",
       " 'digital library archive': array([0, 0, 0, ..., 0, 0, 0]),\n",
       " 'biometrics': array([0, 0, 0, ..., 1, 0, 0]),\n",
       " 'interconnection architecture': array([0, 0, 0, ..., 0, 0, 0]),\n",
       " 'business rule': array([0, 0, 0, ..., 0, 0, 0]),\n",
       " 'robotics': array([0, 0, 0, ..., 0, 0, 0]),\n",
       " 'multi-agent learning': array([0, 0, 0, ..., 0, 0, 0]),\n",
       " 'systolic array': array([0, 0, 0, ..., 0, 0, 0]),\n",
       " 'tightly coupled architecture': array([0, 0, 0, ..., 0, 0, 0]),\n",
       " 'ubiquitous mobile computing theory concept paradigm': array([0, 0, 0, ..., 0, 0, 0]),\n",
       " 'in-network processing': array([0, 0, 0, ..., 0, 0, 0]),\n",
       " 'evolvable hardware': array([0, 0, 0, ..., 0, 0, 0]),\n",
       " 'heterogeneous hybrid system': array([0, 0, 0, ..., 0, 0, 0]),\n",
       " 'sustainability': array([0, 0, 0, ..., 0, 0, 0]),\n",
       " 'multi-agent reinforcement learning': array([0, 0, 0, ..., 0, 0, 0]),\n",
       " 'database activity monitoring': array([0, 0, 0, ..., 0, 0, 0]),\n",
       " 'message passing': array([0, 0, 0, ..., 0, 0, 0]),\n",
       " 'sociology': array([0, 1, 0, ..., 0, 0, 0]),\n",
       " 'computing equipment management': array([0, 0, 0, ..., 0, 0, 0]),\n",
       " 'mapreduce language': array([0, 0, 0, ..., 0, 0, 0]),\n",
       " 'short-range network': array([0, 0, 0, ..., 0, 0, 0]),\n",
       " 'age': array([  4,  35,   7, ...,  61,  38, 131]),\n",
       " 'contextual software domain': array([0, 0, 0, ..., 0, 0, 0]),\n",
       " 'input / output circuit': array([0, 0, 0, ..., 0, 0, 0]),\n",
       " 'record buffer management': array([0, 0, 0, ..., 0, 0, 0]),\n",
       " 'collaborative social computing system tool': array([0, 0, 0, ..., 0, 0, 0]),\n",
       " 'simulated annealing': array([0, 0, 0, ..., 0, 0, 0]),\n",
       " 'telecommunication': array([0, 0, 0, ..., 0, 0, 0]),\n",
       " 'constraint logic language': array([0, 0, 0, ..., 0, 0, 0]),\n",
       " 'renewable energy': array([0, 0, 0, ..., 0, 0, 0]),\n",
       " 'network type': array([0, 0, 0, ..., 0, 0, 0]),\n",
       " 'quantum error correction fault tolerance': array([0, 0, 0, ..., 0, 0, 0]),\n",
       " 'video summarization': array([0, 0, 0, ..., 0, 0, 0]),\n",
       " 'programmable logic element': array([0, 0, 0, ..., 0, 0, 0]),\n",
       " 'usability security privacy': array([0, 0, 0, ..., 0, 0, 0]),\n",
       " 'race ethnicity': array([0, 0, 0, ..., 0, 0, 0]),\n",
       " 'computing education program': array([0, 0, 0, ..., 0, 0, 0]),\n",
       " 'vlsi packaging': array([0, 0, 0, ..., 0, 0, 0]),\n",
       " 'quantum communication complexity': array([0, 0, 0, ..., 0, 0, 0]),\n",
       " 'lower bound information complexity': array([0, 0, 0, ..., 0, 0, 0]),\n",
       " 'malware mitigation': array([0, 0, 0, ..., 0, 0, 0]),\n",
       " 'network resource allocation': array([0, 0, 0, ..., 0, 0, 0]),\n",
       " 'network dynamic': array([0, 0, 0, ..., 0, 0, 0]),\n",
       " 'framework': array([0, 1, 6, ..., 3, 1, 8]),\n",
       " 'inheritance': array([0, 0, 0, ..., 0, 0, 0]),\n",
       " 'hardware test': array([0, 0, 0, ..., 0, 0, 0]),\n",
       " 'near-duplicate plagiarism detection': array([0, 0, 0, ..., 0, 0, 0]),\n",
       " 'home network': array([0, 0, 0, ..., 0, 0, 0]),\n",
       " 'online auction policy': array([0, 0, 0, ..., 0, 0, 0]),\n",
       " 'apprenticeship learning': array([0, 0, 0, ..., 0, 0, 0]),\n",
       " 'high-level language architecture': array([0, 0, 0, ..., 0, 0, 0]),\n",
       " 'database design model': array([0, 0, 0, ..., 0, 0, 0]),\n",
       " 'linear programming': array([0, 0, 0, ..., 0, 0, 0]),\n",
       " 'uncertainty quantification': array([0, 0, 0, ..., 0, 0, 0]),\n",
       " 'social tagging': array([0, 0, 0, ..., 0, 0, 0]),\n",
       " 'hci theory concept model': array([0, 0, 0, ..., 0, 0, 0]),\n",
       " 'regret bound': array([0, 0, 0, ..., 0, 0, 0]),\n",
       " 'human computer interaction hci': array([0, 0, 0, ..., 0, 0, 0]),\n",
       " 'molecular simulation': array([0, 0, 0, ..., 0, 0, 0]),\n",
       " 'database administration': array([0, 0, 0, ..., 0, 0, 0]),\n",
       " 'graph enumeration': array([0, 0, 0, ..., 0, 0, 0]),\n",
       " 'reduced instruction set computing': array([0, 0, 0, ..., 0, 0, 0]),\n",
       " 'public internet': array([0, 0, 0, ..., 0, 0, 0]),\n",
       " 'relational parallel distributed dbms': array([0, 0, 0, ..., 0, 0, 0]),\n",
       " 'social medium network': array([0, 0, 0, ..., 0, 0, 0]),\n",
       " 'natural language interface': array([0, 0, 0, ..., 0, 0, 0]),\n",
       " 'firmware': array([0, 0, 0, ..., 0, 0, 0]),\n",
       " 'wireless personal area network': array([0, 0, 0, ..., 0, 0, 0]),\n",
       " 'thin provisioning': array([0, 0, 0, ..., 0, 0, 0]),\n",
       " 'software library repository': array([0, 0, 0, ..., 0, 0, 0]),\n",
       " 'investigation technique': array([0, 0, 0, ..., 0, 0, 0]),\n",
       " 'rounding technique': array([0, 0, 0, ..., 0, 0, 0]),\n",
       " 'virtualization security': array([0, 0, 0, ..., 0, 0, 0]),\n",
       " 'real-time language': array([0, 0, 0, ..., 0, 0, 0]),\n",
       " 'web service': array([0, 0, 0, ..., 0, 0, 0]),\n",
       " 'automated static analysis': array([0, 0, 0, ..., 0, 0, 0]),\n",
       " 'emerging simulation': array([0, 0, 0, ..., 0, 0, 0]),\n",
       " 'information system': array([0, 0, 0, ..., 1, 0, 0]),\n",
       " 'process validation': array([0, 0, 0, ..., 0, 0, 0]),\n",
       " 'robotic component': array([0, 0, 0, ..., 0, 0, 0]),\n",
       " 'user study': array([0, 0, 0, ..., 2, 0, 0]),\n",
       " 'data provenance': array([0, 0, 0, ..., 0, 0, 0]),\n",
       " 'natural language generation': array([0, 0, 0, ..., 0, 0, 0]),\n",
       " 'history software': array([0, 0, 0, ..., 0, 0, 0]),\n",
       " 'operational semantics': array([0, 0, 0, ..., 0, 0, 0]),\n",
       " 'wrapper data mining': array([0, 0, 0, ..., 0, 0, 0]),\n",
       " 'computing education': array([0, 1, 0, ..., 0, 0, 0]),\n",
       " 'auditory feedback': array([0, 0, 0, ..., 0, 0, 0]),\n",
       " 'record storage system': array([0, 0, 0, ..., 0, 0, 0]),\n",
       " 'analog mixed-signal circuit optimization': array([0, 0, 0, ..., 0, 0, 0]),\n",
       " 'analysis design emerging device system': array([0, 0, 0, ..., 0, 0, 0]),\n",
       " 'stochastic approximation': array([0, 0, 0, ..., 0, 0, 0]),\n",
       " 'peer-to-peer architecture': array([0, 0, 0, ..., 0, 0, 0]),\n",
       " 'information retrieval': array([0, 0, 0, ..., 9, 1, 0]),\n",
       " 'on-chip resource management': array([0, 0, 0, ..., 0, 0, 0]),\n",
       " 'inconsistent data': array([0, 0, 0, ..., 0, 0, 0]),\n",
       " 'star network': array([0, 0, 0, ..., 0, 0, 0]),\n",
       " 'special purpose system': array([0, 0, 0, ..., 0, 0, 0]),\n",
       " 'bioinformatics': array([0, 0, 0, ..., 0, 0, 0]),\n",
       " 'buffering': array([0, 0, 0, ..., 0, 0, 0]),\n",
       " 'application server': array([0, 0, 0, ..., 0, 0, 0]),\n",
       " 'bootstrapping': array([0, 0, 0, ..., 0, 2, 0]),\n",
       " 'circuit substrate': array([0, 0, 0, ..., 0, 0, 0]),\n",
       " 'interaction design': array([0, 0, 0, ..., 0, 0, 1]),\n",
       " 'nonparametric representation': array([0, 0, 0, ..., 0, 0, 0]),\n",
       " 'multi / mixed medium creation': array([0, 0, 0, ..., 0, 0, 0]),\n",
       " 'online analytical processing engine': array([0, 0, 0, ..., 0, 0, 0]),\n",
       " 'global positioning system': array([0, 0, 0, ..., 0, 0, 0]),\n",
       " 'graph algorithm analysis': array([0, 0, 0, ..., 0, 0, 0]),\n",
       " 'distributed programming language': array([0, 0, 0, ..., 0, 0, 0]),\n",
       " 'motion capture': array([0, 0, 0, ..., 0, 0, 0]),\n",
       " 'social tagging system': array([0, 0, 0, ..., 0, 0, 0]),\n",
       " 'cs1': array([0, 0, 0, ..., 0, 0, 0]),\n",
       " 'logic verification': array([0, 0, 0, ..., 0, 0, 0]),\n",
       " 'object recognition': array([0, 0, 0, ..., 0, 0, 0]),\n",
       " 'trusted computing': array([0, 0, 0, ..., 0, 0, 0]),\n",
       " 'hierarchical data model': array([0, 0, 0, ..., 0, 0, 0]),\n",
       " 'power management': array([0, 0, 0, ..., 0, 0, 0]),\n",
       " 'information system economics': array([0, 0, 0, ..., 0, 0, 0]),\n",
       " 'computer graphic': array([0, 0, 0, ..., 0, 0, 0]),\n",
       " 'people disability': array([0, 0, 0, ..., 0, 0, 0]),\n",
       " 'bio-embedded electronics': array([0, 0, 0, ..., 0, 0, 0]),\n",
       " 'governance': array([0, 0, 0, ..., 0, 0, 0]),\n",
       " 'extra-functional property': array([0, 0, 0, ..., 0, 0, 0]),\n",
       " 'cognitive robotics': array([0, 0, 0, ..., 0, 0, 0]),\n",
       " 'search partial observation': array([0, 0, 0, ..., 0, 0, 0]),\n",
       " 'association rule': array([0, 0, 0, ..., 0, 0, 0]),\n",
       " 'restful web service': array([0, 0, 0, ..., 0, 0, 0]),\n",
       " 'dictionary': array([0, 0, 0, ..., 4, 0, 0]),\n",
       " 'control method': array([0, 0, 0, ..., 0, 0, 0]),\n",
       " 'network property': array([0, 0, 0, ..., 0, 0, 0]),\n",
       " 'peer-to-peer protocol': array([0, 0, 0, ..., 0, 0, 0]),\n",
       " 'abstract data type': array([0, 0, 0, ..., 0, 0, 0]),\n",
       " 'random order robust communication complexity': array([0, 0, 0, ..., 0, 0, 0]),\n",
       " 'unsupervised learning': array([0, 0, 0, ..., 0, 0, 0]),\n",
       " 'data stream': array([0, 0, 0, ..., 0, 1, 0]),\n",
       " 'population genetics': array([0, 0, 0, ..., 0, 0, 0]),\n",
       " 'distributed database transaction': array([0, 0, 0, ..., 0, 0, 0]),\n",
       " 'capability maturity model': array([0, 0, 0, ..., 0, 0, 0]),\n",
       " 'theory algorithm application domain': array([0, 0, 0, ..., 0, 0, 0]),\n",
       " 'digital right management': array([0, 0, 0, ..., 0, 0, 0]),\n",
       " 'hypergraphs': array([0, 0, 0, ..., 0, 0, 0]),\n",
       " 'privacy-preserving protocol': array([0, 0, 0, ..., 0, 0, 0]),\n",
       " 'professional topic': array([0, 0, 0, ..., 0, 0, 0]),\n",
       " 'system planning': array([0, 0, 0, ..., 0, 0, 0]),\n",
       " 'measurement': array([0, 3, 0, ..., 2, 6, 0]),\n",
       " 'software development process management': array([0, 0, 0, ..., 0, 0, 0]),\n",
       " 'social network analysis': array([0, 0, 0, ..., 0, 0, 0]),\n",
       " 'machine translation': array([0, 0, 0, ..., 0, 0, 0]),\n",
       " 'accessibility technology': array([0, 0, 0, ..., 0, 0, 0]),\n",
       " 'maximum posteriori modeling': array([0, 0, 0, ..., 0, 0, 0]),\n",
       " 'emerging tool methodology': array([0, 0, 0, ..., 0, 0, 0]),\n",
       " 'temperature control': array([0, 0, 0, ..., 0, 0, 0]),\n",
       " 'standard cell library': array([0, 0, 0, ..., 0, 0, 0]),\n",
       " 'wireless integrated network sensor': array([0, 0, 0, ..., 0, 0, 0]),\n",
       " 'stream management': array([0, 0, 0, ..., 0, 0, 0]),\n",
       " 'algorithmic game theory': array([0, 0, 0, ..., 0, 0, 0]),\n",
       " 'mathematical foundation cryptography': array([0, 0, 0, ..., 0, 0, 0]),\n",
       " 'symbolic algebraic manipulation': array([0, 0, 0, ..., 0, 0, 0]),\n",
       " 'economics': array([0, 0, 0, ..., 0, 0, 0]),\n",
       " 'data integration': array([0, 0, 0, ..., 0, 0, 0]),\n",
       " 'end node': array([0, 0, 0, ..., 0, 0, 0]),\n",
       " 'information visualization': array([0, 0, 0, ..., 0, 0, 0]),\n",
       " 'appearance texture representation': array([0, 0, 0, ..., 0, 0, 0]),\n",
       " 'interactive whiteboards': array([0, 0, 0, ..., 0, 0, 0]),\n",
       " 'online social network': array([0, 0, 0, ..., 0, 9, 0]),\n",
       " 'operating system security': array([0, 0, 0, ..., 0, 0, 0]),\n",
       " 'preconditioning': array([0, 0, 0, ..., 0, 0, 0]),\n",
       " 'combinatoric problem': array([0, 0, 0, ..., 0, 0, 0]),\n",
       " 'robustness': array([0, 0, 0, ..., 0, 0, 0]),\n",
       " 'topology': array([0, 0, 0, ..., 0, 0, 0]),\n",
       " 'graph drawing': array([0, 0, 0, ..., 0, 0, 0]),\n",
       " 'feature selection': array([0, 0, 0, ..., 0, 0, 0]),\n",
       " 'business process modeling': array([0, 0, 0, ..., 0, 0, 0]),\n",
       " 'hci design evaluation method': array([0, 0, 0, ..., 0, 0, 0]),\n",
       " 'test collection': array([0, 0, 0, ..., 0, 0, 0]),\n",
       " 'database recovery': array([0, 0, 0, ..., 0, 0, 0]),\n",
       " 'world wide web': array([0, 1, 0, ..., 2, 0, 0]),\n",
       " 'data analytics': array([0, 0, 0, ..., 0, 0, 0]),\n",
       " 'wireless access network': array([0, 0, 0, ..., 0, 0, 0]),\n",
       " 'file system security': array([0, 0, 0, ..., 0, 0, 0]),\n",
       " 'computation matrix': array([0, 0, 0, ..., 0, 0, 0]),\n",
       " 'structured query language': array([0, 0, 0, ..., 0, 0, 0]),\n",
       " 'mixed discrete-continuous optimization': array([0, 0, 0, ..., 0, 0, 0]),\n",
       " 'storage power management': array([0, 0, 0, ..., 0, 0, 0]),\n",
       " 'timed hybrid model': array([0, 0, 0, ..., 0, 0, 0]),\n",
       " 'query suggestion': array([0, 0, 0, ..., 0, 0, 0]),\n",
       " 'electronic data interchange': array([0, 0, 0, ..., 0, 0, 0]),\n",
       " 'nearest-neighbor search': array([0, 0, 0, ..., 0, 0, 0]),\n",
       " 'technology censorship': array([0, 0, 0, ..., 0, 0, 0]),\n",
       " 'vagueness fuzzy logic': array([0, 0, 0, ..., 0, 0, 0]),\n",
       " 'storage architecture': array([0, 0, 0, ..., 0, 0, 0]),\n",
       " 'wireless mesh network': array([0, 0, 0, ..., 0, 0, 0]),\n",
       " 'computing organization': array([0, 0, 0, ..., 0, 0, 0]),\n",
       " 'embedded system': array([0, 0, 0, ..., 0, 0, 0]),\n",
       " 'data center network': array([0, 0, 0, ..., 0, 0, 0]),\n",
       " 'hardware accelerator': array([0, 0, 0, ..., 0, 0, 0]),\n",
       " 'system administration': array([0, 0, 0, ..., 0, 0, 0]),\n",
       " 'numeric approximation algorithm': array([0, 0, 0, ..., 0, 0, 0]),\n",
       " 'epipolar geometry': array([0, 0, 0, ..., 0, 0, 0]),\n",
       " 'shape representation': array([0, 0, 0, ..., 0, 0, 0]),\n",
       " 'platform power issue': array([0, 0, 0, ..., 0, 0, 0]),\n",
       " 'representation polynomial': array([0, 0, 0, ..., 0, 0, 0]),\n",
       " 'visualization technique': array([0, 0, 0, ..., 0, 0, 0]),\n",
       " 'anomaly detection': array([0, 0, 0, ..., 0, 0, 0]),\n",
       " 'peer-to-peer network': array([0, 0, 0, ..., 0, 0, 0]),\n",
       " 'control primitive': array([0, 0, 0, ..., 0, 0, 0]),\n",
       " 'dynamic analysis': array([0, 0, 0, ..., 0, 0, 0]),\n",
       " 'active vision': array([0, 0, 0, ..., 0, 0, 0]),\n",
       " 'system biology': array([0, 0, 0, ..., 0, 0, 0]),\n",
       " 'keyboard': array([ 0,  0,  0, ...,  0,  0, 46]),\n",
       " 'specialized application language': array([0, 0, 0, ..., 0, 0, 0]),\n",
       " 'boolean function learning': array([0, 0, 0, ..., 0, 0, 0]),\n",
       " 'imperative language': array([0, 0, 0, ..., 0, 0, 0]),\n",
       " 'model computation': array([0, 0, 0, ..., 0, 0, 0]),\n",
       " 'network attached storage': array([0, 0, 0, ..., 0, 0, 0]),\n",
       " 'data locking': array([0, 0, 0, ..., 0, 0, 0]),\n",
       " 'image representation': array([0, 0, 0, ..., 0, 0, 0]),\n",
       " 'visualization': array([0, 0, 0, ..., 0, 0, 1]),\n",
       " 'collision detection': array([0, 0, 0, ..., 0, 0, 0]),\n",
       " 'robotic control': array([0, 0, 0, ..., 0, 0, 0]),\n",
       " 'safety critical system': array([0, 0, 0, ..., 0, 0, 0]),\n",
       " 'spectrum graph': array([0, 0, 0, ..., 0, 0, 0]),\n",
       " 'medical information policy': array([0, 0, 0, ..., 0, 0, 0]),\n",
       " 'wireline communication': array([0, 0, 0, ..., 0, 0, 0]),\n",
       " 'parallel algorithm': array([0, 0, 0, ..., 0, 0, 0]),\n",
       " 'instance-based learning': array([0, 0, 0, ..., 0, 0, 0]),\n",
       " 'information-theoretic technique': array([0, 0, 0, ..., 0, 0, 0]),\n",
       " 'performing art': array([0, 0, 0, ..., 0, 0, 0]),\n",
       " 'searching auxiliary database': array([0, 0, 0, ..., 0, 0, 0]),\n",
       " 'social network': array([ 0,  0,  0, ...,  3, 38,  0]),\n",
       " 'wireframes': array([0, 0, 0, ..., 0, 0, 0]),\n",
       " 'data model extension': array([0, 0, 0, ..., 0, 0, 0]),\n",
       " 'boosting': array([0, 0, 0, ..., 0, 0, 0]),\n",
       " 'garbage collection': array([0, 0, 0, ..., 0, 0, 0]),\n",
       " 'read-only memory': array([0, 0, 0, ..., 0, 0, 0]),\n",
       " 'authorization': array([0, 0, 0, ..., 0, 0, 0]),\n",
       " 'discrete mathematics': array([0, 0, 0, ..., 0, 0, 0]),\n",
       " 'latent dirichlet allocation': array([0, 0, 0, ..., 4, 0, 0]),\n",
       " 'cellular architecture': array([0, 0, 0, ..., 0, 0, 0]),\n",
       " 'physical data model': array([0, 0, 0, ..., 0, 0, 0]),\n",
       " 'computability': array([0, 0, 0, ..., 0, 0, 0]),\n",
       " 'circuit complexity': array([0, 0, 0, ..., 0, 0, 0]),\n",
       " 'storage class memory': array([0, 0, 0, ..., 0, 0, 0]),\n",
       " 'graph coloring': array([0, 0, 0, ..., 0, 0, 0]),\n",
       " 'cross-computing tool technique': array([0, 0, 0, ..., 0, 0, 0]),\n",
       " 'video segmentation': array([0, 0, 0, ..., 0, 0, 0]),\n",
       " 'exploratory data analysis': array([0, 0, 0, ..., 0, 0, 0]),\n",
       " 'object identification': array([0, 0, 0, ..., 0, 0, 0]),\n",
       " 'collaborative social computing design evaluation method': array([0, 0, 0, ..., 0, 0, 0]),\n",
       " 'database storage security': array([0, 0, 0, ..., 0, 0, 0]),\n",
       " 'horizontal partitioning': array([0, 0, 0, ..., 0, 0, 0]),\n",
       " 'distributed simulation': array([0, 0, 0, ..., 0, 0, 0]),\n",
       " 'interactive learning environment': array([0, 0, 0, ..., 0, 0, 0]),\n",
       " 'k-12 education': array([0, 0, 0, ..., 0, 0, 0]),\n",
       " 'waterfall model': array([0, 0, 0, ..., 0, 0, 0]),\n",
       " 'boolean algebra algorithm': array([0, 0, 0, ..., 0, 0, 0]),\n",
       " 'probabilistic reasoning algorithm': array([0, 0, 0, ..., 0, 0, 0]),\n",
       " 'mobile device': array([0, 0, 0, ..., 0, 0, 0]),\n",
       " 'consistency': array([0, 0, 0, ..., 1, 0, 0]),\n",
       " 'system analysis design': array([0, 0, 0, ..., 0, 0, 0]),\n",
       " 'internet governance / domain name': array([0, 0, 0, ..., 0, 0, 0]),\n",
       " 'network mobility': array([0, 0, 0, ..., 0, 0, 0]),\n",
       " 'real-time simulation': array([0, 0, 0, ..., 0, 0, 0]),\n",
       " 'molecular evolution': array([0, 0, 0, ..., 0, 0, 0]),\n",
       " 'data structure': array([0, 0, 0, ..., 0, 0, 0]),\n",
       " 'massively parallel system': array([0, 0, 0, ..., 0, 0, 0]),\n",
       " 'software functional property': array([0, 0, 0, ..., 0, 0, 0]),\n",
       " 'question answering': array([0, 0, 0, ..., 0, 0, 0]),\n",
       " 'density estimation': array([0, 0, 0, ..., 0, 0, 0]),\n",
       " 'spatial physical reasoning': array([0, 0, 0, ..., 0, 0, 0]),\n",
       " 'interoperability': array([0, 0, 0, ..., 0, 0, 0]),\n",
       " 'design debug': array([0, 0, 0, ..., 0, 0, 0]),\n",
       " 'query reformulation': array([0, 0, 0, ..., 0, 0, 0]),\n",
       " 'online shopping': array([0, 0, 0, ..., 0, 0, 0]),\n",
       " 'governmental regulation': array([0, 0, 0, ..., 0, 0, 0]),\n",
       " 'real-time operating system': array([0, 0, 0, ..., 0, 0, 0]),\n",
       " 'collaborative social computing device': array([0, 0, 0, ..., 0, 0, 0]),\n",
       " 'hashed file organization': array([0, 0, 0, ..., 0, 0, 0]),\n",
       " 'computing methodology': array([0, 0, 0, ..., 0, 0, 0]),\n",
       " 'scripting language': array([0, 0, 0, ..., 0, 0, 2]),\n",
       " 'extranets': array([0, 0, 0, ..., 0, 0, 0]),\n",
       " 'concurrent programming structure': array([0, 0, 0, ..., 0, 0, 0]),\n",
       " 'incomplete inconsistent uncertain database': array([0, 0, 0, ..., 0, 0, 0]),\n",
       " 'null value record': array([0, 0, 0, ..., 0, 0, 0]),\n",
       " 'learning implicit feedback': array([0, 0, 0, ..., 0, 0, 0]),\n",
       " 'reflectance modeling': array([0, 0, 0, ..., 0, 0, 0]),\n",
       " 'nearest neighbor algorithm': array([0, 0, 0, ..., 0, 0, 0]),\n",
       " 'classification regression tree': array([0, 0, 0, ..., 0, 0, 0]),\n",
       " 'web search engine': array([0, 0, 0, ..., 0, 0, 0]),\n",
       " 'mobile network': array([0, 0, 0, ..., 0, 0, 0]),\n",
       " 'database query processing optimization theory': array([0, 0, 0, ..., 0, 0, 0]),\n",
       " 'cell probe model lower bound': array([0, 0, 0, ..., 0, 0, 0]),\n",
       " 'calculus': array([0, 0, 0, ..., 0, 0, 0]),\n",
       " 'online advertising': array([0, 0, 0, ..., 0, 0, 0]),\n",
       " 'human societal aspect security privacy': array([0, 0, 0, ..., 0, 0, 0]),\n",
       " 'mirroring': array([0, 0, 0, ..., 0, 0, 0]),\n",
       " 'emerging technology': array([0, 0, 0, ..., 0, 0, 0]),\n",
       " 'financial crime': array([0, 0, 0, ..., 0, 0, 0]),\n",
       " 'acceptable use policy restriction': array([0, 0, 0, ..., 0, 0, 0]),\n",
       " 'avionics': array([0, 0, 0, ..., 0, 0, 0]),\n",
       " 'computational genomics': array([0, 0, 0, ..., 0, 0, 0]),\n",
       " 'presentation protocol': array([0, 0, 0, ..., 0, 0, 0]),\n",
       " 'management querying encrypted data': array([0, 0, 0, ..., 0, 0, 0]),\n",
       " 'process management': array([0, 0, 0, ..., 0, 0, 0]),\n",
       " 'latent variable model': array([0, 0, 0, ..., 0, 0, 0]),\n",
       " 'trigger rule': array([0, 0, 0, ..., 0, 0, 0]),\n",
       " 'genomics': array([0, 0, 0, ..., 0, 0, 0]),\n",
       " 'user interface design': array([0, 0, 0, ..., 0, 0, 0]),\n",
       " 'computation polynomial': array([0, 0, 0, ..., 0, 0, 0]),\n",
       " 'knowledge representation reasoning': array([0, 0, 0, ..., 0, 0, 0]),\n",
       " 'jackknifing': array([0, 0, 0, ..., 0, 0, 0]),\n",
       " 'patent': array([0, 0, 0, ..., 0, 0, 0]),\n",
       " 'transborder data flow': array([0, 0, 0, ..., 0, 0, 0]),\n",
       " 'axiomatic semantics': array([0, 0, 0, ..., 0, 0, 0]),\n",
       " 'mutual exclusion': array([0, 0, 0, ..., 0, 0, 0]),\n",
       " 'computer information system training': array([0, 0, 0, ..., 0, 0, 0]),\n",
       " 'computing industry': array([0, 0, 0, ..., 0, 0, 0]),\n",
       " 'rank aggregation': array([0, 0, 0, ..., 0, 0, 0]),\n",
       " 'archaeology': array([0, 0, 0, ..., 0, 0, 0]),\n",
       " 'visual content-based indexing retrieval': array([0, 0, 0, ..., 0, 0, 0]),\n",
       " 'e-book reader': array([0, 0, 0, ..., 0, 0, 0]),\n",
       " 'mathematical software': array([0, 0, 0, ..., 0, 0, 0]),\n",
       " 'service bus': array([0, 0, 0, ..., 0, 0, 0]),\n",
       " 'collaborative social computing theory concept paradigm': array([0, 0, 0, ..., 0, 0, 0]),\n",
       " 'motion processing': array([0, 0, 0, ..., 0, 0, 0]),\n",
       " 'slotted page': array([0, 0, 0, ..., 0, 0, 0]),\n",
       " 'distributed computing methodology': array([0, 0, 0, ..., 0, 0, 0]),\n",
       " 'walkthroughs': array([0, 0, 0, ..., 0, 0, 0]),\n",
       " 'semantic network': array([0, 0, 0, ..., 0, 0, 0]),\n",
       " 'causal network': array([0, 0, 0, ..., 0, 0, 0]),\n",
       " 'main memory': array([0, 0, 0, ..., 0, 0, 0]),\n",
       " 'checkpoint / restart': array([0, 0, 0, ..., 0, 0, 0]),\n",
       " 'empirical study hci': array([0, 0, 0, ..., 0, 0, 0]),\n",
       " 'imaging': array([0, 0, 0, ..., 0, 0, 0]),\n",
       " 'token ring network': array([0, 0, 0, ..., 0, 0, 0]),\n",
       " 'automaton infinite object': array([0, 0, 0, ..., 0, 0, 0]),\n",
       " 'web service description language wsdl': array([0, 0, 0, ..., 0, 0, 0]),\n",
       " 'ordinary differential equation': array([0, 0, 0, ..., 0, 0, 0]),\n",
       " 'chat': array([0, 0, 0, ..., 0, 0, 0]),\n",
       " 'scene understanding': array([0, 0, 0, ..., 0, 0, 0]),\n",
       " 'iii-v compound': array([0, 0, 0, ..., 0, 0, 0]),\n",
       " 'chip-level power issue': array([0, 0, 0, ..., 0, 0, 0]),\n",
       " 'lifelong machine learning': array([0, 0, 0, ..., 0, 0, 0]),\n",
       " 'enterprise level data center power issue': array([0, 0, 0, ..., 0, 0, 0]),\n",
       " 'survey overview': array([0, 0, 0, ..., 0, 0, 0]),\n",
       " 'phonology / morphology': array([0, 0, 0, ..., 0, 0, 0]),\n",
       " 'reengineering': array([0, 0, 0, ..., 0, 0, 0]),\n",
       " 'graphic processor': array([0, 0, 0, ..., 0, 0, 0]),\n",
       " 'unified modeling language uml': array([0, 0, 0, ..., 0, 0, 0]),\n",
       " 'design language': array([0, 0, 0, ..., 0, 0, 0]),\n",
       " 'scanner': array([0, 0, 0, ..., 0, 0, 0]),\n",
       " 'design database eda': array([0, 0, 0, ..., 0, 0, 0]),\n",
       " 'image compression': array([0, 0, 0, ..., 0, 0, 0]),\n",
       " 'bayesian computation': array([0, 0, 0, ..., 0, 0, 0]),\n",
       " 'spline model': array([0, 0, 0, ..., 0, 0, 0]),\n",
       " 'design module hierarchy': array([0, 0, 0, ..., 0, 0, 0]),\n",
       " 'real-time system': array([0, 0, 0, ..., 0, 0, 0]),\n",
       " 'raid': array([0, 0, 0, ..., 0, 0, 0]),\n",
       " 'religious orientation': array([0, 0, 0, ..., 0, 0, 0]),\n",
       " 'web conferencing': array([0, 0, 0, ..., 0, 0, 0]),\n",
       " 'extent-based file structure': array([0, 0, 0, ..., 0, 0, 0]),\n",
       " 'visualization toolkits': array([0, 0, 0, ..., 0, 0, 0]),\n",
       " 'empirical study accessibility': array([0, 0, 0, ..., 0, 0, 0]),\n",
       " 'network algorithm': array([0, 0, 0, ..., 0, 0, 0]),\n",
       " 'computational proteomics': array([0, 0, 0, ..., 0, 0, 0]),\n",
       " 'intrusion detection system': array([0, 0, 0, ..., 0, 0, 0]),\n",
       " 'convergence learning game': array([0, 0, 0, ..., 0, 0, 0]),\n",
       " 'fault tolerance': array([0, 0, 0, ..., 0, 0, 0]),\n",
       " 'search-based software engineering': array([0, 0, 0, ..., 0, 0, 0]),\n",
       " 'clock-network synthesis': array([0, 0, 0, ..., 0, 0, 0]),\n",
       " 'randomized local search': array([0, 0, 0, ..., 0, 0, 0]),\n",
       " 'compression strategy': array([0, 0, 0, ..., 0, 0, 0]),\n",
       " 'engineering': array([0, 0, 0, ..., 0, 0, 7]),\n",
       " 'streaming sublinear near linear time algorithm': array([0, 0, 0, ..., 0, 0, 0]),\n",
       " 'simulation emulation': array([0, 0, 0, ..., 0, 0, 0]),\n",
       " 'assertion checking': array([0, 0, 0, ..., 0, 0, 0]),\n",
       " 'display imagers': array([0, 0, 0, ..., 0, 0, 0]),\n",
       " 'data anonymization sanitization': array([0, 0, 0, ..., 0, 0, 0]),\n",
       " 'interconnect power issue': array([0, 0, 0, ..., 0, 0, 0]),\n",
       " 'data streaming': array([0, 0, 0, ..., 0, 0, 0]),\n",
       " 'accessibility design evaluation method': array([0, 0, 0, ..., 0, 0, 1]),\n",
       " 'categorical semantics': array([0, 0, 0, ..., 0, 0, 0]),\n",
       " 'handheld game console': array([0, 0, 0, ..., 0, 0, 0]),\n",
       " 'intelligent agent': array([0, 0, 0, ..., 1, 0, 0]),\n",
       " 'long instruction word': array([0, 0, 0, ..., 0, 0, 0]),\n",
       " 'full-custom circuit': array([0, 0, 0, ..., 0, 0, 0]),\n",
       " 'theorem proving algorithm': array([0, 0, 0, ..., 0, 0, 0]),\n",
       " 'integration framework': array([0, 0, 0, ..., 0, 0, 0]),\n",
       " 'web crawling': array([0, 0, 0, ..., 0, 0, 0]),\n",
       " 'sketching sampling': array([0, 0, 0, ..., 0, 0, 0]),\n",
       " 'browser security': array([0, 0, 0, ..., 0, 0, 0]),\n",
       " 'sequential synthesis': array([0, 0, 0, ..., 0, 0, 0]),\n",
       " 'v-model': array([0, 0, 0, ..., 0, 0, 0]),\n",
       " 'programming interface': array([0, 0, 0, ..., 0, 0, 0]),\n",
       " 'vision robotics': array([0, 0, 0, ..., 0, 0, 0]),\n",
       " 'online test diagnostics': array([0, 0, 0, ..., 0, 0, 0]),\n",
       " 'data type structure': array([0, 0, 0, ..., 0, 0, 0]),\n",
       " 'system chip': array([0, 0, 0, ..., 0, 0, 0]),\n",
       " 'evolutionary algorithm': array([0, 0, 0, ..., 0, 0, 0]),\n",
       " 'exact approximate computation equilibrium': array([0, 0, 0, ..., 0, 0, 0]),\n",
       " 'language model': array([0, 0, 0, ..., 3, 0, 0]),\n",
       " 'structure multilingual text search': array([0, 0, 0, ..., 0, 0, 0]),\n",
       " 'language type': array([0, 0, 0, ..., 0, 0, 0]),\n",
       " 'metropolis-hastings algorithm': array([0, 0, 0, ..., 0, 0, 0]),\n",
       " 'sample complexity generalization bound': array([0, 0, 0, ..., 0, 0, 0]),\n",
       " 'network chip': array([0, 0, 0, ..., 0, 0, 0]),\n",
       " 'electrical-level simulation': array([0, 0, 0, ..., 0, 0, 0]),\n",
       " 'document topic model': array([0, 0, 0, ..., 0, 0, 0]),\n",
       " 'evaluation retrieval result': array([0, 0, 0, ..., 0, 0, 0]),\n",
       " 'hash function message authentication code': array([0, 0, 0, ..., 0, 0, 0]),\n",
       " 'security protocol': array([0, 0, 0, ..., 0, 0, 0]),\n",
       " 'network simulation': array([0, 0, 0, ..., 0, 0, 0]),\n",
       " 'temperature monitoring': array([0, 0, 0, ..., 0, 0, 0]),\n",
       " 'ad hoc network': array([0, 0, 0, ..., 0, 0, 0]),\n",
       " 'probabilistic computation': array([0, 0, 0, ..., 0, 0, 0]),\n",
       " 'network structure': array([0, 0, 0, ..., 0, 1, 0]),\n",
       " 'hardware attack countermeasure': array([0, 0, 0, ..., 0, 0, 0]),\n",
       " 'sexual orientation': array([0, 0, 0, ..., 0, 0, 0]),\n",
       " 'storage virtualization': array([0, 0, 0, ..., 0, 0, 0]),\n",
       " 'document structure': array([0, 0, 0, ..., 0, 0, 2]),\n",
       " 'mobile ad hoc network': array([0, 0, 0, ..., 0, 0, 0]),\n",
       " 'secondary storage organization': array([0, 0, 0, ..., 0, 0, 0]),\n",
       " 'text editing': array([0, 0, 0, ..., 0, 0, 0]),\n",
       " 'treaty': array([0, 0, 0, ..., 0, 0, 0]),\n",
       " 'neural network': array([0, 0, 0, ..., 0, 0, 0]),\n",
       " 'continuous optimization': array([0, 0, 0, ..., 0, 0, 0]),\n",
       " 'chemical biochemical retrieval': array([0, 0, 0, ..., 0, 0, 0]),\n",
       " 'artificial immune system': array([0, 0, 0, ..., 0, 0, 0]),\n",
       " 'external interface robotics': array([0, 0, 0, ..., 0, 0, 0]),\n",
       " 'data flow language': array([0, 0, 0, ..., 0, 0, 0]),\n",
       " 'temperature optimization': array([0, 0, 0, ..., 0, 0, 0]),\n",
       " 'maximum entropy modeling': array([0, 0, 0, ..., 0, 0, 0]),\n",
       " 'child': array([0, 1, 1, ..., 0, 0, 3]),\n",
       " 'markup language': array([0, 0, 0, ..., 0, 0, 0]),\n",
       " 'software verification validation': array([0, 0, 0, ..., 0, 0, 0]),\n",
       " 'proof complexity': array([0, 0, 0, ..., 0, 0, 0]),\n",
       " 'summarization': array([0, 0, 0, ..., 0, 0, 0]),\n",
       " 'assembly language': array([0, 0, 0, ..., 0, 0, 0]),\n",
       " 'analog computer': array([0, 0, 0, ..., 0, 0, 0]),\n",
       " 'data path algorithm': array([0, 0, 0, ..., 0, 0, 0]),\n",
       " 'random number generation': array([0, 0, 0, ..., 0, 0, 0]),\n",
       " 'crowdsourcing': array([0, 0, 0, ..., 0, 0, 0]),\n",
       " 'quantum computation': array([0, 0, 0, ..., 0, 0, 0]),\n",
       " 'wireless access point base station infrastructure': array([0, 0, 0, ..., 0, 0, 0]),\n",
       " 'reconstruction': array([0, 0, 0, ..., 1, 0, 0]),\n",
       " 'penetration testing': array([0, 0, 0, ..., 0, 0, 0]),\n",
       " 'gröbner base special base': array([0, 0, 0, ..., 0, 0, 0]),\n",
       " 'representation mathematical object': array([0, 0, 0, ..., 0, 0, 0]),\n",
       " 'parallel programming language': array([0, 0, 0, ..., 0, 0, 0]),\n",
       " 'age-based restriction': array([0, 0, 0, ..., 0, 0, 0]),\n",
       " 'activity recognition understanding': array([0, 0, 0, ..., 0, 0, 0]),\n",
       " 'network performance evaluation': array([0, 0, 0, ..., 0, 0, 0]),\n",
       " 'bayesian network model': array([0, 0, 0, ..., 0, 0, 0]),\n",
       " 'continuous model': array([0, 0, 0, ..., 0, 0, 0]),\n",
       " 'middleware': array([0, 0, 0, ..., 0, 0, 0]),\n",
       " 'continuous function': array([0, 0, 0, ..., 0, 0, 0]),\n",
       " 'offshoring': array([0, 0, 0, ..., 0, 0, 0]),\n",
       " 'optical computing': array([0, 0, 0, ..., 0, 0, 0]),\n",
       " 'turing machine': array([0, 0, 0, ..., 0, 0, 0]),\n",
       " 'music retrieval': array([0, 0, 0, ..., 0, 0, 0]),\n",
       " 'separation logic': array([0, 0, 0, ..., 0, 0, 0]),\n",
       " 'quality equilibrium': array([0, 0, 0, ..., 0, 0, 0]),\n",
       " 'extremal graph theory': array([0, 0, 0, ..., 0, 0, 0]),\n",
       " 'differential calculus': array([0, 0, 0, ..., 0, 0, 0]),\n",
       " 'pattern': array([0, 0, 0, ..., 4, 0, 5]),\n",
       " 'distributed data locking': array([0, 0, 0, ..., 0, 0, 0]),\n",
       " 'parameterized complexity exact algorithm': array([0, 0, 0, ..., 0, 0, 0]),\n",
       " 'fiber distributed data interface fddi': array([0, 0, 0, ..., 0, 0, 0]),\n",
       " 'equational logic rewriting': array([0, 0, 0, ..., 0, 0, 0]),\n",
       " 'control structure': array([0, 0, 0, ..., 0, 0, 0]),\n",
       " 'concurrent computing methodology': array([0, 0, 0, ..., 0, 0, 0]),\n",
       " 'stack machine': array([0, 0, 0, ..., 0, 0, 0]),\n",
       " 'finite state machine': array([0, 0, 0, ..., 0, 0, 0]),\n",
       " 'embedded hardware': array([0, 0, 0, ..., 0, 0, 0]),\n",
       " 'verification': array([0, 0, 0, ..., 0, 0, 0]),\n",
       " 'abstraction modeling modularity': array([0, 0, 0, ..., 0, 0, 0]),\n",
       " 'online learning setting': array([0, 0, 0, ..., 0, 0, 0]),\n",
       " 'hypertext / hypermedia creation': array([0, 0, 0, ..., 0, 0, 0]),\n",
       " 'simulator / interpreter': array([0, 0, 0, ..., 0, 0, 0]),\n",
       " 'combinatorial optimization': array([0, 0, 0, ..., 0, 0, 0]),\n",
       " 'web searching information discovery': array([0, 0, 0, ..., 0, 0, 0]),\n",
       " 'logic': array([ 0, 19,  3, ...,  2,  1,  3]),\n",
       " 'spectral method': array([0, 0, 0, ..., 0, 0, 0]),\n",
       " 'packet scheduling': array([0, 0, 0, ..., 0, 0, 0]),\n",
       " 'user model': array([0, 0, 0, ..., 0, 0, 0]),\n",
       " 'data stream mining': array([0, 0, 0, ..., 0, 0, 0]),\n",
       " 'heap data structure': array([0, 0, 0, ..., 0, 0, 0]),\n",
       " 'interaction device': array([0, 0, 0, ..., 0, 0, 0]),\n",
       " 'canonical correlation analysis': array([0, 0, 0, ..., 0, 0, 0]),\n",
       " 'class object': array([0, 0, 0, ..., 0, 0, 0]),\n",
       " 'deep web': array([0, 0, 0, ..., 0, 0, 0]),\n",
       " 'artificial intelligence': array([0, 0, 0, ..., 0, 0, 0]),\n",
       " 'business-it alignment': array([0, 0, 0, ..., 0, 0, 0]),\n",
       " 'enterprise architecture management': array([0, 0, 0, ..., 0, 0, 0]),\n",
       " 'graphic file format': array([0, 0, 0, ..., 0, 0, 0]),\n",
       " 'cooperating communicating process': array([0, 0, 0, ..., 0, 0, 0]),\n",
       " 'cryptography': array([0, 0, 0, ..., 0, 0, 0]),\n",
       " 'enterprise application integration': array([0, 0, 0, ..., 0, 0, 0]),\n",
       " 'simulation evaluation': array([0, 0, 0, ..., 0, 0, 0]),\n",
       " 'network access restriction': array([0, 0, 0, ..., 0, 0, 0]),\n",
       " 'transistor': array([0, 0, 0, ..., 0, 0, 0]),\n",
       " 'software design tradeoff': array([0, 0, 0, ..., 0, 0, 0]),\n",
       " 'agriculture': array([0, 0, 0, ..., 0, 0, 0]),\n",
       " 'access control': array([0, 0, 0, ..., 0, 0, 0]),\n",
       " 'document metadata': array([0, 0, 0, ..., 0, 0, 0]),\n",
       " 'application specific instruction set processor': array([0, 0, 0, ..., 0, 0, 0]),\n",
       " 'invariant': array([0, 0, 0, ..., 0, 0, 0]),\n",
       " 'social advertising': array([0, 0, 0, ..., 0, 0, 0]),\n",
       " 'distributed system organizing principle': array([0, 0, 0, ..., 0, 0, 0]),\n",
       " 'spiral model': array([0, 0, 0, ..., 0, 0, 0]),\n",
       " 'predecessor query': array([0, 0, 0, ..., 0, 0, 0]),\n",
       " 'electromagnetic interference compatibility': array([0, 0, 0, ..., 0, 0, 0]),\n",
       " 'e-government': array([0, 0, 0, ..., 0, 0, 0]),\n",
       " 'network monitoring': array([0, 0, 0, ..., 0, 0, 0]),\n",
       " 'socio-technical system': array([0, 0, 0, ..., 0, 0, 0]),\n",
       " 'document type': array([0, 0, 0, ..., 0, 0, 0]),\n",
       " 'parallel architecture': array([0, 0, 0, ..., 0, 0, 0]),\n",
       " 'dynamic compiler': array([0, 0, 0, ..., 0, 0, 0]),\n",
       " 'distributed transaction monitor': array([0, 0, 0, ..., 0, 0, 0]),\n",
       " 'data center': array([0, 0, 0, ..., 0, 0, 0]),\n",
       " 'formal language automaton theory': array([0, 0, 0, ..., 0, 0, 0]),\n",
       " 'theorem proving sat solving': array([0, 0, 0, ..., 0, 0, 0]),\n",
       " 'inodes': array([0, 0, 0, ..., 0, 0, 0]),\n",
       " 'empirical study visualization': array([0, 0, 0, ..., 0, 0, 0]),\n",
       " 'testing distributed parallel system': array([0, 0, 0, ..., 0, 0, 0]),\n",
       " 'database transaction processing': array([0, 0, 0, ..., 0, 0, 0]),\n",
       " 'personalization': array([0, 0, 0, ..., 0, 0, 0]),\n",
       " 'regular language': array([0, 0, 0, ..., 0, 0, 0]),\n",
       " 'student assessment': array([0, 0, 0, ..., 0, 0, 0]),\n",
       " 'abstract machine': array([0, 0, 0, ..., 0, 0, 0]),\n",
       " 'numerical differentiation': array([0, 0, 0, ..., 0, 0, 0]),\n",
       " 'learning latent representation': array([0, 0, 0, ..., 0, 0, 0]),\n",
       " 'hybrid symbolic-numeric method': array([0, 0, 0, ..., 0, 0, 0]),\n",
       " 'user interactive retrieval': array([0, 0, 0, ..., 0, 0, 0]),\n",
       " 'multilingual cross-lingual retrieval': array([0, 0, 0, ..., 0, 0, 0]),\n",
       " 'biological network': array([0, 0, 0, ..., 0, 0, 0]),\n",
       " 'statistical timing analysis': array([0, 0, 0, ..., 0, 0, 0]),\n",
       " 'genetic algorithm': array([0, 0, 0, ..., 0, 0, 0]),\n",
       " 'network architecture': array([0, 0, 0, ..., 0, 0, 0]),\n",
       " 'supervised learning classification': array([0, 0, 0, ..., 0, 0, 0]),\n",
       " 'electronic blackboard': array([0, 0, 0, ..., 0, 0, 0]),\n",
       " 'record block layout': array([0, 0, 0, ..., 0, 0, 0]),\n",
       " 'interpolation': array([0, 0, 0, ..., 0, 0, 0]),\n",
       " 'built-in self-test': array([0, 0, 0, ..., 0, 0, 0]),\n",
       " 'modal temporal logic': array([0, 0, 0, ..., 0, 0, 0]),\n",
       " 'network design principle': array([0, 0, 0, ..., 0, 0, 0]),\n",
       " 'trust': array([0, 0, 0, ..., 1, 0, 0]),\n",
       " 'hardware selection': array([0, 0, 0, ..., 0, 0, 0]),\n",
       " 'public key encryption': array([0, 0, 0, ..., 0, 0, 0]),\n",
       " 'maximum likelihood estimation': array([0, 0, 0, ..., 0, 0, 0]),\n",
       " 'integrated visual development environment': array([0, 0, 0, ..., 0, 0, 0]),\n",
       " 'spatial-temporal system': array([0, 0, 0, ..., 0, 0, 0]),\n",
       " 'e-commerce infrastructure': array([0, 0, 0, ..., 0, 0, 0]),\n",
       " 'spam detection': array([0, 0, 0, ..., 4, 0, 0]),\n",
       " 'censoring filter': array([0, 0, 0, ..., 0, 0, 0]),\n",
       " 'multiple instruction multiple data': array([0, 0, 0, ..., 0, 0, 0]),\n",
       " 'network data model': array([0, 0, 0, ..., 0, 0, 0]),\n",
       " 'database performance evaluation': array([0, 0, 0, ..., 0, 0, 0]),\n",
       " 'hybrid network': array([0, 0, 0, ..., 0, 0, 0]),\n",
       " 'environmental science': array([0, 0, 0, ..., 0, 0, 0]),\n",
       " 'network measurement': array([0, 0, 0, ..., 0, 0, 0]),\n",
       " 'universal access': array([0, 0, 0, ..., 0, 0, 2]),\n",
       " 'communication management': array([0, 0, 0, ..., 0, 0, 0]),\n",
       " 'expert search': array([0, 0, 0, ..., 0, 0, 0]),\n",
       " 'document analysis': array([0, 0, 0, ..., 0, 0, 0]),\n",
       " 'shape analysis': array([0, 0, 0, ..., 0, 0, 0]),\n",
       " 'discrete calculus algorithm': array([0, 0, 0, ..., 0, 0, 0]),\n",
       " 'pseudorandomness derandomization': array([0, 0, 0, ..., 0, 0, 0]),\n",
       " 'model checking': array([0, 0, 0, ..., 0, 0, 0]),\n",
       " 'cloud computing': array([0, 0, 0, ..., 0, 0, 0]),\n",
       " 'mathematics statistic': array([0, 0, 0, ..., 0, 0, 0]),\n",
       " 'storage management': array([0, 0, 0, ..., 0, 0, 0]),\n",
       " 'collaborative content creation': array([0, 0, 0, ..., 0, 0, 0]),\n",
       " 'beamforming': array([0, 0, 0, ..., 0, 0, 0]),\n",
       " 'distributed storage': array([0, 0, 0, ..., 0, 0, 0]),\n",
       " 'visualization application domain': array([0, 0, 0, ..., 0, 0, 0]),\n",
       " 'interactive game': array([0, 0, 0, ..., 0, 0, 0]),\n",
       " 'texting': array([0, 0, 0, ..., 0, 0, 0]),\n",
       " 'mixed / augmented reality': array([0, 0, 0, ..., 0, 0, 0]),\n",
       " 'approximation': array([0, 0, 0, ..., 0, 4, 0]),\n",
       " 'electronic design automation': array([0, 0, 0, ..., 0, 0, 0]),\n",
       " 'interactive system tool': array([0, 0, 0, ..., 0, 0, 0]),\n",
       " 'social navigation': array([0, 0, 0, ..., 0, 0, 0]),\n",
       " 'scheduling': array([0, 0, 0, ..., 0, 0, 0]),\n",
       " 'translator writing system compiler generator': array([0, 0, 0, ..., 0, 0, 0]),\n",
       " 'formal specification': array([0, 0, 0, ..., 0, 0, 0]),\n",
       " 'algebraic complexity theory': array([0, 0, 0, ..., 0, 0, 0]),\n",
       " 'maintainability maintenance': array([0, 0, 0, ..., 0, 0, 0]),\n",
       " ...}"
      ]
     },
     "execution_count": 10,
     "metadata": {},
     "output_type": "execute_result"
    }
   ],
   "source": [
    "## Creating the embedding dict:\n",
    "embedding_dict = {}\n",
    "\n",
    "for kw in tqdm(all_unique_kw):\n",
    "    embedding_dict[kw] = ComputeKwDistribution(articles_bodies_df['ft_body_processed'], kw, normalized = False)\n",
    "\n",
    "embedding_dict.values()[:10]"
   ]
  },
  {
   "cell_type": "markdown",
   "id": "69bec9e0",
   "metadata": {},
   "source": [
    "#### Save the Embeddings"
   ]
  },
  {
   "cell_type": "code",
   "execution_count": 24,
   "id": "bf8d34c5",
   "metadata": {},
   "outputs": [],
   "source": [
    "np.save('Data/ACM_concepts_embeddings.npy', embedding_dict)"
   ]
  },
  {
   "cell_type": "markdown",
   "id": "fdac49f1",
   "metadata": {},
   "source": [
    "#### Load the Saved Embeddings"
   ]
  },
  {
   "cell_type": "code",
   "execution_count": 3,
   "id": "e3e2b5bc",
   "metadata": {},
   "outputs": [],
   "source": [
    "embedding_dict = np.load('Data/ACM_concepts_embeddings.npy', allow_pickle=True).item()"
   ]
  },
  {
   "cell_type": "markdown",
   "id": "06a78e03",
   "metadata": {},
   "source": [
    "#### Some Statistics on the Occurences of Concepts in Bodies"
   ]
  },
  {
   "cell_type": "code",
   "execution_count": 4,
   "id": "7bf1e311",
   "metadata": {},
   "outputs": [
    {
     "data": {
      "text/html": [
       "<div>\n",
       "<style scoped>\n",
       "    .dataframe tbody tr th:only-of-type {\n",
       "        vertical-align: middle;\n",
       "    }\n",
       "\n",
       "    .dataframe tbody tr th {\n",
       "        vertical-align: top;\n",
       "    }\n",
       "\n",
       "    .dataframe thead th {\n",
       "        text-align: right;\n",
       "    }\n",
       "</style>\n",
       "<table border=\"1\" class=\"dataframe\">\n",
       "  <thead>\n",
       "    <tr style=\"text-align: right;\">\n",
       "      <th></th>\n",
       "      <th>Concepts</th>\n",
       "      <th>Embeddings</th>\n",
       "    </tr>\n",
       "  </thead>\n",
       "  <tbody>\n",
       "    <tr>\n",
       "      <th>0</th>\n",
       "      <td>markov-chain monte carlo method</td>\n",
       "      <td>[0, 0, 0, 0, 0, 0, 0, 0, 0, 0, 0, 0, 0, 0, 0, ...</td>\n",
       "    </tr>\n",
       "    <tr>\n",
       "      <th>1</th>\n",
       "      <td>interest point salient region detection</td>\n",
       "      <td>[0, 0, 0, 0, 0, 0, 0, 0, 0, 0, 0, 0, 0, 0, 0, ...</td>\n",
       "    </tr>\n",
       "    <tr>\n",
       "      <th>2</th>\n",
       "      <td>multi-chip module</td>\n",
       "      <td>[0, 0, 0, 0, 0, 0, 0, 0, 0, 0, 0, 0, 0, 0, 0, ...</td>\n",
       "    </tr>\n",
       "    <tr>\n",
       "      <th>3</th>\n",
       "      <td>operation scheduling</td>\n",
       "      <td>[0, 0, 0, 0, 0, 0, 0, 0, 0, 0, 0, 0, 0, 0, 0, ...</td>\n",
       "    </tr>\n",
       "    <tr>\n",
       "      <th>4</th>\n",
       "      <td>multiple instruction single data</td>\n",
       "      <td>[0, 0, 0, 0, 0, 0, 0, 0, 0, 0, 0, 0, 0, 0, 0, ...</td>\n",
       "    </tr>\n",
       "  </tbody>\n",
       "</table>\n",
       "</div>"
      ],
      "text/plain": [
       "                                  Concepts  \\\n",
       "0          markov-chain monte carlo method   \n",
       "1  interest point salient region detection   \n",
       "2                        multi-chip module   \n",
       "3                     operation scheduling   \n",
       "4         multiple instruction single data   \n",
       "\n",
       "                                          Embeddings  \n",
       "0  [0, 0, 0, 0, 0, 0, 0, 0, 0, 0, 0, 0, 0, 0, 0, ...  \n",
       "1  [0, 0, 0, 0, 0, 0, 0, 0, 0, 0, 0, 0, 0, 0, 0, ...  \n",
       "2  [0, 0, 0, 0, 0, 0, 0, 0, 0, 0, 0, 0, 0, 0, 0, ...  \n",
       "3  [0, 0, 0, 0, 0, 0, 0, 0, 0, 0, 0, 0, 0, 0, 0, ...  \n",
       "4  [0, 0, 0, 0, 0, 0, 0, 0, 0, 0, 0, 0, 0, 0, 0, ...  "
      ]
     },
     "execution_count": 4,
     "metadata": {},
     "output_type": "execute_result"
    }
   ],
   "source": [
    "embedding_df = pd.DataFrame({\"Concepts\": embedding_dict.keys(), \"Embeddings\": embedding_dict.values()})\n",
    "embedding_df.head()"
   ]
  },
  {
   "cell_type": "code",
   "execution_count": 5,
   "id": "3f1e0b18",
   "metadata": {},
   "outputs": [],
   "source": [
    "Concepts_Not_Found = embedding_df[embedding_df.Embeddings.apply(sum) == 0]"
   ]
  },
  {
   "cell_type": "code",
   "execution_count": 6,
   "id": "7203b35d",
   "metadata": {},
   "outputs": [
    {
     "name": "stdout",
     "output_type": "stream",
     "text": [
      "Number of concepts not found in bodies: 116\n"
     ]
    }
   ],
   "source": [
    "print(\"Number of concepts not found in bodies:\", len(Concepts_Not_Found))"
   ]
  },
  {
   "cell_type": "code",
   "execution_count": 7,
   "id": "0d942a3e",
   "metadata": {},
   "outputs": [
    {
     "data": {
      "text/plain": [
       "<PandasArray>\n",
       "[       'approximate dynamic programming method',\n",
       " 'domain-specific security privacy architecture',\n",
       "                         'speech / audio search',\n",
       "                  'tactile hand-based interface',\n",
       "  'publish-subscribe / event-based architecture',\n",
       "              'world wide web network structure',\n",
       "                       'fault model test metric',\n",
       "              'application-specific vlsi design',\n",
       "             'kalman filter hidden markov model',\n",
       "         'analog mixed-signal circuit synthesis']\n",
       "Length: 10, dtype: object"
      ]
     },
     "execution_count": 7,
     "metadata": {},
     "output_type": "execute_result"
    }
   ],
   "source": [
    "Concepts_Not_Found.Concepts.array[:10]"
   ]
  },
  {
   "cell_type": "markdown",
   "id": "a4084370",
   "metadata": {},
   "source": [
    "#### TF-IDF on Embeddings"
   ]
  },
  {
   "cell_type": "code",
   "execution_count": 17,
   "id": "8bd31388",
   "metadata": {},
   "outputs": [
    {
     "data": {
      "text/plain": [
       "228.09692472120688"
      ]
     },
     "execution_count": 17,
     "metadata": {},
     "output_type": "execute_result"
    }
   ],
   "source": [
    "def ConvertEmbeddingtoTFIDF(embed):\n",
    "    num_docs = embed.shape[0]\n",
    "    word_appearing_in = (embed != 0).sum()\n",
    "\n",
    "    if word_appearing_in:\n",
    "        tf    = np.log(1 + embed)\n",
    "        idf   = np.log(num_docs/word_appearing_in)\n",
    "        return tf * idf\n",
    "    else:\n",
    "        return embed\n",
    "\n",
    "ConvertEmbeddingtoTFIDF(embedding_df.iloc[2, 1]).sum()"
   ]
  },
  {
   "cell_type": "code",
   "execution_count": 20,
   "id": "88b62f91",
   "metadata": {},
   "outputs": [
    {
     "data": {
      "text/html": [
       "<div>\n",
       "<style scoped>\n",
       "    .dataframe tbody tr th:only-of-type {\n",
       "        vertical-align: middle;\n",
       "    }\n",
       "\n",
       "    .dataframe tbody tr th {\n",
       "        vertical-align: top;\n",
       "    }\n",
       "\n",
       "    .dataframe thead th {\n",
       "        text-align: right;\n",
       "    }\n",
       "</style>\n",
       "<table border=\"1\" class=\"dataframe\">\n",
       "  <thead>\n",
       "    <tr style=\"text-align: right;\">\n",
       "      <th></th>\n",
       "      <th>Concepts</th>\n",
       "      <th>Embeddings</th>\n",
       "      <th>Embeddings_TFIDF</th>\n",
       "    </tr>\n",
       "  </thead>\n",
       "  <tbody>\n",
       "    <tr>\n",
       "      <th>1920</th>\n",
       "      <td>middle box / network appliance</td>\n",
       "      <td>[0, 0, 0, 0, 0, 0, 0, 0, 0, 0, 0, 0, 0, 0, 0, ...</td>\n",
       "      <td>[0.0, 0.0, 0.0, 0.0, 0.0, 0.0, 0.0, 0.0, 0.0, ...</td>\n",
       "    </tr>\n",
       "    <tr>\n",
       "      <th>1921</th>\n",
       "      <td>soft intellectual property</td>\n",
       "      <td>[0, 0, 0, 0, 0, 0, 0, 0, 0, 0, 0, 0, 0, 0, 0, ...</td>\n",
       "      <td>[0.0, 0.0, 0.0, 0.0, 0.0, 0.0, 0.0, 0.0, 0.0, ...</td>\n",
       "    </tr>\n",
       "    <tr>\n",
       "      <th>1922</th>\n",
       "      <td>business process monitoring</td>\n",
       "      <td>[0, 0, 0, 0, 0, 0, 0, 0, 0, 0, 0, 0, 0, 0, 0, ...</td>\n",
       "      <td>[0.0, 0.0, 0.0, 0.0, 0.0, 0.0, 0.0, 0.0, 0.0, ...</td>\n",
       "    </tr>\n",
       "    <tr>\n",
       "      <th>1923</th>\n",
       "      <td>side-channel analysis countermeasure</td>\n",
       "      <td>[0, 0, 0, 0, 0, 0, 0, 0, 0, 0, 0, 0, 0, 0, 0, ...</td>\n",
       "      <td>[0.0, 0.0, 0.0, 0.0, 0.0, 0.0, 0.0, 0.0, 0.0, ...</td>\n",
       "    </tr>\n",
       "    <tr>\n",
       "      <th>1924</th>\n",
       "      <td>n-tier architecture</td>\n",
       "      <td>[0, 0, 0, 0, 0, 0, 0, 0, 0, 0, 0, 0, 0, 0, 0, ...</td>\n",
       "      <td>[0.0, 0.0, 0.0, 0.0, 0.0, 0.0, 0.0, 0.0, 0.0, ...</td>\n",
       "    </tr>\n",
       "  </tbody>\n",
       "</table>\n",
       "</div>"
      ],
      "text/plain": [
       "                                  Concepts  \\\n",
       "1920        middle box / network appliance   \n",
       "1921            soft intellectual property   \n",
       "1922           business process monitoring   \n",
       "1923  side-channel analysis countermeasure   \n",
       "1924                   n-tier architecture   \n",
       "\n",
       "                                             Embeddings  \\\n",
       "1920  [0, 0, 0, 0, 0, 0, 0, 0, 0, 0, 0, 0, 0, 0, 0, ...   \n",
       "1921  [0, 0, 0, 0, 0, 0, 0, 0, 0, 0, 0, 0, 0, 0, 0, ...   \n",
       "1922  [0, 0, 0, 0, 0, 0, 0, 0, 0, 0, 0, 0, 0, 0, 0, ...   \n",
       "1923  [0, 0, 0, 0, 0, 0, 0, 0, 0, 0, 0, 0, 0, 0, 0, ...   \n",
       "1924  [0, 0, 0, 0, 0, 0, 0, 0, 0, 0, 0, 0, 0, 0, 0, ...   \n",
       "\n",
       "                                       Embeddings_TFIDF  \n",
       "1920  [0.0, 0.0, 0.0, 0.0, 0.0, 0.0, 0.0, 0.0, 0.0, ...  \n",
       "1921  [0.0, 0.0, 0.0, 0.0, 0.0, 0.0, 0.0, 0.0, 0.0, ...  \n",
       "1922  [0.0, 0.0, 0.0, 0.0, 0.0, 0.0, 0.0, 0.0, 0.0, ...  \n",
       "1923  [0.0, 0.0, 0.0, 0.0, 0.0, 0.0, 0.0, 0.0, 0.0, ...  \n",
       "1924  [0.0, 0.0, 0.0, 0.0, 0.0, 0.0, 0.0, 0.0, 0.0, ...  "
      ]
     },
     "execution_count": 20,
     "metadata": {},
     "output_type": "execute_result"
    }
   ],
   "source": [
    "embedding_df[\"Embeddings_TFIDF\"] = embedding_df[\"Embeddings\"].apply(ConvertEmbeddingtoTFIDF)\n",
    "embedding_df.tail()"
   ]
  },
  {
   "cell_type": "code",
   "execution_count": 22,
   "id": "ea8eb406",
   "metadata": {},
   "outputs": [],
   "source": [
    "embedding_df.index = embedding_df.Concepts"
   ]
  },
  {
   "cell_type": "code",
   "execution_count": 24,
   "id": "9f7ae74b",
   "metadata": {},
   "outputs": [],
   "source": [
    "embedding_TFIDF_dict = embedding_df.to_dict()['Embeddings_TFIDF']"
   ]
  },
  {
   "cell_type": "markdown",
   "id": "fa0b7d6a",
   "metadata": {},
   "source": [
    "### Compute Information Theory Metrics"
   ]
  },
  {
   "cell_type": "code",
   "execution_count": 8,
   "id": "cbaa8de8",
   "metadata": {},
   "outputs": [
    {
     "data": {
      "text/html": [
       "<div>\n",
       "<style scoped>\n",
       "    .dataframe tbody tr th:only-of-type {\n",
       "        vertical-align: middle;\n",
       "    }\n",
       "\n",
       "    .dataframe tbody tr th {\n",
       "        vertical-align: top;\n",
       "    }\n",
       "\n",
       "    .dataframe thead th {\n",
       "        text-align: right;\n",
       "    }\n",
       "</style>\n",
       "<table border=\"1\" class=\"dataframe\">\n",
       "  <thead>\n",
       "    <tr style=\"text-align: right;\">\n",
       "      <th></th>\n",
       "      <th>kw1</th>\n",
       "      <th>kw2</th>\n",
       "      <th>label</th>\n",
       "      <th>H1</th>\n",
       "      <th>H2</th>\n",
       "      <th>DKL_1</th>\n",
       "      <th>DKL_2</th>\n",
       "      <th>ratio</th>\n",
       "    </tr>\n",
       "  </thead>\n",
       "  <tbody>\n",
       "    <tr>\n",
       "      <th>25934</th>\n",
       "      <td>software testing debugging</td>\n",
       "      <td>combinational synthesis</td>\n",
       "      <td>0</td>\n",
       "      <td>4.281174</td>\n",
       "      <td>-0.000000</td>\n",
       "      <td>1.0</td>\n",
       "      <td>1.0</td>\n",
       "      <td>1.0</td>\n",
       "    </tr>\n",
       "    <tr>\n",
       "      <th>25935</th>\n",
       "      <td>combinational synthesis</td>\n",
       "      <td>power management</td>\n",
       "      <td>0</td>\n",
       "      <td>-0.000000</td>\n",
       "      <td>6.359433</td>\n",
       "      <td>1.0</td>\n",
       "      <td>1.0</td>\n",
       "      <td>1.0</td>\n",
       "    </tr>\n",
       "    <tr>\n",
       "      <th>25936</th>\n",
       "      <td>software fault tolerance</td>\n",
       "      <td>pcb design layout</td>\n",
       "      <td>0</td>\n",
       "      <td>4.662347</td>\n",
       "      <td>-0.000000</td>\n",
       "      <td>1.0</td>\n",
       "      <td>1.0</td>\n",
       "      <td>1.0</td>\n",
       "    </tr>\n",
       "    <tr>\n",
       "      <th>25937</th>\n",
       "      <td>pcb design layout</td>\n",
       "      <td>formal method</td>\n",
       "      <td>0</td>\n",
       "      <td>-0.000000</td>\n",
       "      <td>7.343349</td>\n",
       "      <td>1.0</td>\n",
       "      <td>1.0</td>\n",
       "      <td>1.0</td>\n",
       "    </tr>\n",
       "    <tr>\n",
       "      <th>25938</th>\n",
       "      <td>documentation</td>\n",
       "      <td>pcb design layout</td>\n",
       "      <td>0</td>\n",
       "      <td>8.519688</td>\n",
       "      <td>-0.000000</td>\n",
       "      <td>1.0</td>\n",
       "      <td>1.0</td>\n",
       "      <td>1.0</td>\n",
       "    </tr>\n",
       "  </tbody>\n",
       "</table>\n",
       "</div>"
      ],
      "text/plain": [
       "                              kw1                      kw2  label        H1  \\\n",
       "25934  software testing debugging  combinational synthesis      0  4.281174   \n",
       "25935     combinational synthesis         power management      0 -0.000000   \n",
       "25936    software fault tolerance        pcb design layout      0  4.662347   \n",
       "25937           pcb design layout            formal method      0 -0.000000   \n",
       "25938               documentation        pcb design layout      0  8.519688   \n",
       "\n",
       "             H2  DKL_1  DKL_2  ratio  \n",
       "25934 -0.000000    1.0    1.0    1.0  \n",
       "25935  6.359433    1.0    1.0    1.0  \n",
       "25936 -0.000000    1.0    1.0    1.0  \n",
       "25937  7.343349    1.0    1.0    1.0  \n",
       "25938 -0.000000    1.0    1.0    1.0  "
      ]
     },
     "execution_count": 8,
     "metadata": {},
     "output_type": "execute_result"
    }
   ],
   "source": [
    "## Compute the metrics on both embeddings\n",
    "temp_res = pd.DataFrame(labeled_concept_pair_df.apply(lambda x: ComputeMetrics(x.kw1, x.kw2, embedding_dict), axis=1, result_type='expand'))\n",
    "labeled_concept_pair_df[[\"H1\", \"H2\", \"DKL_1\", \"DKL_2\", \"ratio\"]] = temp_res\n",
    "labeled_concept_pair_df.tail()"
   ]
  },
  {
   "cell_type": "code",
   "execution_count": 9,
   "id": "ac69259f",
   "metadata": {},
   "outputs": [
    {
     "data": {
      "text/html": [
       "<div>\n",
       "<style scoped>\n",
       "    .dataframe tbody tr th:only-of-type {\n",
       "        vertical-align: middle;\n",
       "    }\n",
       "\n",
       "    .dataframe tbody tr th {\n",
       "        vertical-align: top;\n",
       "    }\n",
       "\n",
       "    .dataframe thead th {\n",
       "        text-align: right;\n",
       "    }\n",
       "</style>\n",
       "<table border=\"1\" class=\"dataframe\">\n",
       "  <thead>\n",
       "    <tr style=\"text-align: right;\">\n",
       "      <th></th>\n",
       "      <th>label</th>\n",
       "      <th>H1</th>\n",
       "      <th>H2</th>\n",
       "      <th>DKL_1</th>\n",
       "      <th>DKL_2</th>\n",
       "      <th>ratio</th>\n",
       "    </tr>\n",
       "  </thead>\n",
       "  <tbody>\n",
       "    <tr>\n",
       "      <th>count</th>\n",
       "      <td>25939.000000</td>\n",
       "      <td>24451.000000</td>\n",
       "      <td>24501.000000</td>\n",
       "      <td>25939.000000</td>\n",
       "      <td>25939.000000</td>\n",
       "      <td>24450.000000</td>\n",
       "    </tr>\n",
       "    <tr>\n",
       "      <th>mean</th>\n",
       "      <td>0.001079</td>\n",
       "      <td>4.392556</td>\n",
       "      <td>4.390755</td>\n",
       "      <td>1.117004</td>\n",
       "      <td>1.130332</td>\n",
       "      <td>-143.494368</td>\n",
       "    </tr>\n",
       "    <tr>\n",
       "      <th>std</th>\n",
       "      <td>0.477659</td>\n",
       "      <td>2.336163</td>\n",
       "      <td>2.313780</td>\n",
       "      <td>1.041701</td>\n",
       "      <td>1.073786</td>\n",
       "      <td>4529.953227</td>\n",
       "    </tr>\n",
       "    <tr>\n",
       "      <th>min</th>\n",
       "      <td>-1.000000</td>\n",
       "      <td>-0.000000</td>\n",
       "      <td>-0.000000</td>\n",
       "      <td>-0.366204</td>\n",
       "      <td>-0.346574</td>\n",
       "      <td>-314998.436550</td>\n",
       "    </tr>\n",
       "    <tr>\n",
       "      <th>25%</th>\n",
       "      <td>0.000000</td>\n",
       "      <td>2.488641</td>\n",
       "      <td>2.486736</td>\n",
       "      <td>0.998854</td>\n",
       "      <td>0.998324</td>\n",
       "      <td>0.986629</td>\n",
       "    </tr>\n",
       "    <tr>\n",
       "      <th>50%</th>\n",
       "      <td>0.000000</td>\n",
       "      <td>4.500376</td>\n",
       "      <td>4.514765</td>\n",
       "      <td>1.000000</td>\n",
       "      <td>1.000000</td>\n",
       "      <td>1.000000</td>\n",
       "    </tr>\n",
       "    <tr>\n",
       "      <th>75%</th>\n",
       "      <td>0.000000</td>\n",
       "      <td>6.041638</td>\n",
       "      <td>6.014443</td>\n",
       "      <td>1.000000</td>\n",
       "      <td>1.000000</td>\n",
       "      <td>1.000000</td>\n",
       "    </tr>\n",
       "    <tr>\n",
       "      <th>max</th>\n",
       "      <td>1.000000</td>\n",
       "      <td>10.983814</td>\n",
       "      <td>10.983814</td>\n",
       "      <td>13.583852</td>\n",
       "      <td>13.296168</td>\n",
       "      <td>4116.890815</td>\n",
       "    </tr>\n",
       "  </tbody>\n",
       "</table>\n",
       "</div>"
      ],
      "text/plain": [
       "              label            H1            H2         DKL_1         DKL_2  \\\n",
       "count  25939.000000  24451.000000  24501.000000  25939.000000  25939.000000   \n",
       "mean       0.001079      4.392556      4.390755      1.117004      1.130332   \n",
       "std        0.477659      2.336163      2.313780      1.041701      1.073786   \n",
       "min       -1.000000     -0.000000     -0.000000     -0.366204     -0.346574   \n",
       "25%        0.000000      2.488641      2.486736      0.998854      0.998324   \n",
       "50%        0.000000      4.500376      4.514765      1.000000      1.000000   \n",
       "75%        0.000000      6.041638      6.014443      1.000000      1.000000   \n",
       "max        1.000000     10.983814     10.983814     13.583852     13.296168   \n",
       "\n",
       "               ratio  \n",
       "count   24450.000000  \n",
       "mean     -143.494368  \n",
       "std      4529.953227  \n",
       "min   -314998.436550  \n",
       "25%         0.986629  \n",
       "50%         1.000000  \n",
       "75%         1.000000  \n",
       "max      4116.890815  "
      ]
     },
     "execution_count": 9,
     "metadata": {},
     "output_type": "execute_result"
    }
   ],
   "source": [
    "labeled_concept_pair_df.describe()"
   ]
  },
  {
   "cell_type": "code",
   "execution_count": 10,
   "id": "6ce94f01",
   "metadata": {},
   "outputs": [
    {
     "data": {
      "text/plain": [
       "(23098, 8)"
      ]
     },
     "execution_count": 10,
     "metadata": {},
     "output_type": "execute_result"
    }
   ],
   "source": [
    "labeled_concept_pair_df = labeled_concept_pair_df.dropna(subset=['H1', 'H2', 'DKL_1', 'DKL_2', 'ratio'])\n",
    "labeled_concept_pair_df.shape"
   ]
  },
  {
   "cell_type": "markdown",
   "id": "308540de",
   "metadata": {},
   "source": [
    "## Gradient Boosting"
   ]
  },
  {
   "cell_type": "markdown",
   "id": "f446fba7",
   "metadata": {},
   "source": [
    "#### Ternary Classification"
   ]
  },
  {
   "cell_type": "code",
   "execution_count": 23,
   "id": "74bfac9b",
   "metadata": {},
   "outputs": [],
   "source": [
    "from sklearn.ensemble import GradientBoostingClassifier  #GBM algorithm\n",
    "from sklearn.model_selection  import cross_validate, GridSearchCV\n",
    "from sklearn  import metrics   #Additional scklearn functions\n",
    "from sklearn.metrics import accuracy_score, confusion_matrix, classification_report\n",
    "from sklearn.model_selection import train_test_split\n",
    "\n",
    "\n",
    "processed_data = labeled_concept_pair_df.drop(columns=[\"kw1\", \"kw2\"]).dropna(subset=\"ratio\")\n",
    "\n",
    "X_train, X_test, y_train, y_test = train_test_split(processed_data.drop(columns=\"label\"), processed_data['label'],\n",
    "                                           train_size=0.8, test_size=0.2) # tested"
   ]
  },
  {
   "cell_type": "code",
   "execution_count": 24,
   "id": "07e0cebc",
   "metadata": {},
   "outputs": [
    {
     "data": {
      "text/plain": [
       "GridSearchCV(cv=5,\n",
       "             estimator=GradientBoostingClassifier(max_features='sqrt',\n",
       "                                                  random_state=10,\n",
       "                                                  subsample=0.8),\n",
       "             n_jobs=4,\n",
       "             param_grid={'max_depth': [8], 'min_samples_leaf': [20],\n",
       "                         'min_samples_split': [20], 'n_estimators': [700]},\n",
       "             scoring='f1_weighted')"
      ]
     },
     "execution_count": 24,
     "metadata": {},
     "output_type": "execute_result"
    }
   ],
   "source": [
    "param_test1 = {\n",
    "    'n_estimators': [700],#range(300, 701, 100),\n",
    "    'max_depth': [8],#range(4, 9, 2),\n",
    "    'min_samples_leaf': [20],#range(10, 31, 10),\n",
    "    'min_samples_split': [20]#range(20, 51, 10)\n",
    "}\n",
    "gsearch1 = GridSearchCV(estimator = GradientBoostingClassifier(learning_rate=0.1,max_features='sqrt',subsample=0.8,random_state=10),# min_samples_split=500,min_samples_leaf=50 \n",
    "param_grid = param_test1, scoring='f1_weighted',n_jobs=4, cv=5)\n",
    "gsearch1.fit(X_train,y_train)"
   ]
  },
  {
   "cell_type": "code",
   "execution_count": 25,
   "id": "70fd55a8",
   "metadata": {},
   "outputs": [
    {
     "data": {
      "text/plain": [
       "0.8602744473942519"
      ]
     },
     "execution_count": 25,
     "metadata": {},
     "output_type": "execute_result"
    }
   ],
   "source": [
    "gsearch1.best_score_#gsearch1.cv_results_, gsearch1.best_params_, "
   ]
  },
  {
   "cell_type": "code",
   "execution_count": 26,
   "id": "495805cb",
   "metadata": {},
   "outputs": [],
   "source": [
    "best_model = gsearch1.best_estimator_"
   ]
  },
  {
   "cell_type": "code",
   "execution_count": 27,
   "id": "708a44e1",
   "metadata": {},
   "outputs": [
    {
     "data": {
      "text/plain": [
       "{'max_depth': 8,\n",
       " 'min_samples_leaf': 20,\n",
       " 'min_samples_split': 20,\n",
       " 'n_estimators': 700}"
      ]
     },
     "execution_count": 27,
     "metadata": {},
     "output_type": "execute_result"
    }
   ],
   "source": [
    "best_params_gbm = gsearch1.best_params_\n",
    "best_params_gbm"
   ]
  },
  {
   "cell_type": "code",
   "execution_count": 28,
   "id": "89b13832",
   "metadata": {},
   "outputs": [
    {
     "name": "stdout",
     "output_type": "stream",
     "text": [
      "Maximum number of parameters in our best model: 89600\n"
     ]
    }
   ],
   "source": [
    "print(\"Maximum number of parameters in our best model: {}\".format(best_model.n_estimators_*2**(best_model.max_depth-1)))"
   ]
  },
  {
   "cell_type": "markdown",
   "id": "a88b4d08",
   "metadata": {},
   "source": [
    "##### Performance analysis on test dataset"
   ]
  },
  {
   "cell_type": "code",
   "execution_count": 29,
   "id": "6b662a92",
   "metadata": {},
   "outputs": [
    {
     "data": {
      "text/plain": [
       "array([0, 0, 0, ..., 0, 0, 0])"
      ]
     },
     "execution_count": 29,
     "metadata": {},
     "output_type": "execute_result"
    }
   ],
   "source": [
    "y_pred=best_model.predict(X_test)\n",
    "y_pred"
   ]
  },
  {
   "cell_type": "code",
   "execution_count": 30,
   "id": "9e827acd",
   "metadata": {},
   "outputs": [
    {
     "name": "stdout",
     "output_type": "stream",
     "text": [
      "LightGBM Model accuracy score: 0.8773\n"
     ]
    }
   ],
   "source": [
    "accuracy=accuracy_score(y_pred, y_test)\n",
    "print('LightGBM Model accuracy score: {0:0.4f}'.format(accuracy_score(y_test, y_pred)))"
   ]
  },
  {
   "cell_type": "code",
   "execution_count": 31,
   "id": "a462b1d8",
   "metadata": {},
   "outputs": [
    {
     "data": {
      "text/plain": [
       "Text(0, 0.5, 'Feature Importance Score')"
      ]
     },
     "execution_count": 31,
     "metadata": {},
     "output_type": "execute_result"
    },
    {
     "data": {
      "image/png": "[encoded data removed]",
      "text/plain": [
       "<Figure size 432x288 with 1 Axes>"
      ]
     },
     "metadata": {
      "needs_background": "light"
     },
     "output_type": "display_data"
    }
   ],
   "source": [
    "feat_imp = pd.Series(best_model.feature_importances_, X_train.columns).sort_values(ascending=False)\n",
    "feat_imp.plot(kind='bar', title='Feature Importances')\n",
    "plt.ylabel('Feature Importance Score')"
   ]
  },
  {
   "cell_type": "markdown",
   "id": "fb200fe2",
   "metadata": {},
   "source": [
    "##### Plot confusion matrix:"
   ]
  },
  {
   "cell_type": "code",
   "execution_count": 32,
   "id": "5ba10a5c",
   "metadata": {},
   "outputs": [
    {
     "data": {
      "text/plain": [
       "<AxesSubplot:>"
      ]
     },
     "execution_count": 32,
     "metadata": {},
     "output_type": "execute_result"
    },
    {
     "data": {
      "image/png": "[encoded data removed]",
      "text/plain": [
       "<Figure size 432x288 with 2 Axes>"
      ]
     },
     "metadata": {
      "needs_background": "light"
     },
     "output_type": "display_data"
    }
   ],
   "source": [
    "# visualize confusion matrix with seaborn heatmap\n",
    "cm = confusion_matrix(y_test, y_pred)\n",
    "cm_matrix = pd.DataFrame(data=cm, columns=['Actual leaf->root:-1', 'Actual No order:0', 'Actual root->leaf:1'], \n",
    "                                 index=['Predict leaf->root:-1', 'Predict No order:0', 'Predict root->leaf:1'])\n",
    "\n",
    "sns.heatmap(cm_matrix, annot=True, fmt='d', cmap='YlGnBu')"
   ]
  },
  {
   "cell_type": "code",
   "execution_count": 33,
   "id": "0fdc4f4c",
   "metadata": {},
   "outputs": [
    {
     "name": "stdout",
     "output_type": "stream",
     "text": [
      "              precision    recall  f1-score   support\n",
      "\n",
      "          -1       0.77      0.62      0.69       530\n",
      "           0       0.91      0.96      0.93      3569\n",
      "           1       0.73      0.58      0.65       521\n",
      "\n",
      "    accuracy                           0.88      4620\n",
      "   macro avg       0.80      0.72      0.76      4620\n",
      "weighted avg       0.87      0.88      0.87      4620\n",
      "\n"
     ]
    }
   ],
   "source": [
    "print(classification_report(y_test, y_pred))"
   ]
  },
  {
   "cell_type": "markdown",
   "id": "e2c45c06",
   "metadata": {},
   "source": [
    "##### Save Models"
   ]
  },
  {
   "cell_type": "code",
   "execution_count": 34,
   "id": "1c578687",
   "metadata": {},
   "outputs": [],
   "source": [
    "pickle.dump(best_model, open(\"Models/GBM_Ternary_Classification.pkl\", \"wb\"))"
   ]
  },
  {
   "cell_type": "code",
   "execution_count": 23,
   "id": "2fae40be",
   "metadata": {},
   "outputs": [
    {
     "data": {
      "text/plain": [
       "GradientBoostingClassifier(max_depth=8, max_features='sqrt',\n",
       "                           min_samples_leaf=20, min_samples_split=20,\n",
       "                           n_estimators=700, random_state=10, subsample=0.8)"
      ]
     },
     "execution_count": 23,
     "metadata": {},
     "output_type": "execute_result"
    }
   ],
   "source": [
    "best_model = pickle.load(open(\"Models/naive_gridsearch.pkl\", \"rb\"))\n",
    "best_model"
   ]
  },
  {
   "cell_type": "markdown",
   "id": "870e9e3c",
   "metadata": {},
   "source": [
    "#### Binary Classification, only on 0 and 1 labels"
   ]
  },
  {
   "cell_type": "code",
   "execution_count": 11,
   "id": "74bfac9b",
   "metadata": {},
   "outputs": [],
   "source": [
    "from sklearn.ensemble import GradientBoostingClassifier  #GBM algorithm\n",
    "from sklearn.model_selection  import cross_validate, GridSearchCV\n",
    "from sklearn  import metrics   #Additional scklearn functions\n",
    "from sklearn.metrics import accuracy_score, confusion_matrix, classification_report\n",
    "from sklearn.model_selection import train_test_split\n",
    "\n",
    "\n",
    "processed_data = labeled_concept_pair_df.drop(columns=[\"kw1\", \"kw2\"]).dropna(subset=\"ratio\")\n",
    "\n",
    "processed_data['label'] = processed_data['label'].replace(-1, 0)## Replaces the -1 with zeros\n",
    "\n",
    "X_train, X_test, y_train, y_test = train_test_split(processed_data.drop(columns=\"label\"), processed_data['label'],\n",
    "                                           train_size=0.8, test_size=0.2) # tested"
   ]
  },
  {
   "cell_type": "code",
   "execution_count": 12,
   "id": "07e0cebc",
   "metadata": {},
   "outputs": [
    {
     "data": {
      "text/plain": [
       "GridSearchCV(cv=5,\n",
       "             estimator=GradientBoostingClassifier(max_features='sqrt',\n",
       "                                                  random_state=10,\n",
       "                                                  subsample=0.8),\n",
       "             n_jobs=4,\n",
       "             param_grid={'max_depth': [8], 'min_samples_leaf': [20],\n",
       "                         'min_samples_split': [20], 'n_estimators': [700]},\n",
       "             scoring='f1_weighted')"
      ]
     },
     "execution_count": 12,
     "metadata": {},
     "output_type": "execute_result"
    }
   ],
   "source": [
    "param_test1 = {\n",
    "    'n_estimators': [700],#range(300, 701, 100),\n",
    "    'max_depth': [8],#range(4, 9, 2),\n",
    "    'min_samples_leaf': [20],#range(10, 31, 10),\n",
    "    'min_samples_split': [20]#range(20, 51, 10)\n",
    "}\n",
    "gsearch1 = GridSearchCV(estimator = GradientBoostingClassifier(learning_rate=0.1,max_features='sqrt',subsample=0.8,random_state=10),# min_samples_split=500,min_samples_leaf=50 \n",
    "param_grid = param_test1, scoring='f1_weighted',n_jobs=4, cv=5)\n",
    "gsearch1.fit(X_train,y_train)"
   ]
  },
  {
   "cell_type": "code",
   "execution_count": 13,
   "id": "70fd55a8",
   "metadata": {},
   "outputs": [
    {
     "data": {
      "text/plain": [
       "0.9230781762935252"
      ]
     },
     "execution_count": 13,
     "metadata": {},
     "output_type": "execute_result"
    }
   ],
   "source": [
    "gsearch1.best_score_#gsearch1.cv_results_, gsearch1.best_params_, "
   ]
  },
  {
   "cell_type": "code",
   "execution_count": 14,
   "id": "495805cb",
   "metadata": {},
   "outputs": [],
   "source": [
    "best_model = gsearch1.best_estimator_"
   ]
  },
  {
   "cell_type": "code",
   "execution_count": 15,
   "id": "708a44e1",
   "metadata": {},
   "outputs": [
    {
     "data": {
      "text/plain": [
       "{'max_depth': 8,\n",
       " 'min_samples_leaf': 20,\n",
       " 'min_samples_split': 20,\n",
       " 'n_estimators': 700}"
      ]
     },
     "execution_count": 15,
     "metadata": {},
     "output_type": "execute_result"
    }
   ],
   "source": [
    "best_params_gbm = gsearch1.best_params_\n",
    "best_params_gbm"
   ]
  },
  {
   "cell_type": "code",
   "execution_count": 16,
   "id": "89b13832",
   "metadata": {},
   "outputs": [
    {
     "name": "stdout",
     "output_type": "stream",
     "text": [
      "Maximum number of parameters in our best model: 89600\n"
     ]
    }
   ],
   "source": [
    "print(\"Maximum number of parameters in our best model: {}\".format(best_model.n_estimators_*2**(best_model.max_depth-1)))"
   ]
  },
  {
   "cell_type": "markdown",
   "id": "a88b4d08",
   "metadata": {},
   "source": [
    "##### Performance analysis on test dataset"
   ]
  },
  {
   "cell_type": "code",
   "execution_count": 17,
   "id": "6b662a92",
   "metadata": {},
   "outputs": [
    {
     "data": {
      "text/plain": [
       "array([0, 1, 0, ..., 0, 0, 0])"
      ]
     },
     "execution_count": 17,
     "metadata": {},
     "output_type": "execute_result"
    }
   ],
   "source": [
    "y_pred=best_model.predict(X_test)\n",
    "y_pred"
   ]
  },
  {
   "cell_type": "code",
   "execution_count": 18,
   "id": "9e827acd",
   "metadata": {},
   "outputs": [
    {
     "name": "stdout",
     "output_type": "stream",
     "text": [
      "LightGBM Model accuracy score: 0.9372\n"
     ]
    }
   ],
   "source": [
    "accuracy=accuracy_score(y_pred, y_test)\n",
    "print('LightGBM Model accuracy score: {0:0.4f}'.format(accuracy_score(y_test, y_pred)))"
   ]
  },
  {
   "cell_type": "code",
   "execution_count": 19,
   "id": "a462b1d8",
   "metadata": {},
   "outputs": [
    {
     "data": {
      "text/plain": [
       "Text(0, 0.5, 'Feature Importance Score')"
      ]
     },
     "execution_count": 19,
     "metadata": {},
     "output_type": "execute_result"
    },
    {
     "data": {
      "image/png": "[encoded data removed]",
      "text/plain": [
       "<Figure size 432x288 with 1 Axes>"
      ]
     },
     "metadata": {
      "needs_background": "light"
     },
     "output_type": "display_data"
    }
   ],
   "source": [
    "feat_imp = pd.Series(best_model.feature_importances_, X_train.columns).sort_values(ascending=False)\n",
    "feat_imp.plot(kind='bar', title='Feature Importances')\n",
    "plt.ylabel('Feature Importance Score')"
   ]
  },
  {
   "cell_type": "markdown",
   "id": "fb200fe2",
   "metadata": {},
   "source": [
    "##### Plot confusion matrix:"
   ]
  },
  {
   "cell_type": "code",
   "execution_count": 20,
   "id": "5ba10a5c",
   "metadata": {},
   "outputs": [
    {
     "data": {
      "text/plain": [
       "<AxesSubplot:>"
      ]
     },
     "execution_count": 20,
     "metadata": {},
     "output_type": "execute_result"
    },
    {
     "data": {
      "image/png": "[encoded data removed]",
      "text/plain": [
       "<Figure size 432x288 with 2 Axes>"
      ]
     },
     "metadata": {
      "needs_background": "light"
     },
     "output_type": "display_data"
    }
   ],
   "source": [
    "# visualize confusion matrix with seaborn heatmap\n",
    "cm = confusion_matrix(y_test, y_pred)\n",
    "cm_matrix = pd.DataFrame(data=cm, columns=['Actual No order:0', 'Actual root->leaf:1'], \n",
    "                                 index=['Predict No order:0', 'Predict root->leaf:1'])\n",
    "\n",
    "sns.heatmap(cm_matrix, annot=True, fmt='d', cmap='YlGnBu')"
   ]
  },
  {
   "cell_type": "code",
   "execution_count": 21,
   "id": "0fdc4f4c",
   "metadata": {},
   "outputs": [
    {
     "name": "stdout",
     "output_type": "stream",
     "text": [
      "              precision    recall  f1-score   support\n",
      "\n",
      "           0       0.95      0.98      0.97      4070\n",
      "           1       0.83      0.59      0.69       550\n",
      "\n",
      "    accuracy                           0.94      4620\n",
      "   macro avg       0.89      0.79      0.83      4620\n",
      "weighted avg       0.93      0.94      0.93      4620\n",
      "\n"
     ]
    }
   ],
   "source": [
    "print(classification_report(y_test, y_pred))"
   ]
  },
  {
   "cell_type": "markdown",
   "id": "e2c45c06",
   "metadata": {},
   "source": [
    "##### Save Models"
   ]
  },
  {
   "cell_type": "code",
   "execution_count": 22,
   "id": "1c578687",
   "metadata": {},
   "outputs": [],
   "source": [
    "pickle.dump(best_model, open(\"Models/GBM_Stats_Binary.pkl\", \"wb\"))"
   ]
  },
  {
   "cell_type": "markdown",
   "id": "3f329f59",
   "metadata": {},
   "source": [
    "## TF-IDF"
   ]
  },
  {
   "cell_type": "markdown",
   "id": "fa0b7d6a",
   "metadata": {},
   "source": [
    "### Compute Information Theory Metrics"
   ]
  },
  {
   "cell_type": "code",
   "execution_count": 26,
   "id": "cbaa8de8",
   "metadata": {},
   "outputs": [
    {
     "data": {
      "text/html": [
       "<div>\n",
       "<style scoped>\n",
       "    .dataframe tbody tr th:only-of-type {\n",
       "        vertical-align: middle;\n",
       "    }\n",
       "\n",
       "    .dataframe tbody tr th {\n",
       "        vertical-align: top;\n",
       "    }\n",
       "\n",
       "    .dataframe thead th {\n",
       "        text-align: right;\n",
       "    }\n",
       "</style>\n",
       "<table border=\"1\" class=\"dataframe\">\n",
       "  <thead>\n",
       "    <tr style=\"text-align: right;\">\n",
       "      <th></th>\n",
       "      <th>kw1</th>\n",
       "      <th>kw2</th>\n",
       "      <th>label</th>\n",
       "      <th>H1</th>\n",
       "      <th>H2</th>\n",
       "      <th>DKL_1</th>\n",
       "      <th>DKL_2</th>\n",
       "      <th>ratio</th>\n",
       "    </tr>\n",
       "  </thead>\n",
       "  <tbody>\n",
       "    <tr>\n",
       "      <th>25934</th>\n",
       "      <td>software testing debugging</td>\n",
       "      <td>combinational synthesis</td>\n",
       "      <td>0</td>\n",
       "      <td>4.364007e+00</td>\n",
       "      <td>-1.000089e-12</td>\n",
       "      <td>1.0</td>\n",
       "      <td>1.0</td>\n",
       "      <td>1.0</td>\n",
       "    </tr>\n",
       "    <tr>\n",
       "      <th>25935</th>\n",
       "      <td>combinational synthesis</td>\n",
       "      <td>power management</td>\n",
       "      <td>0</td>\n",
       "      <td>-1.000089e-12</td>\n",
       "      <td>7.019171e+00</td>\n",
       "      <td>1.0</td>\n",
       "      <td>1.0</td>\n",
       "      <td>1.0</td>\n",
       "    </tr>\n",
       "    <tr>\n",
       "      <th>25936</th>\n",
       "      <td>software fault tolerance</td>\n",
       "      <td>pcb design layout</td>\n",
       "      <td>0</td>\n",
       "      <td>5.067643e+00</td>\n",
       "      <td>-1.000089e-12</td>\n",
       "      <td>1.0</td>\n",
       "      <td>1.0</td>\n",
       "      <td>1.0</td>\n",
       "    </tr>\n",
       "    <tr>\n",
       "      <th>25937</th>\n",
       "      <td>pcb design layout</td>\n",
       "      <td>formal method</td>\n",
       "      <td>0</td>\n",
       "      <td>-1.000089e-12</td>\n",
       "      <td>7.886101e+00</td>\n",
       "      <td>1.0</td>\n",
       "      <td>1.0</td>\n",
       "      <td>1.0</td>\n",
       "    </tr>\n",
       "    <tr>\n",
       "      <th>25938</th>\n",
       "      <td>documentation</td>\n",
       "      <td>pcb design layout</td>\n",
       "      <td>0</td>\n",
       "      <td>9.070189e+00</td>\n",
       "      <td>-1.000089e-12</td>\n",
       "      <td>1.0</td>\n",
       "      <td>1.0</td>\n",
       "      <td>1.0</td>\n",
       "    </tr>\n",
       "  </tbody>\n",
       "</table>\n",
       "</div>"
      ],
      "text/plain": [
       "                              kw1                      kw2  label  \\\n",
       "25934  software testing debugging  combinational synthesis      0   \n",
       "25935     combinational synthesis         power management      0   \n",
       "25936    software fault tolerance        pcb design layout      0   \n",
       "25937           pcb design layout            formal method      0   \n",
       "25938               documentation        pcb design layout      0   \n",
       "\n",
       "                 H1            H2  DKL_1  DKL_2  ratio  \n",
       "25934  4.364007e+00 -1.000089e-12    1.0    1.0    1.0  \n",
       "25935 -1.000089e-12  7.019171e+00    1.0    1.0    1.0  \n",
       "25936  5.067643e+00 -1.000089e-12    1.0    1.0    1.0  \n",
       "25937 -1.000089e-12  7.886101e+00    1.0    1.0    1.0  \n",
       "25938  9.070189e+00 -1.000089e-12    1.0    1.0    1.0  "
      ]
     },
     "execution_count": 26,
     "metadata": {},
     "output_type": "execute_result"
    }
   ],
   "source": [
    "## Compute the metrics on both embeddings\n",
    "temp_res = pd.DataFrame(labeled_concept_pair_df.apply(lambda x: ComputeMetrics(x.kw1, x.kw2, embedding_TFIDF_dict), axis=1, result_type='expand'))\n",
    "labeled_concept_pair_df[[\"H1\", \"H2\", \"DKL_1\", \"DKL_2\", \"ratio\"]] = temp_res\n",
    "labeled_concept_pair_df.tail()"
   ]
  },
  {
   "cell_type": "code",
   "execution_count": 27,
   "id": "ac69259f",
   "metadata": {},
   "outputs": [
    {
     "data": {
      "text/html": [
       "<div>\n",
       "<style scoped>\n",
       "    .dataframe tbody tr th:only-of-type {\n",
       "        vertical-align: middle;\n",
       "    }\n",
       "\n",
       "    .dataframe tbody tr th {\n",
       "        vertical-align: top;\n",
       "    }\n",
       "\n",
       "    .dataframe thead th {\n",
       "        text-align: right;\n",
       "    }\n",
       "</style>\n",
       "<table border=\"1\" class=\"dataframe\">\n",
       "  <thead>\n",
       "    <tr style=\"text-align: right;\">\n",
       "      <th></th>\n",
       "      <th>label</th>\n",
       "      <th>H1</th>\n",
       "      <th>H2</th>\n",
       "      <th>DKL_1</th>\n",
       "      <th>DKL_2</th>\n",
       "      <th>ratio</th>\n",
       "    </tr>\n",
       "  </thead>\n",
       "  <tbody>\n",
       "    <tr>\n",
       "      <th>count</th>\n",
       "      <td>25939.000000</td>\n",
       "      <td>2.445100e+04</td>\n",
       "      <td>2.450100e+04</td>\n",
       "      <td>25939.000000</td>\n",
       "      <td>25939.000000</td>\n",
       "      <td>24450.000000</td>\n",
       "    </tr>\n",
       "    <tr>\n",
       "      <th>mean</th>\n",
       "      <td>0.001079</td>\n",
       "      <td>4.682080e+00</td>\n",
       "      <td>4.679179e+00</td>\n",
       "      <td>1.094471</td>\n",
       "      <td>1.105889</td>\n",
       "      <td>-64.533618</td>\n",
       "    </tr>\n",
       "    <tr>\n",
       "      <th>std</th>\n",
       "      <td>0.477659</td>\n",
       "      <td>2.513748e+00</td>\n",
       "      <td>2.489406e+00</td>\n",
       "      <td>0.984097</td>\n",
       "      <td>1.015116</td>\n",
       "      <td>1542.501733</td>\n",
       "    </tr>\n",
       "    <tr>\n",
       "      <th>min</th>\n",
       "      <td>-1.000000</td>\n",
       "      <td>-1.000089e-12</td>\n",
       "      <td>-1.000089e-12</td>\n",
       "      <td>-0.367170</td>\n",
       "      <td>-0.355355</td>\n",
       "      <td>-91162.431239</td>\n",
       "    </tr>\n",
       "    <tr>\n",
       "      <th>25%</th>\n",
       "      <td>0.000000</td>\n",
       "      <td>2.692865e+00</td>\n",
       "      <td>2.698309e+00</td>\n",
       "      <td>0.995203</td>\n",
       "      <td>0.994344</td>\n",
       "      <td>0.985891</td>\n",
       "    </tr>\n",
       "    <tr>\n",
       "      <th>50%</th>\n",
       "      <td>0.000000</td>\n",
       "      <td>4.810482e+00</td>\n",
       "      <td>4.839052e+00</td>\n",
       "      <td>1.000000</td>\n",
       "      <td>1.000000</td>\n",
       "      <td>1.000000</td>\n",
       "    </tr>\n",
       "    <tr>\n",
       "      <th>75%</th>\n",
       "      <td>0.000000</td>\n",
       "      <td>6.450315e+00</td>\n",
       "      <td>6.449719e+00</td>\n",
       "      <td>1.000000</td>\n",
       "      <td>1.000000</td>\n",
       "      <td>1.000000</td>\n",
       "    </tr>\n",
       "    <tr>\n",
       "      <th>max</th>\n",
       "      <td>1.000000</td>\n",
       "      <td>1.139168e+01</td>\n",
       "      <td>1.139168e+01</td>\n",
       "      <td>12.335848</td>\n",
       "      <td>12.144929</td>\n",
       "      <td>1356.583222</td>\n",
       "    </tr>\n",
       "  </tbody>\n",
       "</table>\n",
       "</div>"
      ],
      "text/plain": [
       "              label            H1            H2         DKL_1         DKL_2  \\\n",
       "count  25939.000000  2.445100e+04  2.450100e+04  25939.000000  25939.000000   \n",
       "mean       0.001079  4.682080e+00  4.679179e+00      1.094471      1.105889   \n",
       "std        0.477659  2.513748e+00  2.489406e+00      0.984097      1.015116   \n",
       "min       -1.000000 -1.000089e-12 -1.000089e-12     -0.367170     -0.355355   \n",
       "25%        0.000000  2.692865e+00  2.698309e+00      0.995203      0.994344   \n",
       "50%        0.000000  4.810482e+00  4.839052e+00      1.000000      1.000000   \n",
       "75%        0.000000  6.450315e+00  6.449719e+00      1.000000      1.000000   \n",
       "max        1.000000  1.139168e+01  1.139168e+01     12.335848     12.144929   \n",
       "\n",
       "              ratio  \n",
       "count  24450.000000  \n",
       "mean     -64.533618  \n",
       "std     1542.501733  \n",
       "min   -91162.431239  \n",
       "25%        0.985891  \n",
       "50%        1.000000  \n",
       "75%        1.000000  \n",
       "max     1356.583222  "
      ]
     },
     "execution_count": 27,
     "metadata": {},
     "output_type": "execute_result"
    }
   ],
   "source": [
    "labeled_concept_pair_df.describe()"
   ]
  },
  {
   "cell_type": "code",
   "execution_count": 28,
   "id": "6ce94f01",
   "metadata": {},
   "outputs": [
    {
     "data": {
      "text/plain": [
       "(23098, 8)"
      ]
     },
     "execution_count": 28,
     "metadata": {},
     "output_type": "execute_result"
    }
   ],
   "source": [
    "labeled_concept_pair_df = labeled_concept_pair_df.dropna(subset=['H1', 'H2', 'DKL_1', 'DKL_2', 'ratio'])\n",
    "labeled_concept_pair_df.shape"
   ]
  },
  {
   "cell_type": "markdown",
   "id": "308540de",
   "metadata": {},
   "source": [
    "## Gradient Boosting"
   ]
  },
  {
   "cell_type": "code",
   "execution_count": 29,
   "id": "74bfac9b",
   "metadata": {},
   "outputs": [],
   "source": [
    "from sklearn.ensemble import GradientBoostingClassifier  #GBM algorithm\n",
    "from sklearn.model_selection  import cross_validate, GridSearchCV\n",
    "from sklearn  import metrics   #Additional scklearn functions\n",
    "from sklearn.metrics import accuracy_score, confusion_matrix, classification_report\n",
    "from sklearn.model_selection import train_test_split\n",
    "\n",
    "\n",
    "processed_data = labeled_concept_pair_df.drop(columns=[\"kw1\", \"kw2\"]).dropna(subset=\"ratio\")\n",
    "\n",
    "X_train, X_test, y_train, y_test = train_test_split(processed_data.drop(columns=\"label\"), processed_data['label'],\n",
    "                                           train_size=0.8, test_size=0.2) # tested"
   ]
  },
  {
   "cell_type": "code",
   "execution_count": 31,
   "id": "07e0cebc",
   "metadata": {},
   "outputs": [
    {
     "data": {
      "text/plain": [
       "GridSearchCV(cv=5,\n",
       "             estimator=GradientBoostingClassifier(max_features='sqrt',\n",
       "                                                  random_state=10,\n",
       "                                                  subsample=0.8),\n",
       "             n_jobs=4,\n",
       "             param_grid={'max_depth': [8], 'min_samples_leaf': [20],\n",
       "                         'min_samples_split': [20], 'n_estimators': [700]},\n",
       "             scoring='f1_weighted')"
      ]
     },
     "execution_count": 31,
     "metadata": {},
     "output_type": "execute_result"
    }
   ],
   "source": [
    "param_test1 = {\n",
    "    'n_estimators': [700],#range(300, 701, 100),\n",
    "    'max_depth': [8],#range(4, 9, 2),\n",
    "    'min_samples_leaf': [20],#range(10, 31, 10),\n",
    "    'min_samples_split': [20]#range(20, 51, 10)\n",
    "}\n",
    "gsearch1 = GridSearchCV(estimator = GradientBoostingClassifier(learning_rate=0.1,max_features='sqrt',subsample=0.8,random_state=10),# min_samples_split=500,min_samples_leaf=50 \n",
    "param_grid = param_test1, scoring='f1_weighted',n_jobs=4, cv=5)\n",
    "gsearch1.fit(X_train,y_train)"
   ]
  },
  {
   "cell_type": "code",
   "execution_count": 32,
   "id": "70fd55a8",
   "metadata": {},
   "outputs": [
    {
     "data": {
      "text/plain": [
       "0.8602716544273218"
      ]
     },
     "execution_count": 32,
     "metadata": {},
     "output_type": "execute_result"
    }
   ],
   "source": [
    "gsearch1.best_score_#gsearch1.cv_results_, gsearch1.best_params_, "
   ]
  },
  {
   "cell_type": "code",
   "execution_count": 33,
   "id": "495805cb",
   "metadata": {},
   "outputs": [],
   "source": [
    "best_model = gsearch1.best_estimator_"
   ]
  },
  {
   "cell_type": "code",
   "execution_count": 34,
   "id": "708a44e1",
   "metadata": {},
   "outputs": [
    {
     "data": {
      "text/plain": [
       "{'max_depth': 8,\n",
       " 'min_samples_leaf': 20,\n",
       " 'min_samples_split': 20,\n",
       " 'n_estimators': 700}"
      ]
     },
     "execution_count": 34,
     "metadata": {},
     "output_type": "execute_result"
    }
   ],
   "source": [
    "best_params_gbm = gsearch1.best_params_\n",
    "best_params_gbm"
   ]
  },
  {
   "cell_type": "code",
   "execution_count": 35,
   "id": "89b13832",
   "metadata": {},
   "outputs": [
    {
     "name": "stdout",
     "output_type": "stream",
     "text": [
      "Maximum number of parameters in our best model: 89600\n"
     ]
    }
   ],
   "source": [
    "print(\"Maximum number of parameters in our best model: {}\".format(best_model.n_estimators_*2**(best_model.max_depth-1)))"
   ]
  },
  {
   "cell_type": "markdown",
   "id": "a88b4d08",
   "metadata": {},
   "source": [
    "##### Performance analysis on test dataset"
   ]
  },
  {
   "cell_type": "code",
   "execution_count": 36,
   "id": "6b662a92",
   "metadata": {},
   "outputs": [
    {
     "data": {
      "text/plain": [
       "array([0, 0, 0, ..., 0, 0, 0])"
      ]
     },
     "execution_count": 36,
     "metadata": {},
     "output_type": "execute_result"
    }
   ],
   "source": [
    "y_pred=best_model.predict(X_test)\n",
    "y_pred"
   ]
  },
  {
   "cell_type": "code",
   "execution_count": 37,
   "id": "9e827acd",
   "metadata": {},
   "outputs": [
    {
     "name": "stdout",
     "output_type": "stream",
     "text": [
      "LightGBM Model accuracy score: 0.8760\n"
     ]
    }
   ],
   "source": [
    "accuracy=accuracy_score(y_pred, y_test)\n",
    "print('LightGBM Model accuracy score: {0:0.4f}'.format(accuracy_score(y_test, y_pred)))"
   ]
  },
  {
   "cell_type": "code",
   "execution_count": 38,
   "id": "a462b1d8",
   "metadata": {},
   "outputs": [
    {
     "data": {
      "text/plain": [
       "Text(0, 0.5, 'Feature Importance Score')"
      ]
     },
     "execution_count": 38,
     "metadata": {},
     "output_type": "execute_result"
    },
    {
     "data": {
      "image/png": "[encoded data removed]",
      "text/plain": [
       "<Figure size 432x288 with 1 Axes>"
      ]
     },
     "metadata": {
      "needs_background": "light"
     },
     "output_type": "display_data"
    }
   ],
   "source": [
    "feat_imp = pd.Series(best_model.feature_importances_, X_train.columns).sort_values(ascending=False)\n",
    "feat_imp.plot(kind='bar', title='Feature Importances')\n",
    "plt.ylabel('Feature Importance Score')"
   ]
  },
  {
   "cell_type": "markdown",
   "id": "fb200fe2",
   "metadata": {},
   "source": [
    "##### Plot confusion matrix:"
   ]
  },
  {
   "cell_type": "code",
   "execution_count": 39,
   "id": "5ba10a5c",
   "metadata": {},
   "outputs": [
    {
     "data": {
      "text/plain": [
       "<AxesSubplot:>"
      ]
     },
     "execution_count": 39,
     "metadata": {},
     "output_type": "execute_result"
    },
    {
     "data": {
      "image/png": "[encoded data removed]",
      "text/plain": [
       "<Figure size 432x288 with 2 Axes>"
      ]
     },
     "metadata": {
      "needs_background": "light"
     },
     "output_type": "display_data"
    }
   ],
   "source": [
    "# visualize confusion matrix with seaborn heatmap\n",
    "cm = confusion_matrix(y_test, y_pred)\n",
    "cm_matrix = pd.DataFrame(data=cm, columns=['Actual leaf->root:-1', 'Actual No order:0', 'Actual root->leaf:1'], \n",
    "                                 index=['Predict leaf->root:-1', 'Predict No order:0', 'Predict root->leaf:1'])\n",
    "\n",
    "sns.heatmap(cm_matrix, annot=True, fmt='d', cmap='YlGnBu')"
   ]
  },
  {
   "cell_type": "code",
   "execution_count": 40,
   "id": "0fdc4f4c",
   "metadata": {},
   "outputs": [
    {
     "name": "stdout",
     "output_type": "stream",
     "text": [
      "              precision    recall  f1-score   support\n",
      "\n",
      "          -1       0.75      0.57      0.65       533\n",
      "           0       0.90      0.97      0.93      3530\n",
      "           1       0.78      0.60      0.68       557\n",
      "\n",
      "    accuracy                           0.88      4620\n",
      "   macro avg       0.81      0.71      0.75      4620\n",
      "weighted avg       0.87      0.88      0.87      4620\n",
      "\n"
     ]
    }
   ],
   "source": [
    "print(classification_report(y_test, y_pred))"
   ]
  },
  {
   "cell_type": "markdown",
   "id": "e2c45c06",
   "metadata": {},
   "source": [
    "##### Save Models"
   ]
  },
  {
   "cell_type": "code",
   "execution_count": 41,
   "id": "1c578687",
   "metadata": {},
   "outputs": [],
   "source": [
    "pickle.dump(best_model, open(\"Models/naive_gridsearch_tfidf.pkl\", \"wb\"))"
   ]
  },
  {
   "cell_type": "code",
   "execution_count": 42,
   "id": "2fae40be",
   "metadata": {},
   "outputs": [
    {
     "data": {
      "text/plain": [
       "GradientBoostingClassifier(max_depth=8, max_features='sqrt',\n",
       "                           min_samples_leaf=20, min_samples_split=20,\n",
       "                           n_estimators=700, random_state=10, subsample=0.8)"
      ]
     },
     "execution_count": 42,
     "metadata": {},
     "output_type": "execute_result"
    }
   ],
   "source": [
    "best_model = pickle.load(open(\"Models/naive_gridsearch_tfidf.pkl\", \"rb\"))\n",
    "best_model"
   ]
  },
  {
   "cell_type": "markdown",
   "id": "3dd58080",
   "metadata": {},
   "source": [
    "## Dimension reduction techniques\n",
    "Here we test regular dimension reduction techniques like PCA, SVD, NMS and MDS."
   ]
  },
  {
   "cell_type": "markdown",
   "id": "c46af45f",
   "metadata": {},
   "source": [
    "### PCA\n"
   ]
  },
  {
   "cell_type": "markdown",
   "id": "3a35e561",
   "metadata": {},
   "source": [
    "## Embeddings and metrics"
   ]
  },
  {
   "cell_type": "markdown",
   "id": "359dfe0f",
   "metadata": {},
   "source": [
    "Here we test neural networks and there ability to generate 5D embeddings that helps the classification"
   ]
  }
 ],
 "metadata": {
  "interpreter": {
   "hash": "00dac3d85057902516a7de3d1bb919e2487cdfcc669671ff52e056662c37d510"
  },
  "kernelspec": {
   "display_name": "kw",
   "language": "python",
   "name": "python3"
  },
  "language_info": {
   "codemirror_mode": {
    "name": "ipython",
    "version": 3
   },
   "file_extension": ".py",
   "mimetype": "text/x-python",
   "name": "python",
   "nbconvert_exporter": "python",
   "pygments_lexer": "ipython3",
   "version": "3.9.12"
  }
 },
 "nbformat": 4,
 "nbformat_minor": 5
}
