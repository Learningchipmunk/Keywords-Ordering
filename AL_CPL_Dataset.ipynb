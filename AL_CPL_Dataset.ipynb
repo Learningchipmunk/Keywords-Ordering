{
 "cells": [
  {
   "cell_type": "markdown",
   "id": "7c465720",
   "metadata": {},
   "source": [
    "# CCS Concept Tree\n",
    "\n",
    "This Notebook create a database of labeled concept pairs based on the Computing Classification System of ACM.<br>\n",
    "You can find the xml [here](https://dl.acm.org/pb-assets/dl_ccs/acm_ccs2012-1626988337597.xml). "
   ]
  },
  {
   "cell_type": "code",
   "execution_count": 1,
   "id": "3a9379b9",
   "metadata": {},
   "outputs": [
    {
     "name": "stderr",
     "output_type": "stream",
     "text": [
      "[nltk_data] Downloading package wordnet to /home/jcl/nltk_data...\n",
      "[nltk_data]   Package wordnet is already up-to-date!\n",
      "[nltk_data] Downloading package omw-1.4 to /home/jcl/nltk_data...\n",
      "[nltk_data]   Package omw-1.4 is already up-to-date!\n"
     ]
    }
   ],
   "source": [
    "import numpy as np\n",
    "import pandas as pd\n",
    "import networkx as nx\n",
    "import matplotlib.pyplot as plt\n",
    "import glob\n",
    "\n",
    "\n",
    "from Scripts.util import cartesianProductOfLists, stringPreprocessing"
   ]
  },
  {
   "cell_type": "markdown",
   "id": "9280dfb8",
   "metadata": {},
   "source": [
    "## Read the AL-CPL Data"
   ]
  },
  {
   "cell_type": "markdown",
   "id": "19f174d1",
   "metadata": {},
   "source": [
    "### Reading and Preprocessing of Prerequisites"
   ]
  },
  {
   "cell_type": "code",
   "execution_count": 2,
   "id": "991a1c40",
   "metadata": {},
   "outputs": [],
   "source": [
    "data_path = 'Data/AL-CPL Dataset/'\n",
    "path_list = [glob.glob(path) for path in [data_path + \"*.preqs\", data_path+\"*.pairs\"]]\n",
    "\n",
    "preqs_csv = pd.DataFrame.from_dict({\"kw1\":[], \"kw2\":[]})\n",
    "\n",
    "for path in path_list[0]:\n",
    "    csv = pd.read_csv(path, names=['kw1', 'kw2'])\n",
    "    preqs_csv = pd.concat([preqs_csv, csv], ignore_index=True)\n",
    "\n",
    "preqs_csv.tail()\n",
    "\n",
    "preprocessed = False"
   ]
  },
  {
   "cell_type": "code",
   "execution_count": 3,
   "id": "430bf94f",
   "metadata": {},
   "outputs": [],
   "source": [
    "if(not preprocessed):\n",
    "    kw1 =  preqs_csv['kw2'].apply(stringPreprocessing)\n",
    "    kw2 =  preqs_csv['kw1'].apply(stringPreprocessing)\n",
    "    preprocessed = True"
   ]
  },
  {
   "cell_type": "code",
   "execution_count": 4,
   "id": "5c8f4698",
   "metadata": {},
   "outputs": [
    {
     "data": {
      "text/html": [
       "<div>\n",
       "<style scoped>\n",
       "    .dataframe tbody tr th:only-of-type {\n",
       "        vertical-align: middle;\n",
       "    }\n",
       "\n",
       "    .dataframe tbody tr th {\n",
       "        vertical-align: top;\n",
       "    }\n",
       "\n",
       "    .dataframe thead th {\n",
       "        text-align: right;\n",
       "    }\n",
       "</style>\n",
       "<table border=\"1\" class=\"dataframe\">\n",
       "  <thead>\n",
       "    <tr style=\"text-align: right;\">\n",
       "      <th></th>\n",
       "      <th>kw1</th>\n",
       "      <th>kw2</th>\n",
       "    </tr>\n",
       "  </thead>\n",
       "  <tbody>\n",
       "    <tr>\n",
       "      <th>1997</th>\n",
       "      <td>point geometry</td>\n",
       "      <td>solution triangle</td>\n",
       "    </tr>\n",
       "    <tr>\n",
       "      <th>1998</th>\n",
       "      <td>integer</td>\n",
       "      <td>algebraic expression</td>\n",
       "    </tr>\n",
       "    <tr>\n",
       "      <th>1999</th>\n",
       "      <td>geometry</td>\n",
       "      <td>parallel geometry</td>\n",
       "    </tr>\n",
       "    <tr>\n",
       "      <th>2000</th>\n",
       "      <td>set mathematics</td>\n",
       "      <td>open set</td>\n",
       "    </tr>\n",
       "    <tr>\n",
       "      <th>2001</th>\n",
       "      <td>integer</td>\n",
       "      <td>homogeneous polynomial</td>\n",
       "    </tr>\n",
       "  </tbody>\n",
       "</table>\n",
       "</div>"
      ],
      "text/plain": [
       "                  kw1                     kw2\n",
       "1997   point geometry       solution triangle\n",
       "1998          integer    algebraic expression\n",
       "1999         geometry       parallel geometry\n",
       "2000  set mathematics                open set\n",
       "2001          integer  homogeneous polynomial"
      ]
     },
     "execution_count": 4,
     "metadata": {},
     "output_type": "execute_result"
    }
   ],
   "source": [
    "preqs_csv['kw1'], preqs_csv['kw2'] = kw1, kw2\n",
    "preqs_csv.tail()"
   ]
  },
  {
   "cell_type": "markdown",
   "id": "0f526632",
   "metadata": {},
   "source": [
    "### Reading and Preprocessing of all Pairs"
   ]
  },
  {
   "cell_type": "code",
   "execution_count": 5,
   "id": "09290745",
   "metadata": {},
   "outputs": [
    {
     "data": {
      "text/html": [
       "<div>\n",
       "<style scoped>\n",
       "    .dataframe tbody tr th:only-of-type {\n",
       "        vertical-align: middle;\n",
       "    }\n",
       "\n",
       "    .dataframe tbody tr th {\n",
       "        vertical-align: top;\n",
       "    }\n",
       "\n",
       "    .dataframe thead th {\n",
       "        text-align: right;\n",
       "    }\n",
       "</style>\n",
       "<table border=\"1\" class=\"dataframe\">\n",
       "  <thead>\n",
       "    <tr style=\"text-align: right;\">\n",
       "      <th></th>\n",
       "      <th>kw1</th>\n",
       "      <th>kw2</th>\n",
       "    </tr>\n",
       "  </thead>\n",
       "  <tbody>\n",
       "    <tr>\n",
       "      <th>6524</th>\n",
       "      <td>Polynomial</td>\n",
       "      <td>Natural_number</td>\n",
       "    </tr>\n",
       "    <tr>\n",
       "      <th>6525</th>\n",
       "      <td>Mathematics</td>\n",
       "      <td>Polynomial_long_division</td>\n",
       "    </tr>\n",
       "    <tr>\n",
       "      <th>6526</th>\n",
       "      <td>Multiplication</td>\n",
       "      <td>Minor_(linear_algebra)</td>\n",
       "    </tr>\n",
       "    <tr>\n",
       "      <th>6527</th>\n",
       "      <td>Trigonometric_substitution</td>\n",
       "      <td>Geometry</td>\n",
       "    </tr>\n",
       "    <tr>\n",
       "      <th>6528</th>\n",
       "      <td>Homogeneous_polynomial</td>\n",
       "      <td>Integer</td>\n",
       "    </tr>\n",
       "  </tbody>\n",
       "</table>\n",
       "</div>"
      ],
      "text/plain": [
       "                             kw1                       kw2\n",
       "6524                  Polynomial            Natural_number\n",
       "6525                 Mathematics  Polynomial_long_division\n",
       "6526              Multiplication    Minor_(linear_algebra)\n",
       "6527  Trigonometric_substitution                  Geometry\n",
       "6528      Homogeneous_polynomial                   Integer"
      ]
     },
     "execution_count": 5,
     "metadata": {},
     "output_type": "execute_result"
    }
   ],
   "source": [
    "pairs_csv = pd.DataFrame.from_dict({\"kw1\":[], \"kw2\":[]})\n",
    "\n",
    "for path in path_list[1]:\n",
    "    csv = pd.read_csv(path, names=['kw1', 'kw2'])\n",
    "    pairs_csv = pd.concat([pairs_csv, csv], ignore_index=True)\n",
    "\n",
    "preprocessed = False\n",
    "pairs_csv.tail()"
   ]
  },
  {
   "cell_type": "code",
   "execution_count": 6,
   "id": "ee0dd4c7",
   "metadata": {},
   "outputs": [],
   "source": [
    "if(not preprocessed):\n",
    "    kw1 =  pairs_csv['kw2'].apply(stringPreprocessing)\n",
    "    kw2 =  pairs_csv['kw1'].apply(stringPreprocessing)\n",
    "    preprocessed = True"
   ]
  },
  {
   "cell_type": "code",
   "execution_count": 7,
   "id": "d66a3b1f",
   "metadata": {},
   "outputs": [
    {
     "data": {
      "text/html": [
       "<div>\n",
       "<style scoped>\n",
       "    .dataframe tbody tr th:only-of-type {\n",
       "        vertical-align: middle;\n",
       "    }\n",
       "\n",
       "    .dataframe tbody tr th {\n",
       "        vertical-align: top;\n",
       "    }\n",
       "\n",
       "    .dataframe thead th {\n",
       "        text-align: right;\n",
       "    }\n",
       "</style>\n",
       "<table border=\"1\" class=\"dataframe\">\n",
       "  <thead>\n",
       "    <tr style=\"text-align: right;\">\n",
       "      <th></th>\n",
       "      <th>kw1</th>\n",
       "      <th>kw2</th>\n",
       "    </tr>\n",
       "  </thead>\n",
       "  <tbody>\n",
       "    <tr>\n",
       "      <th>6524</th>\n",
       "      <td>natural number</td>\n",
       "      <td>polynomial</td>\n",
       "    </tr>\n",
       "    <tr>\n",
       "      <th>6525</th>\n",
       "      <td>polynomial long division</td>\n",
       "      <td>mathematics</td>\n",
       "    </tr>\n",
       "    <tr>\n",
       "      <th>6526</th>\n",
       "      <td>minor linear algebra</td>\n",
       "      <td>multiplication</td>\n",
       "    </tr>\n",
       "    <tr>\n",
       "      <th>6527</th>\n",
       "      <td>geometry</td>\n",
       "      <td>trigonometric substitution</td>\n",
       "    </tr>\n",
       "    <tr>\n",
       "      <th>6528</th>\n",
       "      <td>integer</td>\n",
       "      <td>homogeneous polynomial</td>\n",
       "    </tr>\n",
       "  </tbody>\n",
       "</table>\n",
       "</div>"
      ],
      "text/plain": [
       "                           kw1                         kw2\n",
       "6524            natural number                  polynomial\n",
       "6525  polynomial long division                 mathematics\n",
       "6526      minor linear algebra              multiplication\n",
       "6527                  geometry  trigonometric substitution\n",
       "6528                   integer      homogeneous polynomial"
      ]
     },
     "execution_count": 7,
     "metadata": {},
     "output_type": "execute_result"
    }
   ],
   "source": [
    "pairs_csv['kw1'], pairs_csv['kw2'] = kw1, kw2\n",
    "pairs_csv.tail()"
   ]
  },
  {
   "cell_type": "markdown",
   "id": "758b0b41",
   "metadata": {},
   "source": [
    "### Setting zeros and ones"
   ]
  },
  {
   "cell_type": "code",
   "execution_count": 8,
   "id": "203ff0f2",
   "metadata": {},
   "outputs": [
    {
     "data": {
      "text/html": [
       "<div>\n",
       "<style scoped>\n",
       "    .dataframe tbody tr th:only-of-type {\n",
       "        vertical-align: middle;\n",
       "    }\n",
       "\n",
       "    .dataframe tbody tr th {\n",
       "        vertical-align: top;\n",
       "    }\n",
       "\n",
       "    .dataframe thead th {\n",
       "        text-align: right;\n",
       "    }\n",
       "</style>\n",
       "<table border=\"1\" class=\"dataframe\">\n",
       "  <thead>\n",
       "    <tr style=\"text-align: right;\">\n",
       "      <th></th>\n",
       "      <th>kw1</th>\n",
       "      <th>kw2</th>\n",
       "      <th>label</th>\n",
       "    </tr>\n",
       "  </thead>\n",
       "  <tbody>\n",
       "    <tr>\n",
       "      <th>1997</th>\n",
       "      <td>point geometry</td>\n",
       "      <td>solution triangle</td>\n",
       "      <td>1</td>\n",
       "    </tr>\n",
       "    <tr>\n",
       "      <th>1998</th>\n",
       "      <td>integer</td>\n",
       "      <td>algebraic expression</td>\n",
       "      <td>1</td>\n",
       "    </tr>\n",
       "    <tr>\n",
       "      <th>1999</th>\n",
       "      <td>geometry</td>\n",
       "      <td>parallel geometry</td>\n",
       "      <td>1</td>\n",
       "    </tr>\n",
       "    <tr>\n",
       "      <th>2000</th>\n",
       "      <td>set mathematics</td>\n",
       "      <td>open set</td>\n",
       "      <td>1</td>\n",
       "    </tr>\n",
       "    <tr>\n",
       "      <th>2001</th>\n",
       "      <td>integer</td>\n",
       "      <td>homogeneous polynomial</td>\n",
       "      <td>1</td>\n",
       "    </tr>\n",
       "  </tbody>\n",
       "</table>\n",
       "</div>"
      ],
      "text/plain": [
       "                  kw1                     kw2  label\n",
       "1997   point geometry       solution triangle      1\n",
       "1998          integer    algebraic expression      1\n",
       "1999         geometry       parallel geometry      1\n",
       "2000  set mathematics                open set      1\n",
       "2001          integer  homogeneous polynomial      1"
      ]
     },
     "execution_count": 8,
     "metadata": {},
     "output_type": "execute_result"
    }
   ],
   "source": [
    "preqs_csv['label'] = np.array([1 for i in range(preqs_csv.shape[0])])\n",
    "preqs_csv.tail()"
   ]
  },
  {
   "cell_type": "code",
   "execution_count": 9,
   "id": "9b1b8e6e",
   "metadata": {},
   "outputs": [
    {
     "data": {
      "text/html": [
       "<div>\n",
       "<style scoped>\n",
       "    .dataframe tbody tr th:only-of-type {\n",
       "        vertical-align: middle;\n",
       "    }\n",
       "\n",
       "    .dataframe tbody tr th {\n",
       "        vertical-align: top;\n",
       "    }\n",
       "\n",
       "    .dataframe thead th {\n",
       "        text-align: right;\n",
       "    }\n",
       "</style>\n",
       "<table border=\"1\" class=\"dataframe\">\n",
       "  <thead>\n",
       "    <tr style=\"text-align: right;\">\n",
       "      <th></th>\n",
       "      <th>kw1</th>\n",
       "      <th>kw2</th>\n",
       "      <th>label</th>\n",
       "    </tr>\n",
       "  </thead>\n",
       "  <tbody>\n",
       "    <tr>\n",
       "      <th>6524</th>\n",
       "      <td>natural number</td>\n",
       "      <td>polynomial</td>\n",
       "      <td>0</td>\n",
       "    </tr>\n",
       "    <tr>\n",
       "      <th>6525</th>\n",
       "      <td>polynomial long division</td>\n",
       "      <td>mathematics</td>\n",
       "      <td>0</td>\n",
       "    </tr>\n",
       "    <tr>\n",
       "      <th>6526</th>\n",
       "      <td>minor linear algebra</td>\n",
       "      <td>multiplication</td>\n",
       "      <td>0</td>\n",
       "    </tr>\n",
       "    <tr>\n",
       "      <th>6527</th>\n",
       "      <td>geometry</td>\n",
       "      <td>trigonometric substitution</td>\n",
       "      <td>0</td>\n",
       "    </tr>\n",
       "    <tr>\n",
       "      <th>6528</th>\n",
       "      <td>integer</td>\n",
       "      <td>homogeneous polynomial</td>\n",
       "      <td>0</td>\n",
       "    </tr>\n",
       "  </tbody>\n",
       "</table>\n",
       "</div>"
      ],
      "text/plain": [
       "                           kw1                         kw2  label\n",
       "6524            natural number                  polynomial      0\n",
       "6525  polynomial long division                 mathematics      0\n",
       "6526      minor linear algebra              multiplication      0\n",
       "6527                  geometry  trigonometric substitution      0\n",
       "6528                   integer      homogeneous polynomial      0"
      ]
     },
     "execution_count": 9,
     "metadata": {},
     "output_type": "execute_result"
    }
   ],
   "source": [
    "pairs_csv['label'] = np.array([0 for i in range(pairs_csv.shape[0])])\n",
    "pairs_csv.tail()"
   ]
  },
  {
   "cell_type": "markdown",
   "id": "2f5bb858",
   "metadata": {},
   "source": [
    "### Merging both zeros and ones"
   ]
  },
  {
   "cell_type": "markdown",
   "id": "15527f85",
   "metadata": {},
   "source": [
    "###### Checking for redundancies"
   ]
  },
  {
   "cell_type": "code",
   "execution_count": 10,
   "id": "8a879956",
   "metadata": {},
   "outputs": [
    {
     "data": {
      "text/plain": [
       "kw1            kw2                          label\n",
       "line geometry  parallel geometry            1.0      4\n",
       "line segment   triangle                     1.0      4\n",
       "perpendicular  cartesian coordinate system  1.0      4\n",
       "circle         cone                         1.0      4\n",
       "               chord geometry               1.0      4\n",
       "                                                    ..\n",
       "field physic   electric potential energy    1.0      1\n",
       "               electric potential           1.0      1\n",
       "               electric field               1.0      1\n",
       "               electric current             0.0      1\n",
       "zero function  prime number                 0.0      1\n",
       "Length: 6375, dtype: int64"
      ]
     },
     "execution_count": 10,
     "metadata": {},
     "output_type": "execute_result"
    }
   ],
   "source": [
    "complete_dataset_csv = pd.merge(preqs_csv,pairs_csv, on=['kw1', 'kw2'], indicator=True, how='right')\n",
    "complete_dataset_csv.loc[complete_dataset_csv['_merge'] == 'right_only', 'label_x'] = np.array(0)\n",
    "complete_dataset_csv = complete_dataset_csv.rename(columns={'label_x':'label'}).drop(columns=['label_y', '_merge'])\n",
    "complete_dataset_csv.value_counts()"
   ]
  },
  {
   "cell_type": "markdown",
   "id": "aab2d583",
   "metadata": {},
   "source": [
    "###### Removing redundancies"
   ]
  },
  {
   "cell_type": "code",
   "execution_count": 11,
   "id": "76f701c5",
   "metadata": {},
   "outputs": [
    {
     "data": {
      "text/plain": [
       "0.0    4442\n",
       "1.0    1933\n",
       "Name: label, dtype: int64"
      ]
     },
     "execution_count": 11,
     "metadata": {},
     "output_type": "execute_result"
    }
   ],
   "source": [
    "complete_dataset_csv = complete_dataset_csv.drop_duplicates(subset=['kw1', 'kw2'], keep='first')\n",
    "complete_dataset_csv['label'].value_counts()"
   ]
  },
  {
   "cell_type": "markdown",
   "id": "eeb88182",
   "metadata": {},
   "source": [
    "##### Save the created df:"
   ]
  },
  {
   "cell_type": "code",
   "execution_count": 12,
   "id": "f825f49b",
   "metadata": {},
   "outputs": [],
   "source": [
    "complete_dataset_csv.to_csv(\"Data/AL-CPL Dataset/Preprocessed_AL_CPL_ds.csv\", index=False)"
   ]
  },
  {
   "cell_type": "markdown",
   "id": "012e8d57",
   "metadata": {},
   "source": [
    "##### Load the data"
   ]
  },
  {
   "cell_type": "code",
   "execution_count": 38,
   "id": "9553a63e",
   "metadata": {},
   "outputs": [],
   "source": [
    "complete_dataset_csv = pd.read_csv(\"Data/AL-CPL Dataset/Preprocessed_AL_CPL_ds.csv\")"
   ]
  },
  {
   "cell_type": "markdown",
   "id": "ddd729eb",
   "metadata": {},
   "source": [
    "### Building the graph with networkx"
   ]
  },
  {
   "cell_type": "code",
   "execution_count": 14,
   "id": "749ed29f",
   "metadata": {},
   "outputs": [
    {
     "data": {
      "text/plain": [
       "462"
      ]
     },
     "execution_count": 14,
     "metadata": {},
     "output_type": "execute_result"
    }
   ],
   "source": [
    "prereq = complete_dataset_csv[complete_dataset_csv['label'] == 1]\n",
    "DG = nx.from_pandas_edgelist(prereq, source='kw1', target='kw2', edge_attr=True, create_using=nx.DiGraph())\n",
    "\n",
    "nodes = DG.nodes()\n",
    "len(nodes)"
   ]
  },
  {
   "cell_type": "code",
   "execution_count": 15,
   "id": "188c2e45",
   "metadata": {},
   "outputs": [
    {
     "data": {
      "text/plain": [
       "1933"
      ]
     },
     "execution_count": 15,
     "metadata": {},
     "output_type": "execute_result"
    }
   ],
   "source": [
    "edges = DG.edges()\n",
    "len(edges)"
   ]
  },
  {
   "cell_type": "code",
   "execution_count": 16,
   "id": "498aea97",
   "metadata": {},
   "outputs": [
    {
     "data": {
      "image/png": "[encoded data removed]",
      "text/plain": [
       "<Figure size 432x288 with 1 Axes>"
      ]
     },
     "metadata": {},
     "output_type": "display_data"
    }
   ],
   "source": [
    "subgraph = DG.subgraph(list(nodes)[3:15])\n",
    "pos = nx.spring_layout(subgraph)\n",
    "\n",
    "nx.draw(subgraph, pos=pos, with_labels = True, node_color = 'b')\n",
    "plt.show()"
   ]
  },
  {
   "cell_type": "markdown",
   "id": "fe6b8749",
   "metadata": {},
   "source": [
    "### Creating test and train set"
   ]
  },
  {
   "cell_type": "code",
   "execution_count": 20,
   "id": "3b19c76a",
   "metadata": {},
   "outputs": [],
   "source": [
    "## Selecting the nodes\n",
    "root_test = \"line geometry\""
   ]
  },
  {
   "cell_type": "code",
   "execution_count": 21,
   "id": "938389c2",
   "metadata": {},
   "outputs": [],
   "source": [
    "nodes = list(nx.nodes(nx.dfs_tree(DG, root_test)))"
   ]
  },
  {
   "cell_type": "code",
   "execution_count": 27,
   "id": "0ee2c1b1",
   "metadata": {},
   "outputs": [],
   "source": [
    "subgraph_test  = DG.subgraph(list(nodes))\n",
    "subgraph_train = DG.copy()\n",
    "\n",
    "nodes_to_remove = nodes\n",
    "\n",
    "count_nodes_removed = len(nodes_to_remove)\n",
    "\n",
    "subgraph_train.remove_nodes_from(nodes_to_remove)"
   ]
  },
  {
   "cell_type": "code",
   "execution_count": 29,
   "id": "a7d58295",
   "metadata": {},
   "outputs": [
    {
     "name": "stdout",
     "output_type": "stream",
     "text": [
      "Percentage of nodes in test set: 20.13%\n",
      "Percentage of edges in test set: 19.09%\n",
      "Percentage of nodes in training set: 79.87%\n",
      "Percentage of edges in training set: 65.86%\n",
      "percentage of edges lost due to split: 15.05%\n"
     ]
    }
   ],
   "source": [
    "print(\"Percentage of nodes in test set: {0:.2f}%\".format(len(subgraph_test.nodes())/len(DG.nodes())*100))\n",
    "print(\"Percentage of edges in test set: {0:.2f}%\".format(len(subgraph_test.edges())/len(DG.edges())*100))\n",
    "print(\"Percentage of nodes in training set: {0:.2f}%\".format(len(subgraph_train.nodes())/len(DG.nodes())*100))\n",
    "print(\"Percentage of edges in training set: {0:.2f}%\".format(len(subgraph_train.edges())/len(DG.edges())*100))\n",
    "print(\"percentage of edges lost due to split: {0:.2f}%\".format(100 - len(subgraph_test.edges())/len(DG.edges())*100 - len(subgraph_train.edges())/len(DG.edges())*100))"
   ]
  },
  {
   "cell_type": "markdown",
   "id": "0d302228",
   "metadata": {},
   "source": [
    "#### Depth of Training and Testing graphs"
   ]
  },
  {
   "cell_type": "code",
   "execution_count": 27,
   "id": "11a6b7b4",
   "metadata": {},
   "outputs": [
    {
     "name": "stdout",
     "output_type": "stream",
     "text": [
      "10\n",
      "7\n",
      "7\n"
     ]
    }
   ],
   "source": [
    "print(nx.dag_longest_path_length(DG))\n",
    "print(nx.dag_longest_path_length(subgraph_train))\n",
    "print(nx.dag_longest_path_length(subgraph_test))"
   ]
  },
  {
   "cell_type": "markdown",
   "id": "3f68ccbc",
   "metadata": {},
   "source": [
    "#### Splitting dataset into Training and Testing with respect to the nodes of the test subgraph"
   ]
  },
  {
   "cell_type": "code",
   "execution_count": 31,
   "id": "ca97f4e9",
   "metadata": {},
   "outputs": [],
   "source": [
    "training_dataset_csv = complete_dataset_csv[~(complete_dataset_csv['kw1'].isin(nodes_to_remove) | complete_dataset_csv['kw2'].isin(nodes_to_remove))]\n",
    "testing_dataset_csv  = complete_dataset_csv[(complete_dataset_csv['kw1'].isin(nodes_to_remove) | complete_dataset_csv['kw2'].isin(nodes_to_remove))]"
   ]
  },
  {
   "cell_type": "code",
   "execution_count": 39,
   "id": "4b4f3af7",
   "metadata": {},
   "outputs": [
    {
     "name": "stdout",
     "output_type": "stream",
     "text": [
      "Percentage of zeros in training dataset: 70.41%\n",
      "Percentage of ones in training dataset: 29.59%\n",
      "Percentage of zeros in testing dataset: 68.16%\n",
      "Percentage of ones in testing dataset: 31.84%\n",
      "Percentage of pairs lost due to split: 0.00\n"
     ]
    }
   ],
   "source": [
    "print(\"Percentage of zeros in training dataset: {0:.2f}%\".format(training_dataset_csv['label'].value_counts()[0]/training_dataset_csv.shape[0]*100))\n",
    "print(\"Percentage of ones in training dataset: {0:.2f}%\".format(training_dataset_csv['label'].value_counts()[1]/training_dataset_csv.shape[0]*100))\n",
    "print(\"Percentage of zeros in testing dataset: {0:.2f}%\".format(testing_dataset_csv['label'].value_counts()[0]/testing_dataset_csv.shape[0]*100))\n",
    "print(\"Percentage of ones in testing dataset: {0:.2f}%\".format(testing_dataset_csv['label'].value_counts()[1]/testing_dataset_csv.shape[0]*100))\n",
    "print(\"Percentage of pairs lost due to split: {0:.2f}\".format(100-testing_dataset_csv.shape[0]/complete_dataset_csv.shape[0]*100 - training_dataset_csv.shape[0]/complete_dataset_csv.shape[0]*100))"
   ]
  },
  {
   "cell_type": "markdown",
   "id": "b7b65b39",
   "metadata": {},
   "source": [
    "Here, some concepts from the training dataset can be linked to the concepts of the testing dataset. However, in the testing dataset there is for sure 93 concepts never seen in the training dataset."
   ]
  },
  {
   "cell_type": "markdown",
   "id": "b0e063eb",
   "metadata": {},
   "source": [
    "#### Saving the datasets"
   ]
  },
  {
   "cell_type": "code",
   "execution_count": 37,
   "id": "08746eea",
   "metadata": {},
   "outputs": [],
   "source": [
    "training_dataset_csv.to_csv(\"Data/AL-CPL Dataset/Preprocessed_AL_CPL_trainig_ds.csv\", index=False)\n",
    "testing_dataset_csv.to_csv(\"Data/AL-CPL Dataset/Preprocessed_AL_CPL_testing_ds.csv\", index=False)"
   ]
  },
  {
   "cell_type": "markdown",
   "id": "55977efd",
   "metadata": {},
   "source": [
    "### Stats On Geometry and Line Geometry"
   ]
  },
  {
   "cell_type": "code",
   "execution_count": 50,
   "id": "852e0b86",
   "metadata": {},
   "outputs": [],
   "source": [
    "def averageOfAllSimplePathsFromRootInGraph(G, root_el):\n",
    "    nodes_root = list(nx.nodes(nx.dfs_tree(G, root_el)))[1:]\n",
    "\n",
    "    all_paths_from_root = []\n",
    "    mean_len_path = 0\n",
    "    for node in nodes_root:\n",
    "        simple_paths = nx.all_simple_paths(G, source=root_el, target=node)\n",
    "        all_paths_from_root += simple_paths\n",
    "\n",
    "    return np.mean([len(path) for path in all_paths_from_root])"
   ]
  },
  {
   "cell_type": "code",
   "execution_count": 51,
   "id": "68a36931",
   "metadata": {},
   "outputs": [
    {
     "data": {
      "text/plain": [
       "5.279535697249165"
      ]
     },
     "execution_count": 51,
     "metadata": {},
     "output_type": "execute_result"
    }
   ],
   "source": [
    "root = \"geometry\"\n",
    "averageOfAllSimplePathsFromRootInGraph(DG, root)"
   ]
  },
  {
   "cell_type": "code",
   "execution_count": 53,
   "id": "12e96c7f",
   "metadata": {},
   "outputs": [
    {
     "data": {
      "text/plain": [
       "3.0"
      ]
     },
     "execution_count": 53,
     "metadata": {},
     "output_type": "execute_result"
    }
   ],
   "source": [
    "averageOfAllSimplePathsFromRootInGraph(subgraph_train, root)"
   ]
  },
  {
   "cell_type": "code",
   "execution_count": 56,
   "id": "51fb7e66",
   "metadata": {},
   "outputs": [
    {
     "data": {
      "text/plain": [
       "4.284107946026986"
      ]
     },
     "execution_count": 56,
     "metadata": {},
     "output_type": "execute_result"
    }
   ],
   "source": [
    "averageOfAllSimplePathsFromRootInGraph(subgraph_test, root_test)"
   ]
  },
  {
   "cell_type": "code",
   "execution_count": 57,
   "id": "01f7a2fe",
   "metadata": {},
   "outputs": [
    {
     "data": {
      "text/plain": [
       "4.284107946026986"
      ]
     },
     "execution_count": 57,
     "metadata": {},
     "output_type": "execute_result"
    }
   ],
   "source": [
    "averageOfAllSimplePathsFromRootInGraph(DG, root_test)"
   ]
  },
  {
   "cell_type": "markdown",
   "id": "f2766ccb",
   "metadata": {},
   "source": [
    "Faire un Tableau de mes tats"
   ]
  }
 ],
 "metadata": {
  "kernelspec": {
   "display_name": "Python 3.10.4 ('ke')",
   "language": "python",
   "name": "python3"
  },
  "language_info": {
   "codemirror_mode": {
    "name": "ipython",
    "version": 3
   },
   "file_extension": ".py",
   "mimetype": "text/x-python",
   "name": "python",
   "nbconvert_exporter": "python",
   "pygments_lexer": "ipython3",
   "version": "3.9.12"
  },
  "vscode": {
   "interpreter": {
    "hash": "bb5787495d47db3f95bbda7df6f8ead9f038dcb1bbd3be59d77722f8f7c66504"
   }
  }
 },
 "nbformat": 4,
 "nbformat_minor": 5
}
