{
 "cells": [
  {
   "cell_type": "markdown",
   "id": "34f3d828",
   "metadata": {},
   "source": [
    "# AL-CPL Prerequisite Learning with FastText Embeddings using GBM\n"
   ]
  },
  {
   "cell_type": "code",
   "execution_count": 1,
   "id": "d3e76886",
   "metadata": {},
   "outputs": [
    {
     "name": "stderr",
     "output_type": "stream",
     "text": [
      "[nltk_data] Downloading package wordnet to /home/jcl/nltk_data...\n",
      "[nltk_data]   Package wordnet is already up-to-date!\n",
      "[nltk_data] Downloading package omw-1.4 to /home/jcl/nltk_data...\n",
      "[nltk_data]   Package omw-1.4 is already up-to-date!\n"
     ]
    }
   ],
   "source": [
    "import fasttext\n",
    "import fasttext.util\n",
    "import pandas as pd\n",
    "import numpy as np\n",
    "import seaborn as sns\n",
    "import pickle\n",
    "import matplotlib.pyplot as plt\n",
    "\n",
    "from sklearn.metrics import mutual_info_score \n",
    "from IPython.display import clear_output\n",
    "from sklearn.metrics.pairwise import cosine_distances\n",
    "\n",
    "from sklearn.ensemble import GradientBoostingClassifier  #GBM algorithm\n",
    "from sklearn.model_selection  import GridSearchCV\n",
    "from sklearn.metrics import accuracy_score, confusion_matrix, classification_report\n",
    "from sklearn.model_selection import train_test_split\n",
    "\n",
    "from Scripts.util import ExtractIntLabelFromPred"
   ]
  },
  {
   "cell_type": "markdown",
   "id": "89bf27bc",
   "metadata": {},
   "source": [
    "## Load the FastText Model\n",
    "\n",
    "To understand the library, you can look at the documentation available [here](https://fasttext.cc/docs/en/python-module.html#train_unsupervised-parameters)."
   ]
  },
  {
   "cell_type": "code",
   "execution_count": 2,
   "id": "08f6075f",
   "metadata": {},
   "outputs": [
    {
     "name": "stderr",
     "output_type": "stream",
     "text": [
      "Warning : `load_model` does not return WordVectorModel or SupervisedModel any more, but a `FastText` object which is very similar.\n"
     ]
    }
   ],
   "source": [
    "# fasttext.util.download_model('en', if_exists='ignore')  # English\n",
    "ft_model = fasttext.load_model('Models/cc.en.300.bin')"
   ]
  },
  {
   "cell_type": "markdown",
   "id": "32337d4b",
   "metadata": {},
   "source": [
    "### Load ACM GBM 0 1 classifier model"
   ]
  },
  {
   "cell_type": "code",
   "execution_count": 22,
   "id": "edd5b2d1",
   "metadata": {},
   "outputs": [
    {
     "data": {
      "text/plain": [
       "GradientBoostingClassifier(max_depth=8, max_features='sqrt',\n",
       "                           min_samples_leaf=20, min_samples_split=20,\n",
       "                           n_estimators=900, random_state=10, subsample=0.8)"
      ]
     },
     "execution_count": 22,
     "metadata": {},
     "output_type": "execute_result"
    }
   ],
   "source": [
    "gbm_model1 = pickle.load(open(\"Models/naive_gridsearch_01_classifier.pkl\", \"rb\"))\n",
    "gbm_model1"
   ]
  },
  {
   "cell_type": "markdown",
   "id": "e29467f1",
   "metadata": {},
   "source": [
    "## Load Data"
   ]
  },
  {
   "cell_type": "code",
   "execution_count": 3,
   "id": "6d13168b",
   "metadata": {},
   "outputs": [
    {
     "data": {
      "text/html": [
       "<div>\n",
       "<style scoped>\n",
       "    .dataframe tbody tr th:only-of-type {\n",
       "        vertical-align: middle;\n",
       "    }\n",
       "\n",
       "    .dataframe tbody tr th {\n",
       "        vertical-align: top;\n",
       "    }\n",
       "\n",
       "    .dataframe thead th {\n",
       "        text-align: right;\n",
       "    }\n",
       "</style>\n",
       "<table border=\"1\" class=\"dataframe\">\n",
       "  <thead>\n",
       "    <tr style=\"text-align: right;\">\n",
       "      <th></th>\n",
       "      <th>kw1</th>\n",
       "      <th>kw2</th>\n",
       "      <th>label</th>\n",
       "    </tr>\n",
       "  </thead>\n",
       "  <tbody>\n",
       "    <tr>\n",
       "      <th>6370</th>\n",
       "      <td>natural number</td>\n",
       "      <td>polynomial</td>\n",
       "      <td>0.0</td>\n",
       "    </tr>\n",
       "    <tr>\n",
       "      <th>6371</th>\n",
       "      <td>polynomial long division</td>\n",
       "      <td>mathematics</td>\n",
       "      <td>0.0</td>\n",
       "    </tr>\n",
       "    <tr>\n",
       "      <th>6372</th>\n",
       "      <td>minor linear algebra</td>\n",
       "      <td>multiplication</td>\n",
       "      <td>0.0</td>\n",
       "    </tr>\n",
       "    <tr>\n",
       "      <th>6373</th>\n",
       "      <td>geometry</td>\n",
       "      <td>trigonometric substitution</td>\n",
       "      <td>1.0</td>\n",
       "    </tr>\n",
       "    <tr>\n",
       "      <th>6374</th>\n",
       "      <td>integer</td>\n",
       "      <td>homogeneous polynomial</td>\n",
       "      <td>1.0</td>\n",
       "    </tr>\n",
       "  </tbody>\n",
       "</table>\n",
       "</div>"
      ],
      "text/plain": [
       "                           kw1                         kw2  label\n",
       "6370            natural number                  polynomial    0.0\n",
       "6371  polynomial long division                 mathematics    0.0\n",
       "6372      minor linear algebra              multiplication    0.0\n",
       "6373                  geometry  trigonometric substitution    1.0\n",
       "6374                   integer      homogeneous polynomial    1.0"
      ]
     },
     "execution_count": 3,
     "metadata": {},
     "output_type": "execute_result"
    }
   ],
   "source": [
    "complete_dataset_csv = pd.read_csv(\"Data/AL-CPL Dataset/Preprocessed_AL_CPL_ds.csv\")\n",
    "complete_dataset_csv.tail()"
   ]
  },
  {
   "cell_type": "code",
   "execution_count": 6,
   "id": "7455acf5",
   "metadata": {},
   "outputs": [
    {
     "data": {
      "text/html": [
       "<div>\n",
       "<style scoped>\n",
       "    .dataframe tbody tr th:only-of-type {\n",
       "        vertical-align: middle;\n",
       "    }\n",
       "\n",
       "    .dataframe tbody tr th {\n",
       "        vertical-align: top;\n",
       "    }\n",
       "\n",
       "    .dataframe thead th {\n",
       "        text-align: right;\n",
       "    }\n",
       "</style>\n",
       "<table border=\"1\" class=\"dataframe\">\n",
       "  <thead>\n",
       "    <tr style=\"text-align: right;\">\n",
       "      <th></th>\n",
       "      <th>kw1</th>\n",
       "      <th>kw2</th>\n",
       "      <th>label</th>\n",
       "    </tr>\n",
       "  </thead>\n",
       "  <tbody>\n",
       "    <tr>\n",
       "      <th>4297</th>\n",
       "      <td>zero function</td>\n",
       "      <td>equation</td>\n",
       "      <td>0.0</td>\n",
       "    </tr>\n",
       "    <tr>\n",
       "      <th>4298</th>\n",
       "      <td>natural number</td>\n",
       "      <td>polynomial</td>\n",
       "      <td>0.0</td>\n",
       "    </tr>\n",
       "    <tr>\n",
       "      <th>4299</th>\n",
       "      <td>polynomial long division</td>\n",
       "      <td>mathematics</td>\n",
       "      <td>0.0</td>\n",
       "    </tr>\n",
       "    <tr>\n",
       "      <th>4300</th>\n",
       "      <td>minor linear algebra</td>\n",
       "      <td>multiplication</td>\n",
       "      <td>0.0</td>\n",
       "    </tr>\n",
       "    <tr>\n",
       "      <th>4301</th>\n",
       "      <td>integer</td>\n",
       "      <td>homogeneous polynomial</td>\n",
       "      <td>1.0</td>\n",
       "    </tr>\n",
       "  </tbody>\n",
       "</table>\n",
       "</div>"
      ],
      "text/plain": [
       "                           kw1                     kw2  label\n",
       "4297             zero function                equation    0.0\n",
       "4298            natural number              polynomial    0.0\n",
       "4299  polynomial long division             mathematics    0.0\n",
       "4300      minor linear algebra          multiplication    0.0\n",
       "4301                   integer  homogeneous polynomial    1.0"
      ]
     },
     "execution_count": 6,
     "metadata": {},
     "output_type": "execute_result"
    }
   ],
   "source": [
    "training_dataset_csv = pd.read_csv(\"Data/AL-CPL Dataset/Preprocessed_AL_CPL_training_ds.csv\")\n",
    "training_dataset_csv.tail()"
   ]
  },
  {
   "cell_type": "code",
   "execution_count": 7,
   "id": "303d569e",
   "metadata": {},
   "outputs": [
    {
     "data": {
      "text/html": [
       "<div>\n",
       "<style scoped>\n",
       "    .dataframe tbody tr th:only-of-type {\n",
       "        vertical-align: middle;\n",
       "    }\n",
       "\n",
       "    .dataframe tbody tr th {\n",
       "        vertical-align: top;\n",
       "    }\n",
       "\n",
       "    .dataframe thead th {\n",
       "        text-align: right;\n",
       "    }\n",
       "</style>\n",
       "<table border=\"1\" class=\"dataframe\">\n",
       "  <thead>\n",
       "    <tr style=\"text-align: right;\">\n",
       "      <th></th>\n",
       "      <th>kw1</th>\n",
       "      <th>kw2</th>\n",
       "      <th>label</th>\n",
       "    </tr>\n",
       "  </thead>\n",
       "  <tbody>\n",
       "    <tr>\n",
       "      <th>2068</th>\n",
       "      <td>trigonometry</td>\n",
       "      <td>trigonometric function</td>\n",
       "      <td>1.0</td>\n",
       "    </tr>\n",
       "    <tr>\n",
       "      <th>2069</th>\n",
       "      <td>analytic geometry</td>\n",
       "      <td>plane geometry</td>\n",
       "      <td>0.0</td>\n",
       "    </tr>\n",
       "    <tr>\n",
       "      <th>2070</th>\n",
       "      <td>geometry</td>\n",
       "      <td>pythagorean trigonometric identity</td>\n",
       "      <td>1.0</td>\n",
       "    </tr>\n",
       "    <tr>\n",
       "      <th>2071</th>\n",
       "      <td>perpendicular</td>\n",
       "      <td>analytic geometry</td>\n",
       "      <td>1.0</td>\n",
       "    </tr>\n",
       "    <tr>\n",
       "      <th>2072</th>\n",
       "      <td>geometry</td>\n",
       "      <td>trigonometric substitution</td>\n",
       "      <td>1.0</td>\n",
       "    </tr>\n",
       "  </tbody>\n",
       "</table>\n",
       "</div>"
      ],
      "text/plain": [
       "                    kw1                                 kw2  label\n",
       "2068       trigonometry              trigonometric function    1.0\n",
       "2069  analytic geometry                      plane geometry    0.0\n",
       "2070           geometry  pythagorean trigonometric identity    1.0\n",
       "2071      perpendicular                   analytic geometry    1.0\n",
       "2072           geometry          trigonometric substitution    1.0"
      ]
     },
     "execution_count": 7,
     "metadata": {},
     "output_type": "execute_result"
    }
   ],
   "source": [
    "testing_dataset_csv = pd.read_csv(\"Data/AL-CPL Dataset/Preprocessed_AL_CPL_testing_ds.csv\")\n",
    "testing_dataset_csv.tail()"
   ]
  },
  {
   "cell_type": "markdown",
   "id": "2055e3ac",
   "metadata": {},
   "source": [
    "## Adding Embeddings to data"
   ]
  },
  {
   "cell_type": "code",
   "execution_count": 8,
   "id": "b892810a",
   "metadata": {},
   "outputs": [],
   "source": [
    "## Average Pool Embeddings for kw1 and kw2\n",
    "temp_res = pd.DataFrame(complete_dataset_csv.apply(lambda x: (ft_model.get_sentence_vector(x.kw1), ft_model.get_sentence_vector(x.kw2)), axis=1, result_type='expand'))\n",
    "complete_dataset_csv[[\"sentence_vector_embedding_1\", \"sentence_vector_embedding_2\"]] = temp_res"
   ]
  },
  {
   "cell_type": "code",
   "execution_count": 9,
   "id": "6945174e",
   "metadata": {},
   "outputs": [],
   "source": [
    "## Average Pool Embeddings for kw1 and kw2\n",
    "temp_res = pd.DataFrame(training_dataset_csv.apply(lambda x: (ft_model.get_sentence_vector(x.kw1), ft_model.get_sentence_vector(x.kw2)), axis=1, result_type='expand'))\n",
    "training_dataset_csv[[\"sentence_vector_embedding_1\", \"sentence_vector_embedding_2\"]] = temp_res"
   ]
  },
  {
   "cell_type": "code",
   "execution_count": 10,
   "id": "456641e1",
   "metadata": {},
   "outputs": [],
   "source": [
    "## Average Pool Embeddings for kw1 and kw2\n",
    "temp_res = pd.DataFrame(testing_dataset_csv.apply(lambda x: (ft_model.get_sentence_vector(x.kw1), ft_model.get_sentence_vector(x.kw2)), axis=1, result_type='expand'))\n",
    "testing_dataset_csv[[\"sentence_vector_embedding_1\", \"sentence_vector_embedding_2\"]] = temp_res"
   ]
  },
  {
   "cell_type": "markdown",
   "id": "308540de",
   "metadata": {},
   "source": [
    "## Gradient Boosting"
   ]
  },
  {
   "cell_type": "markdown",
   "id": "73f40c83",
   "metadata": {},
   "source": [
    "### Standard splitting dtrategy for data"
   ]
  },
  {
   "cell_type": "code",
   "execution_count": 11,
   "id": "74bfac9b",
   "metadata": {},
   "outputs": [],
   "source": [
    "processed_data = complete_dataset_csv.drop(columns=[\"kw1\", \"kw2\"])#.dropna(subset=\"ratio\")\n",
    "\n",
    "training_data_embedding = processed_data.drop(columns=\"label\").iloc[:,0:2]\n",
    "\n",
    "array_1, array_2 = training_data_embedding.to_numpy()[:,0], training_data_embedding.to_numpy()[:,1]\n",
    "\n",
    "array_1 = np.array([np.array(el) for el in array_1])\n",
    "array_2 = np.array([np.array(el) for el in array_2])\n",
    "\n",
    "training_data_embedding = np.concatenate((array_1, array_2),axis=1)\n",
    "\n",
    "X_train, X_test, y_train, y_test = train_test_split(training_data_embedding, processed_data['label'],\n",
    "                                           train_size=0.8, test_size=0.2) # tested"
   ]
  },
  {
   "cell_type": "code",
   "execution_count": 12,
   "id": "07e0cebc",
   "metadata": {},
   "outputs": [
    {
     "data": {
      "text/plain": [
       "GridSearchCV(cv=5,\n",
       "             estimator=GradientBoostingClassifier(max_features='sqrt',\n",
       "                                                  random_state=10,\n",
       "                                                  subsample=0.8),\n",
       "             n_jobs=4,\n",
       "             param_grid={'max_depth': [8], 'min_samples_leaf': [20],\n",
       "                         'min_samples_split': [20], 'n_estimators': [700]},\n",
       "             scoring='f1_weighted')"
      ]
     },
     "execution_count": 12,
     "metadata": {},
     "output_type": "execute_result"
    }
   ],
   "source": [
    "param_test1 = {\n",
    "    'n_estimators': [700],#range(700, 901, 100),\n",
    "    'max_depth': [8],#range(8, 13, 2),\n",
    "    'min_samples_leaf': [20],#range(10, 31, 10),\n",
    "    'min_samples_split': [20]#range(20, 51, 10)\n",
    "}\n",
    "gsearch1 = GridSearchCV(estimator = GradientBoostingClassifier(learning_rate=0.1,max_features='sqrt',subsample=0.8,random_state=10),# min_samples_split=500,min_samples_leaf=50 \n",
    "param_grid = param_test1, scoring='f1_weighted',n_jobs=4, cv=5)\n",
    "gsearch1.fit(X_train,y_train)"
   ]
  },
  {
   "cell_type": "code",
   "execution_count": 13,
   "id": "70fd55a8",
   "metadata": {},
   "outputs": [
    {
     "data": {
      "text/plain": [
       "0.9166887903262874"
      ]
     },
     "execution_count": 13,
     "metadata": {},
     "output_type": "execute_result"
    }
   ],
   "source": [
    "gsearch1.best_score_#gsearch1.cv_results_, gsearch1.best_params_, "
   ]
  },
  {
   "cell_type": "code",
   "execution_count": 14,
   "id": "495805cb",
   "metadata": {},
   "outputs": [],
   "source": [
    "best_model = gsearch1.best_estimator_"
   ]
  },
  {
   "cell_type": "code",
   "execution_count": 15,
   "id": "708a44e1",
   "metadata": {},
   "outputs": [
    {
     "data": {
      "text/plain": [
       "{'max_depth': 8,\n",
       " 'min_samples_leaf': 20,\n",
       " 'min_samples_split': 20,\n",
       " 'n_estimators': 700}"
      ]
     },
     "execution_count": 15,
     "metadata": {},
     "output_type": "execute_result"
    }
   ],
   "source": [
    "best_params_gbm = gsearch1.best_params_\n",
    "best_params_gbm"
   ]
  },
  {
   "cell_type": "code",
   "execution_count": 16,
   "id": "89b13832",
   "metadata": {},
   "outputs": [
    {
     "name": "stdout",
     "output_type": "stream",
     "text": [
      "Maximum number of parameters in our best model: 89600\n"
     ]
    }
   ],
   "source": [
    "print(\"Maximum number of parameters in our best model: {}\".format(best_model.n_estimators_*2**(best_model.max_depth-1)))"
   ]
  },
  {
   "cell_type": "markdown",
   "id": "a88b4d08",
   "metadata": {},
   "source": [
    "###### Performance analysis on test dataset"
   ]
  },
  {
   "cell_type": "code",
   "execution_count": 17,
   "id": "6b662a92",
   "metadata": {},
   "outputs": [
    {
     "data": {
      "text/plain": [
       "array([0., 0., 0., ..., 1., 0., 0.])"
      ]
     },
     "execution_count": 17,
     "metadata": {},
     "output_type": "execute_result"
    }
   ],
   "source": [
    "best_model = gsearch1.best_estimator_\n",
    "y_pred=best_model.predict(X_test)\n",
    "y_pred"
   ]
  },
  {
   "cell_type": "code",
   "execution_count": 18,
   "id": "9e827acd",
   "metadata": {},
   "outputs": [
    {
     "name": "stdout",
     "output_type": "stream",
     "text": [
      "LightGBM Model accuracy score: 0.9271\n"
     ]
    }
   ],
   "source": [
    "accuracy=accuracy_score(y_pred, y_test)\n",
    "print('LightGBM Model accuracy score: {0:0.4f}'.format(accuracy_score(y_test, y_pred)))"
   ]
  },
  {
   "cell_type": "code",
   "execution_count": 20,
   "id": "30423dc7",
   "metadata": {},
   "outputs": [
    {
     "data": {
      "image/png": "[encoded data removed]",
      "text/plain": [
       "<Figure size 432x288 with 2 Axes>"
      ]
     },
     "metadata": {
      "needs_background": "light"
     },
     "output_type": "display_data"
    }
   ],
   "source": [
    "cm = confusion_matrix(y_test, y_pred)\n",
    "\n",
    "# visualize confusion matrix with seaborn heatmap\n",
    "\n",
    "cm_matrix = pd.DataFrame(data=cm, columns=['Actual No order:0', 'Actual root->leaf:1'], \n",
    "                                 index=['Predict No order:0', 'Predict root->leaf:1'])\n",
    "\n",
    "sns.heatmap(cm_matrix, annot=True, fmt='d', cmap='YlGnBu')\n",
    "plt.show()"
   ]
  },
  {
   "cell_type": "code",
   "execution_count": 21,
   "id": "0049d141",
   "metadata": {},
   "outputs": [
    {
     "name": "stdout",
     "output_type": "stream",
     "text": [
      "              precision    recall  f1-score   support\n",
      "\n",
      "         0.0       0.93      0.97      0.95       908\n",
      "         1.0       0.91      0.83      0.87       367\n",
      "\n",
      "    accuracy                           0.93      1275\n",
      "   macro avg       0.92      0.90      0.91      1275\n",
      "weighted avg       0.93      0.93      0.93      1275\n",
      "\n"
     ]
    }
   ],
   "source": [
    "print(classification_report(y_test, y_pred))"
   ]
  },
  {
   "cell_type": "markdown",
   "id": "23b38781",
   "metadata": {},
   "source": [
    "##### Saving Best Classifier"
   ]
  },
  {
   "cell_type": "code",
   "execution_count": 25,
   "id": "cb19b988",
   "metadata": {},
   "outputs": [],
   "source": [
    "pickle.dump(best_model, open(\"Models/GBM_PrerequisiteLearningClassifier_Pretrained.pkl\", \"wb\"))"
   ]
  },
  {
   "cell_type": "markdown",
   "id": "05c31db7",
   "metadata": {},
   "source": [
    "#### Comparing with ACM GBM classifier"
   ]
  },
  {
   "cell_type": "code",
   "execution_count": 24,
   "id": "3eebc077",
   "metadata": {},
   "outputs": [
    {
     "data": {
      "text/plain": [
       "array([0, 0, 0, ..., 0, 0, 0])"
      ]
     },
     "execution_count": 24,
     "metadata": {},
     "output_type": "execute_result"
    }
   ],
   "source": [
    "y_pred=gbm_model1.predict(X_test)\n",
    "y_pred"
   ]
  },
  {
   "cell_type": "code",
   "execution_count": 25,
   "id": "9e827acd",
   "metadata": {},
   "outputs": [
    {
     "name": "stdout",
     "output_type": "stream",
     "text": [
      "LightGBM Model accuracy score: 0.7169\n"
     ]
    }
   ],
   "source": [
    "accuracy=accuracy_score(y_pred, y_test)\n",
    "print('LightGBM Model accuracy score: {0:0.4f}'.format(accuracy_score(y_test, y_pred)))"
   ]
  },
  {
   "cell_type": "code",
   "execution_count": 26,
   "id": "30423dc7",
   "metadata": {},
   "outputs": [
    {
     "data": {
      "image/png": "[encoded data removed]",
      "text/plain": [
       "<Figure size 432x288 with 2 Axes>"
      ]
     },
     "metadata": {
      "needs_background": "light"
     },
     "output_type": "display_data"
    }
   ],
   "source": [
    "cm = confusion_matrix(y_test, y_pred)\n",
    "\n",
    "# visualize confusion matrix with seaborn heatmap\n",
    "\n",
    "cm_matrix = pd.DataFrame(data=cm, columns=['Actual No order:0', 'Actual root->leaf:1'], \n",
    "                                 index=['Predict No order:0', 'Predict root->leaf:1'])\n",
    "\n",
    "sns.heatmap(cm_matrix, annot=True, fmt='d', cmap='YlGnBu')\n",
    "plt.show()"
   ]
  },
  {
   "cell_type": "code",
   "execution_count": 27,
   "id": "0049d141",
   "metadata": {},
   "outputs": [
    {
     "name": "stdout",
     "output_type": "stream",
     "text": [
      "              precision    recall  f1-score   support\n",
      "\n",
      "         0.0       0.72      1.00      0.83       908\n",
      "         1.0       0.80      0.02      0.04       367\n",
      "\n",
      "    accuracy                           0.72      1275\n",
      "   macro avg       0.76      0.51      0.44      1275\n",
      "weighted avg       0.74      0.72      0.61      1275\n",
      "\n"
     ]
    }
   ],
   "source": [
    "print(classification_report(y_test, y_pred))"
   ]
  },
  {
   "cell_type": "markdown",
   "id": "ca1addca",
   "metadata": {},
   "source": [
    "Quasiment pas de transfer learning. H1: La relation de prérequis est similaire à celle d'inclusion de l'arbre d'ACM est rejetté."
   ]
  },
  {
   "cell_type": "markdown",
   "id": "728f9a93",
   "metadata": {},
   "source": [
    "### Tree split of data"
   ]
  },
  {
   "cell_type": "code",
   "execution_count": 28,
   "id": "74bfac9b",
   "metadata": {},
   "outputs": [],
   "source": [
    "processed_data = training_dataset_csv.drop(columns=[\"kw1\", \"kw2\"])#.dropna(subset=\"ratio\")\n",
    "\n",
    "training_data_embedding = processed_data.drop(columns=\"label\").iloc[:,0:2]\n",
    "\n",
    "array_1, array_2 = training_data_embedding.to_numpy()[:,0], training_data_embedding.to_numpy()[:,1]\n",
    "\n",
    "array_1 = np.array([np.array(el) for el in array_1])\n",
    "array_2 = np.array([np.array(el) for el in array_2])\n",
    "\n",
    "training_data_embedding = np.concatenate((array_1, array_2),axis=1)\n",
    "\n",
    "X_train, y_train = training_data_embedding, processed_data['label']"
   ]
  },
  {
   "cell_type": "code",
   "execution_count": 29,
   "id": "dbb23411",
   "metadata": {},
   "outputs": [],
   "source": [
    "processed_data = testing_dataset_csv.drop(columns=[\"kw1\", \"kw2\"])#.dropna(subset=\"ratio\")\n",
    "\n",
    "training_data_embedding = processed_data.drop(columns=\"label\").iloc[:,0:2]\n",
    "\n",
    "array_1, array_2 = training_data_embedding.to_numpy()[:,0], training_data_embedding.to_numpy()[:,1]\n",
    "\n",
    "array_1 = np.array([np.array(el) for el in array_1])\n",
    "array_2 = np.array([np.array(el) for el in array_2])\n",
    "\n",
    "training_data_embedding = np.concatenate((array_1, array_2),axis=1)\n",
    "\n",
    "X_test, y_test = training_data_embedding, processed_data['label']"
   ]
  },
  {
   "cell_type": "code",
   "execution_count": 30,
   "id": "07e0cebc",
   "metadata": {},
   "outputs": [
    {
     "data": {
      "text/plain": [
       "GridSearchCV(cv=5,\n",
       "             estimator=GradientBoostingClassifier(max_features='sqrt',\n",
       "                                                  random_state=10,\n",
       "                                                  subsample=0.8),\n",
       "             n_jobs=4,\n",
       "             param_grid={'max_depth': [8], 'min_samples_leaf': [20],\n",
       "                         'min_samples_split': [20], 'n_estimators': [700]},\n",
       "             scoring='f1_weighted')"
      ]
     },
     "execution_count": 30,
     "metadata": {},
     "output_type": "execute_result"
    }
   ],
   "source": [
    "param_test1 = {\n",
    "    'n_estimators': [700],#range(700, 901, 100),\n",
    "    'max_depth': [8],#range(8, 13, 2),\n",
    "    'min_samples_leaf': [20],#range(10, 31, 10),\n",
    "    'min_samples_split': [20]#range(20, 51, 10)\n",
    "}\n",
    "gsearch1 = GridSearchCV(estimator = GradientBoostingClassifier(learning_rate=0.1,max_features='sqrt',subsample=0.8,random_state=10),# min_samples_split=500,min_samples_leaf=50 \n",
    "param_grid = param_test1, scoring='f1_weighted',n_jobs=4, cv=5)\n",
    "gsearch1.fit(X_train,y_train)"
   ]
  },
  {
   "cell_type": "code",
   "execution_count": 31,
   "id": "70fd55a8",
   "metadata": {},
   "outputs": [
    {
     "data": {
      "text/plain": [
       "0.8533219139698727"
      ]
     },
     "execution_count": 31,
     "metadata": {},
     "output_type": "execute_result"
    }
   ],
   "source": [
    "gsearch1.best_score_#gsearch1.cv_results_, gsearch1.best_params_, "
   ]
  },
  {
   "cell_type": "code",
   "execution_count": 32,
   "id": "495805cb",
   "metadata": {},
   "outputs": [],
   "source": [
    "best_model = gsearch1.best_estimator_"
   ]
  },
  {
   "cell_type": "code",
   "execution_count": 33,
   "id": "708a44e1",
   "metadata": {},
   "outputs": [
    {
     "data": {
      "text/plain": [
       "{'max_depth': 8,\n",
       " 'min_samples_leaf': 20,\n",
       " 'min_samples_split': 20,\n",
       " 'n_estimators': 700}"
      ]
     },
     "execution_count": 33,
     "metadata": {},
     "output_type": "execute_result"
    }
   ],
   "source": [
    "best_params_gbm = gsearch1.best_params_\n",
    "best_params_gbm"
   ]
  },
  {
   "cell_type": "code",
   "execution_count": 34,
   "id": "89b13832",
   "metadata": {},
   "outputs": [
    {
     "name": "stdout",
     "output_type": "stream",
     "text": [
      "Maximum number of parameters in our best model: 89600\n"
     ]
    }
   ],
   "source": [
    "print(\"Maximum number of parameters in our best model: {}\".format(best_model.n_estimators_*2**(best_model.max_depth-1)))"
   ]
  },
  {
   "cell_type": "markdown",
   "id": "a88b4d08",
   "metadata": {},
   "source": [
    "###### Performance analysis on test dataset"
   ]
  },
  {
   "cell_type": "code",
   "execution_count": 35,
   "id": "6b662a92",
   "metadata": {},
   "outputs": [
    {
     "data": {
      "text/plain": [
       "array([0., 0., 0., ..., 1., 0., 1.])"
      ]
     },
     "execution_count": 35,
     "metadata": {},
     "output_type": "execute_result"
    }
   ],
   "source": [
    "best_model = gsearch1.best_estimator_\n",
    "y_pred=best_model.predict(X_test)\n",
    "y_pred"
   ]
  },
  {
   "cell_type": "code",
   "execution_count": 36,
   "id": "9e827acd",
   "metadata": {},
   "outputs": [
    {
     "name": "stdout",
     "output_type": "stream",
     "text": [
      "LightGBM Model accuracy score: 0.7791\n"
     ]
    }
   ],
   "source": [
    "accuracy=accuracy_score(y_pred, y_test)\n",
    "print('LightGBM Model accuracy score: {0:0.4f}'.format(accuracy_score(y_test, y_pred)))"
   ]
  },
  {
   "cell_type": "code",
   "execution_count": 37,
   "id": "30423dc7",
   "metadata": {},
   "outputs": [
    {
     "data": {
      "image/png": "[encoded data removed]",
      "text/plain": [
       "<Figure size 432x288 with 2 Axes>"
      ]
     },
     "metadata": {
      "needs_background": "light"
     },
     "output_type": "display_data"
    }
   ],
   "source": [
    "cm = confusion_matrix(y_test, y_pred)\n",
    "\n",
    "# visualize confusion matrix with seaborn heatmap\n",
    "\n",
    "cm_matrix = pd.DataFrame(data=cm, columns=['Actual No order:0', 'Actual root->leaf:1'], \n",
    "                                 index=['Predict No order:0', 'Predict root->leaf:1'])\n",
    "\n",
    "sns.heatmap(cm_matrix, annot=True, fmt='d', cmap='YlGnBu')\n",
    "plt.show()"
   ]
  },
  {
   "cell_type": "code",
   "execution_count": 38,
   "id": "0049d141",
   "metadata": {},
   "outputs": [
    {
     "name": "stdout",
     "output_type": "stream",
     "text": [
      "              precision    recall  f1-score   support\n",
      "\n",
      "         0.0       0.76      0.99      0.86      1413\n",
      "         1.0       0.95      0.32      0.48       660\n",
      "\n",
      "    accuracy                           0.78      2073\n",
      "   macro avg       0.86      0.66      0.67      2073\n",
      "weighted avg       0.82      0.78      0.74      2073\n",
      "\n"
     ]
    }
   ],
   "source": [
    "print(classification_report(y_test, y_pred))"
   ]
  },
  {
   "cell_type": "markdown",
   "id": "8a0f19b7",
   "metadata": {},
   "source": [
    "We can see that with this split strategy the model has a harder time generalizing on the test dataset. It is still less dreadfull than learning on a completely different dataset like the ACM CCS concept tree."
   ]
  },
  {
   "cell_type": "markdown",
   "id": "23b38781",
   "metadata": {},
   "source": [
    "##### Saving Best Classifier"
   ]
  },
  {
   "cell_type": "code",
   "execution_count": 39,
   "id": "cb19b988",
   "metadata": {},
   "outputs": [],
   "source": [
    "pickle.dump(best_model, open(\"Models/GBM_PrerequisiteLearningClassifier_Pretrained_TreeSplit.pkl\", \"wb\"))"
   ]
  },
  {
   "cell_type": "markdown",
   "id": "05c31db7",
   "metadata": {},
   "source": [
    "#### Comparing with ACM GBM classifier"
   ]
  },
  {
   "cell_type": "code",
   "execution_count": 40,
   "id": "3eebc077",
   "metadata": {},
   "outputs": [
    {
     "data": {
      "text/plain": [
       "array([0, 0, 0, ..., 0, 0, 0])"
      ]
     },
     "execution_count": 40,
     "metadata": {},
     "output_type": "execute_result"
    }
   ],
   "source": [
    "y_pred=gbm_model1.predict(X_test)\n",
    "y_pred"
   ]
  },
  {
   "cell_type": "code",
   "execution_count": 41,
   "id": "9e827acd",
   "metadata": {},
   "outputs": [
    {
     "name": "stdout",
     "output_type": "stream",
     "text": [
      "LightGBM Model accuracy score: 0.6840\n"
     ]
    }
   ],
   "source": [
    "accuracy=accuracy_score(y_pred, y_test)\n",
    "print('LightGBM Model accuracy score: {0:0.4f}'.format(accuracy_score(y_test, y_pred)))"
   ]
  },
  {
   "cell_type": "code",
   "execution_count": 42,
   "id": "30423dc7",
   "metadata": {},
   "outputs": [
    {
     "data": {
      "image/png": "[encoded data removed]",
      "text/plain": [
       "<Figure size 432x288 with 2 Axes>"
      ]
     },
     "metadata": {
      "needs_background": "light"
     },
     "output_type": "display_data"
    }
   ],
   "source": [
    "cm = confusion_matrix(y_test, y_pred)\n",
    "\n",
    "# visualize confusion matrix with seaborn heatmap\n",
    "\n",
    "cm_matrix = pd.DataFrame(data=cm, columns=['Actual No order:0', 'Actual root->leaf:1'], \n",
    "                                 index=['Predict No order:0', 'Predict root->leaf:1'])\n",
    "\n",
    "sns.heatmap(cm_matrix, annot=True, fmt='d', cmap='YlGnBu')\n",
    "plt.show()"
   ]
  },
  {
   "cell_type": "code",
   "execution_count": 43,
   "id": "0049d141",
   "metadata": {},
   "outputs": [
    {
     "name": "stdout",
     "output_type": "stream",
     "text": [
      "              precision    recall  f1-score   support\n",
      "\n",
      "         0.0       0.68      1.00      0.81      1413\n",
      "         1.0       1.00      0.01      0.02       660\n",
      "\n",
      "    accuracy                           0.68      2073\n",
      "   macro avg       0.84      0.50      0.41      2073\n",
      "weighted avg       0.78      0.68      0.56      2073\n",
      "\n"
     ]
    }
   ],
   "source": [
    "print(classification_report(y_test, y_pred))"
   ]
  },
  {
   "cell_type": "markdown",
   "id": "b73aad3f",
   "metadata": {},
   "source": [
    "Still a very bad performance on the test dataset !!"
   ]
  }
 ],
 "metadata": {
  "interpreter": {
   "hash": "00dac3d85057902516a7de3d1bb919e2487cdfcc669671ff52e056662c37d510"
  },
  "kernelspec": {
   "display_name": "kw",
   "language": "python",
   "name": "python3"
  },
  "language_info": {
   "codemirror_mode": {
    "name": "ipython",
    "version": 3
   },
   "file_extension": ".py",
   "mimetype": "text/x-python",
   "name": "python",
   "nbconvert_exporter": "python",
   "pygments_lexer": "ipython3",
   "version": "3.9.12"
  }
 },
 "nbformat": 4,
 "nbformat_minor": 5
}
