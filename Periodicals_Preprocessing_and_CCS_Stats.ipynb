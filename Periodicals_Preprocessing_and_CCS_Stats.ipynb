{
 "cells": [
  {
   "cell_type": "markdown",
   "metadata": {},
   "source": [
    "# Preprocessing of the ACM Periodicals Database"
   ]
  },
  {
   "cell_type": "code",
   "execution_count": 2,
   "metadata": {},
   "outputs": [
    {
     "data": {
      "text/plain": [
       "2"
      ]
     },
     "execution_count": 2,
     "metadata": {},
     "output_type": "execute_result"
    }
   ],
   "source": [
    "import re\n",
    "import glob\n",
    "import sys\n",
    "import json\n",
    "import pandas as pd\n",
    "import numpy as np\n",
    "import seaborn as sns\n",
    "import pickle\n",
    "import matplotlib.pyplot as plt\n",
    "from xml.dom import minidom\n",
    "from xml.parsers.expat import ExpatError\n",
    "from tqdm import tqdm\n",
    "from nltk.stem import WordNetLemmatizer\n",
    "\n",
    "len(\"CCS->Mathematics of computing->Mathematical software\".split(\"->\"))-1"
   ]
  },
  {
   "cell_type": "markdown",
   "metadata": {},
   "source": [
    "content -> (article_rec) -> (categories | ccs2012 | keywords | abstract) \n",
    "ccs2012\n",
    "keywords\n",
    "abstract\n",
    "concept_significance <br>\n",
    "\n",
    "kewywords -> kw <br>\n",
    "abstract -> par"
   ]
  },
  {
   "cell_type": "code",
   "execution_count": null,
   "metadata": {},
   "outputs": [],
   "source": [
    "all_files = glob.glob(\"periodicals/*/*.xml\")\n",
    "all_files"
   ]
  },
  {
   "cell_type": "code",
   "execution_count": null,
   "metadata": {},
   "outputs": [],
   "source": [
    "def kw_preproc(kw):\n",
    "    return kw.lower()"
   ]
  },
  {
   "cell_type": "code",
   "execution_count": null,
   "metadata": {},
   "outputs": [],
   "source": [
    "articles_dict  = {\"doi\":[], \"abstract\":[], \"ft_body\":[], \"ccs\":[], \"keywords\":[]}\n",
    "count_ccs      = {}\n",
    "count_ccs_root = {}\n",
    "count_ccs_kw   = {}\n",
    "bad_data_count = 0\n",
    "bad_xml_count  = 0\n",
    "count_abstract = 0\n",
    "count_body     = 0\n",
    "\n",
    "for i, path in enumerate(tqdm(all_files)):\n",
    "    \n",
    "\n",
    "    try:                                             \n",
    "        mydoc = minidom.parse(path)\n",
    "    except ExpatError:\n",
    "        bad_xml_count += 1\n",
    "        continue\n",
    "\n",
    "\n",
    "    article_rec    = mydoc.getElementsByTagName('article_rec')\n",
    "\n",
    "    for articles in article_rec:\n",
    "        doi_number = articles.getElementsByTagName('doi_number')\n",
    "        article_id = articles.getElementsByTagName('article_id')\n",
    "\n",
    "        if(len(doi_number) > 1):\n",
    "            bad_data_count += 1\n",
    "            # print(\"Two doi numbers\")\n",
    "\n",
    "        # print(doi_number[0].firstChild.data)\n",
    "        if(doi_number[0].firstChild != None):\n",
    "            articles_dict[\"doi\"].append(doi_number[0].firstChild.data)\n",
    "        elif(article_id[0].firstChild != None):\n",
    "            articles_dict[\"doi\"].append(article_id[0].firstChild.data)\n",
    "        else:\n",
    "            continue\n",
    "\n",
    "        abstract = articles.getElementsByTagName('abstract')\n",
    "\n",
    "        if(len(abstract) > 1):\n",
    "            bad_data_count += 1\n",
    "            articles_dict[\"abstract\"].append(abstract[0].getElementsByTagName('par')[0].firstChild.data)\n",
    "            count_abstract += 1\n",
    "            # print(\"Two abstracts\")\n",
    "        elif(len(abstract) == 0):\n",
    "            bad_data_count += 1\n",
    "            # print(\"No Abstract\")\n",
    "            articles_dict[\"abstract\"].append(np.nan)\n",
    "        else:\n",
    "            if(abstract[0].getElementsByTagName('par')[0].firstChild != None):\n",
    "                articles_dict[\"abstract\"].append(abstract[0].getElementsByTagName('par')[0].firstChild.data)\n",
    "            else:\n",
    "                articles_dict[\"abstract\"].append(abstract[0].firstChild.data)\n",
    "            count_abstract += 1\n",
    "\n",
    "        ft_body = articles.getElementsByTagName('ft_body')\n",
    "\n",
    "        if(len(ft_body) > 1):\n",
    "            bad_data_count += 1\n",
    "            articles_dict[\"ft_body\"].append(ft_body[0].firstChild.data)\n",
    "            # print(\"Two bodies\")\n",
    "            count_body     += 1\n",
    "        elif(len(ft_body) == 0):\n",
    "            bad_data_count += 1\n",
    "            # print(\"No Body\")\n",
    "            articles_dict[\"ft_body\"].append(np.nan)\n",
    "        else:\n",
    "            articles_dict[\"ft_body\"].append(ft_body[0].firstChild.data)\n",
    "            count_body     += 1\n",
    "\n",
    "        kw_list = []\n",
    "        for kw in articles.getElementsByTagName('kw'):\n",
    "            # print(kw.firstChild.data) \n",
    "            kw_list.append(kw_preproc(kw.firstChild.data))\n",
    "            \n",
    "        if len(kw_list) > 0:\n",
    "            articles_dict['keywords'].append(kw_list)\n",
    "        else:\n",
    "            articles_dict['keywords'].append(np.nan)\n",
    "\n",
    "        ccs_dict = {}\n",
    "\n",
    "        for concept in articles.getElementsByTagName('concept'):\n",
    "            concept_desc         = concept.getElementsByTagName('concept_desc')\n",
    "            concept_significance = concept.getElementsByTagName('concept_significance')\n",
    "\n",
    "            significance = int(concept_significance[0].firstChild.data)\n",
    "            concept_tree = concept_desc[0].firstChild.data\n",
    "            \n",
    "            if('->' in concept_tree):\n",
    "                concept_root = concept_tree.split(\"->\")[1]\n",
    "            elif('~' in concept_tree):\n",
    "                concept_root = concept_tree.split(\"~\")[0]\n",
    "            else:\n",
    "                # print(concept_tree)\n",
    "                concept_root = concept_tree\n",
    "            # print(concept_tree)\n",
    "            # print(concept_root)\n",
    "            # print(significance)\n",
    "\n",
    "            ## We count concepts only once !\n",
    "            if concept_tree not in ccs_dict.keys():\n",
    "\n",
    "                if concept_root in count_ccs_root.keys():\n",
    "                    count_ccs_root[concept_root] += 1\n",
    "                else:\n",
    "                    count_ccs_root[concept_root]  = 1\n",
    "            \n",
    "                if concept_tree in count_ccs.keys():\n",
    "                    count_ccs[concept_tree] += 1\n",
    "                else:\n",
    "                    count_ccs[concept_tree]  = 1\n",
    "\n",
    "                if concept_tree not in count_ccs_kw.keys() and len(kw_list) > 0:\n",
    "                    count_ccs_kw[concept_tree] = {}\n",
    "                \n",
    "                for kw in kw_list:\n",
    "                    if kw in count_ccs_kw[concept_tree].keys():\n",
    "                        count_ccs_kw[concept_tree][kw] += 1\n",
    "                    else:\n",
    "                        count_ccs_kw[concept_tree][kw]  = 1\n",
    "\n",
    "                ## Adds concept to ccs_dict with sign level\n",
    "                ccs_dict[concept_tree] = significance\n",
    "\n",
    "            elif concept_tree in ccs_dict.keys():\n",
    "                ## Adds concept to ccs_dict with MAX sign level\n",
    "                ccs_dict[concept_tree] = max(significance, ccs_dict[concept_tree])        \n",
    "\n",
    "        \n",
    "        articles_dict['ccs'].append(ccs_dict)\n",
    "\n",
    "\n",
    "\n",
    "print(bad_data_count, bad_xml_count)"
   ]
  },
  {
   "cell_type": "code",
   "execution_count": null,
   "metadata": {},
   "outputs": [],
   "source": [
    "print(\"Number of abstracts: \", count_abstract)\n",
    "print(\"Number of bodies: \", count_body)"
   ]
  },
  {
   "cell_type": "markdown",
   "metadata": {},
   "source": [
    "#### Save the created data:"
   ]
  },
  {
   "cell_type": "code",
   "execution_count": null,
   "metadata": {},
   "outputs": [],
   "source": [
    "with open('Data/count_ccs.json', 'w') as fp:\n",
    "    json.dump(count_ccs, fp)\n",
    "\n",
    "with open('Data/count_ccs_root.json', 'w') as fp:\n",
    "    json.dump(count_ccs_root, fp)\n",
    "\n",
    "with open('Data/count_ccs_kw.json', 'w') as fp:\n",
    "    json.dump(count_ccs_kw, fp)\n",
    "\n",
    "with open('Data/articles_dict.json', 'w') as fp:\n",
    "    json.dump(articles_dict, fp)"
   ]
  },
  {
   "cell_type": "markdown",
   "metadata": {},
   "source": [
    "### Stats on the ACM DataBase"
   ]
  },
  {
   "cell_type": "markdown",
   "metadata": {},
   "source": [
    "##### Load Data"
   ]
  },
  {
   "cell_type": "code",
   "execution_count": 2,
   "metadata": {},
   "outputs": [
    {
     "name": "stdout",
     "output_type": "stream",
     "text": [
      "Type: <class 'dict'>\n"
     ]
    }
   ],
   "source": [
    "with open('Data/count_ccs.json', 'r') as fp:\n",
    "    count_ccs = json.load(fp)\n",
    " \n",
    "    # Print the type of data variable\n",
    "    print(\"Type:\", type(count_ccs))\n",
    "\n",
    "with open('Data/count_ccs_root.json', 'r') as fp:\n",
    "    count_ccs_root = json.load(fp)\n",
    "\n",
    "with open('Data/count_ccs_kw.json', 'r') as fp:\n",
    "    count_ccs_kw = json.load(fp)\n",
    "\n",
    "with open('Data/articles_dict.json', 'r') as fp:\n",
    "    articles_dict = json.load(fp)\n"
   ]
  },
  {
   "cell_type": "markdown",
   "metadata": {},
   "source": [
    "##### Descr of the Created DataFrame"
   ]
  },
  {
   "cell_type": "code",
   "execution_count": 3,
   "metadata": {},
   "outputs": [
    {
     "data": {
      "text/html": [
       "<div>\n",
       "<style scoped>\n",
       "    .dataframe tbody tr th:only-of-type {\n",
       "        vertical-align: middle;\n",
       "    }\n",
       "\n",
       "    .dataframe tbody tr th {\n",
       "        vertical-align: top;\n",
       "    }\n",
       "\n",
       "    .dataframe thead th {\n",
       "        text-align: right;\n",
       "    }\n",
       "</style>\n",
       "<table border=\"1\" class=\"dataframe\">\n",
       "  <thead>\n",
       "    <tr style=\"text-align: right;\">\n",
       "      <th></th>\n",
       "      <th>doi</th>\n",
       "      <th>abstract</th>\n",
       "      <th>ft_body</th>\n",
       "      <th>ccs</th>\n",
       "      <th>keywords</th>\n",
       "    </tr>\n",
       "  </thead>\n",
       "  <tbody>\n",
       "    <tr>\n",
       "      <th>107908</th>\n",
       "      <td>10.1145/2767134</td>\n",
       "      <td>&lt;p&gt;Online social media allow users to interact...</td>\n",
       "      <td>\\n Detection of Political Manipulation in Onli...</td>\n",
       "      <td>{'CCS-&gt;Information systems-&gt;World Wide Web-&gt;We...</td>\n",
       "      <td>[online social media, machine learning, opinio...</td>\n",
       "    </tr>\n",
       "    <tr>\n",
       "      <th>107909</th>\n",
       "      <td>10.1145/2767135</td>\n",
       "      <td>&lt;p&gt;A classifier that determines if a webpage i...</td>\n",
       "      <td>\\n Improving Researcher Homepage Classi.cation...</td>\n",
       "      <td>{'CCS-&gt;Information systems-&gt;Information retrie...</td>\n",
       "      <td>[researcher homepage classification, co-traini...</td>\n",
       "    </tr>\n",
       "    <tr>\n",
       "      <th>107910</th>\n",
       "      <td>10.1145/2789211</td>\n",
       "      <td>&lt;p&gt;There has been a recent swell of interest i...</td>\n",
       "      <td>\\n Diversionary Comments under Blog Posts JING...</td>\n",
       "      <td>{'Mathematics of computing~Bayesian networks':...</td>\n",
       "      <td>[diversionary comments, classification, corefe...</td>\n",
       "    </tr>\n",
       "    <tr>\n",
       "      <th>107911</th>\n",
       "      <td>10.1145/2790304</td>\n",
       "      <td>&lt;p&gt;This work addresses the problem of estimati...</td>\n",
       "      <td>\\n Estimating Clustering Coef.cients and Size ...</td>\n",
       "      <td>{'CCS-&gt;Theory of computation-&gt;Design and analy...</td>\n",
       "      <td>[estimation, clustering coefficient, sampling,...</td>\n",
       "    </tr>\n",
       "    <tr>\n",
       "      <th>107912</th>\n",
       "      <td>10.1145/2812812</td>\n",
       "      <td>&lt;p&gt;The Web 2.0 brought new requirements to the...</td>\n",
       "      <td>\\n Fona: Quantitative Metric to Measure Focus ...</td>\n",
       "      <td>{'CCS-&gt;Hardware': 500}</td>\n",
       "      <td>[aria, focus navigation, web accessibility]</td>\n",
       "    </tr>\n",
       "  </tbody>\n",
       "</table>\n",
       "</div>"
      ],
      "text/plain": [
       "                    doi                                           abstract  \\\n",
       "107908  10.1145/2767134  <p>Online social media allow users to interact...   \n",
       "107909  10.1145/2767135  <p>A classifier that determines if a webpage i...   \n",
       "107910  10.1145/2789211  <p>There has been a recent swell of interest i...   \n",
       "107911  10.1145/2790304  <p>This work addresses the problem of estimati...   \n",
       "107912  10.1145/2812812  <p>The Web 2.0 brought new requirements to the...   \n",
       "\n",
       "                                                  ft_body  \\\n",
       "107908  \\n Detection of Political Manipulation in Onli...   \n",
       "107909  \\n Improving Researcher Homepage Classi.cation...   \n",
       "107910  \\n Diversionary Comments under Blog Posts JING...   \n",
       "107911  \\n Estimating Clustering Coef.cients and Size ...   \n",
       "107912  \\n Fona: Quantitative Metric to Measure Focus ...   \n",
       "\n",
       "                                                      ccs  \\\n",
       "107908  {'CCS->Information systems->World Wide Web->We...   \n",
       "107909  {'CCS->Information systems->Information retrie...   \n",
       "107910  {'Mathematics of computing~Bayesian networks':...   \n",
       "107911  {'CCS->Theory of computation->Design and analy...   \n",
       "107912                             {'CCS->Hardware': 500}   \n",
       "\n",
       "                                                 keywords  \n",
       "107908  [online social media, machine learning, opinio...  \n",
       "107909  [researcher homepage classification, co-traini...  \n",
       "107910  [diversionary comments, classification, corefe...  \n",
       "107911  [estimation, clustering coefficient, sampling,...  \n",
       "107912        [aria, focus navigation, web accessibility]  "
      ]
     },
     "execution_count": 3,
     "metadata": {},
     "output_type": "execute_result"
    }
   ],
   "source": [
    "articles_df = pd.DataFrame(articles_dict)\n",
    "articles_df.tail()"
   ]
  },
  {
   "cell_type": "code",
   "execution_count": 4,
   "metadata": {},
   "outputs": [
    {
     "data": {
      "text/plain": [
       "40466"
      ]
     },
     "execution_count": 4,
     "metadata": {},
     "output_type": "execute_result"
    }
   ],
   "source": [
    "## Number of articles with keywords\n",
    "articles_df.shape[0] - articles_df.keywords.isna().sum()"
   ]
  },
  {
   "cell_type": "code",
   "execution_count": 7,
   "metadata": {},
   "outputs": [
    {
     "data": {
      "text/plain": [
       "107913"
      ]
     },
     "execution_count": 7,
     "metadata": {},
     "output_type": "execute_result"
    }
   ],
   "source": [
    "## Number of articles with ccs\n",
    "articles_df.shape[0] - articles_df.ccs.isna().sum()"
   ]
  },
  {
   "cell_type": "code",
   "execution_count": null,
   "metadata": {},
   "outputs": [],
   "source": [
    "articles_df['ccs'].iloc[1]"
   ]
  },
  {
   "cell_type": "markdown",
   "metadata": {},
   "source": [
    "#### Preprocessing text data\n",
    "Our pre-processing steps are:\n",
    "- Removing HTML tags like `<p>`\n",
    "- Removing URLs\n",
    "- Removing email addresses\n",
    "- Removing soft hyphens (\\xag)\n",
    "- Remove punctuation `,.;@#?!&$()`\n",
    "- Lower casing\n",
    "- Tokenization\n",
    "- Removing Stop words\n",
    "- Lemmatization (to understand meaning in examples)\n",
    "- Concatenation and seperation by spaces"
   ]
  },
  {
   "cell_type": "code",
   "execution_count": 4,
   "metadata": {},
   "outputs": [
    {
     "name": "stderr",
     "output_type": "stream",
     "text": [
      "[nltk_data] Downloading package wordnet to /home/jcl/nltk_data...\n",
      "[nltk_data]   Package wordnet is already up-to-date!\n",
      "[nltk_data] Downloading package omw-1.4 to /home/jcl/nltk_data...\n",
      "[nltk_data]   Package omw-1.4 is already up-to-date!\n"
     ]
    }
   ],
   "source": [
    "import nltk\n",
    "from nltk.stem import WordNetLemmatizer\n",
    "from Scripts.util import stringPreprocessing\n",
    "\n",
    "stopwords = nltk.corpus.stopwords.words('english')\n",
    "wordnet_lemmatizer = WordNetLemmatizer()\n"
   ]
  },
  {
   "cell_type": "code",
   "execution_count": 149,
   "metadata": {},
   "outputs": [
    {
     "data": {
      "text/plain": [
       "'hello keywords ham cheese let u see going handle every character string test test word-ing good'"
      ]
     },
     "execution_count": 149,
     "metadata": {},
     "output_type": "execute_result"
    }
   ],
   "source": [
    "## Example here\n",
    "str_test = \"\"\"\n",
    "<p><>Hello, the keywords here <i>are</i> <b>Ham</b> and (<b>Cheese</b>). \n",
    "Let us see how it is going to handle every characters in this string. (TESTs?|TEST)<></p><br>\\n \n",
    "jc@l.com @ word-ing is good here: https://liveloveresearch.com. \n",
    "from DOI: http://dx.doi.org/10.1145/2790304 \n",
    "\"\"\"\n",
    "stringPreprocessing(str_test)"
   ]
  },
  {
   "cell_type": "markdown",
   "metadata": {},
   "source": [
    "##### Preprocessing abstracts, bodies, and keywords"
   ]
  },
  {
   "cell_type": "code",
   "execution_count": 234,
   "metadata": {},
   "outputs": [],
   "source": [
    "### Processing abstracts, bodies, and keywords\n",
    "articles_df['abstract_processed'] = articles_df.abstract.apply(lambda x: stringPreprocessing(x) if not pd.isnull(x) else np.nan)\n",
    "articles_df['ft_body_processed']  = articles_df.ft_body.apply(lambda x: stringPreprocessing(x) if not pd.isnull(x) else np.nan)\n",
    "articles_df['kw_processed']       = articles_df.keywords.apply(lambda x: [stringPreprocessing(kw) for kw in x] if hasattr(x, \"__len__\") else np.nan)"
   ]
  },
  {
   "cell_type": "code",
   "execution_count": 17,
   "metadata": {},
   "outputs": [
    {
     "data": {
      "text/plain": [
       "True"
      ]
     },
     "execution_count": 17,
     "metadata": {},
     "output_type": "execute_result"
    }
   ],
   "source": [
    "## Check if we maintained the same amount of articles with keywords\n",
    "articles_df.keywords.isna().sum() == articles_df.kw_processed.isna().sum()"
   ]
  },
  {
   "cell_type": "code",
   "execution_count": 236,
   "metadata": {},
   "outputs": [
    {
     "data": {
      "text/html": [
       "<div>\n",
       "<style scoped>\n",
       "    .dataframe tbody tr th:only-of-type {\n",
       "        vertical-align: middle;\n",
       "    }\n",
       "\n",
       "    .dataframe tbody tr th {\n",
       "        vertical-align: top;\n",
       "    }\n",
       "\n",
       "    .dataframe thead th {\n",
       "        text-align: right;\n",
       "    }\n",
       "</style>\n",
       "<table border=\"1\" class=\"dataframe\">\n",
       "  <thead>\n",
       "    <tr style=\"text-align: right;\">\n",
       "      <th></th>\n",
       "      <th>abstract_processed</th>\n",
       "      <th>ft_body_processed</th>\n",
       "      <th>kw_processed</th>\n",
       "    </tr>\n",
       "  </thead>\n",
       "  <tbody>\n",
       "    <tr>\n",
       "      <th>107908</th>\n",
       "      <td>online social medium allow user interact one a...</td>\n",
       "      <td>detection political manipulation online commun...</td>\n",
       "      <td>[online social medium, machine learning, opini...</td>\n",
       "    </tr>\n",
       "    <tr>\n",
       "      <th>107909</th>\n",
       "      <td>classifier determines webpage relevant specifi...</td>\n",
       "      <td>improving researcher homepage classi cation un...</td>\n",
       "      <td>[researcher homepage classification, co-traini...</td>\n",
       "    </tr>\n",
       "    <tr>\n",
       "      <th>107910</th>\n",
       "      <td>recent swell interest analysis blog comment ho...</td>\n",
       "      <td>diversionary comment blog post jing wang cleme...</td>\n",
       "      <td>[diversionary comment, classification, corefer...</td>\n",
       "    </tr>\n",
       "    <tr>\n",
       "      <th>107911</th>\n",
       "      <td>work address problem estimating social network...</td>\n",
       "      <td>estimating clustering coef cients size social ...</td>\n",
       "      <td>[estimation, clustering coefficient, sampling,...</td>\n",
       "    </tr>\n",
       "    <tr>\n",
       "      <th>107912</th>\n",
       "      <td>web 2 0 brought new requirement architecture w...</td>\n",
       "      <td>fona quantitative metric measure focus navigat...</td>\n",
       "      <td>[aria, focus navigation, web accessibility]</td>\n",
       "    </tr>\n",
       "  </tbody>\n",
       "</table>\n",
       "</div>"
      ],
      "text/plain": [
       "                                       abstract_processed  \\\n",
       "107908  online social medium allow user interact one a...   \n",
       "107909  classifier determines webpage relevant specifi...   \n",
       "107910  recent swell interest analysis blog comment ho...   \n",
       "107911  work address problem estimating social network...   \n",
       "107912  web 2 0 brought new requirement architecture w...   \n",
       "\n",
       "                                        ft_body_processed  \\\n",
       "107908  detection political manipulation online commun...   \n",
       "107909  improving researcher homepage classi cation un...   \n",
       "107910  diversionary comment blog post jing wang cleme...   \n",
       "107911  estimating clustering coef cients size social ...   \n",
       "107912  fona quantitative metric measure focus navigat...   \n",
       "\n",
       "                                             kw_processed  \n",
       "107908  [online social medium, machine learning, opini...  \n",
       "107909  [researcher homepage classification, co-traini...  \n",
       "107910  [diversionary comment, classification, corefer...  \n",
       "107911  [estimation, clustering coefficient, sampling,...  \n",
       "107912        [aria, focus navigation, web accessibility]  "
      ]
     },
     "execution_count": 236,
     "metadata": {},
     "output_type": "execute_result"
    }
   ],
   "source": [
    "articles_df[['abstract_processed', 'ft_body_processed', 'kw_processed']].tail()"
   ]
  },
  {
   "cell_type": "markdown",
   "metadata": {},
   "source": [
    "##### Preprocessing CCS concepts\n",
    "FULL POWER OF APPLY [HERE](https://stackoverflow.com/questions/20829748/pandas-assigning-multiple-new-columns-simultaneously)"
   ]
  },
  {
   "cell_type": "code",
   "execution_count": 186,
   "metadata": {},
   "outputs": [
    {
     "name": "stdout",
     "output_type": "stream",
     "text": [
      "{'CCS->Mathematics of computing->Mathematical analysis->Functional analysis->Approximation': 100, 'CCS->Theory of computation->Design and analysis of algorithms->Approximation algorithms analysis': 100, 'CCS->Mathematics of computing->Mathematical analysis->Numerical analysis->Computations on matrices': 500, 'CCS->Computing methodologies->Symbolic and algebraic manipulation->Symbolic and algebraic algorithms->Linear algebra algorithms': 500}\n"
     ]
    },
    {
     "data": {
      "text/plain": [
       "('mathematics computing',\n",
       " 'computation matrix',\n",
       " [('mathematics computing', 'computation matrix'),\n",
       "  ('computing methodology', 'linear algebra algorithm')])"
      ]
     },
     "execution_count": 186,
     "metadata": {},
     "output_type": "execute_result"
    }
   ],
   "source": [
    "## Example\n",
    "print(articles_df['ccs'].iloc[2002])\n",
    "ExtractMainRootLeafAndConcepts(articles_df['ccs'].iloc[2002])"
   ]
  },
  {
   "cell_type": "code",
   "execution_count": null,
   "metadata": {},
   "outputs": [],
   "source": [
    "from Scripts.util import ExtractMainRootLeafAndConcepts\n",
    "res = articles_df['ccs'].apply(ExtractMainRootLeafAndConcepts)\n",
    "res_np = np.array([np.array(el) for el in res])\n",
    "\n",
    "articles_df[['main_concept_root', 'main_concept_leaf', 'high_Importance_concept_roots_and_leafs']] = res_np"
   ]
  },
  {
   "cell_type": "code",
   "execution_count": 4,
   "metadata": {},
   "outputs": [
    {
     "data": {
      "text/html": [
       "<div>\n",
       "<style scoped>\n",
       "    .dataframe tbody tr th:only-of-type {\n",
       "        vertical-align: middle;\n",
       "    }\n",
       "\n",
       "    .dataframe tbody tr th {\n",
       "        vertical-align: top;\n",
       "    }\n",
       "\n",
       "    .dataframe thead th {\n",
       "        text-align: right;\n",
       "    }\n",
       "</style>\n",
       "<table border=\"1\" class=\"dataframe\">\n",
       "  <thead>\n",
       "    <tr style=\"text-align: right;\">\n",
       "      <th></th>\n",
       "      <th>main_concept_root</th>\n",
       "      <th>main_concept_leaf</th>\n",
       "      <th>high_Importance_concept_roots_and_leafs</th>\n",
       "    </tr>\n",
       "  </thead>\n",
       "  <tbody>\n",
       "    <tr>\n",
       "      <th>107908</th>\n",
       "      <td>information system</td>\n",
       "      <td>web application</td>\n",
       "      <td>[('information system', 'web application'), ('...</td>\n",
       "    </tr>\n",
       "    <tr>\n",
       "      <th>107909</th>\n",
       "      <td>information system</td>\n",
       "      <td>information retrieval</td>\n",
       "      <td>[('information system', 'information retrieval')]</td>\n",
       "    </tr>\n",
       "    <tr>\n",
       "      <th>107910</th>\n",
       "      <td>mathematics computing</td>\n",
       "      <td>bayesian network</td>\n",
       "      <td>[('mathematics computing', 'bayesian network')...</td>\n",
       "    </tr>\n",
       "    <tr>\n",
       "      <th>107911</th>\n",
       "      <td>theory computation</td>\n",
       "      <td>design analysis algorithm</td>\n",
       "      <td>[('theory computation', 'design analysis algor...</td>\n",
       "    </tr>\n",
       "    <tr>\n",
       "      <th>107912</th>\n",
       "      <td>NaN</td>\n",
       "      <td>NaN</td>\n",
       "      <td>[(nan, nan)]</td>\n",
       "    </tr>\n",
       "  </tbody>\n",
       "</table>\n",
       "</div>"
      ],
      "text/plain": [
       "            main_concept_root          main_concept_leaf  \\\n",
       "107908     information system            web application   \n",
       "107909     information system      information retrieval   \n",
       "107910  mathematics computing           bayesian network   \n",
       "107911     theory computation  design analysis algorithm   \n",
       "107912                    NaN                        NaN   \n",
       "\n",
       "                  high_Importance_concept_roots_and_leafs  \n",
       "107908  [('information system', 'web application'), ('...  \n",
       "107909  [('information system', 'information retrieval')]  \n",
       "107910  [('mathematics computing', 'bayesian network')...  \n",
       "107911  [('theory computation', 'design analysis algor...  \n",
       "107912                                       [(nan, nan)]  "
      ]
     },
     "execution_count": 4,
     "metadata": {},
     "output_type": "execute_result"
    }
   ],
   "source": [
    "articles_df[['main_concept_root', 'main_concept_leaf', 'high_Importance_concept_roots_and_leafs']].tail()"
   ]
  },
  {
   "cell_type": "markdown",
   "metadata": {},
   "source": [
    "###### Saving Processed Data"
   ]
  },
  {
   "cell_type": "code",
   "execution_count": 235,
   "metadata": {},
   "outputs": [],
   "source": [
    "articles_df.to_csv(\"Data/data_processed.csv\", index=False)"
   ]
  },
  {
   "cell_type": "markdown",
   "metadata": {},
   "source": [
    "###### Loading the data"
   ]
  },
  {
   "cell_type": "code",
   "execution_count": 3,
   "metadata": {},
   "outputs": [],
   "source": [
    "articles_df = pd.read_csv(\"Data/data_processed.csv\")"
   ]
  },
  {
   "cell_type": "markdown",
   "metadata": {},
   "source": [
    "#### Stats on abstracts"
   ]
  },
  {
   "cell_type": "code",
   "execution_count": 238,
   "metadata": {},
   "outputs": [
    {
     "data": {
      "text/plain": [
       "76508"
      ]
     },
     "execution_count": 238,
     "metadata": {},
     "output_type": "execute_result"
    }
   ],
   "source": [
    "## Number of articles with abstracts\n",
    "articles_df.shape[0] - articles_df.abstract.isna().sum()"
   ]
  },
  {
   "cell_type": "code",
   "execution_count": 239,
   "metadata": {},
   "outputs": [
    {
     "data": {
      "text/html": [
       "<div>\n",
       "<style scoped>\n",
       "    .dataframe tbody tr th:only-of-type {\n",
       "        vertical-align: middle;\n",
       "    }\n",
       "\n",
       "    .dataframe tbody tr th {\n",
       "        vertical-align: top;\n",
       "    }\n",
       "\n",
       "    .dataframe thead th {\n",
       "        text-align: right;\n",
       "    }\n",
       "</style>\n",
       "<table border=\"1\" class=\"dataframe\">\n",
       "  <thead>\n",
       "    <tr style=\"text-align: right;\">\n",
       "      <th></th>\n",
       "      <th>abstract word length</th>\n",
       "    </tr>\n",
       "  </thead>\n",
       "  <tbody>\n",
       "    <tr>\n",
       "      <th>count</th>\n",
       "      <td>76508.000000</td>\n",
       "    </tr>\n",
       "    <tr>\n",
       "      <th>mean</th>\n",
       "      <td>85.064751</td>\n",
       "    </tr>\n",
       "    <tr>\n",
       "      <th>std</th>\n",
       "      <td>59.098059</td>\n",
       "    </tr>\n",
       "    <tr>\n",
       "      <th>min</th>\n",
       "      <td>0.000000</td>\n",
       "    </tr>\n",
       "    <tr>\n",
       "      <th>25%</th>\n",
       "      <td>48.000000</td>\n",
       "    </tr>\n",
       "    <tr>\n",
       "      <th>50%</th>\n",
       "      <td>79.000000</td>\n",
       "    </tr>\n",
       "    <tr>\n",
       "      <th>75%</th>\n",
       "      <td>114.000000</td>\n",
       "    </tr>\n",
       "    <tr>\n",
       "      <th>max</th>\n",
       "      <td>2869.000000</td>\n",
       "    </tr>\n",
       "  </tbody>\n",
       "</table>\n",
       "</div>"
      ],
      "text/plain": [
       "       abstract word length\n",
       "count          76508.000000\n",
       "mean              85.064751\n",
       "std               59.098059\n",
       "min                0.000000\n",
       "25%               48.000000\n",
       "50%               79.000000\n",
       "75%              114.000000\n",
       "max             2869.000000"
      ]
     },
     "execution_count": 239,
     "metadata": {},
     "output_type": "execute_result"
    }
   ],
   "source": [
    "articles_abstract_df = articles_df.dropna(subset=\"abstract_processed\")\n",
    "depth_df = pd.DataFrame({\"article\": articles_abstract_df['doi'], \"abstract word length\": [len(abs.split()) for abs in articles_abstract_df['abstract_processed']]})\n",
    "depth_df.describe()"
   ]
  },
  {
   "cell_type": "markdown",
   "metadata": {},
   "source": [
    "#### Stats on Bodies"
   ]
  },
  {
   "cell_type": "code",
   "execution_count": 240,
   "metadata": {},
   "outputs": [
    {
     "data": {
      "text/plain": [
       "106152"
      ]
     },
     "execution_count": 240,
     "metadata": {},
     "output_type": "execute_result"
    }
   ],
   "source": [
    "## Number of articles with ft_body\n",
    "articles_df.shape[0] - articles_df.ft_body.isna().sum()"
   ]
  },
  {
   "cell_type": "code",
   "execution_count": 241,
   "metadata": {},
   "outputs": [
    {
     "data": {
      "text/html": [
       "<div>\n",
       "<style scoped>\n",
       "    .dataframe tbody tr th:only-of-type {\n",
       "        vertical-align: middle;\n",
       "    }\n",
       "\n",
       "    .dataframe tbody tr th {\n",
       "        vertical-align: top;\n",
       "    }\n",
       "\n",
       "    .dataframe thead th {\n",
       "        text-align: right;\n",
       "    }\n",
       "</style>\n",
       "<table border=\"1\" class=\"dataframe\">\n",
       "  <thead>\n",
       "    <tr style=\"text-align: right;\">\n",
       "      <th></th>\n",
       "      <th>abstract word length</th>\n",
       "    </tr>\n",
       "  </thead>\n",
       "  <tbody>\n",
       "    <tr>\n",
       "      <th>count</th>\n",
       "      <td>106152.000000</td>\n",
       "    </tr>\n",
       "    <tr>\n",
       "      <th>mean</th>\n",
       "      <td>3500.733731</td>\n",
       "    </tr>\n",
       "    <tr>\n",
       "      <th>std</th>\n",
       "      <td>3595.294293</td>\n",
       "    </tr>\n",
       "    <tr>\n",
       "      <th>min</th>\n",
       "      <td>0.000000</td>\n",
       "    </tr>\n",
       "    <tr>\n",
       "      <th>25%</th>\n",
       "      <td>781.000000</td>\n",
       "    </tr>\n",
       "    <tr>\n",
       "      <th>50%</th>\n",
       "      <td>2304.000000</td>\n",
       "    </tr>\n",
       "    <tr>\n",
       "      <th>75%</th>\n",
       "      <td>5615.000000</td>\n",
       "    </tr>\n",
       "    <tr>\n",
       "      <th>max</th>\n",
       "      <td>111475.000000</td>\n",
       "    </tr>\n",
       "  </tbody>\n",
       "</table>\n",
       "</div>"
      ],
      "text/plain": [
       "       abstract word length\n",
       "count         106152.000000\n",
       "mean            3500.733731\n",
       "std             3595.294293\n",
       "min                0.000000\n",
       "25%              781.000000\n",
       "50%             2304.000000\n",
       "75%             5615.000000\n",
       "max           111475.000000"
      ]
     },
     "execution_count": 241,
     "metadata": {},
     "output_type": "execute_result"
    }
   ],
   "source": [
    "articles_bodies_df = articles_df.dropna(subset=\"ft_body_processed\")\n",
    "depth_df = pd.DataFrame({\"article\": articles_bodies_df['doi'], \"abstract word length\": [len(bd.split()) for bd in articles_bodies_df['ft_body_processed']]})\n",
    "depth_df.describe()"
   ]
  },
  {
   "cell_type": "markdown",
   "metadata": {},
   "source": [
    "#### Stats on CCS concepts"
   ]
  },
  {
   "cell_type": "code",
   "execution_count": 245,
   "metadata": {},
   "outputs": [
    {
     "data": {
      "text/plain": [
       "85278"
      ]
     },
     "execution_count": 245,
     "metadata": {},
     "output_type": "execute_result"
    }
   ],
   "source": [
    "## Number of articles with ccs concepts\n",
    "articles_df.shape[0] - articles_df['high_Importance_concept_roots_and_leafs'].isna().sum()"
   ]
  },
  {
   "cell_type": "markdown",
   "metadata": {},
   "source": [
    "##### Number of different leafs and roots"
   ]
  },
  {
   "cell_type": "code",
   "execution_count": 220,
   "metadata": {},
   "outputs": [
    {
     "name": "stdout",
     "output_type": "stream",
     "text": [
      "There are main_concept_root    13\n",
      "dtype: int64 different roots\n"
     ]
    },
    {
     "data": {
      "text/html": [
       "<div>\n",
       "<style scoped>\n",
       "    .dataframe tbody tr th:only-of-type {\n",
       "        vertical-align: middle;\n",
       "    }\n",
       "\n",
       "    .dataframe tbody tr th {\n",
       "        vertical-align: top;\n",
       "    }\n",
       "\n",
       "    .dataframe thead th {\n",
       "        text-align: right;\n",
       "    }\n",
       "</style>\n",
       "<table border=\"1\" class=\"dataframe\">\n",
       "  <thead>\n",
       "    <tr style=\"text-align: right;\">\n",
       "      <th></th>\n",
       "      <th>main_concept_root</th>\n",
       "    </tr>\n",
       "  </thead>\n",
       "  <tbody>\n",
       "    <tr>\n",
       "      <th>software engineering</th>\n",
       "      <td>16770</td>\n",
       "    </tr>\n",
       "    <tr>\n",
       "      <th>social professional topic</th>\n",
       "      <td>9665</td>\n",
       "    </tr>\n",
       "    <tr>\n",
       "      <th>computing methodology</th>\n",
       "      <td>8765</td>\n",
       "    </tr>\n",
       "    <tr>\n",
       "      <th>information system</th>\n",
       "      <td>7512</td>\n",
       "    </tr>\n",
       "    <tr>\n",
       "      <th>theory computation</th>\n",
       "      <td>5835</td>\n",
       "    </tr>\n",
       "    <tr>\n",
       "      <th>network</th>\n",
       "      <td>5297</td>\n",
       "    </tr>\n",
       "    <tr>\n",
       "      <th>applied computing</th>\n",
       "      <td>5041</td>\n",
       "    </tr>\n",
       "    <tr>\n",
       "      <th>mathematics computing</th>\n",
       "      <td>4688</td>\n",
       "    </tr>\n",
       "    <tr>\n",
       "      <th>human-centered computing</th>\n",
       "      <td>4661</td>\n",
       "    </tr>\n",
       "    <tr>\n",
       "      <th>general reference</th>\n",
       "      <td>4024</td>\n",
       "    </tr>\n",
       "    <tr>\n",
       "      <th>hardware</th>\n",
       "      <td>3749</td>\n",
       "    </tr>\n",
       "    <tr>\n",
       "      <th>computer system organization</th>\n",
       "      <td>3578</td>\n",
       "    </tr>\n",
       "    <tr>\n",
       "      <th>security privacy</th>\n",
       "      <td>1084</td>\n",
       "    </tr>\n",
       "    <tr>\n",
       "      <th>information integration</th>\n",
       "      <td>1</td>\n",
       "    </tr>\n",
       "    <tr>\n",
       "      <th>interaction device</th>\n",
       "      <td>1</td>\n",
       "    </tr>\n",
       "    <tr>\n",
       "      <th>computer-communication network</th>\n",
       "      <td>1</td>\n",
       "    </tr>\n",
       "    <tr>\n",
       "      <th>memory characteristic</th>\n",
       "      <td>1</td>\n",
       "    </tr>\n",
       "    <tr>\n",
       "      <th>ai technology</th>\n",
       "      <td>1</td>\n",
       "    </tr>\n",
       "    <tr>\n",
       "      <th>machine learning</th>\n",
       "      <td>1</td>\n",
       "    </tr>\n",
       "    <tr>\n",
       "      <th>theory</th>\n",
       "      <td>1</td>\n",
       "    </tr>\n",
       "    <tr>\n",
       "      <th>information system application</th>\n",
       "      <td>1</td>\n",
       "    </tr>\n",
       "    <tr>\n",
       "      <th>computer application</th>\n",
       "      <td>1</td>\n",
       "    </tr>\n",
       "  </tbody>\n",
       "</table>\n",
       "</div>"
      ],
      "text/plain": [
       "                                main_concept_root\n",
       "software engineering                        16770\n",
       "social professional topic                    9665\n",
       "computing methodology                        8765\n",
       "information system                           7512\n",
       "theory computation                           5835\n",
       "network                                      5297\n",
       "applied computing                            5041\n",
       "mathematics computing                        4688\n",
       "human-centered computing                     4661\n",
       "general reference                            4024\n",
       "hardware                                     3749\n",
       "computer system organization                 3578\n",
       "security privacy                             1084\n",
       "information integration                         1\n",
       "interaction device                              1\n",
       "computer-communication network                  1\n",
       "memory characteristic                           1\n",
       "ai technology                                   1\n",
       "machine learning                                1\n",
       "theory                                          1\n",
       "information system application                  1\n",
       "computer application                            1"
      ]
     },
     "execution_count": 220,
     "metadata": {},
     "output_type": "execute_result"
    }
   ],
   "source": [
    "root_occ = pd.DataFrame(articles_df['main_concept_root'].value_counts())\n",
    "num_diff_roots = (root_occ > 1).sum()\n",
    "print(\"There are {0} different roots\".format(num_diff_roots))\n",
    "root_occ.head(22)"
   ]
  },
  {
   "cell_type": "code",
   "execution_count": 229,
   "metadata": {},
   "outputs": [
    {
     "name": "stdout",
     "output_type": "stream",
     "text": [
      "There are main_concept_leaf    964\n",
      "dtype: int64 different leafs\n"
     ]
    },
    {
     "data": {
      "text/html": [
       "<div>\n",
       "<style scoped>\n",
       "    .dataframe tbody tr th:only-of-type {\n",
       "        vertical-align: middle;\n",
       "    }\n",
       "\n",
       "    .dataframe tbody tr th {\n",
       "        vertical-align: top;\n",
       "    }\n",
       "\n",
       "    .dataframe thead th {\n",
       "        text-align: right;\n",
       "    }\n",
       "</style>\n",
       "<table border=\"1\" class=\"dataframe\">\n",
       "  <thead>\n",
       "    <tr style=\"text-align: right;\">\n",
       "      <th></th>\n",
       "      <th>main_concept_leaf</th>\n",
       "    </tr>\n",
       "  </thead>\n",
       "  <tbody>\n",
       "    <tr>\n",
       "      <th>count</th>\n",
       "      <td>1327.000000</td>\n",
       "    </tr>\n",
       "    <tr>\n",
       "      <th>mean</th>\n",
       "      <td>60.797287</td>\n",
       "    </tr>\n",
       "    <tr>\n",
       "      <th>std</th>\n",
       "      <td>169.337994</td>\n",
       "    </tr>\n",
       "    <tr>\n",
       "      <th>min</th>\n",
       "      <td>1.000000</td>\n",
       "    </tr>\n",
       "    <tr>\n",
       "      <th>25%</th>\n",
       "      <td>2.000000</td>\n",
       "    </tr>\n",
       "    <tr>\n",
       "      <th>50%</th>\n",
       "      <td>10.000000</td>\n",
       "    </tr>\n",
       "    <tr>\n",
       "      <th>75%</th>\n",
       "      <td>51.000000</td>\n",
       "    </tr>\n",
       "    <tr>\n",
       "      <th>max</th>\n",
       "      <td>2687.000000</td>\n",
       "    </tr>\n",
       "  </tbody>\n",
       "</table>\n",
       "</div>"
      ],
      "text/plain": [
       "       main_concept_leaf\n",
       "count        1327.000000\n",
       "mean           60.797287\n",
       "std           169.337994\n",
       "min             1.000000\n",
       "25%             2.000000\n",
       "50%            10.000000\n",
       "75%            51.000000\n",
       "max          2687.000000"
      ]
     },
     "execution_count": 229,
     "metadata": {},
     "output_type": "execute_result"
    }
   ],
   "source": [
    "leaf_occ = pd.DataFrame(articles_df['main_concept_leaf'].value_counts())\n",
    "num_diff_leafs = (leaf_occ > 2).sum()\n",
    "print(\"There are {0} different leafs\".format(num_diff_leafs))\n",
    "leaf_occ.describe()"
   ]
  },
  {
   "cell_type": "code",
   "execution_count": 230,
   "metadata": {},
   "outputs": [
    {
     "data": {
      "text/html": [
       "<div>\n",
       "<style scoped>\n",
       "    .dataframe tbody tr th:only-of-type {\n",
       "        vertical-align: middle;\n",
       "    }\n",
       "\n",
       "    .dataframe tbody tr th {\n",
       "        vertical-align: top;\n",
       "    }\n",
       "\n",
       "    .dataframe thead th {\n",
       "        text-align: right;\n",
       "    }\n",
       "</style>\n",
       "<table border=\"1\" class=\"dataframe\">\n",
       "  <thead>\n",
       "    <tr style=\"text-align: right;\">\n",
       "      <th></th>\n",
       "      <th>main_concept_leaf</th>\n",
       "    </tr>\n",
       "  </thead>\n",
       "  <tbody>\n",
       "    <tr>\n",
       "      <th>language type</th>\n",
       "      <td>2687</td>\n",
       "    </tr>\n",
       "    <tr>\n",
       "      <th>human computer interaction hci</th>\n",
       "      <td>2524</td>\n",
       "    </tr>\n",
       "    <tr>\n",
       "      <th>computer science education</th>\n",
       "      <td>2061</td>\n",
       "    </tr>\n",
       "    <tr>\n",
       "      <th>document type</th>\n",
       "      <td>1685</td>\n",
       "    </tr>\n",
       "    <tr>\n",
       "      <th>compiler</th>\n",
       "      <td>1388</td>\n",
       "    </tr>\n",
       "  </tbody>\n",
       "</table>\n",
       "</div>"
      ],
      "text/plain": [
       "                                main_concept_leaf\n",
       "language type                                2687\n",
       "human computer interaction hci               2524\n",
       "computer science education                   2061\n",
       "document type                                1685\n",
       "compiler                                     1388"
      ]
     },
     "execution_count": 230,
     "metadata": {},
     "output_type": "execute_result"
    }
   ],
   "source": [
    "leaf_occ.head()"
   ]
  },
  {
   "cell_type": "markdown",
   "metadata": {},
   "source": [
    "##### Most popular concepts"
   ]
  },
  {
   "cell_type": "code",
   "execution_count": 59,
   "metadata": {},
   "outputs": [
    {
     "name": "stdout",
     "output_type": "stream",
     "text": [
      "Here is a list of the most popular concepts: \n",
      "['CCS->Software and its engineering->Software notations and tools->General programming languages->Language types'\n",
      " 'CCS->Human-centered computing->Human computer interaction (HCI)'\n",
      " 'CCS->General and reference->Cross-computing tools and techniques->Performance'\n",
      " 'CCS->Social and professional topics->Professional topics->Computing education->Computing education programs->Computer science education'\n",
      " 'CCS->Software and its engineering->Software notations and tools->Compilers'\n",
      " 'CCS->Computer systems organization->Dependable and fault-tolerant systems and networks'\n",
      " 'CCS->Software and its engineering->Software creation and management->Software development process management'\n",
      " 'CCS->Networks->Network performance evaluation'\n",
      " 'CCS->Information systems->Information retrieval'\n",
      " 'CCS->Hardware->Communication hardware, interfaces and storage'\n",
      " 'CCS->Networks->Network protocols' 'CCS->Networks'\n",
      " 'CCS->Applied computing->Education'\n",
      " 'CCS->Social and professional topics->Professional topics->Computing education->Model curricula'\n",
      " 'CCS->Social and professional topics->Computing / technology policy']\n",
      "And here are their occurences: [5461 5403 4972 4426 3181 2991 2938 2843 2596 2435 2327 2164 2145 2125\n",
      " 2061]\n",
      "There is 2544 concepts with keywords out of 2658 concepts.\n"
     ]
    }
   ],
   "source": [
    "N = 15\n",
    "ccs_ids = np.argsort(list(count_ccs.values()))[::-1]\n",
    "popular_ccs = np.array(list(count_ccs.keys()))[ccs_ids][:N]\n",
    "print(\"Here is a list of the most popular concepts: \")\n",
    "print(popular_ccs)\n",
    "print(\"And here are their occurences:\", np.sort(list(count_ccs.values()))[::-1][:N])\n",
    "print(\"There is {0} concepts with keywords out of {1} concepts.\".format(len(count_ccs_kw), len(count_ccs)))"
   ]
  },
  {
   "cell_type": "markdown",
   "metadata": {},
   "source": [
    "##### Stats on Width of Concepts"
   ]
  },
  {
   "cell_type": "code",
   "execution_count": 231,
   "metadata": {},
   "outputs": [
    {
     "data": {
      "text/html": [
       "<div>\n",
       "<style scoped>\n",
       "    .dataframe tbody tr th:only-of-type {\n",
       "        vertical-align: middle;\n",
       "    }\n",
       "\n",
       "    .dataframe tbody tr th {\n",
       "        vertical-align: top;\n",
       "    }\n",
       "\n",
       "    .dataframe thead th {\n",
       "        text-align: right;\n",
       "    }\n",
       "</style>\n",
       "<table border=\"1\" class=\"dataframe\">\n",
       "  <thead>\n",
       "    <tr style=\"text-align: right;\">\n",
       "      <th></th>\n",
       "      <th>occurences</th>\n",
       "    </tr>\n",
       "  </thead>\n",
       "  <tbody>\n",
       "    <tr>\n",
       "      <th>count</th>\n",
       "      <td>107913.000000</td>\n",
       "    </tr>\n",
       "    <tr>\n",
       "      <th>mean</th>\n",
       "      <td>2.839843</td>\n",
       "    </tr>\n",
       "    <tr>\n",
       "      <th>std</th>\n",
       "      <td>2.559154</td>\n",
       "    </tr>\n",
       "    <tr>\n",
       "      <th>min</th>\n",
       "      <td>0.000000</td>\n",
       "    </tr>\n",
       "    <tr>\n",
       "      <th>25%</th>\n",
       "      <td>1.000000</td>\n",
       "    </tr>\n",
       "    <tr>\n",
       "      <th>50%</th>\n",
       "      <td>2.000000</td>\n",
       "    </tr>\n",
       "    <tr>\n",
       "      <th>75%</th>\n",
       "      <td>4.000000</td>\n",
       "    </tr>\n",
       "    <tr>\n",
       "      <th>max</th>\n",
       "      <td>34.000000</td>\n",
       "    </tr>\n",
       "  </tbody>\n",
       "</table>\n",
       "</div>"
      ],
      "text/plain": [
       "          occurences\n",
       "count  107913.000000\n",
       "mean        2.839843\n",
       "std         2.559154\n",
       "min         0.000000\n",
       "25%         1.000000\n",
       "50%         2.000000\n",
       "75%         4.000000\n",
       "max        34.000000"
      ]
     },
     "execution_count": 231,
     "metadata": {},
     "output_type": "execute_result"
    }
   ],
   "source": [
    "depth_df = pd.DataFrame({\"doi\": articles_df['doi'], \"occurences\": [len(dic.values()) for dic in articles_df['ccs']]})\n",
    "depth_df.describe()"
   ]
  },
  {
   "cell_type": "code",
   "execution_count": 232,
   "metadata": {},
   "outputs": [
    {
     "data": {
      "text/plain": [
       "array([[<AxesSubplot:title={'center':'occurences'}>]], dtype=object)"
      ]
     },
     "execution_count": 232,
     "metadata": {},
     "output_type": "execute_result"
    },
    {
     "data": {
      "image/png": "[encoded data removed]",
      "text/plain": [
       "<Figure size 432x288 with 1 Axes>"
      ]
     },
     "metadata": {
      "needs_background": "light"
     },
     "output_type": "display_data"
    }
   ],
   "source": [
    "depth_df[depth_df['occurences'] > 0].hist(bins = 30)"
   ]
  },
  {
   "cell_type": "markdown",
   "metadata": {},
   "source": [
    "##### Stats on Depth of Concepts"
   ]
  },
  {
   "cell_type": "code",
   "execution_count": 233,
   "metadata": {},
   "outputs": [
    {
     "name": "stdout",
     "output_type": "stream",
     "text": [
      "1.0 1.8969149736644093 6 1\n"
     ]
    }
   ],
   "source": [
    "depth_of_concepts = [len(ccs.split(\"->\"))-1 if '->' in ccs else len(ccs.split(\"~\"))-1 if '~' in ccs else 1 for ccs in count_ccs.keys()]\n",
    "\n",
    "print(np.median(depth_of_concepts), np.mean(depth_of_concepts), np.max(depth_of_concepts), np.min(depth_of_concepts))"
   ]
  },
  {
   "cell_type": "markdown",
   "metadata": {},
   "source": [
    "Min théorique est de 1, max théorique est de 6"
   ]
  },
  {
   "cell_type": "markdown",
   "metadata": {},
   "source": [
    "##### Number of different CCS roots:"
   ]
  },
  {
   "cell_type": "code",
   "execution_count": 8,
   "metadata": {},
   "outputs": [
    {
     "data": {
      "text/html": [
       "<div>\n",
       "<style scoped>\n",
       "    .dataframe tbody tr th:only-of-type {\n",
       "        vertical-align: middle;\n",
       "    }\n",
       "\n",
       "    .dataframe tbody tr th {\n",
       "        vertical-align: top;\n",
       "    }\n",
       "\n",
       "    .dataframe thead th {\n",
       "        text-align: right;\n",
       "    }\n",
       "</style>\n",
       "<table border=\"1\" class=\"dataframe\">\n",
       "  <thead>\n",
       "    <tr style=\"text-align: right;\">\n",
       "      <th></th>\n",
       "      <th>occurences</th>\n",
       "    </tr>\n",
       "  </thead>\n",
       "  <tbody>\n",
       "    <tr>\n",
       "      <th>count</th>\n",
       "      <td>78.000000</td>\n",
       "    </tr>\n",
       "    <tr>\n",
       "      <th>mean</th>\n",
       "      <td>3928.923077</td>\n",
       "    </tr>\n",
       "    <tr>\n",
       "      <th>std</th>\n",
       "      <td>10408.953072</td>\n",
       "    </tr>\n",
       "    <tr>\n",
       "      <th>min</th>\n",
       "      <td>1.000000</td>\n",
       "    </tr>\n",
       "    <tr>\n",
       "      <th>25%</th>\n",
       "      <td>1.000000</td>\n",
       "    </tr>\n",
       "    <tr>\n",
       "      <th>50%</th>\n",
       "      <td>1.000000</td>\n",
       "    </tr>\n",
       "    <tr>\n",
       "      <th>75%</th>\n",
       "      <td>2.000000</td>\n",
       "    </tr>\n",
       "    <tr>\n",
       "      <th>max</th>\n",
       "      <td>60107.000000</td>\n",
       "    </tr>\n",
       "  </tbody>\n",
       "</table>\n",
       "</div>"
      ],
      "text/plain": [
       "         occurences\n",
       "count     78.000000\n",
       "mean    3928.923077\n",
       "std    10408.953072\n",
       "min        1.000000\n",
       "25%        1.000000\n",
       "50%        1.000000\n",
       "75%        2.000000\n",
       "max    60107.000000"
      ]
     },
     "execution_count": 8,
     "metadata": {},
     "output_type": "execute_result"
    }
   ],
   "source": [
    "ccs_root_df = pd.DataFrame({\"ccs_root\": count_ccs_root.keys(), \"occurences\": count_ccs_root.values()})\n",
    "ccs_root_df.describe()"
   ]
  },
  {
   "cell_type": "code",
   "execution_count": 9,
   "metadata": {},
   "outputs": [
    {
     "data": {
      "text/html": [
       "<div>\n",
       "<style scoped>\n",
       "    .dataframe tbody tr th:only-of-type {\n",
       "        vertical-align: middle;\n",
       "    }\n",
       "\n",
       "    .dataframe tbody tr th {\n",
       "        vertical-align: top;\n",
       "    }\n",
       "\n",
       "    .dataframe thead th {\n",
       "        text-align: right;\n",
       "    }\n",
       "</style>\n",
       "<table border=\"1\" class=\"dataframe\">\n",
       "  <thead>\n",
       "    <tr style=\"text-align: right;\">\n",
       "      <th></th>\n",
       "      <th>ccs_root</th>\n",
       "      <th>occurences</th>\n",
       "    </tr>\n",
       "  </thead>\n",
       "  <tbody>\n",
       "    <tr>\n",
       "      <th>5</th>\n",
       "      <td>Software and its engineering</td>\n",
       "      <td>60107</td>\n",
       "    </tr>\n",
       "    <tr>\n",
       "      <th>6</th>\n",
       "      <td>Computing methodologies</td>\n",
       "      <td>35723</td>\n",
       "    </tr>\n",
       "    <tr>\n",
       "      <th>8</th>\n",
       "      <td>Theory of computation</td>\n",
       "      <td>30762</td>\n",
       "    </tr>\n",
       "    <tr>\n",
       "      <th>1</th>\n",
       "      <td>Information systems</td>\n",
       "      <td>29861</td>\n",
       "    </tr>\n",
       "    <tr>\n",
       "      <th>2</th>\n",
       "      <td>Social and professional topics</td>\n",
       "      <td>28934</td>\n",
       "    </tr>\n",
       "    <tr>\n",
       "      <th>3</th>\n",
       "      <td>Applied computing</td>\n",
       "      <td>19945</td>\n",
       "    </tr>\n",
       "    <tr>\n",
       "      <th>9</th>\n",
       "      <td>Networks</td>\n",
       "      <td>19037</td>\n",
       "    </tr>\n",
       "    <tr>\n",
       "      <th>0</th>\n",
       "      <td>Mathematics of computing</td>\n",
       "      <td>17720</td>\n",
       "    </tr>\n",
       "    <tr>\n",
       "      <th>10</th>\n",
       "      <td>Computer systems organization</td>\n",
       "      <td>16413</td>\n",
       "    </tr>\n",
       "    <tr>\n",
       "      <th>7</th>\n",
       "      <td>General and reference</td>\n",
       "      <td>15686</td>\n",
       "    </tr>\n",
       "    <tr>\n",
       "      <th>4</th>\n",
       "      <td>Human-centered computing</td>\n",
       "      <td>14455</td>\n",
       "    </tr>\n",
       "    <tr>\n",
       "      <th>11</th>\n",
       "      <td>Hardware</td>\n",
       "      <td>12524</td>\n",
       "    </tr>\n",
       "    <tr>\n",
       "      <th>12</th>\n",
       "      <td>Security and privacy</td>\n",
       "      <td>5208</td>\n",
       "    </tr>\n",
       "    <tr>\n",
       "      <th>42</th>\n",
       "      <td>Networks Transport protocols</td>\n",
       "      <td>6</td>\n",
       "    </tr>\n",
       "  </tbody>\n",
       "</table>\n",
       "</div>"
      ],
      "text/plain": [
       "                          ccs_root  occurences\n",
       "5     Software and its engineering       60107\n",
       "6          Computing methodologies       35723\n",
       "8            Theory of computation       30762\n",
       "1              Information systems       29861\n",
       "2   Social and professional topics       28934\n",
       "3                Applied computing       19945\n",
       "9                         Networks       19037\n",
       "0         Mathematics of computing       17720\n",
       "10   Computer systems organization       16413\n",
       "7            General and reference       15686\n",
       "4         Human-centered computing       14455\n",
       "11                        Hardware       12524\n",
       "12            Security and privacy        5208\n",
       "42    Networks Transport protocols           6"
      ]
     },
     "execution_count": 9,
     "metadata": {},
     "output_type": "execute_result"
    }
   ],
   "source": [
    "ccs_root_df[ccs_root_df['occurences'] > 5].sort_values(by=['occurences'], ascending=False)"
   ]
  },
  {
   "cell_type": "markdown",
   "metadata": {},
   "source": [
    "#### Keywords Stats"
   ]
  },
  {
   "cell_type": "markdown",
   "metadata": {},
   "source": [
    "##### On a single ccs concept"
   ]
  },
  {
   "cell_type": "code",
   "execution_count": null,
   "metadata": {},
   "outputs": [],
   "source": [
    "ccs_name = 'CCS->Human-centered computing->Human computer interaction (HCI)'\n",
    "\n",
    "def create_kw_occ_df(ccs_name):\n",
    "    kw_occ_df = pd.DataFrame({\"keywords\": count_ccs_kw[ccs_name].keys(), \"occurences\": count_ccs_kw[ccs_name].values()})\n",
    "    return kw_occ_df\n",
    "\n",
    "kw_occ_df = create_kw_occ_df(ccs_name)\n",
    "kw_occ_df.describe()"
   ]
  },
  {
   "cell_type": "code",
   "execution_count": null,
   "metadata": {},
   "outputs": [],
   "source": [
    "kw_occ_df.hist(bins=30, alpha=0.5)"
   ]
  },
  {
   "cell_type": "code",
   "execution_count": null,
   "metadata": {},
   "outputs": [],
   "source": [
    "kw_occ_df[kw_occ_df['occurences'] > 5].sort_values(by=['occurences'], ascending=False)"
   ]
  },
  {
   "cell_type": "markdown",
   "metadata": {},
   "source": [
    "##### On a all ccs concept"
   ]
  },
  {
   "cell_type": "code",
   "execution_count": 255,
   "metadata": {},
   "outputs": [],
   "source": [
    "def countValuesArray(array_of_values):\n",
    "    occ = pd.DataFrame(pd.DataFrame(array_of_values).value_counts())\n",
    "    return occ\n"
   ]
  },
  {
   "cell_type": "code",
   "execution_count": 267,
   "metadata": {},
   "outputs": [],
   "source": [
    "articles_kw_ccs_df = articles_df.dropna(subset = [\"kw_processed\", \"main_concept_root\"])\n",
    "agg_ccs_df = articles_kw_ccs_df.groupby(['main_concept_root']).agg({'kw_processed': sum})"
   ]
  },
  {
   "cell_type": "code",
   "execution_count": 278,
   "metadata": {},
   "outputs": [
    {
     "data": {
      "text/html": [
       "<div>\n",
       "<style scoped>\n",
       "    .dataframe tbody tr th:only-of-type {\n",
       "        vertical-align: middle;\n",
       "    }\n",
       "\n",
       "    .dataframe tbody tr th {\n",
       "        vertical-align: top;\n",
       "    }\n",
       "\n",
       "    .dataframe thead th {\n",
       "        text-align: right;\n",
       "    }\n",
       "</style>\n",
       "<table border=\"1\" class=\"dataframe\">\n",
       "  <thead>\n",
       "    <tr style=\"text-align: right;\">\n",
       "      <th></th>\n",
       "      <th>0</th>\n",
       "    </tr>\n",
       "    <tr>\n",
       "      <th>0</th>\n",
       "      <th></th>\n",
       "    </tr>\n",
       "  </thead>\n",
       "  <tbody>\n",
       "    <tr>\n",
       "      <th>human-computer interaction</th>\n",
       "      <td>61</td>\n",
       "    </tr>\n",
       "    <tr>\n",
       "      <th>user interface</th>\n",
       "      <td>43</td>\n",
       "    </tr>\n",
       "    <tr>\n",
       "      <th>virtual reality</th>\n",
       "      <td>29</td>\n",
       "    </tr>\n",
       "    <tr>\n",
       "      <th>crowdsourcing</th>\n",
       "      <td>26</td>\n",
       "    </tr>\n",
       "    <tr>\n",
       "      <th>usability</th>\n",
       "      <td>25</td>\n",
       "    </tr>\n",
       "    <tr>\n",
       "      <th>collaboration</th>\n",
       "      <td>24</td>\n",
       "    </tr>\n",
       "    <tr>\n",
       "      <th>accessibility</th>\n",
       "      <td>24</td>\n",
       "    </tr>\n",
       "    <tr>\n",
       "      <th>information visualization</th>\n",
       "      <td>24</td>\n",
       "    </tr>\n",
       "    <tr>\n",
       "      <th>evaluation</th>\n",
       "      <td>22</td>\n",
       "    </tr>\n",
       "    <tr>\n",
       "      <th>social medium</th>\n",
       "      <td>20</td>\n",
       "    </tr>\n",
       "    <tr>\n",
       "      <th>human factor</th>\n",
       "      <td>20</td>\n",
       "    </tr>\n",
       "    <tr>\n",
       "      <th>user study</th>\n",
       "      <td>19</td>\n",
       "    </tr>\n",
       "    <tr>\n",
       "      <th>interaction design</th>\n",
       "      <td>17</td>\n",
       "    </tr>\n",
       "    <tr>\n",
       "      <th>cscw</th>\n",
       "      <td>17</td>\n",
       "    </tr>\n",
       "    <tr>\n",
       "      <th>visualization</th>\n",
       "      <td>17</td>\n",
       "    </tr>\n",
       "    <tr>\n",
       "      <th>assistive technology</th>\n",
       "      <td>17</td>\n",
       "    </tr>\n",
       "    <tr>\n",
       "      <th>augmented reality</th>\n",
       "      <td>16</td>\n",
       "    </tr>\n",
       "    <tr>\n",
       "      <th>social network</th>\n",
       "      <td>15</td>\n",
       "    </tr>\n",
       "    <tr>\n",
       "      <th>machine learning</th>\n",
       "      <td>15</td>\n",
       "    </tr>\n",
       "    <tr>\n",
       "      <th>gesture</th>\n",
       "      <td>15</td>\n",
       "    </tr>\n",
       "  </tbody>\n",
       "</table>\n",
       "</div>"
      ],
      "text/plain": [
       "                             0\n",
       "0                             \n",
       "human-computer interaction  61\n",
       "user interface              43\n",
       "virtual reality             29\n",
       "crowdsourcing               26\n",
       "usability                   25\n",
       "collaboration               24\n",
       "accessibility               24\n",
       "information visualization   24\n",
       "evaluation                  22\n",
       "social medium               20\n",
       "human factor                20\n",
       "user study                  19\n",
       "interaction design          17\n",
       "cscw                        17\n",
       "visualization               17\n",
       "assistive technology        17\n",
       "augmented reality           16\n",
       "social network              15\n",
       "machine learning            15\n",
       "gesture                     15"
      ]
     },
     "execution_count": 278,
     "metadata": {},
     "output_type": "execute_result"
    }
   ],
   "source": [
    "countValuesArray(agg_ccs_df[agg_ccs_df.index == 'human-centered computing'].iloc[0].array[0]).head(20)"
   ]
  },
  {
   "cell_type": "markdown",
   "metadata": {},
   "source": [
    "##### Stats over all keywords"
   ]
  },
  {
   "cell_type": "code",
   "execution_count": 36,
   "metadata": {},
   "outputs": [
    {
     "name": "stdout",
     "output_type": "stream",
     "text": [
      "71085\n"
     ]
    }
   ],
   "source": [
    "articles_kw_df = articles_df.dropna(subset = \"kw_processed\")\n",
    "\n",
    "kwp_agg_dict  = {}\n",
    "\n",
    "for val in articles_kw_df.kw_processed:\n",
    "    for kw in val:\n",
    "\n",
    "        if kw in kwp_agg_dict.keys():\n",
    "            kwp_agg_dict[kw] += 1\n",
    "        else:\n",
    "            kwp_agg_dict[kw]  = 1\n",
    "\n",
    "print(len(kwp_agg_dict))"
   ]
  },
  {
   "cell_type": "code",
   "execution_count": 54,
   "metadata": {},
   "outputs": [
    {
     "data": {
      "text/html": [
       "<div>\n",
       "<style scoped>\n",
       "    .dataframe tbody tr th:only-of-type {\n",
       "        vertical-align: middle;\n",
       "    }\n",
       "\n",
       "    .dataframe tbody tr th {\n",
       "        vertical-align: top;\n",
       "    }\n",
       "\n",
       "    .dataframe thead th {\n",
       "        text-align: right;\n",
       "    }\n",
       "</style>\n",
       "<table border=\"1\" class=\"dataframe\">\n",
       "  <thead>\n",
       "    <tr style=\"text-align: right;\">\n",
       "      <th></th>\n",
       "      <th>keyword_names</th>\n",
       "      <th>occurences</th>\n",
       "    </tr>\n",
       "  </thead>\n",
       "  <tbody>\n",
       "    <tr>\n",
       "      <th>315</th>\n",
       "      <td>scheduling</td>\n",
       "      <td>479</td>\n",
       "    </tr>\n",
       "    <tr>\n",
       "      <th>408</th>\n",
       "      <td>optimization</td>\n",
       "      <td>411</td>\n",
       "    </tr>\n",
       "    <tr>\n",
       "      <th>523</th>\n",
       "      <td>java</td>\n",
       "      <td>400</td>\n",
       "    </tr>\n",
       "    <tr>\n",
       "      <th>534</th>\n",
       "      <td>security</td>\n",
       "      <td>375</td>\n",
       "    </tr>\n",
       "    <tr>\n",
       "      <th>841</th>\n",
       "      <td>simulation</td>\n",
       "      <td>341</td>\n",
       "    </tr>\n",
       "    <tr>\n",
       "      <th>591</th>\n",
       "      <td>concurrency</td>\n",
       "      <td>337</td>\n",
       "    </tr>\n",
       "    <tr>\n",
       "      <th>1519</th>\n",
       "      <td>performance</td>\n",
       "      <td>332</td>\n",
       "    </tr>\n",
       "    <tr>\n",
       "      <th>1281</th>\n",
       "      <td>wireless sensor network</td>\n",
       "      <td>315</td>\n",
       "    </tr>\n",
       "    <tr>\n",
       "      <th>496</th>\n",
       "      <td>compiler</td>\n",
       "      <td>300</td>\n",
       "    </tr>\n",
       "    <tr>\n",
       "      <th>23</th>\n",
       "      <td>education</td>\n",
       "      <td>273</td>\n",
       "    </tr>\n",
       "    <tr>\n",
       "      <th>403</th>\n",
       "      <td>static analysis</td>\n",
       "      <td>272</td>\n",
       "    </tr>\n",
       "    <tr>\n",
       "      <th>1272</th>\n",
       "      <td>routing</td>\n",
       "      <td>263</td>\n",
       "    </tr>\n",
       "    <tr>\n",
       "      <th>931</th>\n",
       "      <td>machine learning</td>\n",
       "      <td>261</td>\n",
       "    </tr>\n",
       "    <tr>\n",
       "      <th>1154</th>\n",
       "      <td>sensor network</td>\n",
       "      <td>261</td>\n",
       "    </tr>\n",
       "    <tr>\n",
       "      <th>6987</th>\n",
       "      <td>embedded system</td>\n",
       "      <td>257</td>\n",
       "    </tr>\n",
       "  </tbody>\n",
       "</table>\n",
       "</div>"
      ],
      "text/plain": [
       "                keyword_names  occurences\n",
       "315                scheduling         479\n",
       "408              optimization         411\n",
       "523                      java         400\n",
       "534                  security         375\n",
       "841                simulation         341\n",
       "591               concurrency         337\n",
       "1519              performance         332\n",
       "1281  wireless sensor network         315\n",
       "496                  compiler         300\n",
       "23                  education         273\n",
       "403           static analysis         272\n",
       "1272                  routing         263\n",
       "931          machine learning         261\n",
       "1154           sensor network         261\n",
       "6987          embedded system         257"
      ]
     },
     "execution_count": 54,
     "metadata": {},
     "output_type": "execute_result"
    }
   ],
   "source": [
    "kwp_agg_df = pd.DataFrame({\"keyword_names\": kwp_agg_dict.keys(), \"occurences\": kwp_agg_dict.values()})\n",
    "kwp_agg_df.sort_values(by=['occurences'], ascending=False).head(15)"
   ]
  },
  {
   "cell_type": "code",
   "execution_count": 49,
   "metadata": {},
   "outputs": [
    {
     "data": {
      "text/plain": [
       "11177"
      ]
     },
     "execution_count": 49,
     "metadata": {},
     "output_type": "execute_result"
    }
   ],
   "source": [
    "len(kwp_agg_df[kwp_agg_df['occurences'] >= 3])"
   ]
  },
  {
   "cell_type": "code",
   "execution_count": 50,
   "metadata": {},
   "outputs": [
    {
     "data": {
      "text/html": [
       "<div>\n",
       "<style scoped>\n",
       "    .dataframe tbody tr th:only-of-type {\n",
       "        vertical-align: middle;\n",
       "    }\n",
       "\n",
       "    .dataframe tbody tr th {\n",
       "        vertical-align: top;\n",
       "    }\n",
       "\n",
       "    .dataframe thead th {\n",
       "        text-align: right;\n",
       "    }\n",
       "</style>\n",
       "<table border=\"1\" class=\"dataframe\">\n",
       "  <thead>\n",
       "    <tr style=\"text-align: right;\">\n",
       "      <th></th>\n",
       "      <th>occurences</th>\n",
       "    </tr>\n",
       "  </thead>\n",
       "  <tbody>\n",
       "    <tr>\n",
       "      <th>count</th>\n",
       "      <td>71085.000000</td>\n",
       "    </tr>\n",
       "    <tr>\n",
       "      <th>mean</th>\n",
       "      <td>2.569445</td>\n",
       "    </tr>\n",
       "    <tr>\n",
       "      <th>std</th>\n",
       "      <td>8.912610</td>\n",
       "    </tr>\n",
       "    <tr>\n",
       "      <th>min</th>\n",
       "      <td>1.000000</td>\n",
       "    </tr>\n",
       "    <tr>\n",
       "      <th>25%</th>\n",
       "      <td>1.000000</td>\n",
       "    </tr>\n",
       "    <tr>\n",
       "      <th>50%</th>\n",
       "      <td>1.000000</td>\n",
       "    </tr>\n",
       "    <tr>\n",
       "      <th>75%</th>\n",
       "      <td>2.000000</td>\n",
       "    </tr>\n",
       "    <tr>\n",
       "      <th>max</th>\n",
       "      <td>479.000000</td>\n",
       "    </tr>\n",
       "  </tbody>\n",
       "</table>\n",
       "</div>"
      ],
      "text/plain": [
       "         occurences\n",
       "count  71085.000000\n",
       "mean       2.569445\n",
       "std        8.912610\n",
       "min        1.000000\n",
       "25%        1.000000\n",
       "50%        1.000000\n",
       "75%        2.000000\n",
       "max      479.000000"
      ]
     },
     "execution_count": 50,
     "metadata": {},
     "output_type": "execute_result"
    }
   ],
   "source": [
    "kwp_agg_df.describe()"
   ]
  },
  {
   "cell_type": "code",
   "execution_count": 52,
   "metadata": {},
   "outputs": [
    {
     "name": "stdout",
     "output_type": "stream",
     "text": [
      "can -> \n",
      "it -> \n",
      "a# -> \n",
      "here -> \n",
      "its -> \n",
      "who is who -> \n",
      "as if -> \n",
      "the other -> \n",
      "now -> \n",
      "????? -> \n",
      "is -> \n",
      "ll -> \n",
      "same -> \n",
      "at -> \n",
      "me -> \n",
      "ma -> \n",
      "has -> \n",
      "nor -> \n"
     ]
    }
   ],
   "source": [
    "## Prints all useless keywords eliminated by preprocessing\n",
    "\n",
    "# Linearizes raw keywords\n",
    "kw_dict = {}\n",
    "for kw_list in articles_df.dropna(subset='keywords').keywords:\n",
    "    for kw in kw_list:\n",
    "        kw_dict[kw] = 1\n",
    "\n",
    "\n",
    "# Prints the useless kw\n",
    "for kw in kw_dict.keys():\n",
    "    kwp = stringPreprocessing(kw)\n",
    "    if(kwp == ''):\n",
    "        print(kw, \"->\", kwp)\n"
   ]
  }
 ],
 "metadata": {
  "interpreter": {
   "hash": "00dac3d85057902516a7de3d1bb919e2487cdfcc669671ff52e056662c37d510"
  },
  "kernelspec": {
   "display_name": "Python 3 (ipykernel)",
   "language": "python",
   "name": "python3"
  },
  "language_info": {
   "codemirror_mode": {
    "name": "ipython",
    "version": 3
   },
   "file_extension": ".py",
   "mimetype": "text/x-python",
   "name": "python",
   "nbconvert_exporter": "python",
   "pygments_lexer": "ipython3",
   "version": "3.9.12"
  }
 },
 "nbformat": 4,
 "nbformat_minor": 2
}
