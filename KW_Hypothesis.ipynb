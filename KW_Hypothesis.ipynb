{
 "cells": [
  {
   "cell_type": "code",
   "execution_count": 82,
   "metadata": {},
   "outputs": [],
   "source": [
    "import pickle\n",
    "import json\n",
    "import fasttext\n",
    "import fasttext.util\n",
    "import numpy as np\n",
    "import pandas as pd\n",
    "import networkx as nx\n",
    "import matplotlib.pyplot as plt\n",
    "\n",
    "\n",
    "from sklearn.ensemble import GradientBoostingClassifier\n",
    "from Scripts.util import stringPreprocessing\n",
    "from Scripts.graphgeneration import gbm_classifier"
   ]
  },
  {
   "cell_type": "markdown",
   "metadata": {},
   "source": [
    "# Testing H1 on keywords\n",
    "This notebook aims to test our hypothesis: Does the keywords associated with the concepts are also pre-requesites to keywords from sub concepts."
   ]
  },
  {
   "cell_type": "markdown",
   "id": "e29467f1",
   "metadata": {},
   "source": [
    "## Load Data"
   ]
  },
  {
   "cell_type": "code",
   "execution_count": 3,
   "id": "6d13168b",
   "metadata": {},
   "outputs": [
    {
     "data": {
      "text/html": [
       "<div>\n",
       "<style scoped>\n",
       "    .dataframe tbody tr th:only-of-type {\n",
       "        vertical-align: middle;\n",
       "    }\n",
       "\n",
       "    .dataframe tbody tr th {\n",
       "        vertical-align: top;\n",
       "    }\n",
       "\n",
       "    .dataframe thead th {\n",
       "        text-align: right;\n",
       "    }\n",
       "</style>\n",
       "<table border=\"1\" class=\"dataframe\">\n",
       "  <thead>\n",
       "    <tr style=\"text-align: right;\">\n",
       "      <th></th>\n",
       "      <th>kw1</th>\n",
       "      <th>kw2</th>\n",
       "      <th>label</th>\n",
       "    </tr>\n",
       "  </thead>\n",
       "  <tbody>\n",
       "    <tr>\n",
       "      <th>25934</th>\n",
       "      <td>software testing debugging</td>\n",
       "      <td>combinational synthesis</td>\n",
       "      <td>0</td>\n",
       "    </tr>\n",
       "    <tr>\n",
       "      <th>25935</th>\n",
       "      <td>combinational synthesis</td>\n",
       "      <td>power management</td>\n",
       "      <td>0</td>\n",
       "    </tr>\n",
       "    <tr>\n",
       "      <th>25936</th>\n",
       "      <td>software fault tolerance</td>\n",
       "      <td>pcb design layout</td>\n",
       "      <td>0</td>\n",
       "    </tr>\n",
       "    <tr>\n",
       "      <th>25937</th>\n",
       "      <td>pcb design layout</td>\n",
       "      <td>formal method</td>\n",
       "      <td>0</td>\n",
       "    </tr>\n",
       "    <tr>\n",
       "      <th>25938</th>\n",
       "      <td>documentation</td>\n",
       "      <td>pcb design layout</td>\n",
       "      <td>0</td>\n",
       "    </tr>\n",
       "  </tbody>\n",
       "</table>\n",
       "</div>"
      ],
      "text/plain": [
       "                              kw1                      kw2  label\n",
       "25934  software testing debugging  combinational synthesis      0\n",
       "25935     combinational synthesis         power management      0\n",
       "25936    software fault tolerance        pcb design layout      0\n",
       "25937           pcb design layout            formal method      0\n",
       "25938               documentation        pcb design layout      0"
      ]
     },
     "execution_count": 3,
     "metadata": {},
     "output_type": "execute_result"
    }
   ],
   "source": [
    "labeled_concept_pair_df = pd.read_csv(\"Data/labeled_concept_pair_dataset.csv\")\n",
    "labeled_concept_pair_df.tail()"
   ]
  },
  {
   "cell_type": "code",
   "execution_count": 44,
   "metadata": {},
   "outputs": [],
   "source": [
    "with open('Data/count_ccs_kw.json', 'r') as fp:\n",
    "    count_ccs_kw = json.load(fp)"
   ]
  },
  {
   "cell_type": "markdown",
   "metadata": {},
   "source": [
    "## Load Model"
   ]
  },
  {
   "cell_type": "code",
   "execution_count": 95,
   "metadata": {},
   "outputs": [
    {
     "data": {
      "text/plain": [
       "GradientBoostingClassifier(max_depth=8, max_features='sqrt',\n",
       "                           min_samples_leaf=20, min_samples_split=20,\n",
       "                           n_estimators=900, random_state=10, subsample=0.8)"
      ]
     },
     "execution_count": 95,
     "metadata": {},
     "output_type": "execute_result"
    }
   ],
   "source": [
    "gbm_model1 = pickle.load(open(\"Models/naive_gridsearch_01_classifier.pkl\", \"rb\"))\n",
    "gbm_model1"
   ]
  },
  {
   "cell_type": "code",
   "execution_count": 66,
   "metadata": {},
   "outputs": [
    {
     "name": "stderr",
     "output_type": "stream",
     "text": [
      "Warning : `load_model` does not return WordVectorModel or SupervisedModel any more, but a `FastText` object which is very similar.\n"
     ]
    }
   ],
   "source": [
    "ft_model = fasttext.load_model('Models/cc.en.300.bin')"
   ]
  },
  {
   "cell_type": "markdown",
   "metadata": {},
   "source": [
    "## Percentage of subwords in keyword pairs\n",
    "\n",
    "### In total"
   ]
  },
  {
   "cell_type": "code",
   "execution_count": 7,
   "metadata": {},
   "outputs": [],
   "source": [
    "def subword_is_in_both_kw(kw1, kw2):\n",
    "    for subwords in kw1.split():\n",
    "        if subwords in kw2:\n",
    "            return 1\n",
    "    \n",
    "    return 0"
   ]
  },
  {
   "cell_type": "code",
   "execution_count": 23,
   "metadata": {},
   "outputs": [
    {
     "name": "stdout",
     "output_type": "stream",
     "text": [
      "Percentage of keyword pairs with subwords in common: 7.89%\n"
     ]
    }
   ],
   "source": [
    "sub_words = labeled_concept_pair_df.apply(lambda x: subword_is_in_both_kw(x.kw1, x.kw2), axis=1)\n",
    "\n",
    "percentage = sub_words.sum()/sub_words.shape[0]*100\n",
    "print(\"Percentage of keyword pairs with subwords in common: {0:.2f}%\".format( percentage))"
   ]
  },
  {
   "cell_type": "markdown",
   "metadata": {},
   "source": [
    "### Just the related words"
   ]
  },
  {
   "cell_type": "code",
   "execution_count": 25,
   "metadata": {},
   "outputs": [
    {
     "name": "stdout",
     "output_type": "stream",
     "text": [
      "Percentage of related keyword pairs with subwords in common: 27.01%\n"
     ]
    }
   ],
   "source": [
    "sub_words = labeled_concept_pair_df[labeled_concept_pair_df.label == 1].apply(lambda x: subword_is_in_both_kw(x.kw1, x.kw2), axis=1)\n",
    "\n",
    "percentage = sub_words.sum()/sub_words.shape[0]*100\n",
    "print(\"Percentage of related keyword pairs with subwords in common: {0:.2f}%\".format( percentage))"
   ]
  },
  {
   "cell_type": "markdown",
   "metadata": {},
   "source": [
    "### Just unrelated words"
   ]
  },
  {
   "cell_type": "code",
   "execution_count": 86,
   "metadata": {},
   "outputs": [
    {
     "name": "stdout",
     "output_type": "stream",
     "text": [
      "Percentage of related keyword pairs with subwords in common: 1.76%\n"
     ]
    }
   ],
   "source": [
    "sub_words = labeled_concept_pair_df[labeled_concept_pair_df.label == 0].apply(lambda x: subword_is_in_both_kw(x.kw1, x.kw2), axis=1)\n",
    "\n",
    "percentage = sub_words.sum()/sub_words.shape[0]*100\n",
    "print(\"Percentage of related keyword pairs with subwords in common: {0:.2f}%\".format( percentage))"
   ]
  },
  {
   "cell_type": "markdown",
   "metadata": {},
   "source": [
    "## Testing the Hypothesis"
   ]
  },
  {
   "cell_type": "markdown",
   "metadata": {},
   "source": [
    "### Converting CCS concept strings to simple concepts"
   ]
  },
  {
   "cell_type": "code",
   "execution_count": 47,
   "metadata": {},
   "outputs": [],
   "source": [
    "CCS_list = list(count_ccs_kw.keys())"
   ]
  },
  {
   "cell_type": "code",
   "execution_count": 60,
   "metadata": {},
   "outputs": [],
   "source": [
    "Concept_to_CCS = {stringPreprocessing(el.split(\"->\")[-1]): el for el in CCS_list if \"->\" in el}"
   ]
  },
  {
   "cell_type": "markdown",
   "metadata": {},
   "source": [
    "### Observing number of keywords that are shared by successors"
   ]
  },
  {
   "cell_type": "code",
   "execution_count": 77,
   "metadata": {},
   "outputs": [],
   "source": [
    "def get_rel_from_kw_from_concepts_inher(c1, c2):\n",
    "    acc_keys = Concept_to_CCS.keys()\n",
    "    if(c1 in acc_keys and c2 in acc_keys):\n",
    "        kws1 = count_ccs_kw[Concept_to_CCS[c1]].keys()\n",
    "        kws2 = count_ccs_kw[Concept_to_CCS[c2]].keys()\n",
    "\n",
    "        for kw in kws1:\n",
    "            if(kw in kws2):\n",
    "                return 1\n",
    "    \n",
    "    return 0"
   ]
  },
  {
   "cell_type": "code",
   "execution_count": 78,
   "metadata": {},
   "outputs": [
    {
     "data": {
      "text/plain": [
       "1"
      ]
     },
     "execution_count": 78,
     "metadata": {},
     "output_type": "execute_result"
    }
   ],
   "source": [
    "labeled1_concept_pair_df = labeled_concept_pair_df[labeled_concept_pair_df.label == 1]\n",
    "get_rel_from_kw_from_concepts_inher(labeled1_concept_pair_df.iloc[1,0], labeled1_concept_pair_df.iloc[1,1])"
   ]
  },
  {
   "cell_type": "code",
   "execution_count": 79,
   "metadata": {},
   "outputs": [
    {
     "name": "stdout",
     "output_type": "stream",
     "text": [
      "Percentage of keyword included in their successors: 18.85%\n"
     ]
    }
   ],
   "source": [
    "inclusion = labeled_concept_pair_df.apply(lambda x: get_rel_from_kw_from_concepts_inher(x.kw1, x.kw2), axis=1)\n",
    "\n",
    "percentage = inclusion.sum()/inclusion.shape[0]*100\n",
    "print(\"Percentage of keyword included in their successors: {0:.2f}%\".format( percentage))"
   ]
  },
  {
   "cell_type": "markdown",
   "metadata": {},
   "source": [
    "### Keywords that are not inherited by successors"
   ]
  },
  {
   "cell_type": "code",
   "execution_count": 87,
   "metadata": {},
   "outputs": [],
   "source": [
    "def get_rel_from_kw_from_concepts_notinher(c1, c2):\n",
    "    acc_keys = Concept_to_CCS.keys()\n",
    "    if(c1 in acc_keys and c2 in acc_keys):\n",
    "        kws1 = count_ccs_kw[Concept_to_CCS[c1]].keys()\n",
    "        kws2 = count_ccs_kw[Concept_to_CCS[c2]].keys()\n",
    "\n",
    "        for kw in kws1:\n",
    "            if(kw not in kws2):\n",
    "                return 1\n",
    "    \n",
    "    return 0"
   ]
  },
  {
   "cell_type": "code",
   "execution_count": 88,
   "metadata": {},
   "outputs": [
    {
     "data": {
      "text/plain": [
       "1"
      ]
     },
     "execution_count": 88,
     "metadata": {},
     "output_type": "execute_result"
    }
   ],
   "source": [
    "labeled1_concept_pair_df = labeled_concept_pair_df[labeled_concept_pair_df.label == 1]\n",
    "get_rel_from_kw_from_concepts_notinher(labeled1_concept_pair_df.iloc[1,0], labeled1_concept_pair_df.iloc[1,1])"
   ]
  },
  {
   "cell_type": "code",
   "execution_count": 89,
   "metadata": {},
   "outputs": [
    {
     "name": "stdout",
     "output_type": "stream",
     "text": [
      "Percentage of keyword included in their successors: 22.86%\n"
     ]
    }
   ],
   "source": [
    "inclusion = labeled_concept_pair_df.apply(lambda x: get_rel_from_kw_from_concepts_notinher(x.kw1, x.kw2), axis=1)\n",
    "\n",
    "percentage = inclusion.sum()/inclusion.shape[0]*100\n",
    "print(\"Percentage of keyword not included in their successors: {0:.2f}%\".format( percentage))"
   ]
  },
  {
   "cell_type": "markdown",
   "metadata": {},
   "source": [
    "### The classifier test"
   ]
  },
  {
   "cell_type": "code",
   "execution_count": 98,
   "metadata": {},
   "outputs": [],
   "source": [
    "def get_rel_from_kw_from_concepts_prereq(c1, c2):\n",
    "    acc_keys = Concept_to_CCS.keys()\n",
    "    if(c1 in acc_keys and c2 in acc_keys):\n",
    "        kws1 = count_ccs_kw[Concept_to_CCS[c1]].keys()\n",
    "        kws2 = count_ccs_kw[Concept_to_CCS[c2]].keys()\n",
    "\n",
    "        for kw1 in kws1:\n",
    "            for kw2 in kws2:\n",
    "                class_res = gbm_classifier(ft_model.get_sentence_vector, gbm_model1.predict, (kw1, kw2))\n",
    "                if(class_res):\n",
    "                    return class_res\n",
    "    \n",
    "    return 0"
   ]
  },
  {
   "cell_type": "code",
   "execution_count": 99,
   "metadata": {},
   "outputs": [
    {
     "data": {
      "text/plain": [
       "1"
      ]
     },
     "execution_count": 99,
     "metadata": {},
     "output_type": "execute_result"
    }
   ],
   "source": [
    "get_rel_from_kw_from_concepts_prereq(labeled1_concept_pair_df.iloc[1,0], labeled1_concept_pair_df.iloc[1,1])"
   ]
  },
  {
   "cell_type": "code",
   "execution_count": 100,
   "metadata": {},
   "outputs": [
    {
     "name": "stdout",
     "output_type": "stream",
     "text": [
      "Percentage of keyword that are prerequesite for their successors: 20.49%\n"
     ]
    }
   ],
   "source": [
    "prereq = labeled_concept_pair_df.apply(lambda x: get_rel_from_kw_from_concepts_prereq(x.kw1, x.kw2), axis=1)\n",
    "\n",
    "percentage = prereq.sum()/prereq.shape[0]*100\n",
    "print(\"Percentage of keyword that are prerequesite for their successors: {0:.2f}%\".format( percentage))"
   ]
  }
 ],
 "metadata": {
  "interpreter": {
   "hash": "00dac3d85057902516a7de3d1bb919e2487cdfcc669671ff52e056662c37d510"
  },
  "kernelspec": {
   "display_name": "Python 3.9.12 ('ke')",
   "language": "python",
   "name": "python3"
  },
  "language_info": {
   "codemirror_mode": {
    "name": "ipython",
    "version": 3
   },
   "file_extension": ".py",
   "mimetype": "text/x-python",
   "name": "python",
   "nbconvert_exporter": "python",
   "pygments_lexer": "ipython3",
   "version": "3.9.12"
  },
  "orig_nbformat": 4
 },
 "nbformat": 4,
 "nbformat_minor": 2
}
