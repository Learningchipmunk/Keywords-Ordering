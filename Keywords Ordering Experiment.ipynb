{
 "cells": [
  {
   "cell_type": "code",
   "execution_count": 11,
   "id": "d3e76886",
   "metadata": {},
   "outputs": [],
   "source": [
    "import re\n",
    "import json\n",
    "import pandas as pd\n",
    "import numpy as np\n",
    "import seaborn as sns\n",
    "import pickle\n",
    "import matplotlib.pyplot as plt\n",
    "\n",
    "from scipy.stats import entropy\n",
    "from sklearn.metrics import mutual_info_score \n",
    "from Scripts.util import findAllIterationsInString\n",
    "from IPython.display import clear_output"
   ]
  },
  {
   "cell_type": "markdown",
   "id": "e29467f1",
   "metadata": {},
   "source": [
    "##### Load Data"
   ]
  },
  {
   "cell_type": "code",
   "execution_count": 2,
   "id": "6d13168b",
   "metadata": {},
   "outputs": [
    {
     "name": "stdout",
     "output_type": "stream",
     "text": [
      "Type: <class 'dict'>\n"
     ]
    }
   ],
   "source": [
    "with open('Data/count_ccs.json', 'r') as fp:\n",
    "    count_ccs = json.load(fp)\n",
    " \n",
    "    # Print the type of data variable\n",
    "    print(\"Type:\", type(count_ccs))\n",
    "\n",
    "with open('Data/count_ccs_root.json', 'r') as fp:\n",
    "    count_ccs_root = json.load(fp)\n",
    "\n",
    "with open('Data/count_ccs_kw.json', 'r') as fp:\n",
    "    count_ccs_kw = json.load(fp)\n",
    "\n",
    "with open('Data/articles_dict.json', 'r') as fp:\n",
    "    articles_dict = json.load(fp)"
   ]
  },
  {
   "cell_type": "code",
   "execution_count": 2,
   "id": "7455acf5",
   "metadata": {},
   "outputs": [],
   "source": [
    "articles_df = pd.read_csv(\"Data/data_processed.csv\")"
   ]
  },
  {
   "cell_type": "markdown",
   "id": "4c9ea73b",
   "metadata": {},
   "source": [
    "##### Descr of the Created DataFrame"
   ]
  },
  {
   "cell_type": "code",
   "execution_count": 3,
   "id": "f9bac44d",
   "metadata": {},
   "outputs": [
    {
     "data": {
      "text/html": [
       "<div>\n",
       "<style scoped>\n",
       "    .dataframe tbody tr th:only-of-type {\n",
       "        vertical-align: middle;\n",
       "    }\n",
       "\n",
       "    .dataframe tbody tr th {\n",
       "        vertical-align: top;\n",
       "    }\n",
       "\n",
       "    .dataframe thead th {\n",
       "        text-align: right;\n",
       "    }\n",
       "</style>\n",
       "<table border=\"1\" class=\"dataframe\">\n",
       "  <thead>\n",
       "    <tr style=\"text-align: right;\">\n",
       "      <th></th>\n",
       "      <th>doi</th>\n",
       "      <th>abstract</th>\n",
       "      <th>ft_body</th>\n",
       "      <th>ccs</th>\n",
       "      <th>keywords</th>\n",
       "      <th>abstract_processed</th>\n",
       "      <th>ft_body_processed</th>\n",
       "      <th>kw_processed</th>\n",
       "      <th>main_concept_root</th>\n",
       "      <th>main_concept_leaf</th>\n",
       "      <th>high_Importance_concept_roots_and_leafs</th>\n",
       "    </tr>\n",
       "  </thead>\n",
       "  <tbody>\n",
       "    <tr>\n",
       "      <th>107908</th>\n",
       "      <td>10.1145/2767134</td>\n",
       "      <td>&lt;p&gt;Online social media allow users to interact...</td>\n",
       "      <td>\\n Detection of Political Manipulation in Onli...</td>\n",
       "      <td>{'CCS-&gt;Information systems-&gt;World Wide Web-&gt;We...</td>\n",
       "      <td>['online social media', 'machine learning', 'o...</td>\n",
       "      <td>online social medium allow user interact one a...</td>\n",
       "      <td>detection political manipulation online commun...</td>\n",
       "      <td>['online social medium', 'machine learning', '...</td>\n",
       "      <td>information system</td>\n",
       "      <td>web application</td>\n",
       "      <td>[('information system', 'web application'), ('...</td>\n",
       "    </tr>\n",
       "    <tr>\n",
       "      <th>107909</th>\n",
       "      <td>10.1145/2767135</td>\n",
       "      <td>&lt;p&gt;A classifier that determines if a webpage i...</td>\n",
       "      <td>\\n Improving Researcher Homepage Classi.cation...</td>\n",
       "      <td>{'CCS-&gt;Information systems-&gt;Information retrie...</td>\n",
       "      <td>['researcher homepage classification', 'co-tra...</td>\n",
       "      <td>classifier determines webpage relevant specifi...</td>\n",
       "      <td>improving researcher homepage classi cation un...</td>\n",
       "      <td>['researcher homepage classification', 'co-tra...</td>\n",
       "      <td>information system</td>\n",
       "      <td>information retrieval</td>\n",
       "      <td>[('information system', 'information retrieval')]</td>\n",
       "    </tr>\n",
       "    <tr>\n",
       "      <th>107910</th>\n",
       "      <td>10.1145/2789211</td>\n",
       "      <td>&lt;p&gt;There has been a recent swell of interest i...</td>\n",
       "      <td>\\n Diversionary Comments under Blog Posts JING...</td>\n",
       "      <td>{'Mathematics of computing~Bayesian networks':...</td>\n",
       "      <td>['diversionary comments', 'classification', 'c...</td>\n",
       "      <td>recent swell interest analysis blog comment ho...</td>\n",
       "      <td>diversionary comment blog post jing wang cleme...</td>\n",
       "      <td>['diversionary comment', 'classification', 'co...</td>\n",
       "      <td>mathematics computing</td>\n",
       "      <td>bayesian network</td>\n",
       "      <td>[('mathematics computing', 'bayesian network')...</td>\n",
       "    </tr>\n",
       "    <tr>\n",
       "      <th>107911</th>\n",
       "      <td>10.1145/2790304</td>\n",
       "      <td>&lt;p&gt;This work addresses the problem of estimati...</td>\n",
       "      <td>\\n Estimating Clustering Coef.cients and Size ...</td>\n",
       "      <td>{'CCS-&gt;Theory of computation-&gt;Design and analy...</td>\n",
       "      <td>['estimation', 'clustering coefficient', 'samp...</td>\n",
       "      <td>work address problem estimating social network...</td>\n",
       "      <td>estimating clustering coef cients size social ...</td>\n",
       "      <td>['estimation', 'clustering coefficient', 'samp...</td>\n",
       "      <td>theory computation</td>\n",
       "      <td>design analysis algorithm</td>\n",
       "      <td>[('theory computation', 'design analysis algor...</td>\n",
       "    </tr>\n",
       "    <tr>\n",
       "      <th>107912</th>\n",
       "      <td>10.1145/2812812</td>\n",
       "      <td>&lt;p&gt;The Web 2.0 brought new requirements to the...</td>\n",
       "      <td>\\n Fona: Quantitative Metric to Measure Focus ...</td>\n",
       "      <td>{'CCS-&gt;Hardware': 500}</td>\n",
       "      <td>['aria', 'focus navigation', 'web accessibility']</td>\n",
       "      <td>web 2 0 brought new requirement architecture w...</td>\n",
       "      <td>fona quantitative metric measure focus navigat...</td>\n",
       "      <td>['aria', 'focus navigation', 'web accessibility']</td>\n",
       "      <td>NaN</td>\n",
       "      <td>NaN</td>\n",
       "      <td>[(nan, nan)]</td>\n",
       "    </tr>\n",
       "  </tbody>\n",
       "</table>\n",
       "</div>"
      ],
      "text/plain": [
       "                    doi                                           abstract  \\\n",
       "107908  10.1145/2767134  <p>Online social media allow users to interact...   \n",
       "107909  10.1145/2767135  <p>A classifier that determines if a webpage i...   \n",
       "107910  10.1145/2789211  <p>There has been a recent swell of interest i...   \n",
       "107911  10.1145/2790304  <p>This work addresses the problem of estimati...   \n",
       "107912  10.1145/2812812  <p>The Web 2.0 brought new requirements to the...   \n",
       "\n",
       "                                                  ft_body  \\\n",
       "107908  \\n Detection of Political Manipulation in Onli...   \n",
       "107909  \\n Improving Researcher Homepage Classi.cation...   \n",
       "107910  \\n Diversionary Comments under Blog Posts JING...   \n",
       "107911  \\n Estimating Clustering Coef.cients and Size ...   \n",
       "107912  \\n Fona: Quantitative Metric to Measure Focus ...   \n",
       "\n",
       "                                                      ccs  \\\n",
       "107908  {'CCS->Information systems->World Wide Web->We...   \n",
       "107909  {'CCS->Information systems->Information retrie...   \n",
       "107910  {'Mathematics of computing~Bayesian networks':...   \n",
       "107911  {'CCS->Theory of computation->Design and analy...   \n",
       "107912                             {'CCS->Hardware': 500}   \n",
       "\n",
       "                                                 keywords  \\\n",
       "107908  ['online social media', 'machine learning', 'o...   \n",
       "107909  ['researcher homepage classification', 'co-tra...   \n",
       "107910  ['diversionary comments', 'classification', 'c...   \n",
       "107911  ['estimation', 'clustering coefficient', 'samp...   \n",
       "107912  ['aria', 'focus navigation', 'web accessibility']   \n",
       "\n",
       "                                       abstract_processed  \\\n",
       "107908  online social medium allow user interact one a...   \n",
       "107909  classifier determines webpage relevant specifi...   \n",
       "107910  recent swell interest analysis blog comment ho...   \n",
       "107911  work address problem estimating social network...   \n",
       "107912  web 2 0 brought new requirement architecture w...   \n",
       "\n",
       "                                        ft_body_processed  \\\n",
       "107908  detection political manipulation online commun...   \n",
       "107909  improving researcher homepage classi cation un...   \n",
       "107910  diversionary comment blog post jing wang cleme...   \n",
       "107911  estimating clustering coef cients size social ...   \n",
       "107912  fona quantitative metric measure focus navigat...   \n",
       "\n",
       "                                             kw_processed  \\\n",
       "107908  ['online social medium', 'machine learning', '...   \n",
       "107909  ['researcher homepage classification', 'co-tra...   \n",
       "107910  ['diversionary comment', 'classification', 'co...   \n",
       "107911  ['estimation', 'clustering coefficient', 'samp...   \n",
       "107912  ['aria', 'focus navigation', 'web accessibility']   \n",
       "\n",
       "            main_concept_root          main_concept_leaf  \\\n",
       "107908     information system            web application   \n",
       "107909     information system      information retrieval   \n",
       "107910  mathematics computing           bayesian network   \n",
       "107911     theory computation  design analysis algorithm   \n",
       "107912                    NaN                        NaN   \n",
       "\n",
       "                  high_Importance_concept_roots_and_leafs  \n",
       "107908  [('information system', 'web application'), ('...  \n",
       "107909  [('information system', 'information retrieval')]  \n",
       "107910  [('mathematics computing', 'bayesian network')...  \n",
       "107911  [('theory computation', 'design analysis algor...  \n",
       "107912                                       [(nan, nan)]  "
      ]
     },
     "execution_count": 3,
     "metadata": {},
     "output_type": "execute_result"
    }
   ],
   "source": [
    "articles_df.tail()"
   ]
  },
  {
   "cell_type": "markdown",
   "id": "03add35f",
   "metadata": {},
   "source": [
    "## Keyword Frequency and Ordering"
   ]
  },
  {
   "cell_type": "markdown",
   "id": "2f92655b",
   "metadata": {},
   "source": [
    "##### Aggregate the dataset by main concept leafs"
   ]
  },
  {
   "cell_type": "code",
   "execution_count": 4,
   "id": "e6319110",
   "metadata": {},
   "outputs": [
    {
     "data": {
      "text/plain": [
       "\"[('test1', 'test2'),]\""
      ]
     },
     "execution_count": 4,
     "metadata": {},
     "output_type": "execute_result"
    }
   ],
   "source": [
    "def removeNans(str_inp):\n",
    "    no_nans = re.sub(r',? ?\\(nan, nan\\),? ?', ',', str_inp)\n",
    "    no_trailing_commas = re.sub(r', *(, *)+', ',', no_nans)\n",
    "    no_isolated_commas = re.sub(r'\\[, *\\(', '[(', no_trailing_commas)\n",
    "    return no_isolated_commas\n",
    "removeNans(\"[, ('test1', 'test2'), , , (nan, nan),(nan, nan)(nan, nan),,]\")"
   ]
  },
  {
   "cell_type": "code",
   "execution_count": 5,
   "id": "911fb905",
   "metadata": {},
   "outputs": [
    {
     "name": "stderr",
     "output_type": "stream",
     "text": [
      "/tmp/ipykernel_9030/2098801650.py:4: SettingWithCopyWarning: \n",
      "A value is trying to be set on a copy of a slice from a DataFrame.\n",
      "Try using .loc[row_indexer,col_indexer] = value instead\n",
      "\n",
      "See the caveats in the documentation: https://pandas.pydata.org/pandas-docs/stable/user_guide/indexing.html#returning-a-view-versus-a-copy\n",
      "  articles_leafs_ccs_df['high_Importance_concept_roots_and_leafs'] = articles_leafs_ccs_df['high_Importance_concept_roots_and_leafs'].apply(lambda x: ast.literal_eval(removeNans(x)))\n"
     ]
    },
    {
     "data": {
      "text/html": [
       "<div>\n",
       "<style scoped>\n",
       "    .dataframe tbody tr th:only-of-type {\n",
       "        vertical-align: middle;\n",
       "    }\n",
       "\n",
       "    .dataframe tbody tr th {\n",
       "        vertical-align: top;\n",
       "    }\n",
       "\n",
       "    .dataframe thead th {\n",
       "        text-align: right;\n",
       "    }\n",
       "</style>\n",
       "<table border=\"1\" class=\"dataframe\">\n",
       "  <thead>\n",
       "    <tr style=\"text-align: right;\">\n",
       "      <th></th>\n",
       "      <th>high_Importance_concept_roots_and_leafs</th>\n",
       "      <th>ft_body_processed</th>\n",
       "    </tr>\n",
       "    <tr>\n",
       "      <th>main_concept_leaf</th>\n",
       "      <th></th>\n",
       "      <th></th>\n",
       "    </tr>\n",
       "  </thead>\n",
       "  <tbody>\n",
       "    <tr>\n",
       "      <th>world wide web</th>\n",
       "      <td>[(information system, database design model), ...</td>\n",
       "      <td>online support system stuart selber clarkson u...</td>\n",
       "    </tr>\n",
       "    <tr>\n",
       "      <th>world wide web ___amp___ 40 network structure___amp___ 41</th>\n",
       "      <td>[(network, network privacy anonymity), (networ...</td>\n",
       "      <td>news society doi 10 1145/3037386 keith kirkpat...</td>\n",
       "    </tr>\n",
       "    <tr>\n",
       "      <th>xml query language</th>\n",
       "      <td>[(human-centered computing, mixed/augmented re...</td>\n",
       "      <td>augmented reality enriches print medium revita...</td>\n",
       "    </tr>\n",
       "    <tr>\n",
       "      <th>yield cost modeling</th>\n",
       "      <td>[(hardware, yield cost optimization), (hardwar...</td>\n",
       "      <td>gsfap adaptive filtering using log arithmetic ...</td>\n",
       "    </tr>\n",
       "    <tr>\n",
       "      <th>yield cost optimization</th>\n",
       "      <td>[(hardware, yield cost optimization), (hardwar...</td>\n",
       "      <td>spatial computation mihai budiu girish venkata...</td>\n",
       "    </tr>\n",
       "  </tbody>\n",
       "</table>\n",
       "</div>"
      ],
      "text/plain": [
       "                                                              high_Importance_concept_roots_and_leafs  \\\n",
       "main_concept_leaf                                                                                       \n",
       "world wide web                                      [(information system, database design model), ...   \n",
       "world wide web ___amp___ 40 network structure__...  [(network, network privacy anonymity), (networ...   \n",
       "xml query language                                  [(human-centered computing, mixed/augmented re...   \n",
       "yield cost modeling                                 [(hardware, yield cost optimization), (hardwar...   \n",
       "yield cost optimization                             [(hardware, yield cost optimization), (hardwar...   \n",
       "\n",
       "                                                                                    ft_body_processed  \n",
       "main_concept_leaf                                                                                      \n",
       "world wide web                                      online support system stuart selber clarkson u...  \n",
       "world wide web ___amp___ 40 network structure__...  news society doi 10 1145/3037386 keith kirkpat...  \n",
       "xml query language                                  augmented reality enriches print medium revita...  \n",
       "yield cost modeling                                 gsfap adaptive filtering using log arithmetic ...  \n",
       "yield cost optimization                             spatial computation mihai budiu girish venkata...  "
      ]
     },
     "execution_count": 5,
     "metadata": {},
     "output_type": "execute_result"
    }
   ],
   "source": [
    "import ast\n",
    "articles_leafs_ccs_df = articles_df.dropna(subset = [\"ft_body_processed\", \"main_concept_leaf\"])\n",
    "## Convert list stores as string to list of tuples\n",
    "articles_leafs_ccs_df['high_Importance_concept_roots_and_leafs'] = articles_leafs_ccs_df['high_Importance_concept_roots_and_leafs'].apply(lambda x: ast.literal_eval(removeNans(x)))\n",
    "## Concats the data by leafs\n",
    "agg_ccs_df = articles_leafs_ccs_df.groupby(['main_concept_leaf']).agg({'high_Importance_concept_roots_and_leafs': sum, 'ft_body_processed': sum})\n",
    "agg_ccs_df['high_Importance_concept_roots_and_leafs'] = agg_ccs_df['high_Importance_concept_roots_and_leafs'].apply(lambda x: list(set(x)))\n",
    "agg_ccs_df.tail()"
   ]
  },
  {
   "cell_type": "code",
   "execution_count": 6,
   "id": "b1e2762c",
   "metadata": {},
   "outputs": [],
   "source": [
    "# from IPython.display import clear_output\n",
    "\n",
    "# for i in range(0, 10000):\n",
    "#     clear_output(wait=True)\n",
    "#     print(i)"
   ]
  },
  {
   "cell_type": "markdown",
   "id": "0d0de909",
   "metadata": {},
   "source": [
    "##### Stats on body length after aggregation"
   ]
  },
  {
   "cell_type": "code",
   "execution_count": 7,
   "id": "c48a7aa4",
   "metadata": {},
   "outputs": [
    {
     "name": "stderr",
     "output_type": "stream",
     "text": [
      "/tmp/ipykernel_9030/3506290130.py:1: UserWarning: Pandas doesn't allow columns to be created via a new attribute name - see https://pandas.pydata.org/pandas-docs/stable/indexing.html#attribute-access\n",
      "  agg_ccs_df.ft_body_len = agg_ccs_df['ft_body_processed'].apply(len)\n"
     ]
    },
    {
     "data": {
      "text/plain": [
       "(956, 2)"
      ]
     },
     "execution_count": 7,
     "metadata": {},
     "output_type": "execute_result"
    }
   ],
   "source": [
    "agg_ccs_df.ft_body_len = agg_ccs_df['ft_body_processed'].apply(len)\n",
    "agg_ccs_df[agg_ccs_df.ft_body_len >= 1e5].shape"
   ]
  },
  {
   "cell_type": "code",
   "execution_count": 8,
   "id": "d2ae8ce5",
   "metadata": {},
   "outputs": [],
   "source": [
    "## Parameters to build distributions\n",
    "window_size = int(1e2)\n",
    "corpus_size = int(1e5)"
   ]
  },
  {
   "cell_type": "code",
   "execution_count": 14,
   "id": "89a514a0",
   "metadata": {},
   "outputs": [],
   "source": [
    "def kl_div(x, y):\n",
    "    \"\"\"Function that computes the kl divergence of two discrete distributions\"\"\"\n",
    "    idx1 = np.intersect1d(np.where(x>0), np.where(y>0))\n",
    "    idx2 = np.where(x==0)\n",
    "\n",
    "    return (x[idx1]*np.log(x[idx1]/y[idx1])).sum() + y[idx2].sum()\n",
    "\n",
    "def ComputeKwDistribution(corpus, kw, window_size, normalized = True):\n",
    "    ## Lowering varialbes in case its not done by preprocessing\n",
    "    corpus = corpus.lower()\n",
    "    kw     = kw.lower()\n",
    "\n",
    "    ## Find all positions of occurences of a substring in the corpus\n",
    "    occur_list = findAllIterationsInString(corpus, kw)\n",
    "\n",
    "    ## Divide by window size to get positions:\n",
    "    pos_in_window = np.array(occur_list)/window_size\n",
    "    pos_in_window = np.floor(pos_in_window).astype(int)\n",
    "\n",
    "    ## Count occurences in a window \n",
    "    unique_pos, freq = np.unique(pos_in_window, return_counts=True)\n",
    "    distribution = np.array([0 for i in range(0, np.ceil(len(corpus)/window_size).astype(int))])#bins of distrib\n",
    "    distribution[unique_pos] = freq\n",
    "\n",
    "    return distribution/distribution.sum() if normalized and distribution.sum()!=0 else distribution\n",
    "\n",
    "def ExtractKeywordOrderFromCorpus(labeled_data_dict, corpus, ccs_list, corpus_size, window_size, verbose=False):\n",
    "    if(verbose):\n",
    "        print(corpus[:1000] if len(corpus) > 1000 else corpus)\n",
    "        print(ccs_list)\n",
    "\n",
    "    ## Looping on corpus size:\n",
    "    curr_corpus = corpus\n",
    "    found_atleast_one_kw = False\n",
    "    while(len(curr_corpus) >= corpus_size):\n",
    "        working_corpus = curr_corpus[:corpus_size]\n",
    "        \n",
    "        ## Find valid keyword pairs\n",
    "        for kw_pair in ccs_list:\n",
    "            concept_root, concept_leaf = kw_pair\n",
    "            if(concept_root in working_corpus and concept_leaf in working_corpus):\n",
    "                found_atleast_one_kw = True\n",
    "        \n",
    "                ## Randomly chooses the order of keywords (kw)\n",
    "                label, kw1, kw2 = None, None, None\n",
    "                if(np.random.uniform(0,1)>0.5):\n",
    "                    label = 0 # leaf then root is 0\n",
    "                    kw1 = concept_leaf\n",
    "                    kw2 = concept_root\n",
    "\n",
    "                else:\n",
    "                    label = 1 # root then leaf is 1\n",
    "                    kw2 = concept_leaf\n",
    "                    kw1 = concept_root\n",
    "                    \n",
    "\n",
    "                ## Computing the distributions of both concepts\n",
    "                dist1 = ComputeKwDistribution(working_corpus, kw1, window_size=window_size, normalized = True)\n",
    "                dist2 = ComputeKwDistribution(working_corpus, kw2, window_size=window_size, normalized = True)\n",
    "\n",
    "                if(verbose):\n",
    "                    print(dist1)\n",
    "                    print(dist2)\n",
    "\n",
    "                ## Padding distributions to same length\n",
    "                len_d1, len_d2 = len(dist1), len(dist2)\n",
    "                if(len_d1 < len_d2):\n",
    "                    dist1 = np.pad(dist1, (0, len_d2-len_d1), mode=\"constant\", constant_values=0)\n",
    "                elif(len_d1 > len_d2):\n",
    "                    dist2 = np.pad(dist2, (0, len_d1-len_d2), mode=\"constant\", constant_values=0)\n",
    "\n",
    "                ## Computing entropy, KL divergence, ratio and Mutual Information for both distributions:\n",
    "                H1_var = entropy(dist1)\n",
    "                H2_var = entropy(dist2)\n",
    "                kl_div1 = kl_div(dist1, dist2).sum()\n",
    "                kl_div2 = kl_div(dist2, dist1).sum()\n",
    "                ratio   = kl_div1/kl_div2 if kl_div2 != 0 else np.nan\n",
    "                MI_var  = mutual_info_score(dist1, dist2) \n",
    "\n",
    "                ## Store information\n",
    "                labeled_data_dict[\"label\"].append(label)\n",
    "                labeled_data_dict[\"kw1\"].append(kw1)\n",
    "                labeled_data_dict[\"kw2\"].append(kw2)\n",
    "                labeled_data_dict[\"distrib1\"].append(dist1)\n",
    "                labeled_data_dict[\"distrib2\"].append(dist2)\n",
    "                labeled_data_dict[\"H1\"].append(H1_var)\n",
    "                labeled_data_dict[\"H2\"].append(H2_var)\n",
    "                labeled_data_dict[\"DKL_1\"].append(kl_div1)\n",
    "                labeled_data_dict[\"DKL_2\"].append(kl_div2)\n",
    "                labeled_data_dict[\"ratio\"].append(ratio)\n",
    "                labeled_data_dict[\"MI\"].append(MI_var)\n",
    "\n",
    "                ## Clear warnings\n",
    "                if(not verbose):\n",
    "                    clear_output(wait=True)\n",
    "\n",
    "        \n",
    "\n",
    "        curr_corpus = curr_corpus[corpus_size:]# Sliding window style for corpus\n",
    "\n",
    "\n",
    "    return 1 if found_atleast_one_kw else np.nan"
   ]
  },
  {
   "cell_type": "markdown",
   "id": "a81fc1ef",
   "metadata": {},
   "source": [
    "Test of new implementation"
   ]
  },
  {
   "cell_type": "code",
   "execution_count": 10,
   "id": "04bbd3fd",
   "metadata": {},
   "outputs": [
    {
     "name": "stdout",
     "output_type": "stream",
     "text": [
      "186 2 [3 2]\n"
     ]
    }
   ],
   "source": [
    "str_var = \"French fries I love french fries, this is why I cook them so often! Please let me eat french fries indefinitely. Yes, I am addicted to french fries (you did not ask me). (French fries!!)\"\n",
    "kw      = \"French fries\"\n",
    "\n",
    "res_1   = ComputeKwDistribution(str_var, kw, window_size=100, normalized = False)\n",
    "print(len(str_var), len(res_1), res_1)"
   ]
  },
  {
   "cell_type": "markdown",
   "id": "8a98b2ca",
   "metadata": {},
   "source": [
    "##### Create labeled data on abstracts"
   ]
  },
  {
   "cell_type": "code",
   "execution_count": 13,
   "id": "9f1d4146",
   "metadata": {},
   "outputs": [
    {
     "name": "stdout",
     "output_type": "stream",
     "text": [
      "number of concept not found: 154  out of 956 articles.\n"
     ]
    },
    {
     "data": {
      "text/html": [
       "<div>\n",
       "<style scoped>\n",
       "    .dataframe tbody tr th:only-of-type {\n",
       "        vertical-align: middle;\n",
       "    }\n",
       "\n",
       "    .dataframe tbody tr th {\n",
       "        vertical-align: top;\n",
       "    }\n",
       "\n",
       "    .dataframe thead th {\n",
       "        text-align: right;\n",
       "    }\n",
       "</style>\n",
       "<table border=\"1\" class=\"dataframe\">\n",
       "  <thead>\n",
       "    <tr style=\"text-align: right;\">\n",
       "      <th></th>\n",
       "      <th>label</th>\n",
       "      <th>kw1</th>\n",
       "      <th>kw2</th>\n",
       "      <th>distrib1</th>\n",
       "      <th>distrib2</th>\n",
       "      <th>H1</th>\n",
       "      <th>H2</th>\n",
       "      <th>DKL_1</th>\n",
       "      <th>DKL_2</th>\n",
       "      <th>ratio</th>\n",
       "      <th>MI</th>\n",
       "    </tr>\n",
       "  </thead>\n",
       "  <tbody>\n",
       "    <tr>\n",
       "      <th>19765</th>\n",
       "      <td>0</td>\n",
       "      <td>web mining</td>\n",
       "      <td>information system</td>\n",
       "      <td>[0.0, 0.0, 0.0, 0.0, 0.0, 0.0, 0.0, 0.0, 0.0, ...</td>\n",
       "      <td>[0.0, 0.0, 0.0, 0.0, 0.0, 0.0, 0.0, 0.0, 0.0, ...</td>\n",
       "      <td>0.693147</td>\n",
       "      <td>1.386294</td>\n",
       "      <td>1.096574</td>\n",
       "      <td>0.326713</td>\n",
       "      <td>3.356380</td>\n",
       "      <td>0.004275</td>\n",
       "    </tr>\n",
       "    <tr>\n",
       "      <th>19766</th>\n",
       "      <td>1</td>\n",
       "      <td>information system</td>\n",
       "      <td>world wide web</td>\n",
       "      <td>[0.0, 0.0, 0.0, 0.0, 0.0, 0.0, 0.0, 0.0, 0.0, ...</td>\n",
       "      <td>[0.0, 0.0, 0.0, 0.0, 0.0, 0.0, 0.0, 0.0, 0.0, ...</td>\n",
       "      <td>1.098612</td>\n",
       "      <td>0.000000</td>\n",
       "      <td>1.000000</td>\n",
       "      <td>1.000000</td>\n",
       "      <td>1.000000</td>\n",
       "      <td>0.000003</td>\n",
       "    </tr>\n",
       "    <tr>\n",
       "      <th>19767</th>\n",
       "      <td>1</td>\n",
       "      <td>human-centered computing</td>\n",
       "      <td>human computer interaction hci</td>\n",
       "      <td>[0.0, 0.0, 0.0, 0.0, 0.0, 0.0, 1.0, 0.0, 0.0, ...</td>\n",
       "      <td>[0.0, 0.0, 0.0, 0.0, 0.0, 0.0, 1.0, 0.0, 0.0, ...</td>\n",
       "      <td>0.000000</td>\n",
       "      <td>0.000000</td>\n",
       "      <td>0.000000</td>\n",
       "      <td>0.000000</td>\n",
       "      <td>NaN</td>\n",
       "      <td>0.007907</td>\n",
       "    </tr>\n",
       "    <tr>\n",
       "      <th>19768</th>\n",
       "      <td>1</td>\n",
       "      <td>information system</td>\n",
       "      <td>social network</td>\n",
       "      <td>[0.0, 0.0, 0.0, 0.0, 0.0, 0.0, 0.0, 0.5, 0.0, ...</td>\n",
       "      <td>[0.0, 0.0, 0.0, 0.0, 0.0, 0.0, 0.0, 0.0, 0.0, ...</td>\n",
       "      <td>0.693147</td>\n",
       "      <td>0.000000</td>\n",
       "      <td>1.000000</td>\n",
       "      <td>1.000000</td>\n",
       "      <td>1.000000</td>\n",
       "      <td>0.000002</td>\n",
       "    </tr>\n",
       "    <tr>\n",
       "      <th>19769</th>\n",
       "      <td>1</td>\n",
       "      <td>information system</td>\n",
       "      <td>world wide web</td>\n",
       "      <td>[0.0, 0.0, 0.0, 0.0, 0.0, 0.0, 0.0, 0.5, 0.0, ...</td>\n",
       "      <td>[0.0, 0.0, 0.0, 0.0, 0.0, 0.0, 0.0, 0.2, 0.0, ...</td>\n",
       "      <td>0.693147</td>\n",
       "      <td>1.609438</td>\n",
       "      <td>1.516291</td>\n",
       "      <td>-0.366516</td>\n",
       "      <td>-4.137035</td>\n",
       "      <td>0.011062</td>\n",
       "    </tr>\n",
       "  </tbody>\n",
       "</table>\n",
       "</div>"
      ],
      "text/plain": [
       "       label                       kw1                             kw2  \\\n",
       "19765      0                web mining              information system   \n",
       "19766      1        information system                  world wide web   \n",
       "19767      1  human-centered computing  human computer interaction hci   \n",
       "19768      1        information system                  social network   \n",
       "19769      1        information system                  world wide web   \n",
       "\n",
       "                                                distrib1  \\\n",
       "19765  [0.0, 0.0, 0.0, 0.0, 0.0, 0.0, 0.0, 0.0, 0.0, ...   \n",
       "19766  [0.0, 0.0, 0.0, 0.0, 0.0, 0.0, 0.0, 0.0, 0.0, ...   \n",
       "19767  [0.0, 0.0, 0.0, 0.0, 0.0, 0.0, 1.0, 0.0, 0.0, ...   \n",
       "19768  [0.0, 0.0, 0.0, 0.0, 0.0, 0.0, 0.0, 0.5, 0.0, ...   \n",
       "19769  [0.0, 0.0, 0.0, 0.0, 0.0, 0.0, 0.0, 0.5, 0.0, ...   \n",
       "\n",
       "                                                distrib2        H1        H2  \\\n",
       "19765  [0.0, 0.0, 0.0, 0.0, 0.0, 0.0, 0.0, 0.0, 0.0, ...  0.693147  1.386294   \n",
       "19766  [0.0, 0.0, 0.0, 0.0, 0.0, 0.0, 0.0, 0.0, 0.0, ...  1.098612  0.000000   \n",
       "19767  [0.0, 0.0, 0.0, 0.0, 0.0, 0.0, 1.0, 0.0, 0.0, ...  0.000000  0.000000   \n",
       "19768  [0.0, 0.0, 0.0, 0.0, 0.0, 0.0, 0.0, 0.0, 0.0, ...  0.693147  0.000000   \n",
       "19769  [0.0, 0.0, 0.0, 0.0, 0.0, 0.0, 0.0, 0.2, 0.0, ...  0.693147  1.609438   \n",
       "\n",
       "          DKL_1     DKL_2     ratio        MI  \n",
       "19765  1.096574  0.326713  3.356380  0.004275  \n",
       "19766  1.000000  1.000000  1.000000  0.000003  \n",
       "19767  0.000000  0.000000       NaN  0.007907  \n",
       "19768  1.000000  1.000000  1.000000  0.000002  \n",
       "19769  1.516291 -0.366516 -4.137035  0.011062  "
      ]
     },
     "execution_count": 13,
     "metadata": {},
     "output_type": "execute_result"
    }
   ],
   "source": [
    "## Dict stores the created labeled data for future experiments\n",
    "labeled_data_dict = {\"label\": [], \"kw1\": [], \"kw2\": [], \"distrib1\": [], \"distrib2\": [], \"H1\": [], \"H2\": [], \"DKL_1\": [], \"DKL_2\": [], \"ratio\": [], \"MI\": []}\n",
    "\n",
    "\n",
    "agg_ccs_df.ft_body_len = agg_ccs_df['ft_body_processed'].apply(len)\n",
    "agg_ccs_bigbodies_df = agg_ccs_df[agg_ccs_df.ft_body_len >= 1e5]\n",
    "print(\"remaining bodies\", agg_ccs_bigbodies_df.shape)\n",
    "\n",
    "return_na_count = agg_ccs_bigbodies_df.apply(lambda el: ExtractKeywordOrderFromCorpus(labeled_data_dict, corpus=el.ft_body_processed, ccs_list=el.high_Importance_concept_roots_and_leafs, corpus_size=corpus_size, window_size=window_size, verbose=False), axis = 1)\n",
    "\n",
    "print(\"number of concept not found:\", return_na_count.isna().sum(), \" out of {} articles.\".format(agg_ccs_bigbodies_df.shape[0]))\n",
    "\n",
    "labeled_data_bodies_df = pd.DataFrame.from_dict(labeled_data_dict)\n",
    "labeled_data_bodies_df.tail()"
   ]
  },
  {
   "cell_type": "code",
   "execution_count": 16,
   "id": "77af7956",
   "metadata": {},
   "outputs": [
    {
     "data": {
      "text/html": [
       "<div>\n",
       "<style scoped>\n",
       "    .dataframe tbody tr th:only-of-type {\n",
       "        vertical-align: middle;\n",
       "    }\n",
       "\n",
       "    .dataframe tbody tr th {\n",
       "        vertical-align: top;\n",
       "    }\n",
       "\n",
       "    .dataframe thead th {\n",
       "        text-align: right;\n",
       "    }\n",
       "</style>\n",
       "<table border=\"1\" class=\"dataframe\">\n",
       "  <thead>\n",
       "    <tr style=\"text-align: right;\">\n",
       "      <th></th>\n",
       "      <th>label</th>\n",
       "      <th>H1</th>\n",
       "      <th>H2</th>\n",
       "      <th>DKL_1</th>\n",
       "      <th>DKL_2</th>\n",
       "      <th>ratio</th>\n",
       "      <th>MI</th>\n",
       "    </tr>\n",
       "  </thead>\n",
       "  <tbody>\n",
       "    <tr>\n",
       "      <th>count</th>\n",
       "      <td>19770.000000</td>\n",
       "      <td>19770.000000</td>\n",
       "      <td>19770.000000</td>\n",
       "      <td>19770.000000</td>\n",
       "      <td>19770.000000</td>\n",
       "      <td>18882.000000</td>\n",
       "      <td>19770.000000</td>\n",
       "    </tr>\n",
       "    <tr>\n",
       "      <th>mean</th>\n",
       "      <td>0.497016</td>\n",
       "      <td>1.435011</td>\n",
       "      <td>1.446073</td>\n",
       "      <td>1.201980</td>\n",
       "      <td>1.182062</td>\n",
       "      <td>-8.241825</td>\n",
       "      <td>0.002483</td>\n",
       "    </tr>\n",
       "    <tr>\n",
       "      <th>std</th>\n",
       "      <td>0.500004</td>\n",
       "      <td>1.575353</td>\n",
       "      <td>1.572960</td>\n",
       "      <td>1.316070</td>\n",
       "      <td>1.302875</td>\n",
       "      <td>73.076084</td>\n",
       "      <td>0.005678</td>\n",
       "    </tr>\n",
       "    <tr>\n",
       "      <th>min</th>\n",
       "      <td>0.000000</td>\n",
       "      <td>0.000000</td>\n",
       "      <td>0.000000</td>\n",
       "      <td>-0.366516</td>\n",
       "      <td>-0.367811</td>\n",
       "      <td>-4274.328672</td>\n",
       "      <td>0.000001</td>\n",
       "    </tr>\n",
       "    <tr>\n",
       "      <th>25%</th>\n",
       "      <td>0.000000</td>\n",
       "      <td>0.000000</td>\n",
       "      <td>0.000000</td>\n",
       "      <td>1.000000</td>\n",
       "      <td>1.000000</td>\n",
       "      <td>-0.006005</td>\n",
       "      <td>0.000006</td>\n",
       "    </tr>\n",
       "    <tr>\n",
       "      <th>50%</th>\n",
       "      <td>0.000000</td>\n",
       "      <td>0.693147</td>\n",
       "      <td>0.693147</td>\n",
       "      <td>1.000000</td>\n",
       "      <td>1.000000</td>\n",
       "      <td>1.000000</td>\n",
       "      <td>0.000054</td>\n",
       "    </tr>\n",
       "    <tr>\n",
       "      <th>75%</th>\n",
       "      <td>1.000000</td>\n",
       "      <td>2.369382</td>\n",
       "      <td>2.397895</td>\n",
       "      <td>1.000000</td>\n",
       "      <td>1.000000</td>\n",
       "      <td>1.000000</td>\n",
       "      <td>0.003979</td>\n",
       "    </tr>\n",
       "    <tr>\n",
       "      <th>max</th>\n",
       "      <td>1.000000</td>\n",
       "      <td>5.988555</td>\n",
       "      <td>6.148306</td>\n",
       "      <td>7.109250</td>\n",
       "      <td>7.109250</td>\n",
       "      <td>6908.065642</td>\n",
       "      <td>0.218466</td>\n",
       "    </tr>\n",
       "  </tbody>\n",
       "</table>\n",
       "</div>"
      ],
      "text/plain": [
       "              label            H1            H2         DKL_1         DKL_2  \\\n",
       "count  19770.000000  19770.000000  19770.000000  19770.000000  19770.000000   \n",
       "mean       0.497016      1.435011      1.446073      1.201980      1.182062   \n",
       "std        0.500004      1.575353      1.572960      1.316070      1.302875   \n",
       "min        0.000000      0.000000      0.000000     -0.366516     -0.367811   \n",
       "25%        0.000000      0.000000      0.000000      1.000000      1.000000   \n",
       "50%        0.000000      0.693147      0.693147      1.000000      1.000000   \n",
       "75%        1.000000      2.369382      2.397895      1.000000      1.000000   \n",
       "max        1.000000      5.988555      6.148306      7.109250      7.109250   \n",
       "\n",
       "              ratio            MI  \n",
       "count  18882.000000  19770.000000  \n",
       "mean      -8.241825      0.002483  \n",
       "std       73.076084      0.005678  \n",
       "min    -4274.328672      0.000001  \n",
       "25%       -0.006005      0.000006  \n",
       "50%        1.000000      0.000054  \n",
       "75%        1.000000      0.003979  \n",
       "max     6908.065642      0.218466  "
      ]
     },
     "execution_count": 16,
     "metadata": {},
     "output_type": "execute_result"
    }
   ],
   "source": [
    "labeled_data_bodies_df.describe()"
   ]
  },
  {
   "cell_type": "markdown",
   "id": "308540de",
   "metadata": {},
   "source": [
    "##### Gradient Boosting"
   ]
  },
  {
   "cell_type": "code",
   "execution_count": 18,
   "id": "74bfac9b",
   "metadata": {},
   "outputs": [],
   "source": [
    "from sklearn.ensemble import GradientBoostingClassifier  #GBM algorithm\n",
    "from sklearn.model_selection  import cross_validate, GridSearchCV\n",
    "from sklearn  import metrics   #Additional scklearn functions\n",
    "from sklearn.metrics import accuracy_score, confusion_matrix, classification_report\n",
    "from sklearn.model_selection import train_test_split\n",
    "\n",
    "\n",
    "processed_data = labeled_data_bodies_df.drop(columns=[\"kw1\", \"kw2\", \"distrib1\", \"distrib2\"]).dropna(subset=\"ratio\")\n",
    "\n",
    "X_train, X_test, y_train, y_test = train_test_split(processed_data.drop(columns=\"label\"), processed_data['label'],\n",
    "                                           train_size=0.8, test_size=0.2) # tested"
   ]
  },
  {
   "cell_type": "code",
   "execution_count": 19,
   "id": "07e0cebc",
   "metadata": {},
   "outputs": [
    {
     "data": {
      "text/plain": [
       "GridSearchCV(cv=5,\n",
       "             estimator=GradientBoostingClassifier(max_features='sqrt',\n",
       "                                                  random_state=10,\n",
       "                                                  subsample=0.8),\n",
       "             n_jobs=4,\n",
       "             param_grid={'max_depth': [8], 'min_samples_leaf': [20],\n",
       "                         'min_samples_split': [20], 'n_estimators': [700]},\n",
       "             scoring='f1_weighted')"
      ]
     },
     "execution_count": 19,
     "metadata": {},
     "output_type": "execute_result"
    }
   ],
   "source": [
    "param_test1 = {\n",
    "    'n_estimators': [700],#range(300, 701, 100),\n",
    "    'max_depth': [8],#range(4, 9, 2),\n",
    "    'min_samples_leaf': [20],#range(10, 31, 10),\n",
    "    'min_samples_split': [20]#range(20, 51, 10)\n",
    "}\n",
    "gsearch1 = GridSearchCV(estimator = GradientBoostingClassifier(learning_rate=0.1,max_features='sqrt',subsample=0.8,random_state=10),# min_samples_split=500,min_samples_leaf=50 \n",
    "param_grid = param_test1, scoring='f1_weighted',n_jobs=4, cv=5)\n",
    "gsearch1.fit(X_train,y_train)"
   ]
  },
  {
   "cell_type": "code",
   "execution_count": 20,
   "id": "70fd55a8",
   "metadata": {},
   "outputs": [
    {
     "data": {
      "text/plain": [
       "0.6274338453234785"
      ]
     },
     "execution_count": 20,
     "metadata": {},
     "output_type": "execute_result"
    }
   ],
   "source": [
    "gsearch1.best_score_#gsearch1.cv_results_, gsearch1.best_params_, "
   ]
  },
  {
   "cell_type": "code",
   "execution_count": 21,
   "id": "495805cb",
   "metadata": {},
   "outputs": [],
   "source": [
    "best_model = gsearch1.best_estimator_"
   ]
  },
  {
   "cell_type": "code",
   "execution_count": 22,
   "id": "708a44e1",
   "metadata": {},
   "outputs": [
    {
     "data": {
      "text/plain": [
       "{'max_depth': 8,\n",
       " 'min_samples_leaf': 20,\n",
       " 'min_samples_split': 20,\n",
       " 'n_estimators': 700}"
      ]
     },
     "execution_count": 22,
     "metadata": {},
     "output_type": "execute_result"
    }
   ],
   "source": [
    "best_params_gbm = gsearch1.best_params_\n",
    "best_params_gbm"
   ]
  },
  {
   "cell_type": "code",
   "execution_count": 23,
   "id": "89b13832",
   "metadata": {},
   "outputs": [
    {
     "name": "stdout",
     "output_type": "stream",
     "text": [
      "Maximum number of parameters in our best model: 89600\n"
     ]
    }
   ],
   "source": [
    "print(\"Maximum number of parameters in our best model: {}\".format(best_model.n_estimators_*2**(best_model.max_depth-1)))"
   ]
  },
  {
   "cell_type": "markdown",
   "id": "a88b4d08",
   "metadata": {},
   "source": [
    "##### Performance analysis on test dataset"
   ]
  },
  {
   "cell_type": "code",
   "execution_count": 24,
   "id": "6b662a92",
   "metadata": {},
   "outputs": [
    {
     "data": {
      "text/plain": [
       "array([1, 0, 0, ..., 0, 1, 1])"
      ]
     },
     "execution_count": 24,
     "metadata": {},
     "output_type": "execute_result"
    }
   ],
   "source": [
    "y_pred=best_model.predict(X_test)\n",
    "y_pred"
   ]
  },
  {
   "cell_type": "code",
   "execution_count": 25,
   "id": "9e827acd",
   "metadata": {},
   "outputs": [
    {
     "name": "stdout",
     "output_type": "stream",
     "text": [
      "LightGBM Model accuracy score: 0.6187\n"
     ]
    }
   ],
   "source": [
    "accuracy=accuracy_score(y_pred, y_test)\n",
    "print('LightGBM Model accuracy score: {0:0.4f}'.format(accuracy_score(y_test, y_pred)))"
   ]
  },
  {
   "cell_type": "code",
   "execution_count": 26,
   "id": "a462b1d8",
   "metadata": {},
   "outputs": [
    {
     "data": {
      "text/plain": [
       "Text(0, 0.5, 'Feature Importance Score')"
      ]
     },
     "execution_count": 26,
     "metadata": {},
     "output_type": "execute_result"
    },
    {
     "data": {
      "image/png": "[encoded data removed]",
      "text/plain": [
       "<Figure size 432x288 with 1 Axes>"
      ]
     },
     "metadata": {
      "needs_background": "light"
     },
     "output_type": "display_data"
    }
   ],
   "source": [
    "feat_imp = pd.Series(best_model.feature_importances_, X_train.columns).sort_values(ascending=False)\n",
    "feat_imp.plot(kind='bar', title='Feature Importances')\n",
    "plt.ylabel('Feature Importance Score')"
   ]
  },
  {
   "cell_type": "markdown",
   "id": "fb200fe2",
   "metadata": {},
   "source": [
    "##### Plot confusion matrix:"
   ]
  },
  {
   "cell_type": "code",
   "execution_count": 27,
   "id": "7275b606",
   "metadata": {},
   "outputs": [],
   "source": [
    "cm = confusion_matrix(y_test, y_pred)"
   ]
  },
  {
   "cell_type": "code",
   "execution_count": 28,
   "id": "942b1a26",
   "metadata": {},
   "outputs": [
    {
     "name": "stdout",
     "output_type": "stream",
     "text": [
      "Confusion matrix\n",
      "\n",
      " [[1050  857]\n",
      " [ 583 1287]]\n"
     ]
    }
   ],
   "source": [
    "print('Confusion matrix\\n\\n', cm)"
   ]
  },
  {
   "cell_type": "code",
   "execution_count": 29,
   "id": "5ba10a5c",
   "metadata": {},
   "outputs": [
    {
     "data": {
      "text/plain": [
       "<AxesSubplot:>"
      ]
     },
     "execution_count": 29,
     "metadata": {},
     "output_type": "execute_result"
    },
    {
     "data": {
      "image/png": "[encoded data removed]",
      "text/plain": [
       "<Figure size 432x288 with 2 Axes>"
      ]
     },
     "metadata": {
      "needs_background": "light"
     },
     "output_type": "display_data"
    }
   ],
   "source": [
    "# visualize confusion matrix with seaborn heatmap\n",
    "\n",
    "cm_matrix = pd.DataFrame(data=cm, columns=['Actual leaf->root:0', 'Actual root->leaf:1'], \n",
    "                                 index=['Predict leaf->root:0', 'Predict root->leaf:1'])\n",
    "\n",
    "sns.heatmap(cm_matrix, annot=True, fmt='d', cmap='YlGnBu')"
   ]
  },
  {
   "cell_type": "code",
   "execution_count": 30,
   "id": "0fdc4f4c",
   "metadata": {},
   "outputs": [
    {
     "name": "stdout",
     "output_type": "stream",
     "text": [
      "              precision    recall  f1-score   support\n",
      "\n",
      "           0       0.64      0.55      0.59      1907\n",
      "           1       0.60      0.69      0.64      1870\n",
      "\n",
      "    accuracy                           0.62      3777\n",
      "   macro avg       0.62      0.62      0.62      3777\n",
      "weighted avg       0.62      0.62      0.62      3777\n",
      "\n"
     ]
    }
   ],
   "source": [
    "print(classification_report(y_test, y_pred))"
   ]
  },
  {
   "cell_type": "markdown",
   "id": "e2c45c06",
   "metadata": {},
   "source": [
    "##### Save Models"
   ]
  },
  {
   "cell_type": "code",
   "execution_count": 31,
   "id": "1c578687",
   "metadata": {},
   "outputs": [],
   "source": [
    "pickle.dump(best_model, open(\"Models/naive_gridsearch.pkl\", \"wb\"))"
   ]
  },
  {
   "cell_type": "code",
   "execution_count": 23,
   "id": "2fae40be",
   "metadata": {},
   "outputs": [
    {
     "data": {
      "text/plain": [
       "GradientBoostingClassifier(max_depth=8, max_features='sqrt',\n",
       "                           min_samples_leaf=20, min_samples_split=20,\n",
       "                           n_estimators=700, random_state=10, subsample=0.8)"
      ]
     },
     "execution_count": 23,
     "metadata": {},
     "output_type": "execute_result"
    }
   ],
   "source": [
    "best_model = pickle.load(open(\"Models/naive_gridsearch.pkl\", \"rb\"))\n",
    "best_model"
   ]
  }
 ],
 "metadata": {
  "interpreter": {
   "hash": "00dac3d85057902516a7de3d1bb919e2487cdfcc669671ff52e056662c37d510"
  },
  "kernelspec": {
   "display_name": "kw",
   "language": "python",
   "name": "python3"
  },
  "language_info": {
   "codemirror_mode": {
    "name": "ipython",
    "version": 3
   },
   "file_extension": ".py",
   "mimetype": "text/x-python",
   "name": "python",
   "nbconvert_exporter": "python",
   "pygments_lexer": "ipython3",
   "version": "3.9.12"
  }
 },
 "nbformat": 4,
 "nbformat_minor": 5
}
