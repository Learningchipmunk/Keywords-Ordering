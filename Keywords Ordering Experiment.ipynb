{
 "cells": [
  {
   "cell_type": "code",
   "execution_count": 1,
   "id": "d3e76886",
   "metadata": {},
   "outputs": [],
   "source": [
    "import re\n",
    "import json\n",
    "import pandas as pd\n",
    "import numpy as np\n",
    "import seaborn as sns\n",
    "import pickle\n",
    "import matplotlib.pyplot as plt"
   ]
  },
  {
   "cell_type": "markdown",
   "id": "e29467f1",
   "metadata": {},
   "source": [
    "##### Load Data"
   ]
  },
  {
   "cell_type": "code",
   "execution_count": 2,
   "id": "6d13168b",
   "metadata": {},
   "outputs": [
    {
     "name": "stdout",
     "output_type": "stream",
     "text": [
      "Type: <class 'dict'>\n"
     ]
    }
   ],
   "source": [
    "with open('Data/count_ccs.json', 'r') as fp:\n",
    "    count_ccs = json.load(fp)\n",
    " \n",
    "    # Print the type of data variable\n",
    "    print(\"Type:\", type(count_ccs))\n",
    "\n",
    "with open('Data/count_ccs_root.json', 'r') as fp:\n",
    "    count_ccs_root = json.load(fp)\n",
    "\n",
    "with open('Data/count_ccs_kw.json', 'r') as fp:\n",
    "    count_ccs_kw = json.load(fp)\n",
    "\n",
    "with open('Data/articles_dict.json', 'r') as fp:\n",
    "    articles_dict = json.load(fp)"
   ]
  },
  {
   "cell_type": "markdown",
   "id": "4c9ea73b",
   "metadata": {},
   "source": [
    "##### Descr of the Created DataFrame"
   ]
  },
  {
   "cell_type": "code",
   "execution_count": 3,
   "id": "f9bac44d",
   "metadata": {},
   "outputs": [
    {
     "data": {
      "text/html": [
       "<div>\n",
       "<style scoped>\n",
       "    .dataframe tbody tr th:only-of-type {\n",
       "        vertical-align: middle;\n",
       "    }\n",
       "\n",
       "    .dataframe tbody tr th {\n",
       "        vertical-align: top;\n",
       "    }\n",
       "\n",
       "    .dataframe thead th {\n",
       "        text-align: right;\n",
       "    }\n",
       "</style>\n",
       "<table border=\"1\" class=\"dataframe\">\n",
       "  <thead>\n",
       "    <tr style=\"text-align: right;\">\n",
       "      <th></th>\n",
       "      <th>doi</th>\n",
       "      <th>abstract</th>\n",
       "      <th>ft_body</th>\n",
       "      <th>ccs</th>\n",
       "      <th>keywords</th>\n",
       "    </tr>\n",
       "  </thead>\n",
       "  <tbody>\n",
       "    <tr>\n",
       "      <th>107908</th>\n",
       "      <td>10.1145/2767134</td>\n",
       "      <td>&lt;p&gt;Online social media allow users to interact...</td>\n",
       "      <td>\\n Detection of Political Manipulation in Onli...</td>\n",
       "      <td>{'CCS-&gt;Information systems-&gt;World Wide Web-&gt;We...</td>\n",
       "      <td>[online social media, machine learning, opinio...</td>\n",
       "    </tr>\n",
       "    <tr>\n",
       "      <th>107909</th>\n",
       "      <td>10.1145/2767135</td>\n",
       "      <td>&lt;p&gt;A classifier that determines if a webpage i...</td>\n",
       "      <td>\\n Improving Researcher Homepage Classi.cation...</td>\n",
       "      <td>{'CCS-&gt;Information systems-&gt;Information retrie...</td>\n",
       "      <td>[researcher homepage classification, co-traini...</td>\n",
       "    </tr>\n",
       "    <tr>\n",
       "      <th>107910</th>\n",
       "      <td>10.1145/2789211</td>\n",
       "      <td>&lt;p&gt;There has been a recent swell of interest i...</td>\n",
       "      <td>\\n Diversionary Comments under Blog Posts JING...</td>\n",
       "      <td>{'Mathematics of computing~Bayesian networks':...</td>\n",
       "      <td>[diversionary comments, classification, corefe...</td>\n",
       "    </tr>\n",
       "    <tr>\n",
       "      <th>107911</th>\n",
       "      <td>10.1145/2790304</td>\n",
       "      <td>&lt;p&gt;This work addresses the problem of estimati...</td>\n",
       "      <td>\\n Estimating Clustering Coef.cients and Size ...</td>\n",
       "      <td>{'CCS-&gt;Theory of computation-&gt;Design and analy...</td>\n",
       "      <td>[estimation, clustering coefficient, sampling,...</td>\n",
       "    </tr>\n",
       "    <tr>\n",
       "      <th>107912</th>\n",
       "      <td>10.1145/2812812</td>\n",
       "      <td>&lt;p&gt;The Web 2.0 brought new requirements to the...</td>\n",
       "      <td>\\n Fona: Quantitative Metric to Measure Focus ...</td>\n",
       "      <td>{'CCS-&gt;Hardware': 500}</td>\n",
       "      <td>[aria, focus navigation, web accessibility]</td>\n",
       "    </tr>\n",
       "  </tbody>\n",
       "</table>\n",
       "</div>"
      ],
      "text/plain": [
       "                    doi                                           abstract  \\\n",
       "107908  10.1145/2767134  <p>Online social media allow users to interact...   \n",
       "107909  10.1145/2767135  <p>A classifier that determines if a webpage i...   \n",
       "107910  10.1145/2789211  <p>There has been a recent swell of interest i...   \n",
       "107911  10.1145/2790304  <p>This work addresses the problem of estimati...   \n",
       "107912  10.1145/2812812  <p>The Web 2.0 brought new requirements to the...   \n",
       "\n",
       "                                                  ft_body  \\\n",
       "107908  \\n Detection of Political Manipulation in Onli...   \n",
       "107909  \\n Improving Researcher Homepage Classi.cation...   \n",
       "107910  \\n Diversionary Comments under Blog Posts JING...   \n",
       "107911  \\n Estimating Clustering Coef.cients and Size ...   \n",
       "107912  \\n Fona: Quantitative Metric to Measure Focus ...   \n",
       "\n",
       "                                                      ccs  \\\n",
       "107908  {'CCS->Information systems->World Wide Web->We...   \n",
       "107909  {'CCS->Information systems->Information retrie...   \n",
       "107910  {'Mathematics of computing~Bayesian networks':...   \n",
       "107911  {'CCS->Theory of computation->Design and analy...   \n",
       "107912                             {'CCS->Hardware': 500}   \n",
       "\n",
       "                                                 keywords  \n",
       "107908  [online social media, machine learning, opinio...  \n",
       "107909  [researcher homepage classification, co-traini...  \n",
       "107910  [diversionary comments, classification, corefe...  \n",
       "107911  [estimation, clustering coefficient, sampling,...  \n",
       "107912        [aria, focus navigation, web accessibility]  "
      ]
     },
     "execution_count": 3,
     "metadata": {},
     "output_type": "execute_result"
    }
   ],
   "source": [
    "articles_df = pd.DataFrame(articles_dict)\n",
    "articles_df.tail()"
   ]
  },
  {
   "cell_type": "markdown",
   "id": "03add35f",
   "metadata": {},
   "source": [
    "## Keyword Frequency and Ordering"
   ]
  },
  {
   "cell_type": "code",
   "execution_count": 4,
   "id": "89a514a0",
   "metadata": {},
   "outputs": [],
   "source": [
    "from scipy.stats import entropy\n",
    "from sklearn.metrics import mutual_info_score \n",
    "\n",
    "\n",
    "def kl_div(x, y):\n",
    "    \"\"\"Function that computes the kl divergence of two discrete distributions\"\"\"\n",
    "    idx1 = np.intersect1d(np.where(x>0), np.where(y>0))\n",
    "    idx2 = np.where(x==0)\n",
    "\n",
    "    return (x[idx1]*np.log(x[idx1]/y[idx1])).sum() + y[idx2].sum()\n",
    "\n",
    "def ComputeKwDistribution(abstract, kw, normalized = True):\n",
    "    \"\"\"Function that returns the normalized(optional) distribution of words in a sentence\"\"\"\n",
    "    abstract = abstract.lower()\n",
    "    kw       = kw.lower()\n",
    "\n",
    "    split1 = abstract.split(kw)\n",
    "\n",
    "    positions = []\n",
    "    phrase_length = 0\n",
    "    for split_el in split1:\n",
    "        # Replacing punctuations with spaces so they don't count as words\n",
    "        clean = re.sub(r\"\"\"\n",
    "               [,.;@#?!&$]+  # Accept one or more copies of punctuation\n",
    "               \\ *           # plus zero or more copies of a space,\n",
    "               \"\"\",\n",
    "               \" \",          # and replace it with a single space\n",
    "               split_el, flags=re.VERBOSE)\n",
    "\n",
    "        temp_split = clean.split()\n",
    "        phrase_length += len(temp_split)\n",
    "        positions.append(phrase_length)\n",
    "\n",
    "        phrase_length+=1 # Takes into account the kw\n",
    "\n",
    "    positions = positions[:-1]\n",
    "    phrase_length-=1#Removes the last kw added for nothing\n",
    "\n",
    "    distribution = np.array([0 for i in range(phrase_length)])\n",
    "    distribution[np.array(positions).astype(int)] = 1\n",
    "\n",
    "    return distribution/distribution.sum() if normalized and distribution.sum()!=0 else distribution\n",
    "\n",
    "    \n",
    "\n",
    "def ExtractKeywordOrderFromAbstract(doi, abstract, ccs, labeled_data_dict, verbose=False):\n",
    "    # Set abstract to lower case like concepts\n",
    "    abstract = abstract.lower()\n",
    "    if(verbose):\n",
    "        print(abstract)\n",
    "        print(ccs)\n",
    "\n",
    "    # Convert ccs dict into dataframe and order the dataframe by importance\n",
    "    ccs_df = pd.DataFrame({\"ccs_concept\": ccs.keys(), \"importance\": ccs.values()})\n",
    "    ordered_ccs_array = ccs_df.sort_values(\"importance\")[\"ccs_concept\"].array[::-1]\n",
    "    # pd.DataFrame({\"keywords\": count_ccs_kw[ccs_name].keys(), \"occurences\": count_ccs_kw[ccs_name].values()})\n",
    "\n",
    "    concept_found = False\n",
    "    i             = 0\n",
    "    concept_root  = None\n",
    "    concept_leaf  = None\n",
    "\n",
    "    ## Loop that finds a concept root and leaf pair that is occuring in the abstract\n",
    "    while(not concept_found and i < len(ordered_ccs_array) and ccs[ordered_ccs_array[i]] == 500):\n",
    "        concept_tree = ordered_ccs_array[i].lower()\n",
    "        i += 1\n",
    "\n",
    "        # Identify concept root and leaf\n",
    "        if('->' in concept_tree):\n",
    "            concept_list = concept_tree.split(\"->\")\n",
    "            if(len(concept_list)<=2): continue\n",
    "            concept_root = concept_list[1]\n",
    "            concept_leaf = concept_list[-1]\n",
    "        elif('~' in concept_tree):\n",
    "            concept_list = concept_tree.split(\"~\")\n",
    "            if(len(concept_list)<=1): continue\n",
    "            concept_root = concept_list[0]\n",
    "            concept_leaf = concept_list[-1]\n",
    "        else:\n",
    "            continue\n",
    "\n",
    "        # Check if the concepts are mentionned in abstract\n",
    "        if(verbose):\n",
    "            print(\"first concept: \", concept_root, \"; second concept:\", concept_leaf)\n",
    "            print(concept_root in abstract)\n",
    "            print(concept_leaf in abstract)\n",
    "        \n",
    "        if(concept_root in abstract and concept_leaf in abstract):\n",
    "            concept_found = True\n",
    "    \n",
    "    if(not concept_found):\n",
    "        return np.nan\n",
    "    else:\n",
    "        ## Randomly chooses the order of keywords (kw)\n",
    "        label = None\n",
    "        if(np.random.uniform(0,1)>0.5):\n",
    "            label = 0 # leaf then root is 0\n",
    "            kw1 = concept_leaf\n",
    "            kw2 = concept_root\n",
    "\n",
    "        else:\n",
    "            label = 1 # root then leaf is 1\n",
    "            kw2 = concept_leaf\n",
    "            kw1 = concept_root\n",
    "            \n",
    "\n",
    "        ## Computing the distributions of both concepts\n",
    "        dist1 = ComputeKwDistribution(abstract, kw1)\n",
    "        dist2 = ComputeKwDistribution(abstract, kw2)\n",
    "\n",
    "        ## Padding distributions to same length\n",
    "        len_d1, len_d2 = len(dist1), len(dist2)\n",
    "        if(len_d1 < len_d2):\n",
    "            dist1 = np.pad(dist1, (0, len_d2-len_d1), mode=\"constant\", constant_values=0)\n",
    "        else:\n",
    "            dist2 = np.pad(dist2, (0, len_d1-len_d2), mode=\"constant\", constant_values=0)\n",
    "\n",
    "        ## Computing entropy, KL divergence, ratio and Mutual Information for both distributions:\n",
    "        H1_var = entropy(dist1)\n",
    "        H2_var = entropy(dist2)\n",
    "        kl_div1 = kl_div(dist1, dist2).sum()\n",
    "        kl_div2 = kl_div(dist2, dist1).sum()\n",
    "        ratio   = kl_div1/kl_div2 if kl_div2 != 0 else np.nan\n",
    "        MI_var  = mutual_info_score(dist1, dist2) \n",
    "\n",
    "        ## Store information\n",
    "        labeled_data_dict[\"doi\"].append(doi)\n",
    "        labeled_data_dict[\"label\"].append(label)\n",
    "        labeled_data_dict[\"kw1\"].append(kw1)\n",
    "        labeled_data_dict[\"kw2\"].append(kw2)\n",
    "        labeled_data_dict[\"distrib1\"].append(dist1)\n",
    "        labeled_data_dict[\"distrib2\"].append(dist2)\n",
    "        labeled_data_dict[\"H1\"].append(H1_var)\n",
    "        labeled_data_dict[\"H2\"].append(H2_var)\n",
    "        labeled_data_dict[\"DKL_1\"].append(kl_div1)\n",
    "        labeled_data_dict[\"DKL_2\"].append(kl_div2)\n",
    "        labeled_data_dict[\"ratio\"].append(ratio)\n",
    "        labeled_data_dict[\"MI\"].append(MI_var)\n",
    "\n",
    "        return 1"
   ]
  },
  {
   "cell_type": "markdown",
   "id": "8a98b2ca",
   "metadata": {},
   "source": [
    "##### Create labeled data on abstracts"
   ]
  },
  {
   "cell_type": "code",
   "execution_count": null,
   "id": "9f1d4146",
   "metadata": {},
   "outputs": [],
   "source": [
    "## Dict stores the created labeled data for future experiments\n",
    "labeled_data_dict = {\"doi\": [], \"label\": [], \"kw1\": [], \"kw2\": [], \"distrib1\": [], \"distrib2\": [], \"H1\": [], \"H2\": [], \"DKL_1\": [], \"DKL_2\": [], \"ratio\": [], \"MI\": []}\n",
    "\n",
    "\n",
    "articles_with_abstract_df = articles_df.dropna(subset=['ccs', 'abstract'])\n",
    "print(\"remaining articles\", articles_with_abstract_df.shape)\n",
    "\n",
    "return_na_count = articles_with_abstract_df.apply(lambda el: ExtractKeywordOrderFromAbstract(el.doi, el.abstract, el.ccs, labeled_data_dict, verbose=False), axis= 1)\n",
    "\n",
    "print(\"number of concept not found:\", return_na_count.isna().sum(), \" out of {} articles.\".format(articles_with_abstract_df.shape[0]))\n",
    "\n",
    "labeled_data_df = pd.DataFrame.from_dict(labeled_data_dict)\n",
    "labeled_data_df.tail()"
   ]
  },
  {
   "cell_type": "code",
   "execution_count": 6,
   "id": "77af7956",
   "metadata": {},
   "outputs": [
    {
     "data": {
      "text/html": [
       "<div>\n",
       "<style scoped>\n",
       "    .dataframe tbody tr th:only-of-type {\n",
       "        vertical-align: middle;\n",
       "    }\n",
       "\n",
       "    .dataframe tbody tr th {\n",
       "        vertical-align: top;\n",
       "    }\n",
       "\n",
       "    .dataframe thead th {\n",
       "        text-align: right;\n",
       "    }\n",
       "</style>\n",
       "<table border=\"1\" class=\"dataframe\">\n",
       "  <thead>\n",
       "    <tr style=\"text-align: right;\">\n",
       "      <th></th>\n",
       "      <th>label</th>\n",
       "      <th>H1</th>\n",
       "      <th>H2</th>\n",
       "      <th>DKL_1</th>\n",
       "      <th>DKL_2</th>\n",
       "      <th>ratio</th>\n",
       "      <th>MI</th>\n",
       "    </tr>\n",
       "  </thead>\n",
       "  <tbody>\n",
       "    <tr>\n",
       "      <th>count</th>\n",
       "      <td>138.000000</td>\n",
       "      <td>138.000000</td>\n",
       "      <td>138.000000</td>\n",
       "      <td>138.000000</td>\n",
       "      <td>138.000000</td>\n",
       "      <td>137.000000</td>\n",
       "      <td>138.000000</td>\n",
       "    </tr>\n",
       "    <tr>\n",
       "      <th>mean</th>\n",
       "      <td>0.528986</td>\n",
       "      <td>0.350373</td>\n",
       "      <td>0.331785</td>\n",
       "      <td>0.969615</td>\n",
       "      <td>0.991930</td>\n",
       "      <td>0.981161</td>\n",
       "      <td>0.000862</td>\n",
       "    </tr>\n",
       "    <tr>\n",
       "      <th>std</th>\n",
       "      <td>0.500978</td>\n",
       "      <td>0.477200</td>\n",
       "      <td>0.505025</td>\n",
       "      <td>0.186186</td>\n",
       "      <td>0.097995</td>\n",
       "      <td>0.155346</td>\n",
       "      <td>0.004674</td>\n",
       "    </tr>\n",
       "    <tr>\n",
       "      <th>min</th>\n",
       "      <td>0.000000</td>\n",
       "      <td>0.000000</td>\n",
       "      <td>0.000000</td>\n",
       "      <td>-0.346574</td>\n",
       "      <td>0.000000</td>\n",
       "      <td>-0.290470</td>\n",
       "      <td>0.000009</td>\n",
       "    </tr>\n",
       "    <tr>\n",
       "      <th>25%</th>\n",
       "      <td>0.000000</td>\n",
       "      <td>0.000000</td>\n",
       "      <td>0.000000</td>\n",
       "      <td>1.000000</td>\n",
       "      <td>1.000000</td>\n",
       "      <td>1.000000</td>\n",
       "      <td>0.000032</td>\n",
       "    </tr>\n",
       "    <tr>\n",
       "      <th>50%</th>\n",
       "      <td>1.000000</td>\n",
       "      <td>0.000000</td>\n",
       "      <td>0.000000</td>\n",
       "      <td>1.000000</td>\n",
       "      <td>1.000000</td>\n",
       "      <td>1.000000</td>\n",
       "      <td>0.000061</td>\n",
       "    </tr>\n",
       "    <tr>\n",
       "      <th>75%</th>\n",
       "      <td>1.000000</td>\n",
       "      <td>0.693147</td>\n",
       "      <td>0.693147</td>\n",
       "      <td>1.000000</td>\n",
       "      <td>1.000000</td>\n",
       "      <td>1.000000</td>\n",
       "      <td>0.000109</td>\n",
       "    </tr>\n",
       "    <tr>\n",
       "      <th>max</th>\n",
       "      <td>1.000000</td>\n",
       "      <td>2.079442</td>\n",
       "      <td>2.197225</td>\n",
       "      <td>1.000000</td>\n",
       "      <td>1.193147</td>\n",
       "      <td>1.000000</td>\n",
       "      <td>0.038761</td>\n",
       "    </tr>\n",
       "  </tbody>\n",
       "</table>\n",
       "</div>"
      ],
      "text/plain": [
       "            label          H1          H2       DKL_1       DKL_2       ratio  \\\n",
       "count  138.000000  138.000000  138.000000  138.000000  138.000000  137.000000   \n",
       "mean     0.528986    0.350373    0.331785    0.969615    0.991930    0.981161   \n",
       "std      0.500978    0.477200    0.505025    0.186186    0.097995    0.155346   \n",
       "min      0.000000    0.000000    0.000000   -0.346574    0.000000   -0.290470   \n",
       "25%      0.000000    0.000000    0.000000    1.000000    1.000000    1.000000   \n",
       "50%      1.000000    0.000000    0.000000    1.000000    1.000000    1.000000   \n",
       "75%      1.000000    0.693147    0.693147    1.000000    1.000000    1.000000   \n",
       "max      1.000000    2.079442    2.197225    1.000000    1.193147    1.000000   \n",
       "\n",
       "               MI  \n",
       "count  138.000000  \n",
       "mean     0.000862  \n",
       "std      0.004674  \n",
       "min      0.000009  \n",
       "25%      0.000032  \n",
       "50%      0.000061  \n",
       "75%      0.000109  \n",
       "max      0.038761  "
      ]
     },
     "execution_count": 6,
     "metadata": {},
     "output_type": "execute_result"
    }
   ],
   "source": [
    "labeled_data_df.describe()"
   ]
  },
  {
   "cell_type": "markdown",
   "id": "2f31ea0f",
   "metadata": {},
   "source": [
    "##### Create labeled data on featured bodies"
   ]
  },
  {
   "cell_type": "code",
   "execution_count": null,
   "id": "1162fa07",
   "metadata": {},
   "outputs": [],
   "source": [
    "labeled_data_bodies_dict = {\"doi\": [], \"label\": [], \"kw1\": [], \"kw2\": [], \"distrib1\": [], \"distrib2\": [], \"H1\": [], \"H2\": [], \"DKL_1\": [], \"DKL_2\": [], \"ratio\": [], \"MI\": []}\n",
    "\n",
    "\n",
    "articles_with_bodies_df = articles_df.dropna(subset=['ccs', 'ft_body'])\n",
    "print(\"remaining articles\", articles_with_bodies_df.shape)\n",
    "\n",
    "return_na_count = articles_with_bodies_df.apply(lambda el: ExtractKeywordOrderFromAbstract(el.doi, el.ft_body, el.ccs, labeled_data_bodies_dict, verbose=False), axis= 1)\n",
    "\n",
    "print(\"number of concept not found:\", return_na_count.isna().sum())\n",
    "\n",
    "labeled_data_bodies_df = pd.DataFrame.from_dict(labeled_data_bodies_dict)\n",
    "labeled_data_bodies_df.tail()"
   ]
  },
  {
   "cell_type": "code",
   "execution_count": 8,
   "id": "72219c8c",
   "metadata": {},
   "outputs": [
    {
     "data": {
      "text/html": [
       "<div>\n",
       "<style scoped>\n",
       "    .dataframe tbody tr th:only-of-type {\n",
       "        vertical-align: middle;\n",
       "    }\n",
       "\n",
       "    .dataframe tbody tr th {\n",
       "        vertical-align: top;\n",
       "    }\n",
       "\n",
       "    .dataframe thead th {\n",
       "        text-align: right;\n",
       "    }\n",
       "</style>\n",
       "<table border=\"1\" class=\"dataframe\">\n",
       "  <thead>\n",
       "    <tr style=\"text-align: right;\">\n",
       "      <th></th>\n",
       "      <th>label</th>\n",
       "      <th>H1</th>\n",
       "      <th>H2</th>\n",
       "      <th>DKL_1</th>\n",
       "      <th>DKL_2</th>\n",
       "      <th>ratio</th>\n",
       "      <th>MI</th>\n",
       "    </tr>\n",
       "  </thead>\n",
       "  <tbody>\n",
       "    <tr>\n",
       "      <th>count</th>\n",
       "      <td>4706.000000</td>\n",
       "      <td>4706.000000</td>\n",
       "      <td>4706.000000</td>\n",
       "      <td>4706.000000</td>\n",
       "      <td>4706.000000</td>\n",
       "      <td>4625.000000</td>\n",
       "      <td>4.706000e+03</td>\n",
       "    </tr>\n",
       "    <tr>\n",
       "      <th>mean</th>\n",
       "      <td>0.508287</td>\n",
       "      <td>0.951959</td>\n",
       "      <td>0.928631</td>\n",
       "      <td>0.990024</td>\n",
       "      <td>0.983413</td>\n",
       "      <td>0.807219</td>\n",
       "      <td>4.233143e-05</td>\n",
       "    </tr>\n",
       "    <tr>\n",
       "      <th>std</th>\n",
       "      <td>0.499984</td>\n",
       "      <td>1.271647</td>\n",
       "      <td>1.252910</td>\n",
       "      <td>0.281464</td>\n",
       "      <td>0.268231</td>\n",
       "      <td>2.841987</td>\n",
       "      <td>2.648827e-04</td>\n",
       "    </tr>\n",
       "    <tr>\n",
       "      <th>min</th>\n",
       "      <td>0.000000</td>\n",
       "      <td>0.000000</td>\n",
       "      <td>0.000000</td>\n",
       "      <td>-0.366204</td>\n",
       "      <td>-0.366204</td>\n",
       "      <td>-103.907629</td>\n",
       "      <td>3.432122e-10</td>\n",
       "    </tr>\n",
       "    <tr>\n",
       "      <th>25%</th>\n",
       "      <td>0.000000</td>\n",
       "      <td>0.000000</td>\n",
       "      <td>0.000000</td>\n",
       "      <td>1.000000</td>\n",
       "      <td>1.000000</td>\n",
       "      <td>1.000000</td>\n",
       "      <td>1.435807e-08</td>\n",
       "    </tr>\n",
       "    <tr>\n",
       "      <th>50%</th>\n",
       "      <td>1.000000</td>\n",
       "      <td>0.000000</td>\n",
       "      <td>0.000000</td>\n",
       "      <td>1.000000</td>\n",
       "      <td>1.000000</td>\n",
       "      <td>1.000000</td>\n",
       "      <td>8.131952e-08</td>\n",
       "    </tr>\n",
       "    <tr>\n",
       "      <th>75%</th>\n",
       "      <td>1.000000</td>\n",
       "      <td>1.609438</td>\n",
       "      <td>1.609438</td>\n",
       "      <td>1.000000</td>\n",
       "      <td>1.000000</td>\n",
       "      <td>1.000000</td>\n",
       "      <td>4.279985e-07</td>\n",
       "    </tr>\n",
       "    <tr>\n",
       "      <th>max</th>\n",
       "      <td>1.000000</td>\n",
       "      <td>5.796058</td>\n",
       "      <td>5.880533</td>\n",
       "      <td>5.430887</td>\n",
       "      <td>5.189767</td>\n",
       "      <td>6.522787</td>\n",
       "      <td>5.607743e-03</td>\n",
       "    </tr>\n",
       "  </tbody>\n",
       "</table>\n",
       "</div>"
      ],
      "text/plain": [
       "             label           H1           H2        DKL_1        DKL_2  \\\n",
       "count  4706.000000  4706.000000  4706.000000  4706.000000  4706.000000   \n",
       "mean      0.508287     0.951959     0.928631     0.990024     0.983413   \n",
       "std       0.499984     1.271647     1.252910     0.281464     0.268231   \n",
       "min       0.000000     0.000000     0.000000    -0.366204    -0.366204   \n",
       "25%       0.000000     0.000000     0.000000     1.000000     1.000000   \n",
       "50%       1.000000     0.000000     0.000000     1.000000     1.000000   \n",
       "75%       1.000000     1.609438     1.609438     1.000000     1.000000   \n",
       "max       1.000000     5.796058     5.880533     5.430887     5.189767   \n",
       "\n",
       "             ratio            MI  \n",
       "count  4625.000000  4.706000e+03  \n",
       "mean      0.807219  4.233143e-05  \n",
       "std       2.841987  2.648827e-04  \n",
       "min    -103.907629  3.432122e-10  \n",
       "25%       1.000000  1.435807e-08  \n",
       "50%       1.000000  8.131952e-08  \n",
       "75%       1.000000  4.279985e-07  \n",
       "max       6.522787  5.607743e-03  "
      ]
     },
     "execution_count": 8,
     "metadata": {},
     "output_type": "execute_result"
    }
   ],
   "source": [
    "labeled_data_bodies_df.describe()"
   ]
  },
  {
   "cell_type": "markdown",
   "id": "308540de",
   "metadata": {},
   "source": [
    "##### Gradient Boosting"
   ]
  },
  {
   "cell_type": "code",
   "execution_count": 9,
   "id": "74bfac9b",
   "metadata": {},
   "outputs": [],
   "source": [
    "from sklearn.ensemble import GradientBoostingClassifier  #GBM algorithm\n",
    "from sklearn.model_selection  import cross_validate, GridSearchCV\n",
    "from sklearn  import metrics   #Additional scklearn functions\n",
    "from sklearn.metrics import accuracy_score, confusion_matrix, classification_report\n",
    "from sklearn.model_selection import train_test_split\n",
    "\n",
    "\n",
    "processed_data = labeled_data_bodies_df.drop(columns=[\"kw1\", \"kw2\", \"distrib1\", \"distrib2\", \"doi\"]).dropna(subset=\"ratio\")\n",
    "\n",
    "X_train, X_test, y_train, y_test = train_test_split(processed_data.drop(columns=\"label\"), processed_data['label'],\n",
    "                                           train_size=0.8, test_size=0.2) # tested"
   ]
  },
  {
   "cell_type": "code",
   "execution_count": 10,
   "id": "07e0cebc",
   "metadata": {},
   "outputs": [
    {
     "data": {
      "text/plain": [
       "GridSearchCV(cv=5,\n",
       "             estimator=GradientBoostingClassifier(max_features='sqrt',\n",
       "                                                  random_state=10,\n",
       "                                                  subsample=0.8),\n",
       "             n_jobs=4,\n",
       "             param_grid={'max_depth': [8], 'min_samples_leaf': [20],\n",
       "                         'min_samples_split': [20], 'n_estimators': [700]},\n",
       "             scoring='f1_weighted')"
      ]
     },
     "execution_count": 10,
     "metadata": {},
     "output_type": "execute_result"
    }
   ],
   "source": [
    "param_test1 = {\n",
    "    'n_estimators': [700],#range(300, 701, 100),\n",
    "    'max_depth': [8],#range(4, 9, 2),\n",
    "    'min_samples_leaf': [20],#range(10, 31, 10),\n",
    "    'min_samples_split': [20]#range(20, 51, 10)\n",
    "}\n",
    "gsearch1 = GridSearchCV(estimator = GradientBoostingClassifier(learning_rate=0.1,max_features='sqrt',subsample=0.8,random_state=10),# min_samples_split=500,min_samples_leaf=50 \n",
    "param_grid = param_test1, scoring='f1_weighted',n_jobs=4, cv=5)\n",
    "gsearch1.fit(X_train,y_train)"
   ]
  },
  {
   "cell_type": "code",
   "execution_count": 11,
   "id": "70fd55a8",
   "metadata": {},
   "outputs": [
    {
     "data": {
      "text/plain": [
       "0.5423438443238353"
      ]
     },
     "execution_count": 11,
     "metadata": {},
     "output_type": "execute_result"
    }
   ],
   "source": [
    "gsearch1.best_score_#gsearch1.cv_results_, gsearch1.best_params_, "
   ]
  },
  {
   "cell_type": "code",
   "execution_count": 12,
   "id": "495805cb",
   "metadata": {},
   "outputs": [],
   "source": [
    "best_model = gsearch1.best_estimator_"
   ]
  },
  {
   "cell_type": "code",
   "execution_count": 13,
   "id": "708a44e1",
   "metadata": {},
   "outputs": [
    {
     "data": {
      "text/plain": [
       "{'max_depth': 8,\n",
       " 'min_samples_leaf': 20,\n",
       " 'min_samples_split': 20,\n",
       " 'n_estimators': 700}"
      ]
     },
     "execution_count": 13,
     "metadata": {},
     "output_type": "execute_result"
    }
   ],
   "source": [
    "best_params_gbm = gsearch1.best_params_\n",
    "best_params_gbm"
   ]
  },
  {
   "cell_type": "code",
   "execution_count": 14,
   "id": "89b13832",
   "metadata": {},
   "outputs": [
    {
     "name": "stdout",
     "output_type": "stream",
     "text": [
      "Maximum number of parameters in our best model: 89600\n"
     ]
    }
   ],
   "source": [
    "print(\"Maximum number of parameters in our best model: {}\".format(best_model.n_estimators_*2**(best_model.max_depth-1)))"
   ]
  },
  {
   "cell_type": "markdown",
   "id": "a88b4d08",
   "metadata": {},
   "source": [
    "##### Performance analysis on test dataset"
   ]
  },
  {
   "cell_type": "code",
   "execution_count": 15,
   "id": "6b662a92",
   "metadata": {},
   "outputs": [
    {
     "data": {
      "text/plain": [
       "array([1, 1, 0, 0, 0, 1, 1, 1, 0, 0, 1, 1, 0, 0, 1, 1, 0, 0, 0, 1, 1, 1,\n",
       "       1, 0, 0, 1, 1, 0, 1, 0, 0, 1, 0, 0, 0, 1, 1, 1, 0, 0, 1, 1, 1, 1,\n",
       "       0, 0, 1, 1, 1, 0, 0, 1, 0, 0, 0, 1, 1, 0, 0, 0, 0, 0, 1, 0, 0, 0,\n",
       "       0, 0, 0, 0, 0, 0, 0, 0, 0, 0, 0, 0, 1, 0, 0, 0, 0, 0, 1, 0, 0, 1,\n",
       "       0, 0, 0, 0, 0, 0, 1, 0, 0, 0, 1, 0, 1, 0, 0, 1, 0, 0, 0, 0, 0, 0,\n",
       "       0, 0, 0, 1, 0, 0, 1, 0, 0, 1, 0, 0, 1, 1, 0, 0, 0, 0, 1, 0, 0, 1,\n",
       "       1, 1, 0, 0, 1, 0, 0, 1, 0, 0, 0, 1, 0, 1, 0, 1, 0, 1, 0, 0, 0, 1,\n",
       "       0, 1, 0, 0, 0, 0, 0, 0, 0, 1, 1, 0, 1, 0, 0, 0, 0, 0, 0, 0, 0, 0,\n",
       "       1, 1, 1, 0, 1, 1, 1, 0, 0, 0, 0, 1, 0, 0, 0, 1, 0, 0, 0, 0, 0, 1,\n",
       "       1, 0, 0, 1, 0, 0, 0, 0, 0, 0, 0, 1, 0, 1, 0, 1, 1, 0, 1, 0, 1, 1,\n",
       "       0, 1, 0, 1, 0, 0, 0, 1, 0, 0, 1, 0, 0, 0, 1, 0, 0, 1, 1, 0, 0, 1,\n",
       "       0, 0, 1, 1, 0, 0, 0, 0, 0, 0, 1, 0, 0, 0, 1, 1, 1, 0, 1, 0, 1, 0,\n",
       "       0, 0, 0, 1, 1, 0, 0, 0, 0, 0, 0, 0, 0, 1, 1, 1, 0, 0, 0, 0, 0, 0,\n",
       "       0, 0, 0, 0, 1, 0, 1, 1, 0, 0, 0, 1, 0, 0, 0, 0, 0, 1, 1, 0, 0, 0,\n",
       "       0, 1, 0, 1, 0, 1, 0, 1, 1, 0, 0, 1, 0, 0, 0, 0, 0, 0, 1, 0, 0, 0,\n",
       "       1, 0, 1, 0, 1, 0, 0, 0, 0, 1, 1, 0, 1, 0, 1, 1, 1, 0, 0, 0, 1, 0,\n",
       "       0, 0, 0, 0, 1, 0, 0, 1, 0, 0, 1, 1, 1, 0, 0, 0, 0, 0, 0, 0, 1, 1,\n",
       "       0, 0, 0, 0, 0, 0, 0, 0, 0, 0, 0, 0, 0, 0, 0, 1, 0, 0, 0, 0, 1, 0,\n",
       "       0, 0, 1, 0, 0, 0, 1, 1, 1, 0, 0, 1, 0, 0, 0, 0, 1, 0, 0, 0, 0, 0,\n",
       "       0, 1, 0, 1, 1, 0, 0, 1, 0, 1, 1, 0, 0, 1, 0, 0, 1, 1, 0, 0, 0, 1,\n",
       "       0, 0, 0, 0, 0, 1, 1, 0, 1, 0, 1, 0, 1, 1, 0, 1, 1, 0, 1, 0, 0, 0,\n",
       "       0, 0, 0, 1, 1, 0, 0, 0, 0, 0, 0, 1, 1, 1, 0, 1, 1, 0, 1, 0, 1, 1,\n",
       "       0, 0, 1, 0, 0, 0, 0, 0, 0, 1, 0, 0, 0, 0, 1, 1, 1, 0, 0, 1, 0, 0,\n",
       "       0, 1, 1, 0, 0, 1, 1, 1, 0, 0, 0, 0, 1, 0, 0, 0, 0, 0, 0, 1, 1, 0,\n",
       "       0, 0, 0, 0, 0, 0, 1, 0, 0, 1, 0, 0, 0, 1, 1, 0, 0, 0, 0, 0, 0, 1,\n",
       "       0, 0, 1, 0, 0, 0, 1, 0, 0, 0, 0, 0, 0, 1, 0, 0, 0, 0, 1, 1, 1, 0,\n",
       "       0, 0, 1, 1, 0, 0, 1, 1, 0, 1, 0, 1, 0, 0, 0, 1, 0, 0, 0, 0, 0, 1,\n",
       "       1, 0, 0, 0, 1, 1, 0, 0, 0, 0, 0, 0, 0, 0, 1, 0, 0, 0, 0, 0, 0, 0,\n",
       "       0, 0, 1, 0, 0, 0, 1, 0, 0, 1, 1, 0, 1, 0, 1, 0, 0, 0, 0, 0, 1, 0,\n",
       "       0, 0, 0, 1, 0, 0, 0, 0, 1, 0, 0, 0, 1, 0, 1, 0, 1, 1, 1, 0, 0, 0,\n",
       "       1, 0, 1, 1, 0, 0, 0, 0, 0, 0, 1, 1, 0, 0, 1, 0, 1, 0, 1, 1, 1, 1,\n",
       "       0, 0, 1, 1, 1, 0, 1, 0, 0, 0, 0, 0, 1, 0, 0, 0, 0, 0, 1, 1, 0, 0,\n",
       "       0, 1, 1, 0, 0, 0, 0, 0, 1, 1, 1, 0, 0, 0, 0, 1, 1, 0, 0, 0, 1, 1,\n",
       "       1, 0, 0, 0, 1, 0, 0, 1, 0, 0, 0, 0, 1, 1, 0, 0, 0, 0, 0, 0, 0, 0,\n",
       "       1, 0, 1, 0, 1, 0, 0, 0, 1, 0, 0, 1, 0, 0, 0, 1, 1, 0, 0, 1, 0, 0,\n",
       "       1, 0, 1, 0, 0, 0, 1, 1, 0, 1, 1, 0, 0, 0, 0, 1, 0, 1, 0, 1, 0, 1,\n",
       "       0, 0, 0, 0, 1, 0, 0, 0, 0, 0, 0, 1, 0, 0, 0, 1, 1, 1, 0, 1, 1, 1,\n",
       "       0, 0, 1, 1, 0, 0, 1, 0, 0, 0, 0, 0, 0, 1, 0, 0, 0, 0, 0, 1, 1, 0,\n",
       "       0, 0, 0, 1, 1, 0, 0, 1, 1, 0, 1, 0, 1, 1, 1, 1, 0, 1, 0, 1, 0, 1,\n",
       "       0, 0, 0, 0, 1, 0, 0, 1, 0, 0, 0, 0, 0, 0, 1, 0, 0, 0, 0, 0, 1, 0,\n",
       "       1, 0, 1, 0, 0, 0, 1, 0, 1, 0, 1, 1, 1, 0, 1, 1, 0, 0, 0, 1, 0, 0,\n",
       "       0, 1, 1, 1, 0, 0, 0, 0, 0, 0, 0, 1, 1, 0, 1, 0, 0, 1, 0, 0, 0, 0,\n",
       "       0])"
      ]
     },
     "execution_count": 15,
     "metadata": {},
     "output_type": "execute_result"
    }
   ],
   "source": [
    "y_pred=best_model.predict(X_test)\n",
    "y_pred"
   ]
  },
  {
   "cell_type": "code",
   "execution_count": 16,
   "id": "9e827acd",
   "metadata": {},
   "outputs": [
    {
     "name": "stdout",
     "output_type": "stream",
     "text": [
      "LightGBM Model accuracy score: 0.5622\n"
     ]
    }
   ],
   "source": [
    "accuracy=accuracy_score(y_pred, y_test)\n",
    "print('LightGBM Model accuracy score: {0:0.4f}'.format(accuracy_score(y_test, y_pred)))"
   ]
  },
  {
   "cell_type": "code",
   "execution_count": 17,
   "id": "a462b1d8",
   "metadata": {},
   "outputs": [
    {
     "data": {
      "text/plain": [
       "Text(0, 0.5, 'Feature Importance Score')"
      ]
     },
     "execution_count": 17,
     "metadata": {},
     "output_type": "execute_result"
    },
    {
     "data": {
      "image/png": "[encoded data removed]",
      "text/plain": [
       "<Figure size 432x288 with 1 Axes>"
      ]
     },
     "metadata": {
      "needs_background": "light"
     },
     "output_type": "display_data"
    }
   ],
   "source": [
    "feat_imp = pd.Series(best_model.feature_importances_, X_train.columns).sort_values(ascending=False)\n",
    "feat_imp.plot(kind='bar', title='Feature Importances')\n",
    "plt.ylabel('Feature Importance Score')"
   ]
  },
  {
   "cell_type": "markdown",
   "id": "fb200fe2",
   "metadata": {},
   "source": [
    "##### Plot confusion matrix:"
   ]
  },
  {
   "cell_type": "code",
   "execution_count": 18,
   "id": "7275b606",
   "metadata": {},
   "outputs": [],
   "source": [
    "cm = confusion_matrix(y_test, y_pred)"
   ]
  },
  {
   "cell_type": "code",
   "execution_count": 19,
   "id": "942b1a26",
   "metadata": {},
   "outputs": [
    {
     "name": "stdout",
     "output_type": "stream",
     "text": [
      "Confusion matrix\n",
      "\n",
      " [[331 123]\n",
      " [282 189]]\n"
     ]
    }
   ],
   "source": [
    "print('Confusion matrix\\n\\n', cm)"
   ]
  },
  {
   "cell_type": "code",
   "execution_count": 20,
   "id": "5ba10a5c",
   "metadata": {},
   "outputs": [
    {
     "data": {
      "text/plain": [
       "<AxesSubplot:>"
      ]
     },
     "execution_count": 20,
     "metadata": {},
     "output_type": "execute_result"
    },
    {
     "data": {
      "image/png": "[encoded data removed]",
      "text/plain": [
       "<Figure size 432x288 with 2 Axes>"
      ]
     },
     "metadata": {
      "needs_background": "light"
     },
     "output_type": "display_data"
    }
   ],
   "source": [
    "# visualize confusion matrix with seaborn heatmap\n",
    "\n",
    "cm_matrix = pd.DataFrame(data=cm, columns=['Actual leaf->root:0', 'Actual root->leaf:1'], \n",
    "                                 index=['Predict leaf->root:0', 'Predict root->leaf:1'])\n",
    "\n",
    "sns.heatmap(cm_matrix, annot=True, fmt='d', cmap='YlGnBu')"
   ]
  },
  {
   "cell_type": "code",
   "execution_count": 21,
   "id": "0fdc4f4c",
   "metadata": {},
   "outputs": [
    {
     "name": "stdout",
     "output_type": "stream",
     "text": [
      "              precision    recall  f1-score   support\n",
      "\n",
      "           0       0.54      0.73      0.62       454\n",
      "           1       0.61      0.40      0.48       471\n",
      "\n",
      "    accuracy                           0.56       925\n",
      "   macro avg       0.57      0.57      0.55       925\n",
      "weighted avg       0.57      0.56      0.55       925\n",
      "\n"
     ]
    }
   ],
   "source": [
    "print(classification_report(y_test, y_pred))"
   ]
  },
  {
   "cell_type": "markdown",
   "id": "e2c45c06",
   "metadata": {},
   "source": [
    "##### Save Models"
   ]
  },
  {
   "cell_type": "code",
   "execution_count": 22,
   "id": "1c578687",
   "metadata": {},
   "outputs": [],
   "source": [
    "pickle.dump(best_model, open(\"Models/naive_gridsearch.pkl\", \"wb\"))"
   ]
  },
  {
   "cell_type": "code",
   "execution_count": 23,
   "id": "2fae40be",
   "metadata": {},
   "outputs": [
    {
     "data": {
      "text/plain": [
       "GradientBoostingClassifier(max_depth=8, max_features='sqrt',\n",
       "                           min_samples_leaf=20, min_samples_split=20,\n",
       "                           n_estimators=700, random_state=10, subsample=0.8)"
      ]
     },
     "execution_count": 23,
     "metadata": {},
     "output_type": "execute_result"
    }
   ],
   "source": [
    "best_model = pickle.load(open(\"Models/naive_gridsearch.pkl\", \"rb\"))\n",
    "best_model"
   ]
  }
 ],
 "metadata": {
  "kernelspec": {
   "display_name": "kw",
   "language": "python",
   "name": "kw"
  },
  "language_info": {
   "codemirror_mode": {
    "name": "ipython",
    "version": 3
   },
   "file_extension": ".py",
   "mimetype": "text/x-python",
   "name": "python",
   "nbconvert_exporter": "python",
   "pygments_lexer": "ipython3",
   "version": "3.9.12"
  }
 },
 "nbformat": 4,
 "nbformat_minor": 5
}
