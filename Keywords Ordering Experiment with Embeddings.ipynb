{
 "cells": [
  {
   "cell_type": "markdown",
   "id": "34f3d828",
   "metadata": {},
   "source": [
    "# Ordering Kewords using Pretrained Embeddings\n",
    "\n",
    "We use th FastText Bag Of Tricks model pretrained on **Common Crawl** and **Wikipedia** to generate the word embeddings. <br>\n",
    "Link to the paper [here](https://arxiv.org/pdf/1607.01759.pdf). <br>\n",
    "Link to the 157 pretrained embeddings [here](https://fasttext.cc/docs/en/crawl-vectors.html)."
   ]
  },
  {
   "cell_type": "code",
   "execution_count": 2,
   "id": "d3e76886",
   "metadata": {},
   "outputs": [
    {
     "name": "stderr",
     "output_type": "stream",
     "text": [
      "[nltk_data] Downloading package wordnet to /home/jcl/nltk_data...\n",
      "[nltk_data]   Package wordnet is already up-to-date!\n",
      "[nltk_data] Downloading package omw-1.4 to /home/jcl/nltk_data...\n",
      "[nltk_data]   Package omw-1.4 is already up-to-date!\n"
     ]
    }
   ],
   "source": [
    "import fasttext\n",
    "import fasttext.util\n",
    "import pandas as pd\n",
    "import numpy as np\n",
    "import seaborn as sns\n",
    "import pickle\n",
    "import matplotlib.pyplot as plt\n",
    "\n",
    "from scipy.stats import entropy\n",
    "from sklearn.metrics import mutual_info_score \n",
    "from Scripts.util import findAllIterationsInString\n",
    "from IPython.display import clear_output"
   ]
  },
  {
   "cell_type": "markdown",
   "id": "89bf27bc",
   "metadata": {},
   "source": [
    "#### Load the FastText Model"
   ]
  },
  {
   "cell_type": "code",
   "execution_count": 3,
   "id": "08f6075f",
   "metadata": {},
   "outputs": [
    {
     "name": "stderr",
     "output_type": "stream",
     "text": [
      "Warning : `load_model` does not return WordVectorModel or SupervisedModel any more, but a `FastText` object which is very similar.\n"
     ]
    }
   ],
   "source": [
    "# fasttext.util.download_model('en', if_exists='ignore')  # English\n",
    "ft_model = fasttext.load_model('Models/cc.en.300.bin')"
   ]
  },
  {
   "cell_type": "markdown",
   "id": "e29467f1",
   "metadata": {},
   "source": [
    "##### Load Data"
   ]
  },
  {
   "cell_type": "code",
   "execution_count": 4,
   "id": "6d13168b",
   "metadata": {},
   "outputs": [
    {
     "data": {
      "text/html": [
       "<div>\n",
       "<style scoped>\n",
       "    .dataframe tbody tr th:only-of-type {\n",
       "        vertical-align: middle;\n",
       "    }\n",
       "\n",
       "    .dataframe tbody tr th {\n",
       "        vertical-align: top;\n",
       "    }\n",
       "\n",
       "    .dataframe thead th {\n",
       "        text-align: right;\n",
       "    }\n",
       "</style>\n",
       "<table border=\"1\" class=\"dataframe\">\n",
       "  <thead>\n",
       "    <tr style=\"text-align: right;\">\n",
       "      <th></th>\n",
       "      <th>kw1</th>\n",
       "      <th>kw2</th>\n",
       "      <th>label</th>\n",
       "    </tr>\n",
       "  </thead>\n",
       "  <tbody>\n",
       "    <tr>\n",
       "      <th>25996</th>\n",
       "      <td>software testing debugging</td>\n",
       "      <td>combinational synthesis</td>\n",
       "      <td>0</td>\n",
       "    </tr>\n",
       "    <tr>\n",
       "      <th>25997</th>\n",
       "      <td>combinational synthesis</td>\n",
       "      <td>power management</td>\n",
       "      <td>0</td>\n",
       "    </tr>\n",
       "    <tr>\n",
       "      <th>25998</th>\n",
       "      <td>software fault tolerance</td>\n",
       "      <td>pcb design layout</td>\n",
       "      <td>0</td>\n",
       "    </tr>\n",
       "    <tr>\n",
       "      <th>25999</th>\n",
       "      <td>pcb design layout</td>\n",
       "      <td>formal method</td>\n",
       "      <td>0</td>\n",
       "    </tr>\n",
       "    <tr>\n",
       "      <th>26000</th>\n",
       "      <td>documentation</td>\n",
       "      <td>pcb design layout</td>\n",
       "      <td>0</td>\n",
       "    </tr>\n",
       "  </tbody>\n",
       "</table>\n",
       "</div>"
      ],
      "text/plain": [
       "                              kw1                      kw2  label\n",
       "25996  software testing debugging  combinational synthesis      0\n",
       "25997     combinational synthesis         power management      0\n",
       "25998    software fault tolerance        pcb design layout      0\n",
       "25999           pcb design layout            formal method      0\n",
       "26000               documentation        pcb design layout      0"
      ]
     },
     "execution_count": 4,
     "metadata": {},
     "output_type": "execute_result"
    }
   ],
   "source": [
    "labeled_concept_pair_df = pd.read_csv(\"Data/labeled_concept_pair_dataset.csv\")\n",
    "labeled_concept_pair_df.tail()"
   ]
  },
  {
   "cell_type": "code",
   "execution_count": 5,
   "id": "7455acf5",
   "metadata": {},
   "outputs": [
    {
     "name": "stdout",
     "output_type": "stream",
     "text": [
      "general reference\n",
      "Embedding size: 300\n"
     ]
    }
   ],
   "source": [
    "kw_test = labeled_concept_pair_df.iloc[1,0]\n",
    "print(kw_test)\n",
    "embedding_dim = ft_model.get_word_vector(kw_test).shape[0]\n",
    "print(\"Embedding size:\", embedding_dim)"
   ]
  },
  {
   "cell_type": "code",
   "execution_count": 6,
   "id": "303d569e",
   "metadata": {},
   "outputs": [
    {
     "data": {
      "text/plain": [
       "[(0.613596498966217,\n",
       "  'QQJCgAEACwJAAAAEAASAAAIZwABEBhIsKBBAQAEGiSQUCEBARAdDgQwoKJCiBEJUqw44CJGhxstDsSYkSFHhx8RahQ5MWFEhQ0TjiQZk6NIhB8b2uzIMKfOnQBoxgzJ82NLokVlakQqUOJSoAsnQo1q0qZTg0MHBgQAIfkECQoABAAsCQAAABAAEgAACGkAARAYSJAggIMEBSAsSADAgIcCCQiYGHGgw4cDIk6kaBBjxoEbFXaEmDBkxYsVNwJQiPCgS4sHKbr0'),\n",
       " (0.5904855728149414,\n",
       "  'ČeskýDanskDeutschΕλληνικάEnglishEspañolFrançaisעבריתMagyarItaliano日本語한국어NederlandsPolskiPortuguêsРусскийSvenska中文'),\n",
       " (0.5851196646690369,\n",
       "  'Bags.sizingInchesEURUSAUK8.50354.528.6335.552.58.88365.539.0036.563.59.13376.549.3837.574.59.50387.559.62538.585.59.875398.5610.004096.510.125419.5710.2542107.510.3754310.5810.5043.5118.510.6254411.5910.87544.5121011.004512.510.511.125461311')]"
      ]
     },
     "execution_count": 6,
     "metadata": {},
     "output_type": "execute_result"
    }
   ],
   "source": [
    "ft_model.get_nearest_neighbors(kw_test)[:3]"
   ]
  },
  {
   "cell_type": "markdown",
   "id": "cf11ee43",
   "metadata": {},
   "source": [
    "Okay, so it does not handle very well multiple word sentences, let's try doing the maxpooling ourselves:"
   ]
  },
  {
   "cell_type": "code",
   "execution_count": 7,
   "id": "dd243c59",
   "metadata": {},
   "outputs": [
    {
     "data": {
      "text/plain": [
       "(300,)"
      ]
     },
     "execution_count": 7,
     "metadata": {},
     "output_type": "execute_result"
    }
   ],
   "source": [
    "## Average Pool Embedding\n",
    "def avg_pool_embed(kw_list, embed_func):\n",
    "    return np.mean([embed_func(part) for part in kw_list.split(\" \")], axis = 0)\n",
    "avg_embedding_test = avg_pool_embed(kw_test, ft_model.get_word_vector)\n",
    "avg_embedding_test.shape"
   ]
  },
  {
   "cell_type": "code",
   "execution_count": 8,
   "id": "3bae401b",
   "metadata": {},
   "outputs": [
    {
     "data": {
      "text/plain": [
       "0.0024306774139404297"
      ]
     },
     "execution_count": 8,
     "metadata": {},
     "output_type": "execute_result"
    }
   ],
   "source": [
    "from scipy.spatial import distance\n",
    "\n",
    "## We can see that sentence_vector is very close to our average pooling method.\n",
    "distance.cosine(ft_model.get_sentence_vector(kw_test), avg_embedding_test)"
   ]
  },
  {
   "cell_type": "code",
   "execution_count": 9,
   "id": "d7d37bda",
   "metadata": {},
   "outputs": [],
   "source": [
    "## Average Pool Embeddings for kw1 and kw2\n",
    "temp_res = pd.DataFrame(labeled_concept_pair_df.apply(lambda x: (avg_pool_embed(x.kw1, ft_model.get_word_vector), avg_pool_embed(x.kw2, ft_model.get_word_vector)), axis=1, result_type='expand'))\n",
    "labeled_concept_pair_df[[\"avg_pool_embedding_1\", \"avg_pool_embedding_2\"]] = temp_res"
   ]
  },
  {
   "cell_type": "markdown",
   "id": "59cd1daf",
   "metadata": {},
   "source": [
    "Sentence Vector Explained [here](https://stackoverflow.com/questions/54181163/fasttext-embeddings-sentence-vectors). In sum, they normalize their vectors before computing the average ;)."
   ]
  },
  {
   "cell_type": "code",
   "execution_count": 10,
   "id": "4f801e8c",
   "metadata": {},
   "outputs": [],
   "source": [
    "## Average Pool Embeddings for kw1 and kw2\n",
    "temp_res = pd.DataFrame(labeled_concept_pair_df.apply(lambda x: (ft_model.get_sentence_vector(x.kw1), ft_model.get_sentence_vector(x.kw2)), axis=1, result_type='expand'))\n",
    "labeled_concept_pair_df[[\"sentence_vector_embedding_1\", \"sentence_vector_embedding_2\"]] = temp_res"
   ]
  },
  {
   "cell_type": "code",
   "execution_count": 11,
   "id": "f94345d5",
   "metadata": {},
   "outputs": [
    {
     "data": {
      "text/html": [
       "<div>\n",
       "<style scoped>\n",
       "    .dataframe tbody tr th:only-of-type {\n",
       "        vertical-align: middle;\n",
       "    }\n",
       "\n",
       "    .dataframe tbody tr th {\n",
       "        vertical-align: top;\n",
       "    }\n",
       "\n",
       "    .dataframe thead th {\n",
       "        text-align: right;\n",
       "    }\n",
       "</style>\n",
       "<table border=\"1\" class=\"dataframe\">\n",
       "  <thead>\n",
       "    <tr style=\"text-align: right;\">\n",
       "      <th></th>\n",
       "      <th>kw1</th>\n",
       "      <th>kw2</th>\n",
       "      <th>label</th>\n",
       "      <th>avg_pool_embedding_1</th>\n",
       "      <th>avg_pool_embedding_2</th>\n",
       "      <th>sentence_vector_embedding_1</th>\n",
       "      <th>sentence_vector_embedding_2</th>\n",
       "    </tr>\n",
       "  </thead>\n",
       "  <tbody>\n",
       "    <tr>\n",
       "      <th>25996</th>\n",
       "      <td>software testing debugging</td>\n",
       "      <td>combinational synthesis</td>\n",
       "      <td>0</td>\n",
       "      <td>[0.022371108, -0.005886328, 0.027992472, 0.041...</td>\n",
       "      <td>[0.04251424, 0.018713767, 0.02182541, 0.007658...</td>\n",
       "      <td>[0.029621912, -0.008412714, 0.03842728, 0.0606...</td>\n",
       "      <td>[0.08096917, 0.030264342, 0.04064402, 0.016720...</td>\n",
       "    </tr>\n",
       "    <tr>\n",
       "      <th>25997</th>\n",
       "      <td>combinational synthesis</td>\n",
       "      <td>power management</td>\n",
       "      <td>0</td>\n",
       "      <td>[0.04251424, 0.018713767, 0.02182541, 0.007658...</td>\n",
       "      <td>[-0.070760734, 0.029085558, 0.07695586, 0.0309...</td>\n",
       "      <td>[0.08096917, 0.030264342, 0.04064402, 0.016720...</td>\n",
       "      <td>[-0.07305679, 0.037602574, 0.10327606, 0.03084...</td>\n",
       "    </tr>\n",
       "    <tr>\n",
       "      <th>25998</th>\n",
       "      <td>software fault tolerance</td>\n",
       "      <td>pcb design layout</td>\n",
       "      <td>0</td>\n",
       "      <td>[-0.0015693331, 0.042603467, -0.012904748, 0.0...</td>\n",
       "      <td>[0.11601115, -0.012827079, 0.03209356, 0.07732...</td>\n",
       "      <td>[0.011055365, 0.043711685, -0.021244038, 0.046...</td>\n",
       "      <td>[0.07769436, -0.01909836, 0.050779857, 0.05521...</td>\n",
       "    </tr>\n",
       "    <tr>\n",
       "      <th>25999</th>\n",
       "      <td>pcb design layout</td>\n",
       "      <td>formal method</td>\n",
       "      <td>0</td>\n",
       "      <td>[0.11601115, -0.012827079, 0.03209356, 0.07732...</td>\n",
       "      <td>[0.024535254, -0.0059768907, 0.005824997, 0.07...</td>\n",
       "      <td>[0.07769436, -0.01909836, 0.050779857, 0.05521...</td>\n",
       "      <td>[0.028043732, -0.0068222457, 0.0077669974, 0.0...</td>\n",
       "    </tr>\n",
       "    <tr>\n",
       "      <th>26000</th>\n",
       "      <td>documentation</td>\n",
       "      <td>pcb design layout</td>\n",
       "      <td>0</td>\n",
       "      <td>[0.015205305, 0.026330382, 0.012304179, 0.0220...</td>\n",
       "      <td>[0.11601115, -0.012827079, 0.03209356, 0.07732...</td>\n",
       "      <td>[0.0409104, 0.0708428, 0.033104822, 0.05937038...</td>\n",
       "      <td>[0.07769436, -0.01909836, 0.050779857, 0.05521...</td>\n",
       "    </tr>\n",
       "  </tbody>\n",
       "</table>\n",
       "</div>"
      ],
      "text/plain": [
       "                              kw1                      kw2  label  \\\n",
       "25996  software testing debugging  combinational synthesis      0   \n",
       "25997     combinational synthesis         power management      0   \n",
       "25998    software fault tolerance        pcb design layout      0   \n",
       "25999           pcb design layout            formal method      0   \n",
       "26000               documentation        pcb design layout      0   \n",
       "\n",
       "                                    avg_pool_embedding_1  \\\n",
       "25996  [0.022371108, -0.005886328, 0.027992472, 0.041...   \n",
       "25997  [0.04251424, 0.018713767, 0.02182541, 0.007658...   \n",
       "25998  [-0.0015693331, 0.042603467, -0.012904748, 0.0...   \n",
       "25999  [0.11601115, -0.012827079, 0.03209356, 0.07732...   \n",
       "26000  [0.015205305, 0.026330382, 0.012304179, 0.0220...   \n",
       "\n",
       "                                    avg_pool_embedding_2  \\\n",
       "25996  [0.04251424, 0.018713767, 0.02182541, 0.007658...   \n",
       "25997  [-0.070760734, 0.029085558, 0.07695586, 0.0309...   \n",
       "25998  [0.11601115, -0.012827079, 0.03209356, 0.07732...   \n",
       "25999  [0.024535254, -0.0059768907, 0.005824997, 0.07...   \n",
       "26000  [0.11601115, -0.012827079, 0.03209356, 0.07732...   \n",
       "\n",
       "                             sentence_vector_embedding_1  \\\n",
       "25996  [0.029621912, -0.008412714, 0.03842728, 0.0606...   \n",
       "25997  [0.08096917, 0.030264342, 0.04064402, 0.016720...   \n",
       "25998  [0.011055365, 0.043711685, -0.021244038, 0.046...   \n",
       "25999  [0.07769436, -0.01909836, 0.050779857, 0.05521...   \n",
       "26000  [0.0409104, 0.0708428, 0.033104822, 0.05937038...   \n",
       "\n",
       "                             sentence_vector_embedding_2  \n",
       "25996  [0.08096917, 0.030264342, 0.04064402, 0.016720...  \n",
       "25997  [-0.07305679, 0.037602574, 0.10327606, 0.03084...  \n",
       "25998  [0.07769436, -0.01909836, 0.050779857, 0.05521...  \n",
       "25999  [0.028043732, -0.0068222457, 0.0077669974, 0.0...  \n",
       "26000  [0.07769436, -0.01909836, 0.050779857, 0.05521...  "
      ]
     },
     "execution_count": 11,
     "metadata": {},
     "output_type": "execute_result"
    }
   ],
   "source": [
    "labeled_concept_pair_df.tail()"
   ]
  },
  {
   "cell_type": "code",
   "execution_count": 21,
   "id": "25f81a33",
   "metadata": {},
   "outputs": [],
   "source": [
    "from sklearn.metrics.pairwise import cosine_distances\n",
    "cos_mat_1 = cosine_distances(np.array([np.array(el) for el in labeled_concept_pair_df.iloc[:,4]]))\n",
    "cos_mat_2 = cosine_distances(np.array([np.array(el) for el in labeled_concept_pair_df.iloc[:,6]]))"
   ]
  },
  {
   "cell_type": "code",
   "execution_count": 28,
   "id": "5a87560d",
   "metadata": {},
   "outputs": [
    {
     "name": "stdout",
     "output_type": "stream",
     "text": [
      "Word being analyzed: general reference\n"
     ]
    },
    {
     "data": {
      "text/plain": [
       "{'context specific language',\n",
       " 'general conference proceeding',\n",
       " 'general literature',\n",
       " 'general programming language',\n",
       " 'general reference'}"
      ]
     },
     "execution_count": 28,
     "metadata": {},
     "output_type": "execute_result"
    }
   ],
   "source": [
    "most_similar_kw = labeled_concept_pair_df.iloc[np.argsort(cos_mat_1[0]), 1]\n",
    "print(\"Word being analyzed:\", labeled_concept_pair_df.iloc[0,1])\n",
    "set(most_similar_kw[:100])"
   ]
  },
  {
   "cell_type": "code",
   "execution_count": 29,
   "id": "d235d783",
   "metadata": {},
   "outputs": [
    {
     "name": "stdout",
     "output_type": "stream",
     "text": [
      "Word being analyzed: general reference\n"
     ]
    },
    {
     "data": {
      "text/plain": [
       "{'general conference proceeding',\n",
       " 'general literature',\n",
       " 'general programming language',\n",
       " 'general reference',\n",
       " 'reference model',\n",
       " 'reference work'}"
      ]
     },
     "execution_count": 29,
     "metadata": {},
     "output_type": "execute_result"
    }
   ],
   "source": [
    "most_similar_kw = labeled_concept_pair_df.iloc[np.argsort(cos_mat_2[0]), 1]\n",
    "print(\"Word being analyzed:\", labeled_concept_pair_df.iloc[0,1])\n",
    "set(most_similar_kw[:100])"
   ]
  },
  {
   "cell_type": "markdown",
   "id": "95deece7",
   "metadata": {},
   "source": [
    "Better similarity results in the second case"
   ]
  },
  {
   "cell_type": "markdown",
   "id": "21c29703",
   "metadata": {},
   "source": [
    "#### Create Labeled Data"
   ]
  },
  {
   "cell_type": "code",
   "execution_count": 14,
   "id": "89a514a0",
   "metadata": {},
   "outputs": [],
   "source": [
    "def kl_div(x, y):\n",
    "    \"\"\"Function that computes the kl divergence of two discrete distributions\"\"\"\n",
    "    idx1 = np.intersect1d(np.where(x>0), np.where(y>0))\n",
    "    idx2 = np.where(x==0)\n",
    "\n",
    "    return (x[idx1]*np.log(x[idx1]/y[idx1])).sum() + y[idx2].sum()\n",
    "\n",
    "def ComputeKwDistribution(corpus, kw, window_size, normalized = True):\n",
    "    ## Lowering varialbes in case its not done by preprocessing\n",
    "    corpus = corpus.lower()\n",
    "    kw     = kw.lower()\n",
    "\n",
    "    ## Find all positions of occurences of a substring in the corpus\n",
    "    occur_list = findAllIterationsInString(corpus, kw)\n",
    "\n",
    "    ## Divide by window size to get positions:\n",
    "    pos_in_window = np.array(occur_list)/window_size\n",
    "    pos_in_window = np.floor(pos_in_window).astype(int)\n",
    "\n",
    "    ## Count occurences in a window \n",
    "    unique_pos, freq = np.unique(pos_in_window, return_counts=True)\n",
    "    distribution = np.array([0 for i in range(0, np.ceil(len(corpus)/window_size).astype(int))])#bins of distrib\n",
    "    distribution[unique_pos] = freq\n",
    "\n",
    "    return distribution/distribution.sum() if normalized and distribution.sum()!=0 else distribution\n",
    "\n",
    "def ExtractKeywordOrderFromCorpus(labeled_data_dict, corpus, ccs_list, corpus_size, window_size, verbose=False):\n",
    "    if(verbose):\n",
    "        print(corpus[:1000] if len(corpus) > 1000 else corpus)\n",
    "        print(ccs_list)\n",
    "\n",
    "    ## Looping on corpus size:\n",
    "    curr_corpus = corpus\n",
    "    found_atleast_one_kw = False\n",
    "    while(len(curr_corpus) >= corpus_size):\n",
    "        working_corpus = curr_corpus[:corpus_size]\n",
    "        \n",
    "        ## Find valid keyword pairs\n",
    "        for kw_pair in ccs_list:\n",
    "            concept_root, concept_leaf = kw_pair\n",
    "            if(concept_root in working_corpus and concept_leaf in working_corpus):\n",
    "                found_atleast_one_kw = True\n",
    "        \n",
    "                ## Randomly chooses the order of keywords (kw)\n",
    "                label, kw1, kw2 = None, None, None\n",
    "                if(np.random.uniform(0,1)>0.5):\n",
    "                    label = 0 # leaf then root is 0\n",
    "                    kw1 = concept_leaf\n",
    "                    kw2 = concept_root\n",
    "\n",
    "                else:\n",
    "                    label = 1 # root then leaf is 1\n",
    "                    kw2 = concept_leaf\n",
    "                    kw1 = concept_root\n",
    "                    \n",
    "\n",
    "                ## Computing the distributions of both concepts\n",
    "                dist1 = ComputeKwDistribution(working_corpus, kw1, window_size=window_size, normalized = True)\n",
    "                dist2 = ComputeKwDistribution(working_corpus, kw2, window_size=window_size, normalized = True)\n",
    "\n",
    "                if(verbose):\n",
    "                    print(dist1)\n",
    "                    print(dist2)\n",
    "\n",
    "                ## Padding distributions to same length\n",
    "                len_d1, len_d2 = len(dist1), len(dist2)\n",
    "                if(len_d1 < len_d2):\n",
    "                    dist1 = np.pad(dist1, (0, len_d2-len_d1), mode=\"constant\", constant_values=0)\n",
    "                elif(len_d1 > len_d2):\n",
    "                    dist2 = np.pad(dist2, (0, len_d1-len_d2), mode=\"constant\", constant_values=0)\n",
    "\n",
    "                ## Computing entropy, KL divergence, ratio and Mutual Information for both distributions:\n",
    "                H1_var = entropy(dist1)\n",
    "                H2_var = entropy(dist2)\n",
    "                kl_div1 = kl_div(dist1, dist2).sum()\n",
    "                kl_div2 = kl_div(dist2, dist1).sum()\n",
    "                ratio   = kl_div1/kl_div2 if kl_div2 != 0 else np.nan\n",
    "                MI_var  = mutual_info_score(dist1, dist2) \n",
    "\n",
    "                ## Store information\n",
    "                labeled_data_dict[\"label\"].append(label)\n",
    "                labeled_data_dict[\"kw1\"].append(kw1)\n",
    "                labeled_data_dict[\"kw2\"].append(kw2)\n",
    "                labeled_data_dict[\"distrib1\"].append(dist1)\n",
    "                labeled_data_dict[\"distrib2\"].append(dist2)\n",
    "                labeled_data_dict[\"H1\"].append(H1_var)\n",
    "                labeled_data_dict[\"H2\"].append(H2_var)\n",
    "                labeled_data_dict[\"DKL_1\"].append(kl_div1)\n",
    "                labeled_data_dict[\"DKL_2\"].append(kl_div2)\n",
    "                labeled_data_dict[\"ratio\"].append(ratio)\n",
    "                labeled_data_dict[\"MI\"].append(MI_var)\n",
    "\n",
    "                ## Clear warnings\n",
    "                if(not verbose):\n",
    "                    clear_output(wait=True)\n",
    "\n",
    "        \n",
    "\n",
    "        curr_corpus = curr_corpus[corpus_size:]# Sliding window style for corpus\n",
    "\n",
    "\n",
    "    return 1 if found_atleast_one_kw else np.nan"
   ]
  },
  {
   "cell_type": "markdown",
   "id": "a81fc1ef",
   "metadata": {},
   "source": [
    "Test of new implementation"
   ]
  },
  {
   "cell_type": "code",
   "execution_count": 10,
   "id": "04bbd3fd",
   "metadata": {},
   "outputs": [
    {
     "name": "stdout",
     "output_type": "stream",
     "text": [
      "186 2 [3 2]\n"
     ]
    }
   ],
   "source": [
    "str_var = \"French fries I love french fries, this is why I cook them so often! Please let me eat french fries indefinitely. Yes, I am addicted to french fries (you did not ask me). (French fries!!)\"\n",
    "kw      = \"French fries\"\n",
    "\n",
    "res_1   = ComputeKwDistribution(str_var, kw, window_size=100, normalized = False)\n",
    "print(len(str_var), len(res_1), res_1)"
   ]
  },
  {
   "cell_type": "markdown",
   "id": "8a98b2ca",
   "metadata": {},
   "source": [
    "##### Create labeled data on abstracts"
   ]
  },
  {
   "cell_type": "code",
   "execution_count": 13,
   "id": "9f1d4146",
   "metadata": {},
   "outputs": [
    {
     "name": "stdout",
     "output_type": "stream",
     "text": [
      "number of concept not found: 154  out of 956 articles.\n"
     ]
    },
    {
     "data": {
      "text/html": [
       "<div>\n",
       "<style scoped>\n",
       "    .dataframe tbody tr th:only-of-type {\n",
       "        vertical-align: middle;\n",
       "    }\n",
       "\n",
       "    .dataframe tbody tr th {\n",
       "        vertical-align: top;\n",
       "    }\n",
       "\n",
       "    .dataframe thead th {\n",
       "        text-align: right;\n",
       "    }\n",
       "</style>\n",
       "<table border=\"1\" class=\"dataframe\">\n",
       "  <thead>\n",
       "    <tr style=\"text-align: right;\">\n",
       "      <th></th>\n",
       "      <th>label</th>\n",
       "      <th>kw1</th>\n",
       "      <th>kw2</th>\n",
       "      <th>distrib1</th>\n",
       "      <th>distrib2</th>\n",
       "      <th>H1</th>\n",
       "      <th>H2</th>\n",
       "      <th>DKL_1</th>\n",
       "      <th>DKL_2</th>\n",
       "      <th>ratio</th>\n",
       "      <th>MI</th>\n",
       "    </tr>\n",
       "  </thead>\n",
       "  <tbody>\n",
       "    <tr>\n",
       "      <th>19765</th>\n",
       "      <td>0</td>\n",
       "      <td>web mining</td>\n",
       "      <td>information system</td>\n",
       "      <td>[0.0, 0.0, 0.0, 0.0, 0.0, 0.0, 0.0, 0.0, 0.0, ...</td>\n",
       "      <td>[0.0, 0.0, 0.0, 0.0, 0.0, 0.0, 0.0, 0.0, 0.0, ...</td>\n",
       "      <td>0.693147</td>\n",
       "      <td>1.386294</td>\n",
       "      <td>1.096574</td>\n",
       "      <td>0.326713</td>\n",
       "      <td>3.356380</td>\n",
       "      <td>0.004275</td>\n",
       "    </tr>\n",
       "    <tr>\n",
       "      <th>19766</th>\n",
       "      <td>1</td>\n",
       "      <td>information system</td>\n",
       "      <td>world wide web</td>\n",
       "      <td>[0.0, 0.0, 0.0, 0.0, 0.0, 0.0, 0.0, 0.0, 0.0, ...</td>\n",
       "      <td>[0.0, 0.0, 0.0, 0.0, 0.0, 0.0, 0.0, 0.0, 0.0, ...</td>\n",
       "      <td>1.098612</td>\n",
       "      <td>0.000000</td>\n",
       "      <td>1.000000</td>\n",
       "      <td>1.000000</td>\n",
       "      <td>1.000000</td>\n",
       "      <td>0.000003</td>\n",
       "    </tr>\n",
       "    <tr>\n",
       "      <th>19767</th>\n",
       "      <td>1</td>\n",
       "      <td>human-centered computing</td>\n",
       "      <td>human computer interaction hci</td>\n",
       "      <td>[0.0, 0.0, 0.0, 0.0, 0.0, 0.0, 1.0, 0.0, 0.0, ...</td>\n",
       "      <td>[0.0, 0.0, 0.0, 0.0, 0.0, 0.0, 1.0, 0.0, 0.0, ...</td>\n",
       "      <td>0.000000</td>\n",
       "      <td>0.000000</td>\n",
       "      <td>0.000000</td>\n",
       "      <td>0.000000</td>\n",
       "      <td>NaN</td>\n",
       "      <td>0.007907</td>\n",
       "    </tr>\n",
       "    <tr>\n",
       "      <th>19768</th>\n",
       "      <td>1</td>\n",
       "      <td>information system</td>\n",
       "      <td>social network</td>\n",
       "      <td>[0.0, 0.0, 0.0, 0.0, 0.0, 0.0, 0.0, 0.5, 0.0, ...</td>\n",
       "      <td>[0.0, 0.0, 0.0, 0.0, 0.0, 0.0, 0.0, 0.0, 0.0, ...</td>\n",
       "      <td>0.693147</td>\n",
       "      <td>0.000000</td>\n",
       "      <td>1.000000</td>\n",
       "      <td>1.000000</td>\n",
       "      <td>1.000000</td>\n",
       "      <td>0.000002</td>\n",
       "    </tr>\n",
       "    <tr>\n",
       "      <th>19769</th>\n",
       "      <td>1</td>\n",
       "      <td>information system</td>\n",
       "      <td>world wide web</td>\n",
       "      <td>[0.0, 0.0, 0.0, 0.0, 0.0, 0.0, 0.0, 0.5, 0.0, ...</td>\n",
       "      <td>[0.0, 0.0, 0.0, 0.0, 0.0, 0.0, 0.0, 0.2, 0.0, ...</td>\n",
       "      <td>0.693147</td>\n",
       "      <td>1.609438</td>\n",
       "      <td>1.516291</td>\n",
       "      <td>-0.366516</td>\n",
       "      <td>-4.137035</td>\n",
       "      <td>0.011062</td>\n",
       "    </tr>\n",
       "  </tbody>\n",
       "</table>\n",
       "</div>"
      ],
      "text/plain": [
       "       label                       kw1                             kw2  \\\n",
       "19765      0                web mining              information system   \n",
       "19766      1        information system                  world wide web   \n",
       "19767      1  human-centered computing  human computer interaction hci   \n",
       "19768      1        information system                  social network   \n",
       "19769      1        information system                  world wide web   \n",
       "\n",
       "                                                distrib1  \\\n",
       "19765  [0.0, 0.0, 0.0, 0.0, 0.0, 0.0, 0.0, 0.0, 0.0, ...   \n",
       "19766  [0.0, 0.0, 0.0, 0.0, 0.0, 0.0, 0.0, 0.0, 0.0, ...   \n",
       "19767  [0.0, 0.0, 0.0, 0.0, 0.0, 0.0, 1.0, 0.0, 0.0, ...   \n",
       "19768  [0.0, 0.0, 0.0, 0.0, 0.0, 0.0, 0.0, 0.5, 0.0, ...   \n",
       "19769  [0.0, 0.0, 0.0, 0.0, 0.0, 0.0, 0.0, 0.5, 0.0, ...   \n",
       "\n",
       "                                                distrib2        H1        H2  \\\n",
       "19765  [0.0, 0.0, 0.0, 0.0, 0.0, 0.0, 0.0, 0.0, 0.0, ...  0.693147  1.386294   \n",
       "19766  [0.0, 0.0, 0.0, 0.0, 0.0, 0.0, 0.0, 0.0, 0.0, ...  1.098612  0.000000   \n",
       "19767  [0.0, 0.0, 0.0, 0.0, 0.0, 0.0, 1.0, 0.0, 0.0, ...  0.000000  0.000000   \n",
       "19768  [0.0, 0.0, 0.0, 0.0, 0.0, 0.0, 0.0, 0.0, 0.0, ...  0.693147  0.000000   \n",
       "19769  [0.0, 0.0, 0.0, 0.0, 0.0, 0.0, 0.0, 0.2, 0.0, ...  0.693147  1.609438   \n",
       "\n",
       "          DKL_1     DKL_2     ratio        MI  \n",
       "19765  1.096574  0.326713  3.356380  0.004275  \n",
       "19766  1.000000  1.000000  1.000000  0.000003  \n",
       "19767  0.000000  0.000000       NaN  0.007907  \n",
       "19768  1.000000  1.000000  1.000000  0.000002  \n",
       "19769  1.516291 -0.366516 -4.137035  0.011062  "
      ]
     },
     "execution_count": 13,
     "metadata": {},
     "output_type": "execute_result"
    }
   ],
   "source": [
    "## Dict stores the created labeled data for future experiments\n",
    "labeled_data_dict = {\"label\": [], \"kw1\": [], \"kw2\": [], \"distrib1\": [], \"distrib2\": [], \"H1\": [], \"H2\": [], \"DKL_1\": [], \"DKL_2\": [], \"ratio\": [], \"MI\": []}\n",
    "\n",
    "\n",
    "agg_ccs_df.ft_body_len = agg_ccs_df['ft_body_processed'].apply(len)\n",
    "agg_ccs_bigbodies_df = agg_ccs_df[agg_ccs_df.ft_body_len >= 1e5]\n",
    "print(\"remaining bodies\", agg_ccs_bigbodies_df.shape)\n",
    "\n",
    "return_na_count = agg_ccs_bigbodies_df.apply(lambda el: ExtractKeywordOrderFromCorpus(labeled_data_dict, corpus=el.ft_body_processed, ccs_list=el.high_Importance_concept_roots_and_leafs, corpus_size=corpus_size, window_size=window_size, verbose=False), axis = 1)\n",
    "\n",
    "print(\"number of concept not found:\", return_na_count.isna().sum(), \" out of {} articles.\".format(agg_ccs_bigbodies_df.shape[0]))\n",
    "\n",
    "labeled_data_bodies_df = pd.DataFrame.from_dict(labeled_data_dict)\n",
    "labeled_data_bodies_df.tail()"
   ]
  },
  {
   "cell_type": "code",
   "execution_count": 16,
   "id": "77af7956",
   "metadata": {},
   "outputs": [
    {
     "data": {
      "text/html": [
       "<div>\n",
       "<style scoped>\n",
       "    .dataframe tbody tr th:only-of-type {\n",
       "        vertical-align: middle;\n",
       "    }\n",
       "\n",
       "    .dataframe tbody tr th {\n",
       "        vertical-align: top;\n",
       "    }\n",
       "\n",
       "    .dataframe thead th {\n",
       "        text-align: right;\n",
       "    }\n",
       "</style>\n",
       "<table border=\"1\" class=\"dataframe\">\n",
       "  <thead>\n",
       "    <tr style=\"text-align: right;\">\n",
       "      <th></th>\n",
       "      <th>label</th>\n",
       "      <th>H1</th>\n",
       "      <th>H2</th>\n",
       "      <th>DKL_1</th>\n",
       "      <th>DKL_2</th>\n",
       "      <th>ratio</th>\n",
       "      <th>MI</th>\n",
       "    </tr>\n",
       "  </thead>\n",
       "  <tbody>\n",
       "    <tr>\n",
       "      <th>count</th>\n",
       "      <td>19770.000000</td>\n",
       "      <td>19770.000000</td>\n",
       "      <td>19770.000000</td>\n",
       "      <td>19770.000000</td>\n",
       "      <td>19770.000000</td>\n",
       "      <td>18882.000000</td>\n",
       "      <td>19770.000000</td>\n",
       "    </tr>\n",
       "    <tr>\n",
       "      <th>mean</th>\n",
       "      <td>0.497016</td>\n",
       "      <td>1.435011</td>\n",
       "      <td>1.446073</td>\n",
       "      <td>1.201980</td>\n",
       "      <td>1.182062</td>\n",
       "      <td>-8.241825</td>\n",
       "      <td>0.002483</td>\n",
       "    </tr>\n",
       "    <tr>\n",
       "      <th>std</th>\n",
       "      <td>0.500004</td>\n",
       "      <td>1.575353</td>\n",
       "      <td>1.572960</td>\n",
       "      <td>1.316070</td>\n",
       "      <td>1.302875</td>\n",
       "      <td>73.076084</td>\n",
       "      <td>0.005678</td>\n",
       "    </tr>\n",
       "    <tr>\n",
       "      <th>min</th>\n",
       "      <td>0.000000</td>\n",
       "      <td>0.000000</td>\n",
       "      <td>0.000000</td>\n",
       "      <td>-0.366516</td>\n",
       "      <td>-0.367811</td>\n",
       "      <td>-4274.328672</td>\n",
       "      <td>0.000001</td>\n",
       "    </tr>\n",
       "    <tr>\n",
       "      <th>25%</th>\n",
       "      <td>0.000000</td>\n",
       "      <td>0.000000</td>\n",
       "      <td>0.000000</td>\n",
       "      <td>1.000000</td>\n",
       "      <td>1.000000</td>\n",
       "      <td>-0.006005</td>\n",
       "      <td>0.000006</td>\n",
       "    </tr>\n",
       "    <tr>\n",
       "      <th>50%</th>\n",
       "      <td>0.000000</td>\n",
       "      <td>0.693147</td>\n",
       "      <td>0.693147</td>\n",
       "      <td>1.000000</td>\n",
       "      <td>1.000000</td>\n",
       "      <td>1.000000</td>\n",
       "      <td>0.000054</td>\n",
       "    </tr>\n",
       "    <tr>\n",
       "      <th>75%</th>\n",
       "      <td>1.000000</td>\n",
       "      <td>2.369382</td>\n",
       "      <td>2.397895</td>\n",
       "      <td>1.000000</td>\n",
       "      <td>1.000000</td>\n",
       "      <td>1.000000</td>\n",
       "      <td>0.003979</td>\n",
       "    </tr>\n",
       "    <tr>\n",
       "      <th>max</th>\n",
       "      <td>1.000000</td>\n",
       "      <td>5.988555</td>\n",
       "      <td>6.148306</td>\n",
       "      <td>7.109250</td>\n",
       "      <td>7.109250</td>\n",
       "      <td>6908.065642</td>\n",
       "      <td>0.218466</td>\n",
       "    </tr>\n",
       "  </tbody>\n",
       "</table>\n",
       "</div>"
      ],
      "text/plain": [
       "              label            H1            H2         DKL_1         DKL_2  \\\n",
       "count  19770.000000  19770.000000  19770.000000  19770.000000  19770.000000   \n",
       "mean       0.497016      1.435011      1.446073      1.201980      1.182062   \n",
       "std        0.500004      1.575353      1.572960      1.316070      1.302875   \n",
       "min        0.000000      0.000000      0.000000     -0.366516     -0.367811   \n",
       "25%        0.000000      0.000000      0.000000      1.000000      1.000000   \n",
       "50%        0.000000      0.693147      0.693147      1.000000      1.000000   \n",
       "75%        1.000000      2.369382      2.397895      1.000000      1.000000   \n",
       "max        1.000000      5.988555      6.148306      7.109250      7.109250   \n",
       "\n",
       "              ratio            MI  \n",
       "count  18882.000000  19770.000000  \n",
       "mean      -8.241825      0.002483  \n",
       "std       73.076084      0.005678  \n",
       "min    -4274.328672      0.000001  \n",
       "25%       -0.006005      0.000006  \n",
       "50%        1.000000      0.000054  \n",
       "75%        1.000000      0.003979  \n",
       "max     6908.065642      0.218466  "
      ]
     },
     "execution_count": 16,
     "metadata": {},
     "output_type": "execute_result"
    }
   ],
   "source": [
    "labeled_data_bodies_df.describe()"
   ]
  },
  {
   "cell_type": "markdown",
   "id": "308540de",
   "metadata": {},
   "source": [
    "##### Gradient Boosting"
   ]
  },
  {
   "cell_type": "code",
   "execution_count": 18,
   "id": "74bfac9b",
   "metadata": {},
   "outputs": [],
   "source": [
    "from sklearn.ensemble import GradientBoostingClassifier  #GBM algorithm\n",
    "from sklearn.model_selection  import cross_validate, GridSearchCV\n",
    "from sklearn  import metrics   #Additional scklearn functions\n",
    "from sklearn.metrics import accuracy_score, confusion_matrix, classification_report\n",
    "from sklearn.model_selection import train_test_split\n",
    "\n",
    "\n",
    "processed_data = labeled_data_bodies_df.drop(columns=[\"kw1\", \"kw2\", \"distrib1\", \"distrib2\"]).dropna(subset=\"ratio\")\n",
    "\n",
    "X_train, X_test, y_train, y_test = train_test_split(processed_data.drop(columns=\"label\"), processed_data['label'],\n",
    "                                           train_size=0.8, test_size=0.2) # tested"
   ]
  },
  {
   "cell_type": "code",
   "execution_count": 19,
   "id": "07e0cebc",
   "metadata": {},
   "outputs": [
    {
     "data": {
      "text/plain": [
       "GridSearchCV(cv=5,\n",
       "             estimator=GradientBoostingClassifier(max_features='sqrt',\n",
       "                                                  random_state=10,\n",
       "                                                  subsample=0.8),\n",
       "             n_jobs=4,\n",
       "             param_grid={'max_depth': [8], 'min_samples_leaf': [20],\n",
       "                         'min_samples_split': [20], 'n_estimators': [700]},\n",
       "             scoring='f1_weighted')"
      ]
     },
     "execution_count": 19,
     "metadata": {},
     "output_type": "execute_result"
    }
   ],
   "source": [
    "param_test1 = {\n",
    "    'n_estimators': [700],#range(300, 701, 100),\n",
    "    'max_depth': [8],#range(4, 9, 2),\n",
    "    'min_samples_leaf': [20],#range(10, 31, 10),\n",
    "    'min_samples_split': [20]#range(20, 51, 10)\n",
    "}\n",
    "gsearch1 = GridSearchCV(estimator = GradientBoostingClassifier(learning_rate=0.1,max_features='sqrt',subsample=0.8,random_state=10),# min_samples_split=500,min_samples_leaf=50 \n",
    "param_grid = param_test1, scoring='f1_weighted',n_jobs=4, cv=5)\n",
    "gsearch1.fit(X_train,y_train)"
   ]
  },
  {
   "cell_type": "code",
   "execution_count": 20,
   "id": "70fd55a8",
   "metadata": {},
   "outputs": [
    {
     "data": {
      "text/plain": [
       "0.6274338453234785"
      ]
     },
     "execution_count": 20,
     "metadata": {},
     "output_type": "execute_result"
    }
   ],
   "source": [
    "gsearch1.best_score_#gsearch1.cv_results_, gsearch1.best_params_, "
   ]
  },
  {
   "cell_type": "code",
   "execution_count": 21,
   "id": "495805cb",
   "metadata": {},
   "outputs": [],
   "source": [
    "best_model = gsearch1.best_estimator_"
   ]
  },
  {
   "cell_type": "code",
   "execution_count": 22,
   "id": "708a44e1",
   "metadata": {},
   "outputs": [
    {
     "data": {
      "text/plain": [
       "{'max_depth': 8,\n",
       " 'min_samples_leaf': 20,\n",
       " 'min_samples_split': 20,\n",
       " 'n_estimators': 700}"
      ]
     },
     "execution_count": 22,
     "metadata": {},
     "output_type": "execute_result"
    }
   ],
   "source": [
    "best_params_gbm = gsearch1.best_params_\n",
    "best_params_gbm"
   ]
  },
  {
   "cell_type": "code",
   "execution_count": 23,
   "id": "89b13832",
   "metadata": {},
   "outputs": [
    {
     "name": "stdout",
     "output_type": "stream",
     "text": [
      "Maximum number of parameters in our best model: 89600\n"
     ]
    }
   ],
   "source": [
    "print(\"Maximum number of parameters in our best model: {}\".format(best_model.n_estimators_*2**(best_model.max_depth-1)))"
   ]
  },
  {
   "cell_type": "markdown",
   "id": "a88b4d08",
   "metadata": {},
   "source": [
    "##### Performance analysis on test dataset"
   ]
  },
  {
   "cell_type": "code",
   "execution_count": 24,
   "id": "6b662a92",
   "metadata": {},
   "outputs": [
    {
     "data": {
      "text/plain": [
       "array([1, 0, 0, ..., 0, 1, 1])"
      ]
     },
     "execution_count": 24,
     "metadata": {},
     "output_type": "execute_result"
    }
   ],
   "source": [
    "y_pred=best_model.predict(X_test)\n",
    "y_pred"
   ]
  },
  {
   "cell_type": "code",
   "execution_count": 25,
   "id": "9e827acd",
   "metadata": {},
   "outputs": [
    {
     "name": "stdout",
     "output_type": "stream",
     "text": [
      "LightGBM Model accuracy score: 0.6187\n"
     ]
    }
   ],
   "source": [
    "accuracy=accuracy_score(y_pred, y_test)\n",
    "print('LightGBM Model accuracy score: {0:0.4f}'.format(accuracy_score(y_test, y_pred)))"
   ]
  },
  {
   "cell_type": "code",
   "execution_count": 26,
   "id": "a462b1d8",
   "metadata": {},
   "outputs": [
    {
     "data": {
      "text/plain": [
       "Text(0, 0.5, 'Feature Importance Score')"
      ]
     },
     "execution_count": 26,
     "metadata": {},
     "output_type": "execute_result"
    },
    {
     "data": {
      "image/png": "[encoded data removed]",
      "text/plain": [
       "<Figure size 432x288 with 1 Axes>"
      ]
     },
     "metadata": {
      "needs_background": "light"
     },
     "output_type": "display_data"
    }
   ],
   "source": [
    "feat_imp = pd.Series(best_model.feature_importances_, X_train.columns).sort_values(ascending=False)\n",
    "feat_imp.plot(kind='bar', title='Feature Importances')\n",
    "plt.ylabel('Feature Importance Score')"
   ]
  },
  {
   "cell_type": "markdown",
   "id": "fb200fe2",
   "metadata": {},
   "source": [
    "##### Plot confusion matrix:"
   ]
  },
  {
   "cell_type": "code",
   "execution_count": 27,
   "id": "7275b606",
   "metadata": {},
   "outputs": [],
   "source": [
    "cm = confusion_matrix(y_test, y_pred)"
   ]
  },
  {
   "cell_type": "code",
   "execution_count": 28,
   "id": "942b1a26",
   "metadata": {},
   "outputs": [
    {
     "name": "stdout",
     "output_type": "stream",
     "text": [
      "Confusion matrix\n",
      "\n",
      " [[1050  857]\n",
      " [ 583 1287]]\n"
     ]
    }
   ],
   "source": [
    "print('Confusion matrix\\n\\n', cm)"
   ]
  },
  {
   "cell_type": "code",
   "execution_count": 29,
   "id": "5ba10a5c",
   "metadata": {},
   "outputs": [
    {
     "data": {
      "text/plain": [
       "<AxesSubplot:>"
      ]
     },
     "execution_count": 29,
     "metadata": {},
     "output_type": "execute_result"
    },
    {
     "data": {
      "image/png": "[encoded data removed]",
      "text/plain": [
       "<Figure size 432x288 with 2 Axes>"
      ]
     },
     "metadata": {
      "needs_background": "light"
     },
     "output_type": "display_data"
    }
   ],
   "source": [
    "# visualize confusion matrix with seaborn heatmap\n",
    "\n",
    "cm_matrix = pd.DataFrame(data=cm, columns=['Actual leaf->root:0', 'Actual root->leaf:1'], \n",
    "                                 index=['Predict leaf->root:0', 'Predict root->leaf:1'])\n",
    "\n",
    "sns.heatmap(cm_matrix, annot=True, fmt='d', cmap='YlGnBu')"
   ]
  },
  {
   "cell_type": "code",
   "execution_count": 30,
   "id": "0fdc4f4c",
   "metadata": {},
   "outputs": [
    {
     "name": "stdout",
     "output_type": "stream",
     "text": [
      "              precision    recall  f1-score   support\n",
      "\n",
      "           0       0.64      0.55      0.59      1907\n",
      "           1       0.60      0.69      0.64      1870\n",
      "\n",
      "    accuracy                           0.62      3777\n",
      "   macro avg       0.62      0.62      0.62      3777\n",
      "weighted avg       0.62      0.62      0.62      3777\n",
      "\n"
     ]
    }
   ],
   "source": [
    "print(classification_report(y_test, y_pred))"
   ]
  },
  {
   "cell_type": "markdown",
   "id": "e2c45c06",
   "metadata": {},
   "source": [
    "##### Save Models"
   ]
  },
  {
   "cell_type": "code",
   "execution_count": 31,
   "id": "1c578687",
   "metadata": {},
   "outputs": [],
   "source": [
    "pickle.dump(best_model, open(\"Models/naive_gridsearch.pkl\", \"wb\"))"
   ]
  },
  {
   "cell_type": "code",
   "execution_count": 23,
   "id": "2fae40be",
   "metadata": {},
   "outputs": [
    {
     "data": {
      "text/plain": [
       "GradientBoostingClassifier(max_depth=8, max_features='sqrt',\n",
       "                           min_samples_leaf=20, min_samples_split=20,\n",
       "                           n_estimators=700, random_state=10, subsample=0.8)"
      ]
     },
     "execution_count": 23,
     "metadata": {},
     "output_type": "execute_result"
    }
   ],
   "source": [
    "best_model = pickle.load(open(\"Models/naive_gridsearch.pkl\", \"rb\"))\n",
    "best_model"
   ]
  }
 ],
 "metadata": {
  "interpreter": {
   "hash": "00dac3d85057902516a7de3d1bb919e2487cdfcc669671ff52e056662c37d510"
  },
  "kernelspec": {
   "display_name": "kw",
   "language": "python",
   "name": "python3"
  },
  "language_info": {
   "codemirror_mode": {
    "name": "ipython",
    "version": 3
   },
   "file_extension": ".py",
   "mimetype": "text/x-python",
   "name": "python",
   "nbconvert_exporter": "python",
   "pygments_lexer": "ipython3",
   "version": "3.9.12"
  }
 },
 "nbformat": 4,
 "nbformat_minor": 5
}
