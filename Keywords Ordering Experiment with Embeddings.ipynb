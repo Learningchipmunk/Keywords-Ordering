{
 "cells": [
  {
   "cell_type": "markdown",
   "id": "34f3d828",
   "metadata": {},
   "source": [
    "# Ordering Kewords using Pretrained Embeddings\n",
    "\n",
    "We use th FastText Bag Of Tricks model pretrained on **Common Crawl** and **Wikipedia** to generate the word embeddings. <br>\n",
    "Link to the paper [here](https://arxiv.org/pdf/1607.01759.pdf). <br>\n",
    "Link to the 157 pretrained embeddings [here](https://fasttext.cc/docs/en/crawl-vectors.html)."
   ]
  },
  {
   "cell_type": "code",
   "execution_count": 1,
   "id": "d3e76886",
   "metadata": {},
   "outputs": [
    {
     "name": "stderr",
     "output_type": "stream",
     "text": [
      "[nltk_data] Downloading package wordnet to /home/jcl/nltk_data...\n",
      "[nltk_data]   Package wordnet is already up-to-date!\n",
      "[nltk_data] Downloading package omw-1.4 to /home/jcl/nltk_data...\n",
      "[nltk_data]   Package omw-1.4 is already up-to-date!\n"
     ]
    }
   ],
   "source": [
    "import fasttext\n",
    "import fasttext.util\n",
    "import pandas as pd\n",
    "import numpy as np\n",
    "import seaborn as sns\n",
    "import pickle\n",
    "import matplotlib.pyplot as plt\n",
    "\n",
    "from sklearn.metrics import mutual_info_score \n",
    "from IPython.display import clear_output\n",
    "from sklearn.metrics.pairwise import cosine_distances\n",
    "\n",
    "from sklearn.ensemble import GradientBoostingClassifier  #GBM algorithm\n",
    "from sklearn.model_selection  import GridSearchCV\n",
    "from sklearn.metrics import accuracy_score, confusion_matrix, classification_report\n",
    "from sklearn.model_selection import train_test_split\n",
    "\n",
    "from Scripts.util import ExtractIntLabelFromPred"
   ]
  },
  {
   "cell_type": "markdown",
   "id": "89bf27bc",
   "metadata": {},
   "source": [
    "#### Load the FastText Model\n",
    "\n",
    "To understand the library, you can look at the documentation available [here](https://fasttext.cc/docs/en/python-module.html#train_unsupervised-parameters)."
   ]
  },
  {
   "cell_type": "code",
   "execution_count": 2,
   "id": "08f6075f",
   "metadata": {},
   "outputs": [
    {
     "name": "stderr",
     "output_type": "stream",
     "text": [
      "Warning : `load_model` does not return WordVectorModel or SupervisedModel any more, but a `FastText` object which is very similar.\n"
     ]
    }
   ],
   "source": [
    "# fasttext.util.download_model('en', if_exists='ignore')  # English\n",
    "ft_model = fasttext.load_model('Models/cc.en.300.bin')"
   ]
  },
  {
   "cell_type": "markdown",
   "id": "e29467f1",
   "metadata": {},
   "source": [
    "##### Load Data"
   ]
  },
  {
   "cell_type": "code",
   "execution_count": 3,
   "id": "6d13168b",
   "metadata": {},
   "outputs": [
    {
     "data": {
      "text/html": [
       "<div>\n",
       "<style scoped>\n",
       "    .dataframe tbody tr th:only-of-type {\n",
       "        vertical-align: middle;\n",
       "    }\n",
       "\n",
       "    .dataframe tbody tr th {\n",
       "        vertical-align: top;\n",
       "    }\n",
       "\n",
       "    .dataframe thead th {\n",
       "        text-align: right;\n",
       "    }\n",
       "</style>\n",
       "<table border=\"1\" class=\"dataframe\">\n",
       "  <thead>\n",
       "    <tr style=\"text-align: right;\">\n",
       "      <th></th>\n",
       "      <th>kw1</th>\n",
       "      <th>kw2</th>\n",
       "      <th>label</th>\n",
       "    </tr>\n",
       "  </thead>\n",
       "  <tbody>\n",
       "    <tr>\n",
       "      <th>25934</th>\n",
       "      <td>software testing debugging</td>\n",
       "      <td>combinational synthesis</td>\n",
       "      <td>0</td>\n",
       "    </tr>\n",
       "    <tr>\n",
       "      <th>25935</th>\n",
       "      <td>combinational synthesis</td>\n",
       "      <td>power management</td>\n",
       "      <td>0</td>\n",
       "    </tr>\n",
       "    <tr>\n",
       "      <th>25936</th>\n",
       "      <td>software fault tolerance</td>\n",
       "      <td>pcb design layout</td>\n",
       "      <td>0</td>\n",
       "    </tr>\n",
       "    <tr>\n",
       "      <th>25937</th>\n",
       "      <td>pcb design layout</td>\n",
       "      <td>formal method</td>\n",
       "      <td>0</td>\n",
       "    </tr>\n",
       "    <tr>\n",
       "      <th>25938</th>\n",
       "      <td>documentation</td>\n",
       "      <td>pcb design layout</td>\n",
       "      <td>0</td>\n",
       "    </tr>\n",
       "  </tbody>\n",
       "</table>\n",
       "</div>"
      ],
      "text/plain": [
       "                              kw1                      kw2  label\n",
       "25934  software testing debugging  combinational synthesis      0\n",
       "25935     combinational synthesis         power management      0\n",
       "25936    software fault tolerance        pcb design layout      0\n",
       "25937           pcb design layout            formal method      0\n",
       "25938               documentation        pcb design layout      0"
      ]
     },
     "execution_count": 3,
     "metadata": {},
     "output_type": "execute_result"
    }
   ],
   "source": [
    "labeled_concept_pair_df = pd.read_csv(\"Data/labeled_concept_pair_dataset.csv\")\n",
    "labeled_concept_pair_df.tail()"
   ]
  },
  {
   "cell_type": "code",
   "execution_count": 4,
   "id": "7455acf5",
   "metadata": {},
   "outputs": [
    {
     "name": "stdout",
     "output_type": "stream",
     "text": [
      "general reference\n",
      "Embedding size: 300\n"
     ]
    }
   ],
   "source": [
    "kw_test = labeled_concept_pair_df.iloc[1,0]\n",
    "print(kw_test)\n",
    "embedding_dim = ft_model.get_word_vector(kw_test).shape[0]\n",
    "print(\"Embedding size:\", embedding_dim)"
   ]
  },
  {
   "cell_type": "code",
   "execution_count": 5,
   "id": "303d569e",
   "metadata": {},
   "outputs": [
    {
     "data": {
      "text/plain": [
       "[(0.613596498966217,\n",
       "  'QQJCgAEACwJAAAAEAASAAAIZwABEBhIsKBBAQAEGiSQUCEBARAdDgQwoKJCiBEJUqw44CJGhxstDsSYkSFHhx8RahQ5MWFEhQ0TjiQZk6NIhB8b2uzIMKfOnQBoxgzJ82NLokVlakQqUOJSoAsnQo1q0qZTg0MHBgQAIfkECQoABAAsCQAAABAAEgAACGkAARAYSJAggIMEBSAsSADAgIcCCQiYGHGgw4cDIk6kaBBjxoEbFXaEmDBkxYsVNwJQiPCgS4sHKbr0'),\n",
       " (0.5904855728149414,\n",
       "  'ČeskýDanskDeutschΕλληνικάEnglishEspañolFrançaisעבריתMagyarItaliano日本語한국어NederlandsPolskiPortuguêsРусскийSvenska中文'),\n",
       " (0.5851196646690369,\n",
       "  'Bags.sizingInchesEURUSAUK8.50354.528.6335.552.58.88365.539.0036.563.59.13376.549.3837.574.59.50387.559.62538.585.59.875398.5610.004096.510.125419.5710.2542107.510.3754310.5810.5043.5118.510.6254411.5910.87544.5121011.004512.510.511.125461311')]"
      ]
     },
     "execution_count": 5,
     "metadata": {},
     "output_type": "execute_result"
    }
   ],
   "source": [
    "ft_model.get_nearest_neighbors(kw_test)[:3]"
   ]
  },
  {
   "cell_type": "markdown",
   "id": "cf11ee43",
   "metadata": {},
   "source": [
    "Okay, so it does not handle very well multiple word sentences, let's try doing the maxpooling ourselves:"
   ]
  },
  {
   "cell_type": "code",
   "execution_count": 6,
   "id": "dd243c59",
   "metadata": {},
   "outputs": [
    {
     "data": {
      "text/plain": [
       "(300,)"
      ]
     },
     "execution_count": 6,
     "metadata": {},
     "output_type": "execute_result"
    }
   ],
   "source": [
    "## Average Pool Embedding\n",
    "def avg_pool_embed(kw_list, embed_func):\n",
    "    return np.mean([embed_func(part) for part in kw_list.split(\" \")], axis = 0)\n",
    "avg_embedding_test = avg_pool_embed(kw_test, ft_model.get_word_vector)\n",
    "avg_embedding_test.shape"
   ]
  },
  {
   "cell_type": "code",
   "execution_count": 7,
   "id": "3bae401b",
   "metadata": {},
   "outputs": [
    {
     "data": {
      "text/plain": [
       "0.0024307966"
      ]
     },
     "execution_count": 7,
     "metadata": {},
     "output_type": "execute_result"
    }
   ],
   "source": [
    "## We can see that sentence_vector is very close to our average pooling method.\n",
    "cosine_distances([ft_model.get_sentence_vector(kw_test)], [avg_embedding_test])[0,0]"
   ]
  },
  {
   "cell_type": "code",
   "execution_count": 8,
   "id": "d7d37bda",
   "metadata": {},
   "outputs": [],
   "source": [
    "## Average Pool Embeddings for kw1 and kw2\n",
    "# temp_res = pd.DataFrame(labeled_concept_pair_df.apply(lambda x: (avg_pool_embed(x.kw1, ft_model.get_word_vector), avg_pool_embed(x.kw2, ft_model.get_word_vector)), axis=1, result_type='expand'))\n",
    "# labeled_concept_pair_df[[\"avg_pool_embedding_1\", \"avg_pool_embedding_2\"]] = temp_res"
   ]
  },
  {
   "cell_type": "markdown",
   "id": "59cd1daf",
   "metadata": {},
   "source": [
    "Sentence Vector Explained [here](https://stackoverflow.com/questions/54181163/fasttext-embeddings-sentence-vectors). In sum, they normalize their vectors before computing the average ;)."
   ]
  },
  {
   "cell_type": "code",
   "execution_count": 9,
   "id": "4f801e8c",
   "metadata": {},
   "outputs": [],
   "source": [
    "## Average Pool Embeddings for kw1 and kw2\n",
    "temp_res = pd.DataFrame(labeled_concept_pair_df.apply(lambda x: (ft_model.get_sentence_vector(x.kw1), ft_model.get_sentence_vector(x.kw2)), axis=1, result_type='expand'))\n",
    "labeled_concept_pair_df[[\"sentence_vector_embedding_1\", \"sentence_vector_embedding_2\"]] = temp_res"
   ]
  },
  {
   "cell_type": "code",
   "execution_count": 10,
   "id": "f94345d5",
   "metadata": {},
   "outputs": [
    {
     "data": {
      "text/html": [
       "<div>\n",
       "<style scoped>\n",
       "    .dataframe tbody tr th:only-of-type {\n",
       "        vertical-align: middle;\n",
       "    }\n",
       "\n",
       "    .dataframe tbody tr th {\n",
       "        vertical-align: top;\n",
       "    }\n",
       "\n",
       "    .dataframe thead th {\n",
       "        text-align: right;\n",
       "    }\n",
       "</style>\n",
       "<table border=\"1\" class=\"dataframe\">\n",
       "  <thead>\n",
       "    <tr style=\"text-align: right;\">\n",
       "      <th></th>\n",
       "      <th>kw1</th>\n",
       "      <th>kw2</th>\n",
       "      <th>label</th>\n",
       "      <th>sentence_vector_embedding_1</th>\n",
       "      <th>sentence_vector_embedding_2</th>\n",
       "    </tr>\n",
       "  </thead>\n",
       "  <tbody>\n",
       "    <tr>\n",
       "      <th>25934</th>\n",
       "      <td>software testing debugging</td>\n",
       "      <td>combinational synthesis</td>\n",
       "      <td>0</td>\n",
       "      <td>[0.029621912, -0.008412714, 0.03842728, 0.0606...</td>\n",
       "      <td>[0.08096917, 0.030264342, 0.04064402, 0.016720...</td>\n",
       "    </tr>\n",
       "    <tr>\n",
       "      <th>25935</th>\n",
       "      <td>combinational synthesis</td>\n",
       "      <td>power management</td>\n",
       "      <td>0</td>\n",
       "      <td>[0.08096917, 0.030264342, 0.04064402, 0.016720...</td>\n",
       "      <td>[-0.07305679, 0.037602574, 0.10327606, 0.03084...</td>\n",
       "    </tr>\n",
       "    <tr>\n",
       "      <th>25936</th>\n",
       "      <td>software fault tolerance</td>\n",
       "      <td>pcb design layout</td>\n",
       "      <td>0</td>\n",
       "      <td>[0.011055365, 0.043711685, -0.021244038, 0.046...</td>\n",
       "      <td>[0.07769436, -0.01909836, 0.050779857, 0.05521...</td>\n",
       "    </tr>\n",
       "    <tr>\n",
       "      <th>25937</th>\n",
       "      <td>pcb design layout</td>\n",
       "      <td>formal method</td>\n",
       "      <td>0</td>\n",
       "      <td>[0.07769436, -0.01909836, 0.050779857, 0.05521...</td>\n",
       "      <td>[0.028043732, -0.0068222457, 0.0077669974, 0.0...</td>\n",
       "    </tr>\n",
       "    <tr>\n",
       "      <th>25938</th>\n",
       "      <td>documentation</td>\n",
       "      <td>pcb design layout</td>\n",
       "      <td>0</td>\n",
       "      <td>[0.0409104, 0.0708428, 0.033104822, 0.05937038...</td>\n",
       "      <td>[0.07769436, -0.01909836, 0.050779857, 0.05521...</td>\n",
       "    </tr>\n",
       "  </tbody>\n",
       "</table>\n",
       "</div>"
      ],
      "text/plain": [
       "                              kw1                      kw2  label  \\\n",
       "25934  software testing debugging  combinational synthesis      0   \n",
       "25935     combinational synthesis         power management      0   \n",
       "25936    software fault tolerance        pcb design layout      0   \n",
       "25937           pcb design layout            formal method      0   \n",
       "25938               documentation        pcb design layout      0   \n",
       "\n",
       "                             sentence_vector_embedding_1  \\\n",
       "25934  [0.029621912, -0.008412714, 0.03842728, 0.0606...   \n",
       "25935  [0.08096917, 0.030264342, 0.04064402, 0.016720...   \n",
       "25936  [0.011055365, 0.043711685, -0.021244038, 0.046...   \n",
       "25937  [0.07769436, -0.01909836, 0.050779857, 0.05521...   \n",
       "25938  [0.0409104, 0.0708428, 0.033104822, 0.05937038...   \n",
       "\n",
       "                             sentence_vector_embedding_2  \n",
       "25934  [0.08096917, 0.030264342, 0.04064402, 0.016720...  \n",
       "25935  [-0.07305679, 0.037602574, 0.10327606, 0.03084...  \n",
       "25936  [0.07769436, -0.01909836, 0.050779857, 0.05521...  \n",
       "25937  [0.028043732, -0.0068222457, 0.0077669974, 0.0...  \n",
       "25938  [0.07769436, -0.01909836, 0.050779857, 0.05521...  "
      ]
     },
     "execution_count": 10,
     "metadata": {},
     "output_type": "execute_result"
    }
   ],
   "source": [
    "labeled_concept_pair_df.tail()"
   ]
  },
  {
   "cell_type": "code",
   "execution_count": 15,
   "id": "25f81a33",
   "metadata": {},
   "outputs": [],
   "source": [
    "cos_mat_1 = cosine_distances(np.array([np.array(el) for el in labeled_concept_pair_df.iloc[:,4]]))\n",
    "# cos_mat_2 = cosine_distances(np.array([np.array(el) for el in labeled_concept_pair_df.iloc[:,6]]))"
   ]
  },
  {
   "cell_type": "code",
   "execution_count": 28,
   "id": "5a87560d",
   "metadata": {},
   "outputs": [
    {
     "name": "stdout",
     "output_type": "stream",
     "text": [
      "Word being analyzed: general reference\n"
     ]
    },
    {
     "data": {
      "text/plain": [
       "{'context specific language',\n",
       " 'general conference proceeding',\n",
       " 'general literature',\n",
       " 'general programming language',\n",
       " 'general reference'}"
      ]
     },
     "execution_count": 28,
     "metadata": {},
     "output_type": "execute_result"
    }
   ],
   "source": [
    "# most_similar_kw = labeled_concept_pair_df.iloc[np.argsort(cos_mat_1[0]), 1]\n",
    "# print(\"Word being analyzed:\", labeled_concept_pair_df.iloc[0,1])\n",
    "# set(most_similar_kw[:100])"
   ]
  },
  {
   "cell_type": "markdown",
   "id": "acff642a",
   "metadata": {},
   "source": [
    "##### Results of average pooling only embeddings\n",
    "Word being analyzed: general reference <br>\n",
    "{'context specific language', <br>\n",
    " 'general conference proceeding', <br>\n",
    " 'general literature', <br>\n",
    " 'general programming language', <br>\n",
    " 'general reference'} <br>"
   ]
  },
  {
   "cell_type": "code",
   "execution_count": 16,
   "id": "d235d783",
   "metadata": {},
   "outputs": [
    {
     "name": "stdout",
     "output_type": "stream",
     "text": [
      "Word being analyzed: general reference\n"
     ]
    },
    {
     "data": {
      "text/plain": [
       "{'general conference proceeding',\n",
       " 'general literature',\n",
       " 'general programming language',\n",
       " 'general reference',\n",
       " 'reference model',\n",
       " 'reference work'}"
      ]
     },
     "execution_count": 16,
     "metadata": {},
     "output_type": "execute_result"
    }
   ],
   "source": [
    "most_similar_kw = labeled_concept_pair_df.iloc[np.argsort(cos_mat_1[0]), 1]\n",
    "print(\"Word being analyzed:\", labeled_concept_pair_df.iloc[0,1])\n",
    "set(most_similar_kw[:100])"
   ]
  },
  {
   "cell_type": "code",
   "execution_count": 17,
   "id": "051f1713",
   "metadata": {},
   "outputs": [],
   "source": [
    "## Delete cos matrix to Free some RAM\n",
    "del cos_mat_1\n",
    "cos_mat_1 = None"
   ]
  },
  {
   "cell_type": "markdown",
   "id": "95deece7",
   "metadata": {},
   "source": [
    "Better similarity results in the second case"
   ]
  },
  {
   "cell_type": "markdown",
   "id": "21c29703",
   "metadata": {},
   "source": [
    "#### Create Labeled Data"
   ]
  },
  {
   "cell_type": "code",
   "execution_count": 11,
   "id": "89a514a0",
   "metadata": {},
   "outputs": [],
   "source": [
    "from Scripts.metrics import ComputeMetricsForKeywordPair"
   ]
  },
  {
   "cell_type": "markdown",
   "id": "a81fc1ef",
   "metadata": {},
   "source": [
    "Test of new implementation"
   ]
  },
  {
   "cell_type": "code",
   "execution_count": 12,
   "id": "04bbd3fd",
   "metadata": {},
   "outputs": [
    {
     "data": {
      "text/plain": [
       "(2.8517907, 2.9653893, 0.105756, 0.20922318, 0.5054698)"
      ]
     },
     "execution_count": 12,
     "metadata": {},
     "output_type": "execute_result"
    }
   ],
   "source": [
    "kw1_embed_test = labeled_concept_pair_df.iloc[0,3]\n",
    "kw2_embed_test = labeled_concept_pair_df.iloc[0,4]\n",
    "\n",
    "ComputeMetricsForKeywordPair(kw1_embed_test, kw2_embed_test, normalize=True, verbose=False)"
   ]
  },
  {
   "cell_type": "markdown",
   "id": "8a98b2ca",
   "metadata": {},
   "source": [
    "##### Add the metrics to the labeled data"
   ]
  },
  {
   "cell_type": "code",
   "execution_count": 13,
   "id": "9f1d4146",
   "metadata": {},
   "outputs": [
    {
     "data": {
      "text/html": [
       "<div>\n",
       "<style scoped>\n",
       "    .dataframe tbody tr th:only-of-type {\n",
       "        vertical-align: middle;\n",
       "    }\n",
       "\n",
       "    .dataframe tbody tr th {\n",
       "        vertical-align: top;\n",
       "    }\n",
       "\n",
       "    .dataframe thead th {\n",
       "        text-align: right;\n",
       "    }\n",
       "</style>\n",
       "<table border=\"1\" class=\"dataframe\">\n",
       "  <thead>\n",
       "    <tr style=\"text-align: right;\">\n",
       "      <th></th>\n",
       "      <th>kw1</th>\n",
       "      <th>kw2</th>\n",
       "      <th>label</th>\n",
       "      <th>sentence_vector_embedding_1</th>\n",
       "      <th>sentence_vector_embedding_2</th>\n",
       "      <th>H1</th>\n",
       "      <th>H2</th>\n",
       "      <th>DKL_1</th>\n",
       "      <th>DKL_2</th>\n",
       "      <th>ratio</th>\n",
       "    </tr>\n",
       "  </thead>\n",
       "  <tbody>\n",
       "    <tr>\n",
       "      <th>25934</th>\n",
       "      <td>software testing debugging</td>\n",
       "      <td>combinational synthesis</td>\n",
       "      <td>0</td>\n",
       "      <td>[0.029621912, -0.008412714, 0.03842728, 0.0606...</td>\n",
       "      <td>[0.08096917, 0.030264342, 0.04064402, 0.016720...</td>\n",
       "      <td>2.795335</td>\n",
       "      <td>2.838286</td>\n",
       "      <td>0.180265</td>\n",
       "      <td>0.203156</td>\n",
       "      <td>0.887323</td>\n",
       "    </tr>\n",
       "    <tr>\n",
       "      <th>25935</th>\n",
       "      <td>combinational synthesis</td>\n",
       "      <td>power management</td>\n",
       "      <td>0</td>\n",
       "      <td>[0.08096917, 0.030264342, 0.04064402, 0.016720...</td>\n",
       "      <td>[-0.07305679, 0.037602574, 0.10327606, 0.03084...</td>\n",
       "      <td>2.838286</td>\n",
       "      <td>2.716658</td>\n",
       "      <td>0.171395</td>\n",
       "      <td>0.229290</td>\n",
       "      <td>0.747504</td>\n",
       "    </tr>\n",
       "    <tr>\n",
       "      <th>25936</th>\n",
       "      <td>software fault tolerance</td>\n",
       "      <td>pcb design layout</td>\n",
       "      <td>0</td>\n",
       "      <td>[0.011055365, 0.043711685, -0.021244038, 0.046...</td>\n",
       "      <td>[0.07769436, -0.01909836, 0.050779857, 0.05521...</td>\n",
       "      <td>2.771792</td>\n",
       "      <td>2.763936</td>\n",
       "      <td>0.144672</td>\n",
       "      <td>0.127181</td>\n",
       "      <td>1.137529</td>\n",
       "    </tr>\n",
       "    <tr>\n",
       "      <th>25937</th>\n",
       "      <td>pcb design layout</td>\n",
       "      <td>formal method</td>\n",
       "      <td>0</td>\n",
       "      <td>[0.07769436, -0.01909836, 0.050779857, 0.05521...</td>\n",
       "      <td>[0.028043732, -0.0068222457, 0.0077669974, 0.0...</td>\n",
       "      <td>2.763936</td>\n",
       "      <td>2.789620</td>\n",
       "      <td>0.109463</td>\n",
       "      <td>0.189402</td>\n",
       "      <td>0.577938</td>\n",
       "    </tr>\n",
       "    <tr>\n",
       "      <th>25938</th>\n",
       "      <td>documentation</td>\n",
       "      <td>pcb design layout</td>\n",
       "      <td>0</td>\n",
       "      <td>[0.0409104, 0.0708428, 0.033104822, 0.05937038...</td>\n",
       "      <td>[0.07769436, -0.01909836, 0.050779857, 0.05521...</td>\n",
       "      <td>3.005913</td>\n",
       "      <td>2.763936</td>\n",
       "      <td>0.166842</td>\n",
       "      <td>0.151366</td>\n",
       "      <td>1.102241</td>\n",
       "    </tr>\n",
       "  </tbody>\n",
       "</table>\n",
       "</div>"
      ],
      "text/plain": [
       "                              kw1                      kw2  label  \\\n",
       "25934  software testing debugging  combinational synthesis      0   \n",
       "25935     combinational synthesis         power management      0   \n",
       "25936    software fault tolerance        pcb design layout      0   \n",
       "25937           pcb design layout            formal method      0   \n",
       "25938               documentation        pcb design layout      0   \n",
       "\n",
       "                             sentence_vector_embedding_1  \\\n",
       "25934  [0.029621912, -0.008412714, 0.03842728, 0.0606...   \n",
       "25935  [0.08096917, 0.030264342, 0.04064402, 0.016720...   \n",
       "25936  [0.011055365, 0.043711685, -0.021244038, 0.046...   \n",
       "25937  [0.07769436, -0.01909836, 0.050779857, 0.05521...   \n",
       "25938  [0.0409104, 0.0708428, 0.033104822, 0.05937038...   \n",
       "\n",
       "                             sentence_vector_embedding_2        H1        H2  \\\n",
       "25934  [0.08096917, 0.030264342, 0.04064402, 0.016720...  2.795335  2.838286   \n",
       "25935  [-0.07305679, 0.037602574, 0.10327606, 0.03084...  2.838286  2.716658   \n",
       "25936  [0.07769436, -0.01909836, 0.050779857, 0.05521...  2.771792  2.763936   \n",
       "25937  [0.028043732, -0.0068222457, 0.0077669974, 0.0...  2.763936  2.789620   \n",
       "25938  [0.07769436, -0.01909836, 0.050779857, 0.05521...  3.005913  2.763936   \n",
       "\n",
       "          DKL_1     DKL_2     ratio  \n",
       "25934  0.180265  0.203156  0.887323  \n",
       "25935  0.171395  0.229290  0.747504  \n",
       "25936  0.144672  0.127181  1.137529  \n",
       "25937  0.109463  0.189402  0.577938  \n",
       "25938  0.166842  0.151366  1.102241  "
      ]
     },
     "execution_count": 13,
     "metadata": {},
     "output_type": "execute_result"
    }
   ],
   "source": [
    "## Compute the metrics on both embeddings\n",
    "temp_res = pd.DataFrame(labeled_concept_pair_df.apply(lambda x: ComputeMetricsForKeywordPair(x.sentence_vector_embedding_1, x.sentence_vector_embedding_2), axis=1, result_type='expand'))\n",
    "labeled_concept_pair_df[[\"H1\", \"H2\", \"DKL_1\", \"DKL_2\", \"ratio\"]] = temp_res\n",
    "labeled_concept_pair_df.tail()"
   ]
  },
  {
   "cell_type": "code",
   "execution_count": 14,
   "id": "77af7956",
   "metadata": {},
   "outputs": [
    {
     "data": {
      "text/html": [
       "<div>\n",
       "<style scoped>\n",
       "    .dataframe tbody tr th:only-of-type {\n",
       "        vertical-align: middle;\n",
       "    }\n",
       "\n",
       "    .dataframe tbody tr th {\n",
       "        vertical-align: top;\n",
       "    }\n",
       "\n",
       "    .dataframe thead th {\n",
       "        text-align: right;\n",
       "    }\n",
       "</style>\n",
       "<table border=\"1\" class=\"dataframe\">\n",
       "  <thead>\n",
       "    <tr style=\"text-align: right;\">\n",
       "      <th></th>\n",
       "      <th>label</th>\n",
       "      <th>H1</th>\n",
       "      <th>H2</th>\n",
       "      <th>DKL_1</th>\n",
       "      <th>DKL_2</th>\n",
       "      <th>ratio</th>\n",
       "    </tr>\n",
       "  </thead>\n",
       "  <tbody>\n",
       "    <tr>\n",
       "      <th>count</th>\n",
       "      <td>25939.000000</td>\n",
       "      <td>25939.000000</td>\n",
       "      <td>25939.000000</td>\n",
       "      <td>25939.000000</td>\n",
       "      <td>25939.000000</td>\n",
       "      <td>25939.000000</td>\n",
       "    </tr>\n",
       "    <tr>\n",
       "      <th>mean</th>\n",
       "      <td>0.001079</td>\n",
       "      <td>2.758476</td>\n",
       "      <td>2.756248</td>\n",
       "      <td>0.175285</td>\n",
       "      <td>0.174430</td>\n",
       "      <td>1.112173</td>\n",
       "    </tr>\n",
       "    <tr>\n",
       "      <th>std</th>\n",
       "      <td>0.477659</td>\n",
       "      <td>0.144302</td>\n",
       "      <td>0.145387</td>\n",
       "      <td>0.050238</td>\n",
       "      <td>0.050148</td>\n",
       "      <td>0.547500</td>\n",
       "    </tr>\n",
       "    <tr>\n",
       "      <th>min</th>\n",
       "      <td>-1.000000</td>\n",
       "      <td>2.323167</td>\n",
       "      <td>2.323167</td>\n",
       "      <td>0.022578</td>\n",
       "      <td>0.013888</td>\n",
       "      <td>0.125864</td>\n",
       "    </tr>\n",
       "    <tr>\n",
       "      <th>25%</th>\n",
       "      <td>0.000000</td>\n",
       "      <td>2.659152</td>\n",
       "      <td>2.656009</td>\n",
       "      <td>0.140455</td>\n",
       "      <td>0.139796</td>\n",
       "      <td>0.752116</td>\n",
       "    </tr>\n",
       "    <tr>\n",
       "      <th>50%</th>\n",
       "      <td>0.000000</td>\n",
       "      <td>2.760471</td>\n",
       "      <td>2.754429</td>\n",
       "      <td>0.172417</td>\n",
       "      <td>0.170980</td>\n",
       "      <td>1.008390</td>\n",
       "    </tr>\n",
       "    <tr>\n",
       "      <th>75%</th>\n",
       "      <td>0.000000</td>\n",
       "      <td>2.849140</td>\n",
       "      <td>2.846671</td>\n",
       "      <td>0.206702</td>\n",
       "      <td>0.205799</td>\n",
       "      <td>1.340732</td>\n",
       "    </tr>\n",
       "    <tr>\n",
       "      <th>max</th>\n",
       "      <td>1.000000</td>\n",
       "      <td>3.285836</td>\n",
       "      <td>3.285836</td>\n",
       "      <td>0.426619</td>\n",
       "      <td>0.414421</td>\n",
       "      <td>10.650874</td>\n",
       "    </tr>\n",
       "  </tbody>\n",
       "</table>\n",
       "</div>"
      ],
      "text/plain": [
       "              label            H1            H2         DKL_1         DKL_2  \\\n",
       "count  25939.000000  25939.000000  25939.000000  25939.000000  25939.000000   \n",
       "mean       0.001079      2.758476      2.756248      0.175285      0.174430   \n",
       "std        0.477659      0.144302      0.145387      0.050238      0.050148   \n",
       "min       -1.000000      2.323167      2.323167      0.022578      0.013888   \n",
       "25%        0.000000      2.659152      2.656009      0.140455      0.139796   \n",
       "50%        0.000000      2.760471      2.754429      0.172417      0.170980   \n",
       "75%        0.000000      2.849140      2.846671      0.206702      0.205799   \n",
       "max        1.000000      3.285836      3.285836      0.426619      0.414421   \n",
       "\n",
       "              ratio  \n",
       "count  25939.000000  \n",
       "mean       1.112173  \n",
       "std        0.547500  \n",
       "min        0.125864  \n",
       "25%        0.752116  \n",
       "50%        1.008390  \n",
       "75%        1.340732  \n",
       "max       10.650874  "
      ]
     },
     "execution_count": 14,
     "metadata": {},
     "output_type": "execute_result"
    }
   ],
   "source": [
    "labeled_concept_pair_df.describe()"
   ]
  },
  {
   "cell_type": "markdown",
   "id": "308540de",
   "metadata": {},
   "source": [
    "### Gradient Boosting"
   ]
  },
  {
   "cell_type": "markdown",
   "id": "73f40c83",
   "metadata": {},
   "source": [
    "#### Complete classification task with -1, 0, 1 labels"
   ]
  },
  {
   "cell_type": "markdown",
   "id": "4791d722",
   "metadata": {},
   "source": [
    "##### Only using embeddings"
   ]
  },
  {
   "cell_type": "code",
   "execution_count": 15,
   "id": "74bfac9b",
   "metadata": {},
   "outputs": [],
   "source": [
    "processed_data = labeled_concept_pair_df.drop(columns=[\"kw1\", \"kw2\", 'H1', 'H2', 'DKL_1', 'DKL_2', 'ratio'])#.dropna(subset=\"ratio\")\n",
    "\n",
    "training_data_embedding = processed_data.drop(columns=\"label\").iloc[:,0:2]\n",
    "\n",
    "array_1, array_2 = training_data_embedding.to_numpy()[:,0], training_data_embedding.to_numpy()[:,1]\n",
    "\n",
    "array_1 = np.array([np.array(el) for el in array_1])\n",
    "array_2 = np.array([np.array(el) for el in array_2])\n",
    "\n",
    "training_data_embedding = np.concatenate((array_1, array_2),axis=1)\n",
    "\n",
    "X_train, X_test, y_train, y_test = train_test_split(training_data_embedding, processed_data['label'],\n",
    "                                           train_size=0.8, test_size=0.2) # tested"
   ]
  },
  {
   "cell_type": "code",
   "execution_count": 16,
   "id": "07e0cebc",
   "metadata": {},
   "outputs": [
    {
     "data": {
      "text/plain": [
       "GridSearchCV(cv=5,\n",
       "             estimator=GradientBoostingClassifier(max_features='sqrt',\n",
       "                                                  random_state=10,\n",
       "                                                  subsample=0.8),\n",
       "             n_jobs=4,\n",
       "             param_grid={'max_depth': [8], 'min_samples_leaf': [20],\n",
       "                         'min_samples_split': [20], 'n_estimators': [700]},\n",
       "             scoring='f1_weighted')"
      ]
     },
     "execution_count": 16,
     "metadata": {},
     "output_type": "execute_result"
    }
   ],
   "source": [
    "param_test1 = {\n",
    "    'n_estimators': [700],#range(700, 901, 100),\n",
    "    'max_depth': [8],#range(8, 13, 2),\n",
    "    'min_samples_leaf': [20],#range(10, 31, 10),\n",
    "    'min_samples_split': [20]#range(20, 51, 10)\n",
    "}\n",
    "gsearch1 = GridSearchCV(estimator = GradientBoostingClassifier(learning_rate=0.1,max_features='sqrt',subsample=0.8,random_state=10),# min_samples_split=500,min_samples_leaf=50 \n",
    "param_grid = param_test1, scoring='f1_weighted',n_jobs=4, cv=5)\n",
    "gsearch1.fit(X_train,y_train)"
   ]
  },
  {
   "cell_type": "code",
   "execution_count": 17,
   "id": "70fd55a8",
   "metadata": {},
   "outputs": [
    {
     "data": {
      "text/plain": [
       "0.9027917365881691"
      ]
     },
     "execution_count": 17,
     "metadata": {},
     "output_type": "execute_result"
    }
   ],
   "source": [
    "gsearch1.best_score_#gsearch1.cv_results_, gsearch1.best_params_, "
   ]
  },
  {
   "cell_type": "code",
   "execution_count": 18,
   "id": "495805cb",
   "metadata": {},
   "outputs": [],
   "source": [
    "best_model = gsearch1.best_estimator_"
   ]
  },
  {
   "cell_type": "code",
   "execution_count": 19,
   "id": "708a44e1",
   "metadata": {},
   "outputs": [
    {
     "data": {
      "text/plain": [
       "{'max_depth': 8,\n",
       " 'min_samples_leaf': 20,\n",
       " 'min_samples_split': 20,\n",
       " 'n_estimators': 700}"
      ]
     },
     "execution_count": 19,
     "metadata": {},
     "output_type": "execute_result"
    }
   ],
   "source": [
    "best_params_gbm = gsearch1.best_params_\n",
    "best_params_gbm"
   ]
  },
  {
   "cell_type": "code",
   "execution_count": 20,
   "id": "89b13832",
   "metadata": {},
   "outputs": [
    {
     "name": "stdout",
     "output_type": "stream",
     "text": [
      "Maximum number of parameters in our best model: 89600\n"
     ]
    }
   ],
   "source": [
    "print(\"Maximum number of parameters in our best model: {}\".format(best_model.n_estimators_*2**(best_model.max_depth-1)))"
   ]
  },
  {
   "cell_type": "markdown",
   "id": "a88b4d08",
   "metadata": {},
   "source": [
    "###### Performance analysis on test dataset"
   ]
  },
  {
   "cell_type": "code",
   "execution_count": 21,
   "id": "6b662a92",
   "metadata": {},
   "outputs": [
    {
     "data": {
      "text/plain": [
       "array([0, 1, 0, ..., 0, 0, 0])"
      ]
     },
     "execution_count": 21,
     "metadata": {},
     "output_type": "execute_result"
    }
   ],
   "source": [
    "best_model = gsearch1.best_estimator_\n",
    "y_pred=best_model.predict(X_test)\n",
    "y_pred"
   ]
  },
  {
   "cell_type": "code",
   "execution_count": 22,
   "id": "9e827acd",
   "metadata": {},
   "outputs": [
    {
     "name": "stdout",
     "output_type": "stream",
     "text": [
      "LightGBM Model accuracy score: 0.9169\n"
     ]
    }
   ],
   "source": [
    "accuracy=accuracy_score(y_pred, y_test)\n",
    "print('LightGBM Model accuracy score: {0:0.4f}'.format(accuracy_score(y_test, y_pred)))"
   ]
  },
  {
   "cell_type": "code",
   "execution_count": 23,
   "id": "30423dc7",
   "metadata": {},
   "outputs": [
    {
     "data": {
      "image/png": "[encoded data removed]",
      "text/plain": [
       "<Figure size 432x288 with 2 Axes>"
      ]
     },
     "metadata": {
      "needs_background": "light"
     },
     "output_type": "display_data"
    }
   ],
   "source": [
    "cm = confusion_matrix(y_test, y_pred)\n",
    "\n",
    "# visualize confusion matrix with seaborn heatmap\n",
    "\n",
    "cm_matrix = pd.DataFrame(data=cm, columns=['Actual leaf->root:-1', 'Actual No order:0', 'Actual root->leaf:1'], \n",
    "                                 index=['Predict leaf->root:-1', 'Predict No order:0', 'Predict root->leaf:1'])\n",
    "\n",
    "sns.heatmap(cm_matrix, annot=True, fmt='d', cmap='YlGnBu')\n",
    "plt.show()"
   ]
  },
  {
   "cell_type": "code",
   "execution_count": 24,
   "id": "0049d141",
   "metadata": {},
   "outputs": [
    {
     "name": "stdout",
     "output_type": "stream",
     "text": [
      "              precision    recall  f1-score   support\n",
      "\n",
      "          -1       0.89      0.72      0.79       597\n",
      "           0       0.92      0.98      0.95      4020\n",
      "           1       0.90      0.71      0.80       571\n",
      "\n",
      "    accuracy                           0.92      5188\n",
      "   macro avg       0.90      0.80      0.85      5188\n",
      "weighted avg       0.92      0.92      0.91      5188\n",
      "\n"
     ]
    }
   ],
   "source": [
    "print(classification_report(y_test, y_pred))"
   ]
  },
  {
   "cell_type": "markdown",
   "id": "23b38781",
   "metadata": {},
   "source": [
    "##### Saving Best Classifier"
   ]
  },
  {
   "cell_type": "code",
   "execution_count": 25,
   "id": "cb19b988",
   "metadata": {},
   "outputs": [],
   "source": [
    "pickle.dump(best_model, open(\"Models/GBM_Ternaryclassifier_Pretrained.pkl\", \"wb\"))"
   ]
  },
  {
   "cell_type": "markdown",
   "metadata": {},
   "source": [
    "##### Only using Metrics"
   ]
  },
  {
   "cell_type": "code",
   "execution_count": 80,
   "id": "74bfac9b",
   "metadata": {},
   "outputs": [],
   "source": [
    "processed_data = labeled_concept_pair_df.drop(columns=[\"kw1\", \"kw2\", 'sentence_vector_embedding_1', 'sentence_vector_embedding_2']).dropna(subset=\"ratio\")\n",
    "\n",
    "X_train, X_test, y_train, y_test = train_test_split(processed_data.drop(columns=[\"label\"]), processed_data['label'],\n",
    "                                           train_size=0.8, test_size=0.2) # tested"
   ]
  },
  {
   "cell_type": "code",
   "execution_count": 81,
   "id": "07e0cebc",
   "metadata": {},
   "outputs": [
    {
     "data": {
      "text/plain": [
       "GridSearchCV(cv=5,\n",
       "             estimator=GradientBoostingClassifier(max_features='sqrt',\n",
       "                                                  random_state=10,\n",
       "                                                  subsample=0.8),\n",
       "             n_jobs=4,\n",
       "             param_grid={'max_depth': [8], 'min_samples_leaf': [20],\n",
       "                         'min_samples_split': [20], 'n_estimators': [700]},\n",
       "             scoring='f1_weighted')"
      ]
     },
     "execution_count": 81,
     "metadata": {},
     "output_type": "execute_result"
    }
   ],
   "source": [
    "param_test1 = {\n",
    "    'n_estimators': [700],#range(300, 701, 100),\n",
    "    'max_depth': [8],#range(4, 9, 2),\n",
    "    'min_samples_leaf': [20],#range(10, 31, 10),\n",
    "    'min_samples_split': [20]#range(20, 51, 10)\n",
    "}\n",
    "gsearch1 = GridSearchCV(estimator = GradientBoostingClassifier(learning_rate=0.1,max_features='sqrt',subsample=0.8,random_state=10),# min_samples_split=500,min_samples_leaf=50 \n",
    "param_grid = param_test1, scoring='f1_weighted',n_jobs=4, cv=5)\n",
    "gsearch1.fit(X_train,y_train)"
   ]
  },
  {
   "cell_type": "code",
   "execution_count": 82,
   "id": "70fd55a8",
   "metadata": {},
   "outputs": [
    {
     "data": {
      "text/plain": [
       "0.8113701739724755"
      ]
     },
     "execution_count": 82,
     "metadata": {},
     "output_type": "execute_result"
    }
   ],
   "source": [
    "gsearch1.best_score_#gsearch1.cv_results_, gsearch1.best_params_, "
   ]
  },
  {
   "cell_type": "code",
   "execution_count": 83,
   "id": "495805cb",
   "metadata": {},
   "outputs": [],
   "source": [
    "best_model = gsearch1.best_estimator_"
   ]
  },
  {
   "cell_type": "code",
   "execution_count": 84,
   "id": "708a44e1",
   "metadata": {},
   "outputs": [
    {
     "data": {
      "text/plain": [
       "{'max_depth': 8,\n",
       " 'min_samples_leaf': 20,\n",
       " 'min_samples_split': 20,\n",
       " 'n_estimators': 700}"
      ]
     },
     "execution_count": 84,
     "metadata": {},
     "output_type": "execute_result"
    }
   ],
   "source": [
    "best_params_gbm = gsearch1.best_params_\n",
    "best_params_gbm"
   ]
  },
  {
   "cell_type": "code",
   "execution_count": 85,
   "id": "89b13832",
   "metadata": {},
   "outputs": [
    {
     "name": "stdout",
     "output_type": "stream",
     "text": [
      "Maximum number of parameters in our best model: 89600\n"
     ]
    }
   ],
   "source": [
    "print(\"Maximum number of parameters in our best model: {}\".format(best_model.n_estimators_*2**(best_model.max_depth-1)))"
   ]
  },
  {
   "cell_type": "markdown",
   "id": "a88b4d08",
   "metadata": {},
   "source": [
    "###### Performance analysis on test dataset"
   ]
  },
  {
   "cell_type": "code",
   "execution_count": 86,
   "id": "6b662a92",
   "metadata": {},
   "outputs": [
    {
     "data": {
      "text/plain": [
       "array([ 1,  0, -1, ...,  1,  0,  0])"
      ]
     },
     "execution_count": 86,
     "metadata": {},
     "output_type": "execute_result"
    }
   ],
   "source": [
    "y_pred=best_model.predict(X_test)\n",
    "y_pred"
   ]
  },
  {
   "cell_type": "code",
   "execution_count": 87,
   "id": "9e827acd",
   "metadata": {},
   "outputs": [
    {
     "name": "stdout",
     "output_type": "stream",
     "text": [
      "LightGBM Model accuracy score: 0.8410\n"
     ]
    }
   ],
   "source": [
    "accuracy=accuracy_score(y_pred, y_test)\n",
    "print('LightGBM Model accuracy score: {0:0.4f}'.format(accuracy_score(y_test, y_pred)))"
   ]
  },
  {
   "cell_type": "code",
   "execution_count": 92,
   "id": "ef12e4a9",
   "metadata": {},
   "outputs": [
    {
     "data": {
      "text/plain": [
       "Text(0, 0.5, 'Feature Importance Score')"
      ]
     },
     "execution_count": 92,
     "metadata": {},
     "output_type": "execute_result"
    },
    {
     "data": {
      "image/png": "[encoded data removed]",
      "text/plain": [
       "<Figure size 432x288 with 1 Axes>"
      ]
     },
     "metadata": {
      "needs_background": "light"
     },
     "output_type": "display_data"
    }
   ],
   "source": [
    "feat_imp = pd.Series(best_model.feature_importances_, X_train.columns).sort_values(ascending=False)\n",
    "feat_imp.plot(kind='bar', title='Feature Importances')\n",
    "plt.ylabel('Feature Importance Score')"
   ]
  },
  {
   "cell_type": "markdown",
   "id": "a7e687af",
   "metadata": {},
   "source": [
    "Observations des variables importantes beaucoup plus cohérentes avec l'asymétrie requise pour comprendre la relation d'ordre. D_KL + Entropie sont utiles."
   ]
  },
  {
   "cell_type": "markdown",
   "id": "7731981d",
   "metadata": {},
   "source": [
    "Plot confusion matrix"
   ]
  },
  {
   "cell_type": "code",
   "execution_count": 88,
   "id": "5934d9e9",
   "metadata": {},
   "outputs": [
    {
     "data": {
      "image/png": "[encoded data removed]",
      "text/plain": [
       "<Figure size 432x288 with 2 Axes>"
      ]
     },
     "metadata": {
      "needs_background": "light"
     },
     "output_type": "display_data"
    }
   ],
   "source": [
    "cm = confusion_matrix(y_test, y_pred)\n",
    "\n",
    "# visualize confusion matrix with seaborn heatmap\n",
    "\n",
    "cm_matrix = pd.DataFrame(data=cm, columns=['Actual leaf->root:-1', 'No order:0', 'Actual root->leaf:1'], \n",
    "                                 index=['Predict leaf->root:-1', 'No order:0', 'Predict root->leaf:1'])\n",
    "\n",
    "sns.heatmap(cm_matrix, annot=True, fmt='d', cmap='YlGnBu')\n",
    "plt.show()"
   ]
  },
  {
   "cell_type": "code",
   "execution_count": 89,
   "id": "35a6c47c",
   "metadata": {},
   "outputs": [
    {
     "name": "stdout",
     "output_type": "stream",
     "text": [
      "              precision    recall  f1-score   support\n",
      "\n",
      "          -1       0.78      0.37      0.50       590\n",
      "           0       0.85      0.97      0.91      4039\n",
      "           1       0.79      0.41      0.54       572\n",
      "\n",
      "    accuracy                           0.84      5201\n",
      "   macro avg       0.80      0.58      0.65      5201\n",
      "weighted avg       0.83      0.84      0.82      5201\n",
      "\n"
     ]
    }
   ],
   "source": [
    "print(classification_report(y_test, y_pred))"
   ]
  },
  {
   "cell_type": "markdown",
   "id": "f8ba2257",
   "metadata": {},
   "source": [
    "Perte de performance avec cette reduction de dimension grâce aux metriques de l'information mutuelle.<br>\n",
    "Mon hypothèse est qu'avec des plongements probabiliste comme GLoVe, ces métriques là marcheraient mieux. L'idéal serait d'avoir une métrique de cooccurence comme GLoVe, mais qui produisent des embeddings pour des mots qui ne sont pas dans le vocabulaire comme FastText."
   ]
  },
  {
   "cell_type": "markdown",
   "id": "1cc82e0a",
   "metadata": {},
   "source": [
    "#### Only on -1 and 1 labels"
   ]
  },
  {
   "cell_type": "code",
   "execution_count": 13,
   "id": "d7109caf",
   "metadata": {},
   "outputs": [
    {
     "data": {
      "text/html": [
       "<div>\n",
       "<style scoped>\n",
       "    .dataframe tbody tr th:only-of-type {\n",
       "        vertical-align: middle;\n",
       "    }\n",
       "\n",
       "    .dataframe tbody tr th {\n",
       "        vertical-align: top;\n",
       "    }\n",
       "\n",
       "    .dataframe thead th {\n",
       "        text-align: right;\n",
       "    }\n",
       "</style>\n",
       "<table border=\"1\" class=\"dataframe\">\n",
       "  <thead>\n",
       "    <tr style=\"text-align: right;\">\n",
       "      <th></th>\n",
       "      <th>label</th>\n",
       "    </tr>\n",
       "  </thead>\n",
       "  <tbody>\n",
       "    <tr>\n",
       "      <th>count</th>\n",
       "      <td>5980.000000</td>\n",
       "    </tr>\n",
       "    <tr>\n",
       "      <th>mean</th>\n",
       "      <td>0.002007</td>\n",
       "    </tr>\n",
       "    <tr>\n",
       "      <th>std</th>\n",
       "      <td>1.000082</td>\n",
       "    </tr>\n",
       "    <tr>\n",
       "      <th>min</th>\n",
       "      <td>-1.000000</td>\n",
       "    </tr>\n",
       "    <tr>\n",
       "      <th>25%</th>\n",
       "      <td>-1.000000</td>\n",
       "    </tr>\n",
       "    <tr>\n",
       "      <th>50%</th>\n",
       "      <td>1.000000</td>\n",
       "    </tr>\n",
       "    <tr>\n",
       "      <th>75%</th>\n",
       "      <td>1.000000</td>\n",
       "    </tr>\n",
       "    <tr>\n",
       "      <th>max</th>\n",
       "      <td>1.000000</td>\n",
       "    </tr>\n",
       "  </tbody>\n",
       "</table>\n",
       "</div>"
      ],
      "text/plain": [
       "             label\n",
       "count  5980.000000\n",
       "mean      0.002007\n",
       "std       1.000082\n",
       "min      -1.000000\n",
       "25%      -1.000000\n",
       "50%       1.000000\n",
       "75%       1.000000\n",
       "max       1.000000"
      ]
     },
     "execution_count": 13,
     "metadata": {},
     "output_type": "execute_result"
    }
   ],
   "source": [
    "labeled_minus1_1_concept_pair_df = labeled_concept_pair_df[labeled_concept_pair_df.label.isin([-1,1])]\n",
    "labeled_minus1_1_concept_pair_df.describe()"
   ]
  },
  {
   "cell_type": "markdown",
   "id": "6a2ea570",
   "metadata": {},
   "source": [
    "##### Only using Metrics"
   ]
  },
  {
   "cell_type": "code",
   "execution_count": 91,
   "id": "3b2771f1",
   "metadata": {},
   "outputs": [],
   "source": [
    "processed_data = labeled_minus1_1_concept_pair_df.drop(columns=[\"kw1\", \"kw2\", 'sentence_vector_embedding_1', 'sentence_vector_embedding_2']).dropna(subset=\"ratio\")\n",
    "\n",
    "X_train, X_test, y_train, y_test = train_test_split(processed_data.drop(columns=[\"label\"]), processed_data['label'],\n",
    "                                           train_size=0.8, test_size=0.2) # tested"
   ]
  },
  {
   "cell_type": "code",
   "execution_count": 93,
   "id": "07e0cebc",
   "metadata": {},
   "outputs": [
    {
     "data": {
      "text/plain": [
       "GridSearchCV(cv=5,\n",
       "             estimator=GradientBoostingClassifier(max_features='sqrt',\n",
       "                                                  random_state=10,\n",
       "                                                  subsample=0.8),\n",
       "             n_jobs=4,\n",
       "             param_grid={'max_depth': [8], 'min_samples_leaf': [20],\n",
       "                         'min_samples_split': [20], 'n_estimators': [700]},\n",
       "             scoring='f1_weighted')"
      ]
     },
     "execution_count": 93,
     "metadata": {},
     "output_type": "execute_result"
    }
   ],
   "source": [
    "param_test1 = {\n",
    "    'n_estimators': [700],#range(300, 701, 100),\n",
    "    'max_depth': [8],#range(4, 9, 2),\n",
    "    'min_samples_leaf': [20],#range(10, 31, 10),\n",
    "    'min_samples_split': [20]#range(20, 51, 10)\n",
    "}\n",
    "gsearch1 = GridSearchCV(estimator = GradientBoostingClassifier(learning_rate=0.1,max_features='sqrt',subsample=0.8,random_state=10),# min_samples_split=500,min_samples_leaf=50 \n",
    "param_grid = param_test1, scoring='f1_weighted',n_jobs=4, cv=5)\n",
    "gsearch1.fit(X_train,y_train)"
   ]
  },
  {
   "cell_type": "code",
   "execution_count": 94,
   "id": "70fd55a8",
   "metadata": {},
   "outputs": [
    {
     "data": {
      "text/plain": [
       "0.8068248181920745"
      ]
     },
     "execution_count": 94,
     "metadata": {},
     "output_type": "execute_result"
    }
   ],
   "source": [
    "gsearch1.best_score_#gsearch1.cv_results_, gsearch1.best_params_, "
   ]
  },
  {
   "cell_type": "code",
   "execution_count": 95,
   "id": "495805cb",
   "metadata": {},
   "outputs": [],
   "source": [
    "best_model = gsearch1.best_estimator_"
   ]
  },
  {
   "cell_type": "code",
   "execution_count": 96,
   "id": "708a44e1",
   "metadata": {},
   "outputs": [
    {
     "data": {
      "text/plain": [
       "{'max_depth': 8,\n",
       " 'min_samples_leaf': 20,\n",
       " 'min_samples_split': 20,\n",
       " 'n_estimators': 700}"
      ]
     },
     "execution_count": 96,
     "metadata": {},
     "output_type": "execute_result"
    }
   ],
   "source": [
    "best_params_gbm = gsearch1.best_params_\n",
    "best_params_gbm"
   ]
  },
  {
   "cell_type": "code",
   "execution_count": 97,
   "id": "89b13832",
   "metadata": {},
   "outputs": [
    {
     "name": "stdout",
     "output_type": "stream",
     "text": [
      "Maximum number of parameters in our best model: 89600\n"
     ]
    }
   ],
   "source": [
    "print(\"Maximum number of parameters in our best model: {}\".format(best_model.n_estimators_*2**(best_model.max_depth-1)))"
   ]
  },
  {
   "cell_type": "markdown",
   "id": "a88b4d08",
   "metadata": {},
   "source": [
    "##### Performance analysis on test dataset"
   ]
  },
  {
   "cell_type": "code",
   "execution_count": 98,
   "id": "6b662a92",
   "metadata": {},
   "outputs": [
    {
     "data": {
      "text/plain": [
       "array([-1, -1,  1, ..., -1, -1,  1])"
      ]
     },
     "execution_count": 98,
     "metadata": {},
     "output_type": "execute_result"
    }
   ],
   "source": [
    "y_pred=best_model.predict(X_test)\n",
    "y_pred"
   ]
  },
  {
   "cell_type": "code",
   "execution_count": 99,
   "id": "9e827acd",
   "metadata": {},
   "outputs": [
    {
     "name": "stdout",
     "output_type": "stream",
     "text": [
      "LightGBM Model accuracy score: 0.8311\n"
     ]
    }
   ],
   "source": [
    "accuracy=accuracy_score(y_pred, y_test)\n",
    "print('LightGBM Model accuracy score: {0:0.4f}'.format(accuracy_score(y_test, y_pred)))"
   ]
  },
  {
   "cell_type": "code",
   "execution_count": 100,
   "id": "a462b1d8",
   "metadata": {},
   "outputs": [
    {
     "data": {
      "text/plain": [
       "Text(0, 0.5, 'Feature Importance Score')"
      ]
     },
     "execution_count": 100,
     "metadata": {},
     "output_type": "execute_result"
    },
    {
     "data": {
      "image/png": "[encoded data removed]",
      "text/plain": [
       "<Figure size 432x288 with 1 Axes>"
      ]
     },
     "metadata": {
      "needs_background": "light"
     },
     "output_type": "display_data"
    }
   ],
   "source": [
    "feat_imp = pd.Series(best_model.feature_importances_, X_train.columns).sort_values(ascending=False)\n",
    "feat_imp.plot(kind='bar', title='Feature Importances')\n",
    "plt.ylabel('Feature Importance Score')"
   ]
  },
  {
   "cell_type": "markdown",
   "id": "fb200fe2",
   "metadata": {},
   "source": [
    "##### Plot confusion matrix:"
   ]
  },
  {
   "cell_type": "code",
   "execution_count": 101,
   "id": "5ba10a5c",
   "metadata": {},
   "outputs": [
    {
     "data": {
      "text/plain": [
       "<AxesSubplot:>"
      ]
     },
     "execution_count": 101,
     "metadata": {},
     "output_type": "execute_result"
    },
    {
     "data": {
      "image/png": "[encoded data removed]",
      "text/plain": [
       "<Figure size 432x288 with 2 Axes>"
      ]
     },
     "metadata": {
      "needs_background": "light"
     },
     "output_type": "display_data"
    }
   ],
   "source": [
    "cm = confusion_matrix(y_test, y_pred)\n",
    "# visualize confusion matrix with seaborn heatmap\n",
    "\n",
    "cm_matrix = pd.DataFrame(data=cm, columns=['Actual leaf->root:0', 'Actual root->leaf:1'], \n",
    "                                 index=['Predict leaf->root:0', 'Predict root->leaf:1'])\n",
    "\n",
    "sns.heatmap(cm_matrix, annot=True, fmt='d', cmap='YlGnBu')"
   ]
  },
  {
   "cell_type": "code",
   "execution_count": 102,
   "id": "0fdc4f4c",
   "metadata": {},
   "outputs": [
    {
     "name": "stdout",
     "output_type": "stream",
     "text": [
      "              precision    recall  f1-score   support\n",
      "\n",
      "          -1       0.84      0.82      0.83       605\n",
      "           1       0.82      0.84      0.83       591\n",
      "\n",
      "    accuracy                           0.83      1196\n",
      "   macro avg       0.83      0.83      0.83      1196\n",
      "weighted avg       0.83      0.83      0.83      1196\n",
      "\n"
     ]
    }
   ],
   "source": [
    "print(classification_report(y_test, y_pred))"
   ]
  },
  {
   "cell_type": "markdown",
   "id": "73f40c83",
   "metadata": {},
   "source": [
    "#### Only on 0 and 1 labels"
   ]
  },
  {
   "cell_type": "markdown",
   "id": "4791d722",
   "metadata": {},
   "source": [
    "##### Only using embeddings"
   ]
  },
  {
   "cell_type": "code",
   "execution_count": 26,
   "id": "74bfac9b",
   "metadata": {},
   "outputs": [],
   "source": [
    "processed_data = labeled_concept_pair_df.drop(columns=[\"kw1\", \"kw2\", 'H1', 'H2', 'DKL_1', 'DKL_2', 'ratio'])#.dropna(subset=\"ratio\")\n",
    "\n",
    "processed_data['label'] = processed_data['label'].replace(-1, 0)## Replaces the -1 with zeros\n",
    "\n",
    "training_data_embedding = processed_data.drop(columns=\"label\").iloc[:,0:2]\n",
    "\n",
    "array_1, array_2 = training_data_embedding.to_numpy()[:,0], training_data_embedding.to_numpy()[:,1]\n",
    "\n",
    "array_1 = np.array([np.array(el) for el in array_1])\n",
    "array_2 = np.array([np.array(el) for el in array_2])\n",
    "\n",
    "training_data_embedding = np.concatenate((array_1, array_2),axis=1)\n",
    "\n",
    "X_train, X_test, y_train, y_test = train_test_split(training_data_embedding, processed_data['label'],\n",
    "                                           train_size=0.8, test_size=0.2) # tested"
   ]
  },
  {
   "cell_type": "code",
   "execution_count": 27,
   "id": "29d2930d",
   "metadata": {},
   "outputs": [
    {
     "data": {
      "text/plain": [
       "count    25939.000000\n",
       "mean         0.114615\n",
       "std          0.318563\n",
       "min          0.000000\n",
       "25%          0.000000\n",
       "50%          0.000000\n",
       "75%          0.000000\n",
       "max          1.000000\n",
       "Name: label, dtype: float64"
      ]
     },
     "execution_count": 27,
     "metadata": {},
     "output_type": "execute_result"
    }
   ],
   "source": [
    "processed_data['label'].describe()"
   ]
  },
  {
   "cell_type": "code",
   "execution_count": 28,
   "id": "07e0cebc",
   "metadata": {},
   "outputs": [
    {
     "data": {
      "text/plain": [
       "GridSearchCV(cv=5,\n",
       "             estimator=GradientBoostingClassifier(max_features='sqrt',\n",
       "                                                  random_state=10,\n",
       "                                                  subsample=0.8),\n",
       "             n_jobs=4,\n",
       "             param_grid={'max_depth': [8], 'min_samples_leaf': [20],\n",
       "                         'min_samples_split': [20], 'n_estimators': [700]},\n",
       "             scoring='f1_weighted')"
      ]
     },
     "execution_count": 28,
     "metadata": {},
     "output_type": "execute_result"
    }
   ],
   "source": [
    "param_test1 = {\n",
    "    'n_estimators': [700],#range(300, 701, 100),\n",
    "    'max_depth': [8],#range(4, 9, 2),\n",
    "    'min_samples_leaf': [20],#range(10, 31, 10),\n",
    "    'min_samples_split': [20]#range(20, 51, 10)\n",
    "}\n",
    "gsearch1 = GridSearchCV(estimator = GradientBoostingClassifier(learning_rate=0.1,max_features='sqrt',subsample=0.8,random_state=10),# min_samples_split=500,min_samples_leaf=50 \n",
    "param_grid = param_test1, scoring='f1_weighted',n_jobs=4, cv=5)\n",
    "gsearch1.fit(X_train,y_train)"
   ]
  },
  {
   "cell_type": "code",
   "execution_count": 29,
   "id": "70fd55a8",
   "metadata": {},
   "outputs": [
    {
     "data": {
      "text/plain": [
       "0.9468883226421256"
      ]
     },
     "execution_count": 29,
     "metadata": {},
     "output_type": "execute_result"
    }
   ],
   "source": [
    "gsearch1.best_score_#gsearch1.cv_results_, gsearch1.best_params_, "
   ]
  },
  {
   "cell_type": "code",
   "execution_count": 30,
   "id": "495805cb",
   "metadata": {},
   "outputs": [],
   "source": [
    "best_model = gsearch1.best_estimator_"
   ]
  },
  {
   "cell_type": "code",
   "execution_count": 31,
   "id": "708a44e1",
   "metadata": {},
   "outputs": [
    {
     "data": {
      "text/plain": [
       "{'max_depth': 8,\n",
       " 'min_samples_leaf': 20,\n",
       " 'min_samples_split': 20,\n",
       " 'n_estimators': 700}"
      ]
     },
     "execution_count": 31,
     "metadata": {},
     "output_type": "execute_result"
    }
   ],
   "source": [
    "best_params_gbm = gsearch1.best_params_\n",
    "best_params_gbm"
   ]
  },
  {
   "cell_type": "code",
   "execution_count": 32,
   "id": "89b13832",
   "metadata": {},
   "outputs": [
    {
     "name": "stdout",
     "output_type": "stream",
     "text": [
      "Maximum number of parameters in our best model: 89600\n"
     ]
    }
   ],
   "source": [
    "print(\"Maximum number of parameters in our best model: {}\".format(best_model.n_estimators_*2**(best_model.max_depth-1)))"
   ]
  },
  {
   "cell_type": "markdown",
   "id": "a88b4d08",
   "metadata": {},
   "source": [
    "###### Performance analysis on test dataset"
   ]
  },
  {
   "cell_type": "code",
   "execution_count": 33,
   "id": "6b662a92",
   "metadata": {},
   "outputs": [
    {
     "data": {
      "text/plain": [
       "array([1, 0, 1, ..., 0, 0, 0])"
      ]
     },
     "execution_count": 33,
     "metadata": {},
     "output_type": "execute_result"
    }
   ],
   "source": [
    "best_model = gsearch1.best_estimator_\n",
    "y_pred=best_model.predict(X_test)\n",
    "y_pred"
   ]
  },
  {
   "cell_type": "code",
   "execution_count": 34,
   "id": "9e827acd",
   "metadata": {},
   "outputs": [
    {
     "name": "stdout",
     "output_type": "stream",
     "text": [
      "LightGBM Model accuracy score: 0.9572\n"
     ]
    }
   ],
   "source": [
    "accuracy=accuracy_score(y_pred, y_test)\n",
    "print('LightGBM Model accuracy score: {0:0.4f}'.format(accuracy_score(y_test, y_pred)))"
   ]
  },
  {
   "cell_type": "code",
   "execution_count": 35,
   "id": "30423dc7",
   "metadata": {},
   "outputs": [
    {
     "data": {
      "image/png": "[encoded data removed]",
      "text/plain": [
       "<Figure size 432x288 with 2 Axes>"
      ]
     },
     "metadata": {
      "needs_background": "light"
     },
     "output_type": "display_data"
    }
   ],
   "source": [
    "cm = confusion_matrix(y_test, y_pred)\n",
    "\n",
    "# visualize confusion matrix with seaborn heatmap\n",
    "\n",
    "cm_matrix = pd.DataFrame(data=cm, columns=['Actual No order:0', 'Actual root->leaf:1'], \n",
    "                                 index=['Predict No order:0', 'Predict root->leaf:1'])\n",
    "\n",
    "sns.heatmap(cm_matrix, annot=True, fmt='d', cmap='YlGnBu')\n",
    "plt.show()"
   ]
  },
  {
   "cell_type": "code",
   "execution_count": 36,
   "id": "0049d141",
   "metadata": {},
   "outputs": [
    {
     "name": "stdout",
     "output_type": "stream",
     "text": [
      "              precision    recall  f1-score   support\n",
      "\n",
      "           0       0.96      0.99      0.98      4619\n",
      "           1       0.90      0.69      0.78       569\n",
      "\n",
      "    accuracy                           0.96      5188\n",
      "   macro avg       0.93      0.84      0.88      5188\n",
      "weighted avg       0.96      0.96      0.95      5188\n",
      "\n"
     ]
    }
   ],
   "source": [
    "print(classification_report(y_test, y_pred))"
   ]
  },
  {
   "cell_type": "markdown",
   "id": "23b38781",
   "metadata": {},
   "source": [
    "##### Saving Best Classifier"
   ]
  },
  {
   "cell_type": "code",
   "execution_count": 48,
   "id": "cb19b988",
   "metadata": {},
   "outputs": [],
   "source": [
    "pickle.dump(best_model, open(\"Models/naive_gridsearch_01_classifier.pkl\", \"wb\"))"
   ]
  },
  {
   "cell_type": "markdown",
   "id": "6e941d1c",
   "metadata": {},
   "source": [
    "## FastText Classification"
   ]
  },
  {
   "cell_type": "markdown",
   "id": "1079d7fa",
   "metadata": {},
   "source": [
    "#### Preparing the Data for Experiment\n",
    "This sections is inspired by [this](https://towardsdatascience.com/fasttext-for-text-classification-a4b38cbff27c).<br><br>\n",
    "\n",
    "FastText expects the **category first**, with the prefix `__label__` before each category, and then the input text, like so,<br>\n",
    "\n",
    "*ex:* __label__positive I really enjoyed this restaurant. Would love to visit again."
   ]
  },
  {
   "cell_type": "code",
   "execution_count": 3,
   "id": "290a701f",
   "metadata": {},
   "outputs": [],
   "source": [
    "def PrepareDFforFastText(kw1, kw2, label):\n",
    "    return ('__label__'+str(label), \", \".join([kw1, kw2]))"
   ]
  },
  {
   "cell_type": "code",
   "execution_count": 6,
   "id": "e1f092a7",
   "metadata": {},
   "outputs": [
    {
     "data": {
      "text/plain": [
       "('__label__-1', 'object oriented programming, machine learning')"
      ]
     },
     "execution_count": 6,
     "metadata": {},
     "output_type": "execute_result"
    }
   ],
   "source": [
    "## Testing implementation\n",
    "test_obj = {}\n",
    "test_obj[\"kw1\"] = \"object oriented programming\"\n",
    "test_obj[\"kw2\"] = \"machine learning\"\n",
    "test_obj[\"label\"] = -1\n",
    "\n",
    "\n",
    "PrepareDFforFastText(**test_obj)"
   ]
  },
  {
   "cell_type": "code",
   "execution_count": 14,
   "id": "4b89a8e0",
   "metadata": {},
   "outputs": [
    {
     "data": {
      "text/html": [
       "<div>\n",
       "<style scoped>\n",
       "    .dataframe tbody tr th:only-of-type {\n",
       "        vertical-align: middle;\n",
       "    }\n",
       "\n",
       "    .dataframe tbody tr th {\n",
       "        vertical-align: top;\n",
       "    }\n",
       "\n",
       "    .dataframe thead th {\n",
       "        text-align: right;\n",
       "    }\n",
       "</style>\n",
       "<table border=\"1\" class=\"dataframe\">\n",
       "  <thead>\n",
       "    <tr style=\"text-align: right;\">\n",
       "      <th></th>\n",
       "      <th>0</th>\n",
       "      <th>1</th>\n",
       "    </tr>\n",
       "  </thead>\n",
       "  <tbody>\n",
       "    <tr>\n",
       "      <th>25934</th>\n",
       "      <td>__label__0</td>\n",
       "      <td>software testing debugging, combinational synt...</td>\n",
       "    </tr>\n",
       "    <tr>\n",
       "      <th>25935</th>\n",
       "      <td>__label__0</td>\n",
       "      <td>combinational synthesis, power management</td>\n",
       "    </tr>\n",
       "    <tr>\n",
       "      <th>25936</th>\n",
       "      <td>__label__0</td>\n",
       "      <td>software fault tolerance, pcb design layout</td>\n",
       "    </tr>\n",
       "    <tr>\n",
       "      <th>25937</th>\n",
       "      <td>__label__0</td>\n",
       "      <td>pcb design layout, formal method</td>\n",
       "    </tr>\n",
       "    <tr>\n",
       "      <th>25938</th>\n",
       "      <td>__label__0</td>\n",
       "      <td>documentation, pcb design layout</td>\n",
       "    </tr>\n",
       "  </tbody>\n",
       "</table>\n",
       "</div>"
      ],
      "text/plain": [
       "                0                                                  1\n",
       "25934  __label__0  software testing debugging, combinational synt...\n",
       "25935  __label__0          combinational synthesis, power management\n",
       "25936  __label__0        software fault tolerance, pcb design layout\n",
       "25937  __label__0                   pcb design layout, formal method\n",
       "25938  __label__0                   documentation, pcb design layout"
      ]
     },
     "execution_count": 14,
     "metadata": {},
     "output_type": "execute_result"
    }
   ],
   "source": [
    "FastText_df = pd.DataFrame(labeled_concept_pair_df.apply(lambda x: PrepareDFforFastText(x.kw1, x.kw2, x.label), axis=1, result_type=\"expand\"))\n",
    "FastText_df.tail()"
   ]
  },
  {
   "cell_type": "code",
   "execution_count": 16,
   "id": "cf8bcef3",
   "metadata": {},
   "outputs": [],
   "source": [
    "train_df = FastText_df.sample(frac=0.8,random_state=200) #random state is a seed value\n",
    "test_df  = FastText_df.drop(train_df.index)"
   ]
  },
  {
   "cell_type": "markdown",
   "id": "e96b520f",
   "metadata": {},
   "source": [
    "##### Sanity Check"
   ]
  },
  {
   "cell_type": "code",
   "execution_count": 57,
   "id": "6a4c7d25",
   "metadata": {},
   "outputs": [
    {
     "data": {
      "text/plain": [
       " 0    4024\n",
       " 1     597\n",
       "-1     567\n",
       "Name: 0, dtype: int64"
      ]
     },
     "execution_count": 57,
     "metadata": {},
     "output_type": "execute_result"
    }
   ],
   "source": [
    "## Does the 80-10-10 holds up in testing set?\n",
    "y_test = test_df.iloc[:,0].apply(lambda x: int(x.split(\"__label__\")[1]))\n",
    "y_test.value_counts()"
   ]
  },
  {
   "cell_type": "code",
   "execution_count": 58,
   "id": "fbc6d7ff",
   "metadata": {},
   "outputs": [
    {
     "data": {
      "text/plain": [
       " 0    15997\n",
       "-1     2378\n",
       " 1     2376\n",
       "Name: 0, dtype: int64"
      ]
     },
     "execution_count": 58,
     "metadata": {},
     "output_type": "execute_result"
    }
   ],
   "source": [
    "## Does the 80-10-10 holds up in training set?\n",
    "y_train = train_df.iloc[:,0].apply(lambda x: int(x.split(\"__label__\")[1]))\n",
    "y_train.value_counts()"
   ]
  },
  {
   "cell_type": "code",
   "execution_count": 29,
   "id": "5b8d09bd",
   "metadata": {},
   "outputs": [
    {
     "data": {
      "text/html": [
       "<div>\n",
       "<style scoped>\n",
       "    .dataframe tbody tr th:only-of-type {\n",
       "        vertical-align: middle;\n",
       "    }\n",
       "\n",
       "    .dataframe tbody tr th {\n",
       "        vertical-align: top;\n",
       "    }\n",
       "\n",
       "    .dataframe thead th {\n",
       "        text-align: right;\n",
       "    }\n",
       "</style>\n",
       "<table border=\"1\" class=\"dataframe\">\n",
       "  <thead>\n",
       "    <tr style=\"text-align: right;\">\n",
       "      <th></th>\n",
       "      <th>0</th>\n",
       "      <th>1</th>\n",
       "    </tr>\n",
       "  </thead>\n",
       "  <tbody>\n",
       "    <tr>\n",
       "      <th>14175</th>\n",
       "      <td>__label__0</td>\n",
       "      <td>computing platform, command control language</td>\n",
       "    </tr>\n",
       "    <tr>\n",
       "      <th>24867</th>\n",
       "      <td>__label__0</td>\n",
       "      <td>process validation, data recovery</td>\n",
       "    </tr>\n",
       "    <tr>\n",
       "      <th>24455</th>\n",
       "      <td>__label__0</td>\n",
       "      <td>learning management system, neural system</td>\n",
       "    </tr>\n",
       "    <tr>\n",
       "      <th>16221</th>\n",
       "      <td>__label__0</td>\n",
       "      <td>semantic network, cyber-physical network</td>\n",
       "    </tr>\n",
       "    <tr>\n",
       "      <th>978</th>\n",
       "      <td>__label__1</td>\n",
       "      <td>information system application, reputation system</td>\n",
       "    </tr>\n",
       "  </tbody>\n",
       "</table>\n",
       "</div>"
      ],
      "text/plain": [
       "                0                                                  1\n",
       "14175  __label__0       computing platform, command control language\n",
       "24867  __label__0                  process validation, data recovery\n",
       "24455  __label__0          learning management system, neural system\n",
       "16221  __label__0           semantic network, cyber-physical network\n",
       "978    __label__1  information system application, reputation system"
      ]
     },
     "execution_count": 29,
     "metadata": {},
     "output_type": "execute_result"
    }
   ],
   "source": [
    "train_df.tail()"
   ]
  },
  {
   "cell_type": "markdown",
   "id": "b6658b13",
   "metadata": {},
   "source": [
    "##### Saving The training and Testing data"
   ]
  },
  {
   "cell_type": "code",
   "execution_count": 31,
   "id": "57e4b86a",
   "metadata": {},
   "outputs": [],
   "source": [
    "import csv\n",
    "train_df.to_csv('Data/FastTextData/train.txt', \n",
    "                                          index = False, \n",
    "                                          sep = ' ',\n",
    "                                          header = None, \n",
    "                                          quoting = csv.QUOTE_NONE, \n",
    "                                          quotechar = \"\", \n",
    "                                          escapechar = \" \")\n",
    "\n",
    "test_df.to_csv('Data/FastTextData/test.txt', \n",
    "                                     index = False, \n",
    "                                     sep = ' ',\n",
    "                                     header = None, \n",
    "                                     quoting = csv.QUOTE_NONE, \n",
    "                                     quotechar = \"\", \n",
    "                                     escapechar = \" \")"
   ]
  },
  {
   "cell_type": "markdown",
   "id": "08aec175",
   "metadata": {},
   "source": [
    "### Training FastText Model\n",
    "\n",
    "We are using 2M pretrained word vectors on Common Crawl that you can get from [here](https://fasttext.cc/docs/en/english-vectors.html)."
   ]
  },
  {
   "cell_type": "code",
   "execution_count": 33,
   "id": "04c1d460",
   "metadata": {},
   "outputs": [
    {
     "name": "stderr",
     "output_type": "stream",
     "text": [
      "Read 0M words\n",
      "Number of words:  2127\n",
      "Number of labels: 3\n",
      "Progress: 100.0% words/sec/thread:  698370 lr:  0.000000 avg.loss:  0.344960 ETA:   0h 0m 0s\n"
     ]
    }
   ],
   "source": [
    "model = fasttext.train_supervised(input=\"Data/FastTextData/train.txt\", dim=300, lr=1.0, epoch=25, wordNgrams=2, pretrainedVectors=\"Data/FastTextData/crawl-300d-2M.vec\")"
   ]
  },
  {
   "cell_type": "markdown",
   "id": "f782fe60",
   "metadata": {},
   "source": [
    "#### Analyzing Performance on Test Data"
   ]
  },
  {
   "cell_type": "code",
   "execution_count": 34,
   "id": "0c0bc8f5",
   "metadata": {},
   "outputs": [
    {
     "data": {
      "text/plain": [
       "(5188, 0.8608326908249807, 0.8608326908249807)"
      ]
     },
     "execution_count": 34,
     "metadata": {},
     "output_type": "execute_result"
    }
   ],
   "source": [
    "# Evaluating performance on the entire test file\n",
    "model.test('Data/FastTextData/test.txt')             "
   ]
  },
  {
   "cell_type": "code",
   "execution_count": 80,
   "id": "7b1ea623",
   "metadata": {},
   "outputs": [],
   "source": [
    "y_pred = [ExtractIntLabelFromPred(model.predict(el)) for el in test_df.iloc[:, 1]]"
   ]
  },
  {
   "cell_type": "code",
   "execution_count": 32,
   "id": "e0ba0515",
   "metadata": {},
   "outputs": [
    {
     "data": {
      "text/plain": [
       "<AxesSubplot:>"
      ]
     },
     "execution_count": 32,
     "metadata": {},
     "output_type": "execute_result"
    },
    {
     "data": {
      "image/png": "[encoded data removed]",
      "text/plain": [
       "<Figure size 432x288 with 2 Axes>"
      ]
     },
     "metadata": {
      "needs_background": "light"
     },
     "output_type": "display_data"
    }
   ],
   "source": [
    "cm = confusion_matrix(y_test, y_pred)\n",
    "# visualize confusion matrix with seaborn heatmap\n",
    "\n",
    "cm_matrix = pd.DataFrame(data=cm, columns=['Actual leaf->root:-1', 'Actual No order:0', 'Actual root->leaf:1'], \n",
    "                                 index=['Predict leaf->root:-1', 'Predict No order:0', 'Predict root->leaf:1'])\n",
    "\n",
    "sns.heatmap(cm_matrix, annot=True, fmt='d', cmap='YlGnBu')"
   ]
  },
  {
   "cell_type": "code",
   "execution_count": 63,
   "id": "c7e5ce73",
   "metadata": {},
   "outputs": [
    {
     "name": "stdout",
     "output_type": "stream",
     "text": [
      "              precision    recall  f1-score   support\n",
      "\n",
      "          -1       0.75      0.64      0.69       567\n",
      "           0       0.90      0.92      0.91      4024\n",
      "           1       0.65      0.64      0.65       597\n",
      "\n",
      "    accuracy                           0.86      5188\n",
      "   macro avg       0.77      0.74      0.75      5188\n",
      "weighted avg       0.86      0.86      0.86      5188\n",
      "\n"
     ]
    }
   ],
   "source": [
    "print(classification_report(y_test, y_pred))"
   ]
  },
  {
   "cell_type": "markdown",
   "id": "5b286e1c",
   "metadata": {},
   "source": [
    "#### Testing on intuitive examples\n",
    "Testing on out distribution data from our tree."
   ]
  },
  {
   "cell_type": "code",
   "execution_count": 71,
   "id": "029ae04b",
   "metadata": {},
   "outputs": [
    {
     "data": {
      "text/plain": [
       "(('__label__1',), array([1.00001001]))"
      ]
     },
     "execution_count": 71,
     "metadata": {},
     "output_type": "execute_result"
    }
   ],
   "source": [
    "model.predict(\"machine learning, k-means clustering\")"
   ]
  },
  {
   "cell_type": "code",
   "execution_count": 72,
   "id": "0422e503",
   "metadata": {},
   "outputs": [
    {
     "data": {
      "text/plain": [
       "(('__label__-1',), array([1.00001001]))"
      ]
     },
     "execution_count": 72,
     "metadata": {},
     "output_type": "execute_result"
    }
   ],
   "source": [
    "model.predict(\"k-means clustering, machine learning\")"
   ]
  },
  {
   "cell_type": "code",
   "execution_count": 74,
   "id": "73ba9195",
   "metadata": {},
   "outputs": [
    {
     "data": {
      "text/plain": [
       "(('__label__-1',), array([1.00001001]))"
      ]
     },
     "execution_count": 74,
     "metadata": {},
     "output_type": "execute_result"
    }
   ],
   "source": [
    "model.predict(\"k-nearest neighbors, machine learning\")"
   ]
  },
  {
   "cell_type": "code",
   "execution_count": 75,
   "id": "d50d9521",
   "metadata": {},
   "outputs": [
    {
     "data": {
      "text/plain": [
       "(('__label__1',), array([1.00001001]))"
      ]
     },
     "execution_count": 75,
     "metadata": {},
     "output_type": "execute_result"
    }
   ],
   "source": [
    "model.predict(\"unsupervised learning, machine learning\")## Error should be -1"
   ]
  },
  {
   "cell_type": "code",
   "execution_count": 76,
   "id": "f52d40d6",
   "metadata": {},
   "outputs": [
    {
     "data": {
      "text/plain": [
       "(('__label__-1',), array([1.00001001]))"
      ]
     },
     "execution_count": 76,
     "metadata": {},
     "output_type": "execute_result"
    }
   ],
   "source": [
    "model.predict(\"supervised learning, machine learning\")"
   ]
  },
  {
   "cell_type": "code",
   "execution_count": 78,
   "id": "e54b5250",
   "metadata": {},
   "outputs": [
    {
     "data": {
      "text/plain": [
       "(('__label__-1',), array([1.00001001]))"
      ]
     },
     "execution_count": 78,
     "metadata": {},
     "output_type": "execute_result"
    }
   ],
   "source": [
    "model.predict(\"linear regression, supervised learning\")"
   ]
  },
  {
   "cell_type": "markdown",
   "id": "df277d93",
   "metadata": {},
   "source": [
    "#### Saving FastText Model"
   ]
  },
  {
   "cell_type": "code",
   "execution_count": null,
   "id": "0508fe2c",
   "metadata": {},
   "outputs": [],
   "source": [
    "# Save the trained model\n",
    "model.save_model('Models/Trained_FastText_model.bin')"
   ]
  },
  {
   "cell_type": "markdown",
   "id": "19e4aed9",
   "metadata": {},
   "source": [
    "## Building Directed Graph from a Relation"
   ]
  },
  {
   "cell_type": "markdown",
   "id": "d85d9e97",
   "metadata": {},
   "source": [
    "#### Loading models"
   ]
  },
  {
   "cell_type": "code",
   "execution_count": 3,
   "id": "25e841ae",
   "metadata": {},
   "outputs": [
    {
     "name": "stderr",
     "output_type": "stream",
     "text": [
      "Warning : `load_model` does not return WordVectorModel or SupervisedModel any more, but a `FastText` object which is very similar.\n"
     ]
    }
   ],
   "source": [
    "model = fasttext.load_model('Models/Trained_FastText_model.bin')"
   ]
  },
  {
   "cell_type": "code",
   "execution_count": 4,
   "id": "d8afdede",
   "metadata": {},
   "outputs": [
    {
     "name": "stderr",
     "output_type": "stream",
     "text": [
      "Warning : `load_model` does not return WordVectorModel or SupervisedModel any more, but a `FastText` object which is very similar.\n"
     ]
    }
   ],
   "source": [
    "ft_model = fasttext.load_model('Models/cc.en.300.bin')"
   ]
  },
  {
   "cell_type": "code",
   "execution_count": 12,
   "id": "ed3cd823",
   "metadata": {},
   "outputs": [
    {
     "data": {
      "text/plain": [
       "True"
      ]
     },
     "execution_count": 12,
     "metadata": {},
     "output_type": "execute_result"
    }
   ],
   "source": [
    "'unsupervised' in ft_model"
   ]
  },
  {
   "cell_type": "code",
   "execution_count": 6,
   "id": "930e45e4",
   "metadata": {},
   "outputs": [
    {
     "data": {
      "text/plain": [
       "GradientBoostingClassifier(max_depth=8, max_features='sqrt',\n",
       "                           min_samples_leaf=20, min_samples_split=20,\n",
       "                           n_estimators=900, random_state=10, subsample=0.8)"
      ]
     },
     "execution_count": 6,
     "metadata": {},
     "output_type": "execute_result"
    }
   ],
   "source": [
    "best_model = pickle.load(open(\"Models/naive_gridsearch_classifier.pkl\", \"rb\"))\n",
    "best_model"
   ]
  },
  {
   "cell_type": "markdown",
   "id": "d0b26760",
   "metadata": {},
   "source": [
    "### Computing graph based on trained models"
   ]
  },
  {
   "cell_type": "code",
   "execution_count": 82,
   "id": "fae73140",
   "metadata": {},
   "outputs": [
    {
     "data": {
      "image/png": "[encoded data removed]",
      "text/plain": [
       "<Figure size 432x288 with 1 Axes>"
      ]
     },
     "metadata": {},
     "output_type": "display_data"
    }
   ],
   "source": [
    "import networkx as nx\n",
    "from Scripts.graphgeneration import BuildRelationList, BuildGraphDictFromRelationList, gbm_classifier\n",
    "\n",
    "## Building the ground truth graph\n",
    "given_kw_list = [\"machine learning\", \"k-means clustering\", \"k-nearest neighbors\", \"unsupervised learning\", \"supervised learning\", \"linear regression\"]\n",
    "relationList = [(\"machine learning\", \"supervised learning\", 1), (\"machine learning\", \"unsupervised learning\", 1), (\"linear regression\", \"supervised learning\", -1), (\"k-means clustering\", \"unsupervised learning\", -1), (\"unsupervised learning\", \"k-nearest neighbors\", 1)]\n",
    "\n",
    "ogG = nx.DiGraph(BuildGraphDictFromRelationList(relationList))\n",
    "\n",
    "pos = nx.spring_layout(ogG)\n",
    "\n",
    "nx.draw(ogG, pos=pos, with_labels = True, node_color = 'b')\n",
    "plt.title(\"Original Graph for Keywords\")\n",
    "plt.show()"
   ]
  },
  {
   "cell_type": "code",
   "execution_count": 86,
   "id": "f0365d2f",
   "metadata": {},
   "outputs": [
    {
     "data": {
      "image/png": "[encoded data removed]",
      "text/plain": [
       "<Figure size 432x288 with 1 Axes>"
      ]
     },
     "metadata": {},
     "output_type": "display_data"
    }
   ],
   "source": [
    "kw_pairs = [(\"unsupervised learning\", \"k-means clustering\"), (\"k-nearest neighbors\", \"unsupervised learning\"), (\"machine learning\", \"supervised learning\"), (\"machine learning\", \"unsupervised learning\"), (\"linear regression\", \"supervised learning\"), (\"k-means clustering\", \"unsupervised learning\"), (\"unsupervised learning\", \"k-nearest neighbors\")]\n",
    "\n",
    "relationList = BuildRelationList(kw_pairs, [\", \".join(pair) for pair in kw_pairs], lambda x: ExtractIntLabelFromPred(model.predict(x)))\n",
    "\n",
    "ftG = nx.DiGraph(BuildGraphDictFromRelationList(relationList))\n",
    "\n",
    "pos = nx.spring_layout(ftG)\n",
    "\n",
    "nx.draw(ftG, pos=pos, with_labels = True, node_color = 'b')\n",
    "plt.title(\"Keyword Graph Made from FastText Model\")\n",
    "plt.show()\n"
   ]
  },
  {
   "cell_type": "code",
   "execution_count": 87,
   "id": "903b8a6c",
   "metadata": {},
   "outputs": [
    {
     "data": {
      "image/png": "[encoded data removed]",
      "text/plain": [
       "<Figure size 432x288 with 1 Axes>"
      ]
     },
     "metadata": {},
     "output_type": "display_data"
    }
   ],
   "source": [
    "relationList = BuildRelationList(kw_pairs, kw_pairs, lambda x: gbm_classifier(ft_model.get_sentence_vector, best_model.predict, x))\n",
    "\n",
    "gbmG = nx.DiGraph(BuildGraphDictFromRelationList(relationList))\n",
    "\n",
    "pos = nx.spring_layout(gbmG)\n",
    "\n",
    "nx.draw(gbmG, pos=pos, with_labels = True, node_color = 'b')\n",
    "plt.title(\"Keyword Graph Made from GBM Model\")\n",
    "plt.show()\n"
   ]
  },
  {
   "cell_type": "markdown",
   "id": "6492623e",
   "metadata": {},
   "source": [
    "#### Comparing Created Graphs to the original Graph "
   ]
  },
  {
   "cell_type": "code",
   "execution_count": 89,
   "id": "2fc4eb14",
   "metadata": {},
   "outputs": [
    {
     "name": "stdout",
     "output_type": "stream",
     "text": [
      "Edit distance between the og Graph and the gbm Graph: 3.0\n",
      "Edit distance between the og Graph and the FastTextModel Graph: 2.0\n"
     ]
    }
   ],
   "source": [
    "print(\"Edit distance between the og Graph and the gbm Graph:\", nx.graph_edit_distance(ogG, gbmG))\n",
    "print(\"Edit distance between the og Graph and the FastTextModel Graph:\", nx.graph_edit_distance(ogG, ftG))"
   ]
  },
  {
   "cell_type": "markdown",
   "id": "b34f2bab",
   "metadata": {},
   "source": [
    "It comes without any surprise that the graph built with the FastText Model is closer to the ground truth given the graphical results in the section `Computing graph based on trained models`."
   ]
  },
  {
   "cell_type": "markdown",
   "id": "ba20c154",
   "metadata": {},
   "source": [
    "It is interesting to this experiment on a larger scale of out of distribution data."
   ]
  }
 ],
 "metadata": {
  "interpreter": {
   "hash": "00dac3d85057902516a7de3d1bb919e2487cdfcc669671ff52e056662c37d510"
  },
  "kernelspec": {
   "display_name": "kw",
   "language": "python",
   "name": "python3"
  },
  "language_info": {
   "codemirror_mode": {
    "name": "ipython",
    "version": 3
   },
   "file_extension": ".py",
   "mimetype": "text/x-python",
   "name": "python",
   "nbconvert_exporter": "python",
   "pygments_lexer": "ipython3",
   "version": "3.9.12"
  }
 },
 "nbformat": 4,
 "nbformat_minor": 5
}
